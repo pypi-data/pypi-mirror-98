{
 "metadata": {
  "language_info": {
   "codemirror_mode": {
    "name": "ipython",
    "version": 3
   },
   "file_extension": ".py",
   "mimetype": "text/x-python",
   "name": "python",
   "nbconvert_exporter": "python",
   "pygments_lexer": "ipython3",
   "version": "3.7.9-final"
  },
  "orig_nbformat": 2,
  "kernelspec": {
   "name": "python3",
   "display_name": "Python 3",
   "metadata": {
    "interpreter": {
     "hash": "3493b6a29450128615e80f2c3a06a9eb9289cc84dd551c291a243f539504ea03"
    }
   }
  }
 },
 "nbformat": 4,
 "nbformat_minor": 2,
 "cells": [
  {
   "source": [
    "SPDX-License-Identifier: GPL-2.0-or-later OR AGPL-3.0-or-later OR CERN-OHL-S-2.0+"
   ],
   "cell_type": "markdown",
   "metadata": {}
  },
  {
   "cell_type": "code",
   "execution_count": null,
   "metadata": {},
   "outputs": [],
   "source": [
    "from matplotlib import pyplot as plt\n",
    "\n",
    "from pdkmaster.design.library import Library\n",
    "from pdkmaster.techs import TSMC_C018\n",
    "from c4m.flexcell.stdcell import *\n",
    "from c4m.flexcell.stdcell import _StdCellConverter\n",
    "\n",
    "prims = TSMC_C018.tech.primitives\n",
    "lib = Library(\"test\",\n",
    "    tech=TSMC_C018.tech, cktfab=TSMC_C018.cktfab, layoutfab=TSMC_C018.layoutfab,\n",
    ")\n",
    "converter = _StdCellConverter(\n",
    "    pdklib=lib, nmos=prims.N, pmos=prims.P, lambda_=0.065,\n",
    ")"
   ]
  },
  {
   "cell_type": "code",
   "execution_count": null,
   "metadata": {
    "tags": []
   },
   "outputs": [],
   "source": [
    "def wrap():\n",
    "    cell = StdCell(\n",
    "    )\n",
    "    try:\n",
    "        lib.cells.tt_pop(cell.name)\n",
    "    except:\n",
    "        pass\n",
    "    converter(cell)\n",
    "    pdkcell = lib.cells.tt_pop(cell.name)\n",
    "    pdkckt = TSMC_C018.pyspicefab.new_pyspicesubcircuit(circuit=pdkcell.circuit)\n",
    "    # print(str(pdkckt))\n",
    "\n",
    "    plt.figure(figsize=(8,12))\n",
    "    TSMC_C018.plotter.plot(pdkcell.layout)\n",
    "    plt.grid()\n",
    "    plt.axis(\"equal\")\n",
    "    plt.show()\n",
    "\n",
    "wrap()\n"
   ]
  },
  {
   "cell_type": "code",
   "execution_count": null,
   "metadata": {},
   "outputs": [],
   "source": []
  }
 ]
}