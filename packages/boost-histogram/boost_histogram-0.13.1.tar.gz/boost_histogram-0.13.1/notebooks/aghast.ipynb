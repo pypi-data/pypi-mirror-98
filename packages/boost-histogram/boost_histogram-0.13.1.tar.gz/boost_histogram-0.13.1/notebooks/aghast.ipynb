{
 "cells": [
  {
   "cell_type": "markdown",
   "metadata": {},
   "source": [
    "# ROOT file format example\n",
    "\n",
    "To run this example, you will need `uproot3`, which is another SciKit-HEP library."
   ]
  },
  {
   "cell_type": "code",
   "execution_count": 1,
   "metadata": {},
   "outputs": [],
   "source": [
    "import numpy as np\n",
    "import boost_histogram as bh\n",
    "import uproot3\n",
    "import os\n",
    "import matplotlib.pyplot as plt"
   ]
  },
  {
   "cell_type": "markdown",
   "metadata": {},
   "source": [
    "[ROOT](https://root.cern/) is a modular scientific software toolkit used in High Energy Physics. (HEP) The ROOT file format is used to store almost all HEP data. This notebook will illustrate one method for converting to/from the ROOT file format using uproot, a Python implementation of a ROOT file reader and writer.\n",
    "\n",
    "For more complicated histograms, you may need Aghast and PyROOT, but that is a much heaver dependency, and is covered [in a separate tutorial](https://scikit-hep.org/scikit-hep-tutorials)."
   ]
  },
  {
   "cell_type": "markdown",
   "metadata": {},
   "source": [
    "Start by making a 1D histogram:"
   ]
  },
  {
   "cell_type": "code",
   "execution_count": 2,
   "metadata": {},
   "outputs": [
    {
     "data": {
      "text/plain": [
       "Histogram(Regular(15, -3, 3), storage=Double()) # Sum: 997333.0 (1000000.0 with flow)"
      ]
     },
     "execution_count": 2,
     "metadata": {},
     "output_type": "execute_result"
    }
   ],
   "source": [
    "h = bh.Histogram(bh.axis.Regular(15, -3, 3))\n",
    "h.fill(np.random.normal(size=1_000_000))"
   ]
  },
  {
   "cell_type": "code",
   "execution_count": 3,
   "metadata": {},
   "outputs": [],
   "source": [
    "root_file = uproot3.recreate(\"demo_uproot_file.root\")\n",
    "\n",
    "# Uproot automatically converts NumPy style tuples\n",
    "root_file[\"hist\"] = h.to_numpy()"
   ]
  },
  {
   "cell_type": "markdown",
   "metadata": {},
   "source": [
    "If you want to save and load the ROOT histogram, use [uproot](https://github.com/scikit-hep/uproot) to read and write:"
   ]
  },
  {
   "cell_type": "code",
   "execution_count": 4,
   "metadata": {},
   "outputs": [
    {
     "name": "stdout",
     "output_type": "stream",
     "text": [
      "                        0                                              1.667e+05\n",
      "                        +------------------------------------------------------+\n",
      "[-inf, -3)   0          |                                                      |\n",
      "[-3, -2.6)   3271       |*                                                     |\n",
      "[-2.6, -2.2) 9431       |***                                                   |\n",
      "[-2.2, -1.8) 21794      |*******                                               |\n",
      "[-1.8, -1.4) 45153      |***************                                       |\n",
      "[-1.4, -1)   77616      |*************************                             |\n",
      "[-1, -0.6)   1.1579e+05 |**************************************                |\n",
      "[-0.6, -0.2) 1.4664e+05 |************************************************      |\n",
      "[-0.2, 0.2)  1.5876e+05 |***************************************************   |\n",
      "[0.2, 0.6)   1.4617e+05 |***********************************************       |\n",
      "[0.6, 1)     1.1581e+05 |**************************************                |\n",
      "[1, 1.4)     77953      |*************************                             |\n",
      "[1.4, 1.8)   44486      |**************                                        |\n",
      "[1.8, 2.2)   21976      |*******                                               |\n",
      "[2.2, 2.6)   9231       |***                                                   |\n",
      "[2.6, 3)     3246       |*                                                     |\n",
      "[3, inf]     0          |                                                      |\n",
      "                        +------------------------------------------------------+\n"
     ]
    }
   ],
   "source": [
    "root_file2 = uproot3.open(\"demo_uproot_file.root\")\n",
    "uproot_hist = root_file2[\"hist\"]\n",
    "uproot_hist.show()"
   ]
  },
  {
   "cell_type": "markdown",
   "metadata": {},
   "source": [
    "This uproot3 histogram can be converted to NumPy with `.numpy()`:"
   ]
  },
  {
   "cell_type": "code",
   "execution_count": 5,
   "metadata": {},
   "outputs": [
    {
     "data": {
      "image/png": "[encoded data removed]",
      "text/plain": [
       "<Figure size 432x288 with 1 Axes>"
      ]
     },
     "metadata": {
      "image/png": {
       "height": 248,
       "width": 394
      },
      "needs_background": "light"
     },
     "output_type": "display_data"
    }
   ],
   "source": [
    "h = bh.Histogram(bh.axis.Variable(uproot_hist.edges))\n",
    "h[:] = uproot_hist.allvalues\n",
    "plt.bar(h.axes[0].centers, h.view(), width=h.axes[0].widths);"
   ]
  },
  {
   "cell_type": "markdown",
   "metadata": {},
   "source": [
    "We could use a `Weight()` storage and read both `allvalues` and `allvariances` in, as well, since ROOT histograms can sometimes have this enabled."
   ]
  },
  {
   "cell_type": "markdown",
   "metadata": {},
   "source": [
    "Finally, let's clean up after ourselves:"
   ]
  },
  {
   "cell_type": "code",
   "execution_count": 6,
   "metadata": {},
   "outputs": [],
   "source": [
    "if os.path.exists(\"demo_uproot_file.root\"):\n",
    "    os.remove(\"./demo_uproot_file.root\")"
   ]
  }
 ],
 "metadata": {
  "kernelspec": {
   "display_name": "scikit-hep-tutorials",
   "language": "python",
   "name": "scikit-hep-tutorials"
  },
  "language_info": {
   "codemirror_mode": {
    "name": "ipython",
    "version": 3
   },
   "file_extension": ".py",
   "mimetype": "text/x-python",
   "name": "python",
   "nbconvert_exporter": "python",
   "pygments_lexer": "ipython3",
   "version": "3.8.2"
  }
 },
 "nbformat": 4,
 "nbformat_minor": 4
}
