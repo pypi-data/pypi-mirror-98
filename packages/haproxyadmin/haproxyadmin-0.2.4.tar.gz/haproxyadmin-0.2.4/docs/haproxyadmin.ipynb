{
 "metadata": {
  "name": "",
  "signature": "sha256:a3453018878fa51aec252f32b8adc65815be50a66581c5cfa7f22393deacfb8b"
 },
 "nbformat": 3,
 "nbformat_minor": 0,
 "worksheets": [
  {
   "cells": [
    {
     "cell_type": "heading",
     "level": 1,
     "metadata": {},
     "source": [
      "Import haproxyadmin package"
     ]
    },
    {
     "cell_type": "code",
     "collapsed": false,
     "input": [
      "from pprint import pprint\n",
      "from haproxyadmin import (haproxy, exceptions)\n",
      "hap = haproxy.HAProxy(socket_dir='/run/haproxy')"
     ],
     "language": "python",
     "metadata": {},
     "outputs": [
      {
       "output_type": "stream",
       "stream": "stdout",
       "text": [
        "show info\n",
        "show info\n",
        "show info\n",
        "show info\n"
       ]
      }
     ],
     "prompt_number": 1
    },
    {
     "cell_type": "code",
     "collapsed": false,
     "input": [
      "f = hap.frontend('frontend2_proc34')"
     ],
     "language": "python",
     "metadata": {},
     "outputs": [
      {
       "output_type": "stream",
       "stream": "stdout",
       "text": [
        "-1\n",
        "show stat -1 -1 -1\n",
        "{'frontends': {'frontend2_proc4': <haproxyadmin.utils.CSVLine object at 0x7fd689b32748>, 'haproxy-stats4': <haproxyadmin.utils.CSVLine object at 0x7fd689ba9c88>, 'frontend2_proc34': <haproxyadmin.utils.CSVLine object at 0x7fd689b32d30>, 'frontend1_proc34': <haproxyadmin.utils.CSVLine object at 0x7fd689ba9ef0>}, 'backends': {'backend2_proc4': {'servers': {'bck2_proc34_srv1': <haproxyadmin.utils.CSVLine object at 0x7fd689b327f0>, 'bck2_proc34_srv2': <haproxyadmin.utils.CSVLine object at 0x7fd689b329e8>, 'bck_all_srv1': <haproxyadmin.utils.CSVLine object at 0x7fd689b32a90>}, 'stats': <haproxyadmin.utils.CSVLine object at 0x7fd689b32c18>}, 'haproxy-stats4': {'servers': {}, 'stats': <haproxyadmin.utils.CSVLine object at 0x7fd689ba9dd8>}, 'backend1_proc34': {'servers': {'bck1_proc34_srv2': <haproxyadmin.utils.CSVLine object at 0x7fd689b322b0>, 'bck1_proc34_srv1': <haproxyadmin.utils.CSVLine object at 0x7fd689b320f0>, 'bck_all_srv1': <haproxyadmin.utils.CSVLine object at 0x7fd689b32470>}, 'stats': <haproxyadmin.utils.CSVLine object at 0x7fd689b32630>}, 'backend2_proc34': {'servers': {'bck2_proc34_srv1': <haproxyadmin.utils.CSVLine object at 0x7fd689b32dd8>, 'bck2_proc34_srv2': <haproxyadmin.utils.CSVLine object at 0x7fd689b32fd0>, 'bck_all_srv1': <haproxyadmin.utils.CSVLine object at 0x7fd689b340b8>}, 'stats': <haproxyadmin.utils.CSVLine object at 0x7fd689b34240>}}}\n",
        "1\n",
        "show stat -1 1 -1\n",
        "{'frontends': {'frontend2_proc4': <haproxyadmin.utils.CSVLine object at 0x7fd689ba97b8>, 'haproxy-stats4': <haproxyadmin.utils.CSVLine object at 0x7fd689ba9470>, 'frontend2_proc34': <haproxyadmin.utils.CSVLine object at 0x7fd689ba97f0>, 'frontend1_proc34': <haproxyadmin.utils.CSVLine object at 0x7fd689ba9828>}, 'backends': {}}\n",
        "14\n",
        "-1\n",
        "show stat -1 -1 -1\n",
        "{'frontends': {'frontend1_proc34': <haproxyadmin.utils.CSVLine object at 0x7fd689b32ba8>, 'frontend2_proc34': <haproxyadmin.utils.CSVLine object at 0x7fd689ba9400>, 'haproxy-stats3': <haproxyadmin.utils.CSVLine object at 0x7fd689b32160>}, 'backends': {'haproxy-stats3': {'servers': {}, 'stats': <haproxyadmin.utils.CSVLine object at 0x7fd689b32c18>}, 'backend2_proc34': {'servers': {'bck2_proc34_srv1': <haproxyadmin.utils.CSVLine object at 0x7fd689ba94a8>, 'bck2_proc34_srv2': <haproxyadmin.utils.CSVLine object at 0x7fd689ba9a58>, 'bck_all_srv1': <haproxyadmin.utils.CSVLine object at 0x7fd689ba9b00>}, 'stats': <haproxyadmin.utils.CSVLine object at 0x7fd689b342b0>}, 'backend1_proc34': {'servers': {'bck1_proc34_srv2': <haproxyadmin.utils.CSVLine object at 0x7fd689b327b8>, 'bck1_proc34_srv1': <haproxyadmin.utils.CSVLine object at 0x7fd689b32898>, 'bck_all_srv1': <haproxyadmin.utils.CSVLine object at 0x7fd689ba9be0>}, 'stats': <haproxyadmin.utils.CSVLine object at 0x7fd689ba9cc0>}}}\n",
        "1\n",
        "show stat -1 1 -1\n",
        "{'frontends': {'frontend1_proc34': <haproxyadmin.utils.CSVLine object at 0x7fd689b32e10>, 'frontend2_proc34': <haproxyadmin.utils.CSVLine object at 0x7fd689b32f28>, 'haproxy-stats3': <haproxyadmin.utils.CSVLine object at 0x7fd689b32c50>}, 'backends': {}}\n",
        "14\n",
        "-1\n",
        "show stat -1 -1 -1\n",
        "{'frontends': {'haproxy-stats2': <haproxyadmin.utils.CSVLine object at 0x7fd689b32b00>, 'frontend_proc2': <haproxyadmin.utils.CSVLine object at 0x7fd689b32860>}, 'backends': {'backend_proc2': {'servers': {'bck_proc2_srv1_proc2': <haproxyadmin.utils.CSVLine object at 0x7fd689b327f0>, 'bck_proc2_srv4_proc2': <haproxyadmin.utils.CSVLine object at 0x7fd689b325f8>, 'bck_proc2_srv3_proc2': <haproxyadmin.utils.CSVLine object at 0x7fd689b32630>, 'bck_proc2_srv2_proc2': <haproxyadmin.utils.CSVLine object at 0x7fd689b32278>}, 'stats': <haproxyadmin.utils.CSVLine object at 0x7fd689b323c8>}, 'haproxy-stats2': {'servers': {}, 'stats': <haproxyadmin.utils.CSVLine object at 0x7fd689b32a20>}}}\n",
        "-1\n",
        "show stat -1 -1 -1\n",
        "{'frontends': {'haproxy-stats': <haproxyadmin.utils.CSVLine object at 0x7fd689ba9cf8>, 'frontend_proc1': <haproxyadmin.utils.CSVLine object at 0x7fd689ba9e10>}, 'backends': {'haproxy-stats': {'servers': {}, 'stats': <haproxyadmin.utils.CSVLine object at 0x7fd689ba9fd0>}, 'backend_proc1': {'servers': {'member1_proc1': <haproxyadmin.utils.CSVLine object at 0x7fd689ba9e80>, 'bck_all_srv1': <haproxyadmin.utils.CSVLine object at 0x7fd689ba9630>, 'member2_proc1': <haproxyadmin.utils.CSVLine object at 0x7fd689ba9c88>}, 'stats': <haproxyadmin.utils.CSVLine object at 0x7fd689ba9a20>}}}\n"
       ]
      }
     ],
     "prompt_number": 2
    },
    {
     "cell_type": "code",
     "collapsed": false,
     "input": [
      "f.requests"
     ],
     "language": "python",
     "metadata": {},
     "outputs": [
      {
       "output_type": "stream",
       "stream": "stdout",
       "text": [
        "1\n",
        "show stat 14 1 -1\n",
        "{'frontends': {'frontend2_proc34': <haproxyadmin.utils.CSVLine object at 0x7fd689b34518>}, 'backends': {}}\n",
        "1\n",
        "show stat 14 1 -1\n",
        "{'frontends': {'frontend2_proc34': <haproxyadmin.utils.CSVLine object at 0x7fd689ba9400>}, 'backends': {}}\n"
       ]
      },
      {
       "metadata": {},
       "output_type": "pyout",
       "prompt_number": 3,
       "text": [
        "0"
       ]
      }
     ],
     "prompt_number": 3
    },
    {
     "cell_type": "heading",
     "level": 2,
     "metadata": {},
     "source": [
      "HAProxy operations"
     ]
    },
    {
     "cell_type": "heading",
     "level": 3,
     "metadata": {},
     "source": [
      "Change global settings"
     ]
    },
    {
     "cell_type": "code",
     "collapsed": false,
     "input": [
      "print(hap.maxconn)\n",
      "print(hap.setmaxconn(5000))\n",
      "print(hap.maxconn)"
     ],
     "language": "python",
     "metadata": {},
     "outputs": [
      {
       "output_type": "stream",
       "stream": "stdout",
       "text": [
        "40000\n",
        "True\n",
        "20000\n"
       ]
      }
     ],
     "prompt_number": 2
    },
    {
     "cell_type": "code",
     "collapsed": false,
     "input": [
      "print(hap.ratelimitconn)\n",
      "hap.setratelimitconn(99999)\n",
      "print(hap.ratelimitconn)"
     ],
     "language": "python",
     "metadata": {},
     "outputs": [
      {
       "output_type": "stream",
       "stream": "stdout",
       "text": [
        "0\n",
        "399996\n"
       ]
      }
     ],
     "prompt_number": 3
    },
    {
     "cell_type": "code",
     "collapsed": false,
     "input": [
      "print(hap.ratelimitsslsess)\n",
      "print(hap.setratelimitsslsess(99999))\n",
      "print(hap.ratelimitsslsess)"
     ],
     "language": "python",
     "metadata": {},
     "outputs": [
      {
       "output_type": "stream",
       "stream": "stdout",
       "text": [
        "0\n",
        "True\n",
        "399996\n"
       ]
      }
     ],
     "prompt_number": 4
    },
    {
     "cell_type": "heading",
     "level": 3,
     "metadata": {},
     "source": [
      "Clear counters"
     ]
    },
    {
     "cell_type": "code",
     "collapsed": false,
     "input": [
      "hap.clearcounters()"
     ],
     "language": "python",
     "metadata": {},
     "outputs": [
      {
       "metadata": {},
       "output_type": "pyout",
       "prompt_number": 5,
       "text": [
        "True"
       ]
      }
     ],
     "prompt_number": 5
    },
    {
     "cell_type": "code",
     "collapsed": false,
     "input": [
      "hap.clearcounters(all=True)"
     ],
     "language": "python",
     "metadata": {},
     "outputs": [
      {
       "metadata": {},
       "output_type": "pyout",
       "prompt_number": 6,
       "text": [
        "True"
       ]
      }
     ],
     "prompt_number": 6
    },
    {
     "cell_type": "heading",
     "level": 3,
     "metadata": {},
     "source": [
      "ACLs"
     ]
    },
    {
     "cell_type": "code",
     "collapsed": false,
     "input": [
      "pprint(hap.show_acl())"
     ],
     "language": "python",
     "metadata": {},
     "outputs": [
      {
       "output_type": "stream",
       "stream": "stdout",
       "text": [
        "['# id (file) description',\n",
        " \"1 () acl 'ssl_fc' file '/etc/haproxy/haproxy.cfg' line 83\",\n",
        " '2 (/etc/haproxy/bl_frontend) pattern loaded from file '\n",
        " \"'/etc/haproxy/bl_frontend' used by acl at file '/etc/haproxy/haproxy.cfg' \"\n",
        " 'line 95',\n",
        " \"3 () acl 'src' file '/etc/haproxy/haproxy.cfg' line 95\",\n",
        " \"4 () acl 'path_beg' file '/etc/haproxy/haproxy.cfg' line 97\",\n",
        " \"5 () acl 'req.cook' file '/etc/haproxy/haproxy.cfg' line 111\",\n",
        " \"6 () acl 'req.cook' file '/etc/haproxy/haproxy.cfg' line 112\",\n",
        " \"7 () acl 'req.cook' file '/etc/haproxy/haproxy.cfg' line 113\",\n",
        " '']\n"
       ]
      }
     ],
     "prompt_number": 7
    },
    {
     "cell_type": "code",
     "collapsed": false,
     "input": [
      "pprint(hap.show_acl(acl=2))\n",
      "hap.del_acl(acl=2, key='11.155.183.41')\n",
      "pprint(hap.show_acl(acl=2))"
     ],
     "language": "python",
     "metadata": {},
     "outputs": [
      {
       "output_type": "stream",
       "stream": "stdout",
       "text": [
        "['0x1a95fa0 11.155.183.41', '']\n",
        "['']\n"
       ]
      }
     ],
     "prompt_number": 8
    },
    {
     "cell_type": "code",
     "collapsed": false,
     "input": [
      "pprint(hap.show_acl(acl=4))\n",
      "print(hap.del_acl(acl=4, key='/foo'))\n",
      "pprint(hap.show_acl(acl=4))\n",
      "#hap.clear_acl(acl=4)\n",
      "pprint(hap.show_acl(acl=4))\n",
      "hap.get_acl(acl=4, value='/foo')"
     ],
     "language": "python",
     "metadata": {},
     "outputs": []
    },
    {
     "cell_type": "heading",
     "level": 3,
     "metadata": {},
     "source": [
      "Show session errors"
     ]
    },
    {
     "cell_type": "code",
     "collapsed": false,
     "input": [
      "pprint(hap.errors())"
     ],
     "language": "python",
     "metadata": {},
     "outputs": [
      {
       "output_type": "stream",
       "stream": "stdout",
       "text": [
        "[('4', ['Total events captured on [03/May/2015:22:24:08.119] : 0', '']),\n",
        " ('3', ['Total events captured on [03/May/2015:22:24:08.120] : 0', '']),\n",
        " ('2', ['Total events captured on [03/May/2015:22:24:08.120] : 0', '']),\n",
        " ('1', ['Total events captured on [03/May/2015:22:24:08.120] : 0', ''])]\n"
       ]
      }
     ],
     "prompt_number": 33
    },
    {
     "cell_type": "heading",
     "level": 3,
     "metadata": {},
     "source": [
      "Show HAProxy process information"
     ]
    },
    {
     "cell_type": "code",
     "collapsed": false,
     "input": [
      "pprint(hap.info())"
     ],
     "language": "python",
     "metadata": {},
     "outputs": [
      {
       "output_type": "stream",
       "stream": "stdout",
       "text": [
        "[{'CompressBpsIn': '0',\n",
        "  'CompressBpsOut': '0',\n",
        "  'CompressBpsRateLim': '0',\n",
        "  'ConnRate': '0',\n",
        "  'ConnRateLimit': '99999',\n",
        "  'CumConns': '68',\n",
        "  'CumReq': '68',\n",
        "  'CumSslConns': '0',\n",
        "  'CurrConns': '0',\n",
        "  'CurrSslConns': '0',\n",
        "  'Hard_maxconn': '10000',\n",
        "  'Idle_pct': '100',\n",
        "  'MaxConnRate': '0',\n",
        "  'MaxSessRate': '0',\n",
        "  'MaxSslConns': '0',\n",
        "  'MaxSslRate': '0',\n",
        "  'MaxZlibMemUsage': '0',\n",
        "  'Maxconn': '5000',\n",
        "  'Maxpipes': '0',\n",
        "  'Maxsock': '20072',\n",
        "  'Memmax_MB': '0',\n",
        "  'Name': 'HAProxy',\n",
        "  'Nbproc': '4',\n",
        "  'Pid': '2232',\n",
        "  'PipesFree': '0',\n",
        "  'PipesUsed': '0',\n",
        "  'Process_num': '4',\n",
        "  'Release_date': '2014/10/31',\n",
        "  'Run_queue': '1',\n",
        "  'SessRate': '0',\n",
        "  'SessRateLimit': '0',\n",
        "  'SslBackendKeyRate': '0',\n",
        "  'SslBackendMaxKeyRate': '0',\n",
        "  'SslCacheLookups': '0',\n",
        "  'SslCacheMisses': '0',\n",
        "  'SslFrontendKeyRate': '0',\n",
        "  'SslFrontendMaxKeyRate': '0',\n",
        "  'SslFrontendSessionReuse_pct': '0',\n",
        "  'SslRate': '0',\n",
        "  'SslRateLimit': '99999',\n",
        "  'Tasks': '17',\n",
        "  'Ulimit-n': '20072',\n",
        "  'Uptime': '0d 0h07m22s',\n",
        "  'Uptime_sec': '442',\n",
        "  'Version': '1.5.8',\n",
        "  'ZlibMemUsage': '0',\n",
        "  'node': 'axilleas'},\n",
        " {'CompressBpsIn': '0',\n",
        "  'CompressBpsOut': '0',\n",
        "  'CompressBpsRateLim': '0',\n",
        "  'ConnRate': '0',\n",
        "  'ConnRateLimit': '99999',\n",
        "  'CumConns': '68',\n",
        "  'CumReq': '68',\n",
        "  'CumSslConns': '0',\n",
        "  'CurrConns': '0',\n",
        "  'CurrSslConns': '0',\n",
        "  'Hard_maxconn': '10000',\n",
        "  'Idle_pct': '100',\n",
        "  'MaxConnRate': '0',\n",
        "  'MaxSessRate': '0',\n",
        "  'MaxSslConns': '0',\n",
        "  'MaxSslRate': '0',\n",
        "  'MaxZlibMemUsage': '0',\n",
        "  'Maxconn': '5000',\n",
        "  'Maxpipes': '0',\n",
        "  'Maxsock': '20072',\n",
        "  'Memmax_MB': '0',\n",
        "  'Name': 'HAProxy',\n",
        "  'Nbproc': '4',\n",
        "  'Pid': '2231',\n",
        "  'PipesFree': '0',\n",
        "  'PipesUsed': '0',\n",
        "  'Process_num': '3',\n",
        "  'Release_date': '2014/10/31',\n",
        "  'Run_queue': '1',\n",
        "  'SessRate': '0',\n",
        "  'SessRateLimit': '0',\n",
        "  'SslBackendKeyRate': '0',\n",
        "  'SslBackendMaxKeyRate': '0',\n",
        "  'SslCacheLookups': '0',\n",
        "  'SslCacheMisses': '0',\n",
        "  'SslFrontendKeyRate': '0',\n",
        "  'SslFrontendMaxKeyRate': '0',\n",
        "  'SslFrontendSessionReuse_pct': '0',\n",
        "  'SslRate': '0',\n",
        "  'SslRateLimit': '99999',\n",
        "  'Tasks': '17',\n",
        "  'Ulimit-n': '20072',\n",
        "  'Uptime': '0d 0h07m22s',\n",
        "  'Uptime_sec': '442',\n",
        "  'Version': '1.5.8',\n",
        "  'ZlibMemUsage': '0',\n",
        "  'node': 'axilleas'},\n",
        " {'CompressBpsIn': '0',\n",
        "  'CompressBpsOut': '0',\n",
        "  'CompressBpsRateLim': '0',\n",
        "  'ConnRate': '0',\n",
        "  'ConnRateLimit': '99999',\n",
        "  'CumConns': '25',\n",
        "  'CumReq': '25',\n",
        "  'CumSslConns': '0',\n",
        "  'CurrConns': '0',\n",
        "  'CurrSslConns': '0',\n",
        "  'Hard_maxconn': '10000',\n",
        "  'Idle_pct': '100',\n",
        "  'MaxConnRate': '0',\n",
        "  'MaxSessRate': '0',\n",
        "  'MaxSslConns': '0',\n",
        "  'MaxSslRate': '0',\n",
        "  'MaxZlibMemUsage': '0',\n",
        "  'Maxconn': '5000',\n",
        "  'Maxpipes': '0',\n",
        "  'Maxsock': '20072',\n",
        "  'Memmax_MB': '0',\n",
        "  'Name': 'HAProxy',\n",
        "  'Nbproc': '4',\n",
        "  'Pid': '2230',\n",
        "  'PipesFree': '0',\n",
        "  'PipesUsed': '0',\n",
        "  'Process_num': '2',\n",
        "  'Release_date': '2014/10/31',\n",
        "  'Run_queue': '1',\n",
        "  'SessRate': '0',\n",
        "  'SessRateLimit': '0',\n",
        "  'SslBackendKeyRate': '0',\n",
        "  'SslBackendMaxKeyRate': '0',\n",
        "  'SslCacheLookups': '0',\n",
        "  'SslCacheMisses': '0',\n",
        "  'SslFrontendKeyRate': '0',\n",
        "  'SslFrontendMaxKeyRate': '0',\n",
        "  'SslFrontendSessionReuse_pct': '0',\n",
        "  'SslRate': '0',\n",
        "  'SslRateLimit': '99999',\n",
        "  'Tasks': '17',\n",
        "  'Ulimit-n': '20072',\n",
        "  'Uptime': '0d 0h07m22s',\n",
        "  'Uptime_sec': '442',\n",
        "  'Version': '1.5.8',\n",
        "  'ZlibMemUsage': '0',\n",
        "  'node': 'axilleas'},\n",
        " {'CompressBpsIn': '0',\n",
        "  'CompressBpsOut': '0',\n",
        "  'CompressBpsRateLim': '0',\n",
        "  'ConnRate': '0',\n",
        "  'ConnRateLimit': '99999',\n",
        "  'CumConns': '25',\n",
        "  'CumReq': '25',\n",
        "  'CumSslConns': '0',\n",
        "  'CurrConns': '0',\n",
        "  'CurrSslConns': '0',\n",
        "  'Hard_maxconn': '10000',\n",
        "  'Idle_pct': '100',\n",
        "  'MaxConnRate': '0',\n",
        "  'MaxSessRate': '0',\n",
        "  'MaxSslConns': '0',\n",
        "  'MaxSslRate': '0',\n",
        "  'MaxZlibMemUsage': '0',\n",
        "  'Maxconn': '5000',\n",
        "  'Maxpipes': '0',\n",
        "  'Maxsock': '20072',\n",
        "  'Memmax_MB': '0',\n",
        "  'Name': 'HAProxy',\n",
        "  'Nbproc': '4',\n",
        "  'Pid': '2229',\n",
        "  'PipesFree': '0',\n",
        "  'PipesUsed': '0',\n",
        "  'Process_num': '1',\n",
        "  'Release_date': '2014/10/31',\n",
        "  'Run_queue': '1',\n",
        "  'SessRate': '0',\n",
        "  'SessRateLimit': '0',\n",
        "  'SslBackendKeyRate': '0',\n",
        "  'SslBackendMaxKeyRate': '0',\n",
        "  'SslCacheLookups': '0',\n",
        "  'SslCacheMisses': '0',\n",
        "  'SslFrontendKeyRate': '0',\n",
        "  'SslFrontendMaxKeyRate': '0',\n",
        "  'SslFrontendSessionReuse_pct': '0',\n",
        "  'SslRate': '0',\n",
        "  'SslRateLimit': '99999',\n",
        "  'Tasks': '17',\n",
        "  'Ulimit-n': '20072',\n",
        "  'Uptime': '0d 0h07m22s',\n",
        "  'Uptime_sec': '442',\n",
        "  'Version': '1.5.8',\n",
        "  'ZlibMemUsage': '0',\n",
        "  'node': 'axilleas'}]\n"
       ]
      }
     ],
     "prompt_number": 34
    },
    {
     "cell_type": "heading",
     "level": 3,
     "metadata": {},
     "source": [
      "Show total requests served by processes"
     ]
    },
    {
     "cell_type": "code",
     "collapsed": false,
     "input": [
      "print(hap.requests)"
     ],
     "language": "python",
     "metadata": {},
     "outputs": [
      {
       "output_type": "stream",
       "stream": "stdout",
       "text": [
        "11\n"
       ]
      }
     ],
     "prompt_number": 9
    },
    {
     "cell_type": "heading",
     "level": 3,
     "metadata": {},
     "source": [
      "Show HAProxy process metrics"
     ]
    },
    {
     "cell_type": "code",
     "collapsed": false,
     "input": [
      "for metric in hap.HAPROXY_METRICS:\n",
      "    print(\"{}={}\".format(metric, hap.metric(metric)))"
     ],
     "language": "python",
     "metadata": {},
     "outputs": [
      {
       "output_type": "stream",
       "stream": "stdout",
       "text": [
        "SslFrontendMaxKeyRate=0\n",
        "Hard_maxconn=40000\n",
        "SessRateLimit=0\n",
        "Process_num=10\n",
        "Memmax_MB=0\n",
        "CompressBpsRateLim=0\n",
        "MaxSslConns=0\n",
        "ConnRateLimit=399996\n",
        "SslRateLimit=399996\n",
        "MaxConnRate=3\n",
        "CumConns=843\n",
        "SslBackendKeyRate=0\n",
        "SslCacheLookups=0\n",
        "CurrSslConns=0\n",
        "Run_queue=4\n",
        "Maxpipes=0\n",
        "Idle_pct=400\n",
        "SslFrontendKeyRate=0\n",
        "Tasks=68\n",
        "MaxZlibMemUsage=0\n",
        "SslFrontendSessionReuse_pct=0\n",
        "CurrConns=0\n",
        "SslCacheMisses=0\n",
        "SslRate=0\n",
        "CumSslConns=0\n",
        "PipesUsed=0\n",
        "Maxconn=20000\n",
        "CompressBpsIn=0\n",
        "ConnRate=0\n",
        "Ulimit-n=80288\n",
        "SessRate=0\n",
        "SslBackendMaxKeyRate=0\n",
        "CumReq=942\n",
        "PipesFree=0\n",
        "ZlibMemUsage=0\n",
        "Uptime_sec=11530.0\n",
        "CompressBpsOut=0\n",
        "Maxsock=80288\n",
        "MaxSslRate=0\n",
        "MaxSessRate=3\n"
       ]
      }
     ],
     "prompt_number": 10
    },
    {
     "cell_type": "heading",
     "level": 2,
     "metadata": {},
     "source": [
      "Frontend operations"
     ]
    },
    {
     "cell_type": "heading",
     "level": 3,
     "metadata": {},
     "source": [
      "List all frontends"
     ]
    },
    {
     "cell_type": "code",
     "collapsed": false,
     "input": [
      "frontends = hap.frontends()\n",
      "for f in frontends:\n",
      "    print(\"Frontend {} status {} requests {} referenced by processes {}\".format(f.name,\n",
      "                                                                                f.status,\n",
      "                                                                                f.requests,\n",
      "                                                                                f.process_nb))"
     ],
     "language": "python",
     "metadata": {},
     "outputs": [
      {
       "output_type": "stream",
       "stream": "stdout",
       "text": [
        "Frontend frontend_proc1 status OPEN requests 3 referenced by processes [1]\n",
        "Frontend haproxy status OPEN requests 0 referenced by processes [4, 3, 2, 1]\n",
        "Frontend frontend2_proc34 status STOP requests 0 referenced by processes [4, 3]\n",
        "Frontend frontend1_proc34 status OPEN requests 8 referenced by processes [4, 3]\n",
        "Frontend frontend_proc2 status STOP requests 0 referenced by processes [2]\n"
       ]
      }
     ],
     "prompt_number": 11
    },
    {
     "cell_type": "heading",
     "level": 3,
     "metadata": {},
     "source": [
      "Disable frontend"
     ]
    },
    {
     "cell_type": "code",
     "collapsed": false,
     "input": [
      "f1 = hap.frontend('frontend_proc2')\n",
      "print(f1.status)\n",
      "try:\n",
      "    f1.disable()\n",
      "except exceptions.CommandFailed as error:\n",
      "    print(error)\n",
      "print(f1.status)"
     ],
     "language": "python",
     "metadata": {},
     "outputs": [
      {
       "output_type": "stream",
       "stream": "stdout",
       "text": [
        "OPEN\n",
        "STOP\n"
       ]
      }
     ],
     "prompt_number": 42
    },
    {
     "cell_type": "heading",
     "level": 3,
     "metadata": {},
     "source": [
      "Handle exception in a different way "
     ]
    },
    {
     "cell_type": "code",
     "collapsed": false,
     "input": [
      "f1 = hap.frontend('frontend_proc2')\n",
      "print(f1.status)\n",
      "if not f1.disable(die=False):\n",
      "    print(\"Failed to disable frontend\")\n",
      "\n",
      "    if f1.status == 'STOP':\n",
      "        print(\"oops it is already disabled, no worries\")\n",
      "    else:\n",
      "        print(\"Arg, status{}\".format(f1.status))"
     ],
     "language": "python",
     "metadata": {},
     "outputs": [
      {
       "output_type": "stream",
       "stream": "stdout",
       "text": [
        "STOP\n",
        "Failed to disable frontend\n",
        "oops it is already disabled, no worries\n"
       ]
      }
     ],
     "prompt_number": 44
    },
    {
     "cell_type": "heading",
     "level": 3,
     "metadata": {},
     "source": [
      "Shutdown frontend"
     ]
    },
    {
     "cell_type": "code",
     "collapsed": false,
     "input": [
      "print(f1.status)\n",
      "f1.shutdown()\n",
      "# Frontend is now removed, any futher operations on it will return KeyError exception\n",
      "# except for enable() method which returns\n",
      "# exceptions.CommandFailed: Frontend was previously shut down, cannot enable"
     ],
     "language": "python",
     "metadata": {},
     "outputs": [
      {
       "output_type": "stream",
       "stream": "stdout",
       "text": [
        "STOP\n"
       ]
      },
      {
       "metadata": {},
       "output_type": "pyout",
       "prompt_number": 40,
       "text": [
        "True"
       ]
      }
     ],
     "prompt_number": 40
    },
    {
     "cell_type": "heading",
     "level": 3,
     "metadata": {},
     "source": [
      "Set some settings"
     ]
    },
    {
     "cell_type": "code",
     "collapsed": false,
     "input": [
      "print(\"Max connnections {}\".format(f1.maxconn))\n",
      "if f1.setmaxconn(50000):\n",
      "    print(\"New max connnections {}\".format(f1.maxconn))"
     ],
     "language": "python",
     "metadata": {},
     "outputs": [
      {
       "output_type": "stream",
       "stream": "stdout",
       "text": [
        "Max connnections 1000000\n",
        "New max connnections 50000\n"
       ]
      }
     ],
     "prompt_number": 45
    },
    {
     "cell_type": "heading",
     "level": 3,
     "metadata": {},
     "source": [
      "Get metrics"
     ]
    },
    {
     "cell_type": "code",
     "collapsed": false,
     "input": [
      "for m in haproxy.FRONTEND_METRICS:\n",
      "    print(\"{}={}\".format(m, f1.metric(m)))"
     ],
     "language": "python",
     "metadata": {},
     "outputs": [
      {
       "output_type": "stream",
       "stream": "stdout",
       "text": [
        "bin=0\n",
        "bout=0\n",
        "comp_byp=0\n",
        "comp_in=0\n",
        "comp_out=0\n",
        "comp_rsp=0\n",
        "dreq=0\n",
        "dresp=0\n",
        "ereq=0\n",
        "hrsp_1xx=0\n",
        "hrsp_2xx=0\n",
        "hrsp_3xx=0\n",
        "hrsp_4xx=0\n",
        "hrsp_5xx=0\n",
        "hrsp_other=0\n",
        "rate=0\n",
        "rate_lim=100000\n",
        "rate_max=0\n",
        "req_rate=0\n",
        "req_rate_max=0\n",
        "req_tot=0\n",
        "scur=0\n",
        "slim=50000\n",
        "smax=0\n",
        "stot=0\n"
       ]
      }
     ],
     "prompt_number": 46
    },
    {
     "cell_type": "heading",
     "level": 3,
     "metadata": {},
     "source": [
      "Get requests per process"
     ]
    },
    {
     "cell_type": "code",
     "collapsed": false,
     "input": [
      "f2 = hap.frontend('frontend1_proc34')\n",
      "pprint(f2.requests_per_process())"
     ],
     "language": "python",
     "metadata": {},
     "outputs": [
      {
       "output_type": "stream",
       "stream": "stdout",
       "text": [
        "[(4, 3), (3, 5)]\n"
       ]
      }
     ],
     "prompt_number": 12
    },
    {
     "cell_type": "heading",
     "level": 3,
     "metadata": {},
     "source": [
      "Get all statistics per process"
     ]
    },
    {
     "cell_type": "code",
     "collapsed": false,
     "input": [
      "pprint(f2.stats_per_process())"
     ],
     "language": "python",
     "metadata": {},
     "outputs": [
      {
       "output_type": "stream",
       "stream": "stdout",
       "text": [
        "[(4,\n",
        "  {'': '',\n",
        "   'act': '',\n",
        "   'bck': '',\n",
        "   'bin': '228',\n",
        "   'bout': '3645',\n",
        "   'check_code': '',\n",
        "   'check_duration': '',\n",
        "   'check_status': '',\n",
        "   'chkdown': '',\n",
        "   'chkfail': '',\n",
        "   'cli_abrt': '',\n",
        "   'comp_byp': '0',\n",
        "   'comp_in': '0',\n",
        "   'comp_out': '0',\n",
        "   'comp_rsp': '0',\n",
        "   'ctime': '',\n",
        "   'downtime': '',\n",
        "   'dreq': '0',\n",
        "   'dresp': '0',\n",
        "   'econ': '',\n",
        "   'ereq': '0',\n",
        "   'eresp': '',\n",
        "   'hanafail': '',\n",
        "   'hrsp_1xx': '0',\n",
        "   'hrsp_2xx': '3',\n",
        "   'hrsp_3xx': '0',\n",
        "   'hrsp_4xx': '0',\n",
        "   'hrsp_5xx': '0',\n",
        "   'hrsp_other': '0',\n",
        "   'iid': '10',\n",
        "   'last_agt': '',\n",
        "   'last_chk': '',\n",
        "   'lastchg': '',\n",
        "   'lastsess': '',\n",
        "   'lbtot': '',\n",
        "   'pid': '4',\n",
        "   'pxname': 'frontend1_proc34',\n",
        "   'qcur': '',\n",
        "   'qlimit': '',\n",
        "   'qmax': '',\n",
        "   'qtime': '',\n",
        "   'rate': '0',\n",
        "   'rate_lim': '100000',\n",
        "   'rate_max': '1',\n",
        "   'req_rate': '0',\n",
        "   'req_rate_max': '1',\n",
        "   'req_tot': '3',\n",
        "   'rtime': '',\n",
        "   'scur': '0',\n",
        "   'sid': '0',\n",
        "   'slim': '1000000',\n",
        "   'smax': '1',\n",
        "   'srv_abrt': '',\n",
        "   'status': 'OPEN',\n",
        "   'stot': '3',\n",
        "   'svname': 'FRONTEND',\n",
        "   'throttle': '',\n",
        "   'tracked': '',\n",
        "   'ttime': '',\n",
        "   'type': '0',\n",
        "   'weight': '',\n",
        "   'wredis': '',\n",
        "   'wretr': ''}),\n",
        " (3,\n",
        "  {'': '',\n",
        "   'act': '',\n",
        "   'bck': '',\n",
        "   'bin': '380',\n",
        "   'bout': '6075',\n",
        "   'check_code': '',\n",
        "   'check_duration': '',\n",
        "   'check_status': '',\n",
        "   'chkdown': '',\n",
        "   'chkfail': '',\n",
        "   'cli_abrt': '',\n",
        "   'comp_byp': '0',\n",
        "   'comp_in': '0',\n",
        "   'comp_out': '0',\n",
        "   'comp_rsp': '0',\n",
        "   'ctime': '',\n",
        "   'downtime': '',\n",
        "   'dreq': '0',\n",
        "   'dresp': '0',\n",
        "   'econ': '',\n",
        "   'ereq': '0',\n",
        "   'eresp': '',\n",
        "   'hanafail': '',\n",
        "   'hrsp_1xx': '0',\n",
        "   'hrsp_2xx': '5',\n",
        "   'hrsp_3xx': '0',\n",
        "   'hrsp_4xx': '0',\n",
        "   'hrsp_5xx': '0',\n",
        "   'hrsp_other': '0',\n",
        "   'iid': '10',\n",
        "   'last_agt': '',\n",
        "   'last_chk': '',\n",
        "   'lastchg': '',\n",
        "   'lastsess': '',\n",
        "   'lbtot': '',\n",
        "   'pid': '3',\n",
        "   'pxname': 'frontend1_proc34',\n",
        "   'qcur': '',\n",
        "   'qlimit': '',\n",
        "   'qmax': '',\n",
        "   'qtime': '',\n",
        "   'rate': '0',\n",
        "   'rate_lim': '100000',\n",
        "   'rate_max': '1',\n",
        "   'req_rate': '0',\n",
        "   'req_rate_max': '1',\n",
        "   'req_tot': '5',\n",
        "   'rtime': '',\n",
        "   'scur': '0',\n",
        "   'sid': '0',\n",
        "   'slim': '1000000',\n",
        "   'smax': '1',\n",
        "   'srv_abrt': '',\n",
        "   'status': 'OPEN',\n",
        "   'stot': '5',\n",
        "   'svname': 'FRONTEND',\n",
        "   'throttle': '',\n",
        "   'tracked': '',\n",
        "   'ttime': '',\n",
        "   'type': '0',\n",
        "   'weight': '',\n",
        "   'wredis': '',\n",
        "   'wretr': ''})]\n"
       ]
      }
     ],
     "prompt_number": 13
    },
    {
     "cell_type": "heading",
     "level": 2,
     "metadata": {},
     "source": [
      "Pool operations"
     ]
    },
    {
     "cell_type": "heading",
     "level": 3,
     "metadata": {},
     "source": [
      "List members"
     ]
    },
    {
     "cell_type": "code",
     "collapsed": false,
     "input": [
      "pools = hap.pools()\n",
      "for pool in pools:\n",
      "    print(\"{:*^30}\".format(pool.name))\n",
      "    for member in pool.members():\n",
      "        print(\"{:<30}\".format(member.name))\n",
      "        "
     ],
     "language": "python",
     "metadata": {},
     "outputs": [
      {
       "output_type": "stream",
       "stream": "stdout",
       "text": [
        "*******backend2_proc34********\n",
        "member1_bk2_proc34            \n",
        "member2_bk2_proce34           \n",
        "member_bkall                  \n",
        "********backend_proc2*********\n",
        "member1_proc2                 \n",
        "member_bkall                  \n",
        "member2_proc2                 \n",
        "*******backend1_proc34********\n",
        "member1_proc34                \n",
        "member2_proc34                \n",
        "member_bkall                  \n",
        "********backend_proc1*********\n",
        "member1_proc1                 \n",
        "member_bkall                  \n",
        "member2_proc1                 \n",
        "***********haproxy************\n"
       ]
      }
     ],
     "prompt_number": 14
    },
    {
     "cell_type": "heading",
     "level": 3,
     "metadata": {},
     "source": [
      "Pool information"
     ]
    },
    {
     "cell_type": "code",
     "collapsed": false,
     "input": [
      "pools = hap.pools()\n",
      "for pool in pools:\n",
      "    print(\"Pool {} status {} requests {} referenced by processes {}\".format(pool.name,\n",
      "                                                                            pool.status,\n",
      "                                                                            pool.requests,\n",
      "                                                                            pool.process_nb))"
     ],
     "language": "python",
     "metadata": {},
     "outputs": [
      {
       "output_type": "stream",
       "stream": "stdout",
       "text": [
        "Pool backend2_proc34 status UP requests 0 referenced by processes [4, 3]\n",
        "Pool backend_proc2 status UP requests 0 referenced by processes [2]\n",
        "Pool backend1_proc34 status UP requests 8 referenced by processes [4, 3]\n",
        "Pool backend_proc1 status UP requests 3 referenced by processes [1]\n",
        "Pool haproxy status UP requests 0 referenced by processes [4, 3, 2, 1]\n"
       ]
      }
     ],
     "prompt_number": 15
    },
    {
     "cell_type": "heading",
     "level": 3,
     "metadata": {},
     "source": [
      "Get requests for a certain pool"
     ]
    },
    {
     "cell_type": "code",
     "collapsed": false,
     "input": [
      "p1 = hap.pool('backend2_proc34')\n",
      "print(p1.requests)"
     ],
     "language": "python",
     "metadata": {},
     "outputs": [
      {
       "output_type": "stream",
       "stream": "stdout",
       "text": [
        "0\n"
       ]
      }
     ],
     "prompt_number": 20
    },
    {
     "cell_type": "heading",
     "level": 3,
     "metadata": {},
     "source": [
      "Get requests per process"
     ]
    },
    {
     "cell_type": "code",
     "collapsed": false,
     "input": [
      "pprint(p1.requests_per_process())"
     ],
     "language": "python",
     "metadata": {},
     "outputs": [
      {
       "output_type": "stream",
       "stream": "stdout",
       "text": [
        "[(4, 0), (3, 0)]\n"
       ]
      }
     ],
     "prompt_number": 18
    },
    {
     "cell_type": "heading",
     "level": 3,
     "metadata": {},
     "source": [
      "Get all statistics per process"
     ]
    },
    {
     "cell_type": "code",
     "collapsed": false,
     "input": [
      "pprint(p1.stats_per_process())\n"
     ],
     "language": "python",
     "metadata": {},
     "outputs": [
      {
       "output_type": "stream",
       "stream": "stdout",
       "text": [
        "[(4,\n",
        "  {'': '',\n",
        "   'act': '3',\n",
        "   'bck': '0',\n",
        "   'bin': '0',\n",
        "   'bout': '0',\n",
        "   'check_code': '',\n",
        "   'check_duration': '',\n",
        "   'check_status': '',\n",
        "   'chkdown': '0',\n",
        "   'chkfail': '',\n",
        "   'cli_abrt': '0',\n",
        "   'comp_byp': '0',\n",
        "   'comp_in': '0',\n",
        "   'comp_out': '0',\n",
        "   'comp_rsp': '0',\n",
        "   'ctime': '0',\n",
        "   'downtime': '0',\n",
        "   'dreq': '0',\n",
        "   'dresp': '0',\n",
        "   'econ': '0',\n",
        "   'ereq': '',\n",
        "   'eresp': '0',\n",
        "   'hanafail': '',\n",
        "   'hrsp_1xx': '0',\n",
        "   'hrsp_2xx': '0',\n",
        "   'hrsp_3xx': '0',\n",
        "   'hrsp_4xx': '0',\n",
        "   'hrsp_5xx': '0',\n",
        "   'hrsp_other': '0',\n",
        "   'iid': '13',\n",
        "   'last_agt': '',\n",
        "   'last_chk': '',\n",
        "   'lastchg': '11602',\n",
        "   'lastsess': '-1',\n",
        "   'lbtot': '0',\n",
        "   'pid': '4',\n",
        "   'pxname': 'backend2_proc34',\n",
        "   'qcur': '0',\n",
        "   'qlimit': '',\n",
        "   'qmax': '0',\n",
        "   'qtime': '0',\n",
        "   'rate': '0',\n",
        "   'rate_lim': '',\n",
        "   'rate_max': '0',\n",
        "   'req_rate': '',\n",
        "   'req_rate_max': '',\n",
        "   'req_tot': '',\n",
        "   'rtime': '0',\n",
        "   'scur': '0',\n",
        "   'sid': '0',\n",
        "   'slim': '100000',\n",
        "   'smax': '0',\n",
        "   'srv_abrt': '0',\n",
        "   'status': 'UP',\n",
        "   'stot': '0',\n",
        "   'svname': 'BACKEND',\n",
        "   'throttle': '',\n",
        "   'tracked': '',\n",
        "   'ttime': '0',\n",
        "   'type': '1',\n",
        "   'weight': '202',\n",
        "   'wredis': '0',\n",
        "   'wretr': '0'}),\n",
        " (3,\n",
        "  {'': '',\n",
        "   'act': '3',\n",
        "   'bck': '0',\n",
        "   'bin': '0',\n",
        "   'bout': '0',\n",
        "   'check_code': '',\n",
        "   'check_duration': '',\n",
        "   'check_status': '',\n",
        "   'chkdown': '0',\n",
        "   'chkfail': '',\n",
        "   'cli_abrt': '0',\n",
        "   'comp_byp': '0',\n",
        "   'comp_in': '0',\n",
        "   'comp_out': '0',\n",
        "   'comp_rsp': '0',\n",
        "   'ctime': '0',\n",
        "   'downtime': '0',\n",
        "   'dreq': '0',\n",
        "   'dresp': '0',\n",
        "   'econ': '0',\n",
        "   'ereq': '',\n",
        "   'eresp': '0',\n",
        "   'hanafail': '',\n",
        "   'hrsp_1xx': '0',\n",
        "   'hrsp_2xx': '0',\n",
        "   'hrsp_3xx': '0',\n",
        "   'hrsp_4xx': '0',\n",
        "   'hrsp_5xx': '0',\n",
        "   'hrsp_other': '0',\n",
        "   'iid': '13',\n",
        "   'last_agt': '',\n",
        "   'last_chk': '',\n",
        "   'lastchg': '11602',\n",
        "   'lastsess': '-1',\n",
        "   'lbtot': '0',\n",
        "   'pid': '3',\n",
        "   'pxname': 'backend2_proc34',\n",
        "   'qcur': '0',\n",
        "   'qlimit': '',\n",
        "   'qmax': '0',\n",
        "   'qtime': '0',\n",
        "   'rate': '0',\n",
        "   'rate_lim': '',\n",
        "   'rate_max': '0',\n",
        "   'req_rate': '',\n",
        "   'req_rate_max': '',\n",
        "   'req_tot': '',\n",
        "   'rtime': '0',\n",
        "   'scur': '0',\n",
        "   'sid': '0',\n",
        "   'slim': '100000',\n",
        "   'smax': '0',\n",
        "   'srv_abrt': '0',\n",
        "   'status': 'UP',\n",
        "   'stot': '0',\n",
        "   'svname': 'BACKEND',\n",
        "   'throttle': '',\n",
        "   'tracked': '',\n",
        "   'ttime': '0',\n",
        "   'type': '1',\n",
        "   'weight': '202',\n",
        "   'wredis': '0',\n",
        "   'wretr': '0'})]\n"
       ]
      }
     ],
     "prompt_number": 19
    },
    {
     "cell_type": "heading",
     "level": 3,
     "metadata": {},
     "source": [
      "Get members"
     ]
    },
    {
     "cell_type": "code",
     "collapsed": false,
     "input": [
      "members = p1.members()\n",
      "for m in members:\n",
      "    print(\"pool {}, member {}, status {}, requests {}, processes {}\".format(m.poolname,\n",
      "                                                                            m.name,\n",
      "                                                                            m.status,\n",
      "                                                                            m.requests,\n",
      "                                                                            m.process_nb))"
     ],
     "language": "python",
     "metadata": {},
     "outputs": [
      {
       "output_type": "stream",
       "stream": "stdout",
       "text": [
        "pool backend2_proc34, member member1_bk2_proc34, status no check, requests 0, processes [4, 3]\n",
        "pool backend2_proc34, member member2_bk2_proce34, status UP, requests 0, processes [4, 3]\n",
        "pool backend2_proc34, member member_bkall, status no check, requests 0, processes [4, 3]\n"
       ]
      }
     ],
     "prompt_number": 21
    },
    {
     "cell_type": "heading",
     "level": 2,
     "metadata": {},
     "source": [
      "Member operations"
     ]
    },
    {
     "cell_type": "code",
     "collapsed": false,
     "input": [
      "m1 = hap.member('member_bkall')\n",
      "print(\"Found in {} pool(s)\".format(len(m1)))\n",
      "print(m1)"
     ],
     "language": "python",
     "metadata": {},
     "outputs": [
      {
       "output_type": "stream",
       "stream": "stdout",
       "text": [
        "Found in 3 pool(s)\n",
        "[<haproxyadmin.poolmember.PoolMember object at 0x7f63b40fef98>, <haproxyadmin.poolmember.PoolMember object at 0x7f63b40fcb70>, <haproxyadmin.poolmember.PoolMember object at 0x7f63b4100e10>]\n"
       ]
      }
     ],
     "prompt_number": 2
    },
    {
     "cell_type": "code",
     "collapsed": false,
     "input": [
      "m = m1[0]\n",
      "print(\"requests {}, status {}, processes {}\".format(m.requests, m.status, m.process_nb))\n",
      "print(\"check code {}, check status {}, last status {}, last agent check {}\".format(m.check_code,\n",
      "                                                                                   m.check_status,\n",
      "                                                                                   m.last_status,\n",
      "                                                                                   m.last_agent_check))"
     ],
     "language": "python",
     "metadata": {},
     "outputs": [
      {
       "output_type": "stream",
       "stream": "stdout",
       "text": [
        "requests 0, status no check, processes [4, 3]\n",
        "check code , check status , last status , last agent check \n"
       ]
      }
     ],
     "prompt_number": 3
    },
    {
     "cell_type": "heading",
     "level": 3,
     "metadata": {},
     "source": [
      "Change weight"
     ]
    },
    {
     "cell_type": "code",
     "collapsed": false,
     "input": [
      "print(m.weight)\n",
      "m.setweight('20%')\n",
      "print(m.weight)\n",
      "m.setweight(200)\n",
      "print(m.weight)"
     ],
     "language": "python",
     "metadata": {},
     "outputs": [
      {
       "output_type": "stream",
       "stream": "stdout",
       "text": [
        "200\n",
        "20\n",
        "200\n"
       ]
      }
     ],
     "prompt_number": 18
    },
    {
     "cell_type": "heading",
     "level": 3,
     "metadata": {},
     "source": [
      "Shutdown all sessions"
     ]
    },
    {
     "cell_type": "code",
     "collapsed": false,
     "input": [
      "print(m.status)\n",
      "m.shutdown()"
     ],
     "language": "python",
     "metadata": {},
     "outputs": []
    },
    {
     "cell_type": "heading",
     "level": 3,
     "metadata": {},
     "source": [
      "Change state"
     ]
    },
    {
     "cell_type": "code",
     "collapsed": false,
     "input": [
      "for state in haproxy.VALID_STATES:\n",
      "    print(\"state before {}\".format(m.status))\n",
      "    print(\"Change state to {}\".format(state))\n",
      "    m.setstate(state)\n",
      "    print(\"state after {}\".format(m.status))"
     ],
     "language": "python",
     "metadata": {},
     "outputs": []
    },
    {
     "cell_type": "heading",
     "level": 3,
     "metadata": {},
     "source": [
      "Get metrics"
     ]
    },
    {
     "cell_type": "code",
     "collapsed": false,
     "input": [
      "for metric in haproxy.SERVER_METRICS:\n",
      "    print(\"{}={}\".format(metric, m.metric(metric)))"
     ],
     "language": "python",
     "metadata": {},
     "outputs": [
      {
       "output_type": "stream",
       "stream": "stdout",
       "text": [
        "qcur=0\n",
        "qmax=0\n",
        "scur=0\n",
        "smax=0\n",
        "stot=0\n",
        "bin=0\n",
        "bout=0\n",
        "dresp=0\n",
        "econ=0\n",
        "eresp=0\n",
        "wretr=0\n",
        "wredis=0\n",
        "weight=200.0\n",
        "act=1.0\n",
        "bck=0.0\n",
        "chkfail=0\n",
        "chkdown=0\n",
        "lastchg=226.0\n",
        "downtime=0.0\n",
        "qlimit=0.0\n",
        "throttle=0.0\n",
        "lbtot=0\n",
        "rate=0\n",
        "rate_max=0\n",
        "check_duration=132.5\n",
        "hrsp_1xx=0\n",
        "hrsp_2xx=0\n",
        "hrsp_3xx=0\n",
        "hrsp_4xx=0\n",
        "hrsp_5xx=0\n",
        "hrsp_other=0\n",
        "cli_abrt=0\n",
        "srv_abrt=0\n",
        "lastsess=-1.0\n",
        "qtime=0.0\n",
        "ctime=0.0\n",
        "rtime=0.0\n",
        "ttime=0.0\n"
       ]
      }
     ],
     "prompt_number": 21
    },
    {
     "cell_type": "heading",
     "level": 3,
     "metadata": {},
     "source": [
      "Get requests per process"
     ]
    },
    {
     "cell_type": "code",
     "collapsed": false,
     "input": [
      "pprint(m.requests_per_process())"
     ],
     "language": "python",
     "metadata": {},
     "outputs": [
      {
       "output_type": "stream",
       "stream": "stdout",
       "text": [
        "[(4, 0), (3, 0)]\n"
       ]
      }
     ],
     "prompt_number": 19
    },
    {
     "cell_type": "heading",
     "level": 3,
     "metadata": {},
     "source": [
      "Get all statistics per process"
     ]
    },
    {
     "cell_type": "code",
     "collapsed": false,
     "input": [
      "pprint(m.stats_per_process())"
     ],
     "language": "python",
     "metadata": {},
     "outputs": [
      {
       "output_type": "stream",
       "stream": "stdout",
       "text": [
        "[(4,\n",
        "  {'': '',\n",
        "   'act': '1',\n",
        "   'bck': '0',\n",
        "   'bin': '0',\n",
        "   'bout': '0',\n",
        "   'check_code': '200',\n",
        "   'check_duration': '124',\n",
        "   'check_status': 'L7OK',\n",
        "   'chkdown': '0',\n",
        "   'chkfail': '0',\n",
        "   'cli_abrt': '0',\n",
        "   'comp_byp': '',\n",
        "   'comp_in': '',\n",
        "   'comp_out': '',\n",
        "   'comp_rsp': '',\n",
        "   'ctime': '0',\n",
        "   'downtime': '0',\n",
        "   'dreq': '',\n",
        "   'dresp': '0',\n",
        "   'econ': '0',\n",
        "   'ereq': '',\n",
        "   'eresp': '0',\n",
        "   'hanafail': '0',\n",
        "   'hrsp_1xx': '0',\n",
        "   'hrsp_2xx': '0',\n",
        "   'hrsp_3xx': '0',\n",
        "   'hrsp_4xx': '0',\n",
        "   'hrsp_5xx': '0',\n",
        "   'hrsp_other': '0',\n",
        "   'iid': '13',\n",
        "   'last_agt': '',\n",
        "   'last_chk': 'OK',\n",
        "   'lastchg': '222',\n",
        "   'lastsess': '-1',\n",
        "   'lbtot': '0',\n",
        "   'pid': '4',\n",
        "   'pxname': 'backend2_proc34',\n",
        "   'qcur': '0',\n",
        "   'qlimit': '',\n",
        "   'qmax': '0',\n",
        "   'qtime': '0',\n",
        "   'rate': '0',\n",
        "   'rate_lim': '',\n",
        "   'rate_max': '0',\n",
        "   'req_rate': '',\n",
        "   'req_rate_max': '',\n",
        "   'req_tot': '',\n",
        "   'rtime': '0',\n",
        "   'scur': '0',\n",
        "   'sid': '2',\n",
        "   'slim': '',\n",
        "   'smax': '0',\n",
        "   'srv_abrt': '0',\n",
        "   'status': 'UP',\n",
        "   'stot': '0',\n",
        "   'svname': 'member2_bk2_proce34',\n",
        "   'throttle': '',\n",
        "   'tracked': '',\n",
        "   'ttime': '0',\n",
        "   'type': '2',\n",
        "   'weight': '200',\n",
        "   'wredis': '0',\n",
        "   'wretr': '0'}),\n",
        " (3,\n",
        "  {'': '',\n",
        "   'act': '1',\n",
        "   'bck': '0',\n",
        "   'bin': '0',\n",
        "   'bout': '0',\n",
        "   'check_code': '200',\n",
        "   'check_duration': '126',\n",
        "   'check_status': 'L7OK',\n",
        "   'chkdown': '0',\n",
        "   'chkfail': '0',\n",
        "   'cli_abrt': '0',\n",
        "   'comp_byp': '',\n",
        "   'comp_in': '',\n",
        "   'comp_out': '',\n",
        "   'comp_rsp': '',\n",
        "   'ctime': '0',\n",
        "   'downtime': '0',\n",
        "   'dreq': '',\n",
        "   'dresp': '0',\n",
        "   'econ': '0',\n",
        "   'ereq': '',\n",
        "   'eresp': '0',\n",
        "   'hanafail': '0',\n",
        "   'hrsp_1xx': '0',\n",
        "   'hrsp_2xx': '0',\n",
        "   'hrsp_3xx': '0',\n",
        "   'hrsp_4xx': '0',\n",
        "   'hrsp_5xx': '0',\n",
        "   'hrsp_other': '0',\n",
        "   'iid': '13',\n",
        "   'last_agt': '',\n",
        "   'last_chk': 'OK',\n",
        "   'lastchg': '222',\n",
        "   'lastsess': '-1',\n",
        "   'lbtot': '0',\n",
        "   'pid': '3',\n",
        "   'pxname': 'backend2_proc34',\n",
        "   'qcur': '0',\n",
        "   'qlimit': '',\n",
        "   'qmax': '0',\n",
        "   'qtime': '0',\n",
        "   'rate': '0',\n",
        "   'rate_lim': '',\n",
        "   'rate_max': '0',\n",
        "   'req_rate': '',\n",
        "   'req_rate_max': '',\n",
        "   'req_tot': '',\n",
        "   'rtime': '0',\n",
        "   'scur': '0',\n",
        "   'sid': '2',\n",
        "   'slim': '',\n",
        "   'smax': '0',\n",
        "   'srv_abrt': '0',\n",
        "   'status': 'UP',\n",
        "   'stot': '0',\n",
        "   'svname': 'member2_bk2_proce34',\n",
        "   'throttle': '',\n",
        "   'tracked': '',\n",
        "   'ttime': '0',\n",
        "   'type': '2',\n",
        "   'weight': '200',\n",
        "   'wredis': '0',\n",
        "   'wretr': '0'})]\n"
       ]
      }
     ],
     "prompt_number": 20
    },
    {
     "cell_type": "heading",
     "level": 2,
     "metadata": {},
     "source": [
      "Handle exceptions during operations"
     ]
    },
    {
     "cell_type": "code",
     "collapsed": false,
     "input": [
      "frontend = hap.frontend('frontend2_proc34')\n",
      "print(frontend.name)\n",
      "print(frontend.maxconn)\n",
      "try:\n",
      "    print(frontend.status)\n",
      "except exceptions.IncosistentData as error:\n",
      "    print(error, error.results)\n",
      "\n",
      "print('disabling')\n",
      "if frontend.disable():\n",
      "    print(\"ok\")\n",
      "print('disalbing2')\n",
      "try:\n",
      "    d = frontend.disable()\n",
      "except exceptions.MultipleCommandResults as error:\n",
      "    print(error, error.results, 'die')\n",
      "except exceptions.CommandFailed as error:\n",
      "    print(error)\n",
      "\n",
      "\n",
      "try:\n",
      "    print(frontend.status)\n",
      "except exceptions.IncosistentData as error:\n",
      "    print(error, error.results)"
     ],
     "language": "python",
     "metadata": {},
     "outputs": [
      {
       "output_type": "stream",
       "stream": "stdout",
       "text": [
        "frontend2_proc34\n",
        "2000000\n",
        "OPEN\n",
        "disabling\n",
        "ok\n",
        "disalbing2\n",
        "Frontend is already disabled.\n",
        "STOP\n"
       ]
      }
     ],
     "prompt_number": 22
    },
    {
     "cell_type": "code",
     "collapsed": false,
     "input": [
      "frontend = hap.frontend('frontend2_proc34')\n",
      "print(frontend.name)\n",
      "print(frontend.maxconn)\n",
      "try:\n",
      "    print(frontend.status)\n",
      "except exceptions.IncosistentData as error:\n",
      "    print(error, error.results)\n",
      "\n",
      "print('disabling')\n",
      "if frontend.disable(die=False):\n",
      "    print(\"disabled\")\n",
      "else:\n",
      "    print(\"oops\")\n",
      "\n",
      "\n",
      "try:\n",
      "    print(frontend.status)\n",
      "except exceptions.IncosistentData as error:\n",
      "    print(error, error.results)\n"
     ],
     "language": "python",
     "metadata": {},
     "outputs": [
      {
       "output_type": "stream",
       "stream": "stdout",
       "text": [
        "frontend2_proc34\n",
        "2000000\n",
        "STOP\n",
        "disabling\n",
        "oops\n",
        "STOP\n"
       ]
      }
     ],
     "prompt_number": 23
    },
    {
     "cell_type": "code",
     "collapsed": false,
     "input": [],
     "language": "python",
     "metadata": {},
     "outputs": []
    }
   ],
   "metadata": {}
  }
 ]
}