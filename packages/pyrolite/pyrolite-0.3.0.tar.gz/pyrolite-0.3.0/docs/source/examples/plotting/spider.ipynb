{
  "cells": [
    {
      "cell_type": "code",
      "execution_count": null,
      "metadata": {
        "collapsed": false
      },
      "outputs": [],
      "source": [
        "%matplotlib inline"
      ]
    },
    {
      "cell_type": "markdown",
      "metadata": {},
      "source": [
        "\nSpiderplots & Density Spiderplots\n==================================\n"
      ]
    },
    {
      "cell_type": "code",
      "execution_count": null,
      "metadata": {
        "collapsed": false
      },
      "outputs": [],
      "source": [
        "import numpy as np\nimport pandas as pd\nimport matplotlib.pyplot as plt"
      ]
    },
    {
      "cell_type": "markdown",
      "metadata": {},
      "source": [
        "Here we'll set up an example which uses EMORB as a starting point. Typically we'll\nnormalise trace element compositions to a reference composition\nto be able to link the diagram to 'relative enrichement' occuring during geological\nprocesses, so here we're normalising to a Primitive Mantle composition first.\nWe're here taking this normalised composition and adding some noise in log-space to\ngenerate multiple compositions about this mean (i.e. a compositional distribution).\nFor simplicility, this is handlded by\n:func:`~pyrolite.util.synthetic.example_spider_data`:\n\n\n"
      ]
    },
    {
      "cell_type": "code",
      "execution_count": null,
      "metadata": {
        "collapsed": false
      },
      "outputs": [],
      "source": [
        "from pyrolite.util.synthetic import example_spider_data\n\nnormdf = example_spider_data(start=\"EMORB_SM89\", norm_to=\"PM_PON\")"
      ]
    },
    {
      "cell_type": "markdown",
      "metadata": {},
      "source": [
        ".. seealso:: `Normalisation <../geochem/normalization.html>`__\n\n\n"
      ]
    },
    {
      "cell_type": "markdown",
      "metadata": {},
      "source": [
        "Basic spider plots are straightforward to produce:\n\n\n"
      ]
    },
    {
      "cell_type": "code",
      "execution_count": null,
      "metadata": {
        "collapsed": false
      },
      "outputs": [],
      "source": [
        "import pyrolite.plot\n\nax = normdf.pyroplot.spider(color=\"0.5\", alpha=0.5, unity_line=True, figsize=(10, 4))\nax.set_ylabel(\"X / $X_{Primitive Mantle}$\")\nplt.show()"
      ]
    },
    {
      "cell_type": "markdown",
      "metadata": {},
      "source": [
        "The default ordering here follows that of the dataframe columns, but we typically\nwant to reorder these based on some physical ordering. A :code:`index_order` keyword\nargument can be used to supply a function which will reorder the elements before\nplotting. Here we order the elements by relative incompatiblity using\n:func:`pyrolite.geochem.ind.order_incompatibility`:\n\n"
      ]
    },
    {
      "cell_type": "code",
      "execution_count": null,
      "metadata": {
        "collapsed": false
      },
      "outputs": [],
      "source": [
        "from pyrolite.geochem.ind import by_incompatibility\n\nax = normdf.pyroplot.spider(\n    color=\"k\",\n    alpha=0.1,\n    unity_line=True,\n    index_order=by_incompatibility,\n    figsize=(10, 4),\n)\nax.set_ylabel(\"X / $X_{Primitive Mantle}$\")\nplt.show()"
      ]
    },
    {
      "cell_type": "markdown",
      "metadata": {},
      "source": [
        "The spiderplot can be extended to provide visualisations of ranges and density via the\nvarious modes. We could now plot the range of compositions as a filled range:\n\n\n"
      ]
    },
    {
      "cell_type": "code",
      "execution_count": null,
      "metadata": {
        "collapsed": false
      },
      "outputs": [],
      "source": [
        "ax = normdf.pyroplot.spider(\n    mode=\"fill\",\n    color=\"green\",\n    alpha=0.5,\n    unity_line=True,\n    index_order=by_incompatibility,\n    figsize=(10, 4),\n)\nax.set_ylabel(\"X / $X_{Primitive Mantle}$\")\nplt.show()"
      ]
    },
    {
      "cell_type": "markdown",
      "metadata": {},
      "source": [
        "Alternatively, we can plot a conditional density spider plot:\n\n\n"
      ]
    },
    {
      "cell_type": "code",
      "execution_count": null,
      "metadata": {
        "collapsed": false
      },
      "outputs": [],
      "source": [
        "fig, ax = plt.subplots(2, 1, sharex=True, sharey=True, figsize=(10, 6))\nnormdf.pyroplot.spider(\n    ax=ax[0], color=\"k\", alpha=0.05, unity_line=True, index_order=by_incompatibility\n)\nnormdf.pyroplot.spider(\n    ax=ax[1],\n    mode=\"binkde\",\n    vmin=0.05,  # 95th percentile,\n    resolution=10,\n    unity_line=True,\n    index_order=by_incompatibility,\n)\n[a.set_ylabel(\"X / $X_{Primitive Mantle}$\") for a in ax]\nplt.show()"
      ]
    },
    {
      "cell_type": "markdown",
      "metadata": {},
      "source": [
        "We can now assemble a more complete comparison of some of the conditional density\nmodes for spider plots:\n\n\n"
      ]
    },
    {
      "cell_type": "code",
      "execution_count": null,
      "metadata": {
        "collapsed": false
      },
      "outputs": [],
      "source": [
        "modes = [\n    (\"plot\", \"plot\", [], dict(color=\"k\", alpha=0.01)),\n    (\"fill\", \"fill\", [], dict(color=\"k\", alpha=0.5)),\n    (\"binkde\", \"binkde\", [], dict(resolution=5)),\n    (\n        \"binkde\",\n        \"binkde contours specified\",\n        [],\n        dict(contours=[0.95], resolution=5),  # 95th percentile contour\n    ),\n    (\"histogram\", \"histogram\", [], dict(resolution=5, ybins=30)),\n]"
      ]
    },
    {
      "cell_type": "code",
      "execution_count": null,
      "metadata": {
        "collapsed": false
      },
      "outputs": [],
      "source": [
        "down, across = len(modes), 1\nfig, ax = plt.subplots(\n    down, across, sharey=True, sharex=True, figsize=(across * 8, 2 * down)\n)\n[a.set_ylabel(\"X / $X_{Primitive Mantle}$\") for a in ax]\nfor a, (m, name, args, kwargs) in zip(ax, modes):\n    a.annotate(  # label the axes rows\n        \"Mode: {}\".format(name),\n        xy=(0.1, 1.05),\n        xycoords=a.transAxes,\n        fontsize=8,\n        ha=\"left\",\n        va=\"bottom\",\n    )\nax = ax.flat\nfor mix, (m, name, args, kwargs) in enumerate(modes):\n    normdf.pyroplot.spider(\n        mode=m,\n        ax=ax[mix],\n        vmin=0.05,  # minimum percentile\n        fontsize=8,\n        unity_line=True,\n        index_order=by_incompatibility,\n        *args,\n        **kwargs\n    )\n\nplt.tight_layout()"
      ]
    },
    {
      "cell_type": "markdown",
      "metadata": {},
      "source": [
        ".. seealso:: `Heatscatter Plots <heatscatter.html>`__,\n             `Density Diagrams <density.html>`__\n\n"
      ]
    }
  ],
  "metadata": {
    "kernelspec": {
      "display_name": "Python 3",
      "language": "python",
      "name": "python3"
    },
    "language_info": {
      "codemirror_mode": {
        "name": "ipython",
        "version": 3
      },
      "file_extension": ".py",
      "mimetype": "text/x-python",
      "name": "python",
      "nbconvert_exporter": "python",
      "pygments_lexer": "ipython3",
      "version": "3.7.4"
    }
  },
  "nbformat": 4,
  "nbformat_minor": 0
}