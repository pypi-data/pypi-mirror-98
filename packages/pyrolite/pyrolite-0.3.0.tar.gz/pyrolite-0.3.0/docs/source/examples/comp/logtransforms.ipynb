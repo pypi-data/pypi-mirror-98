{
  "cells": [
    {
      "cell_type": "code",
      "execution_count": null,
      "metadata": {
        "collapsed": false
      },
      "outputs": [],
      "source": [
        "%matplotlib inline"
      ]
    },
    {
      "cell_type": "markdown",
      "metadata": {},
      "source": [
        "\nLog-transforms\n----------------\n\npyrolite includes a few functions for dealing with compositional data, at the heart of\nwhich are i) closure (i.e. everything sums to 100%) and ii) log-transforms to deal with\nthe compositional space. The commonly used log-transformations include the\nAdditive Log-Ratio (:func:`~pyrolite.comp.pyrocomp.ALR`), Centred Log-Ratio\n(:func:`~pyrolite.comp.pyrocomp.CLR`), and Isometric Log-Ratio\n(:func:`~pyrolite.comp.pyrocomp.ILR`) [#ref_1]_ [#ref_2]_.\n\nThis example will show you how to access and use some of these functions in pyrolite.\n"
      ]
    },
    {
      "cell_type": "markdown",
      "metadata": {},
      "source": [
        "First let's create some example data:\n\n\n"
      ]
    },
    {
      "cell_type": "code",
      "execution_count": null,
      "metadata": {
        "collapsed": false
      },
      "outputs": [],
      "source": [
        "from pyrolite.util.synthetic import test_df, random_cov_matrix\n\ndf = test_df(\n    index_length=100,\n    cov=random_cov_matrix(sigmas=[0.1, 0.05, 0.3, 0.6], dim=4, seed=32),\n    seed=32,\n)\ndf.describe()"
      ]
    },
    {
      "cell_type": "markdown",
      "metadata": {},
      "source": [
        "Let's have a look at some of the log-transforms, which can be accessed directly from\nyour dataframes (via :class:`pyrolite.comp.pyrocomp`), after you've imported\n:mod:`pyrolite.comp`. Note that the transformations will return *new* dataframes,\nrather than modify their inputs. For example:\n\n\n"
      ]
    },
    {
      "cell_type": "code",
      "execution_count": null,
      "metadata": {
        "collapsed": false
      },
      "outputs": [],
      "source": [
        "import pyrolite.comp\n\nlr_df = df.pyrocomp.CLR()  # using a centred log-ratio transformation"
      ]
    },
    {
      "cell_type": "markdown",
      "metadata": {},
      "source": [
        "The transformations are implemented such that the column names generally make it\nevident which transformations have been applied:\n\n\n"
      ]
    },
    {
      "cell_type": "code",
      "execution_count": null,
      "metadata": {
        "collapsed": false
      },
      "outputs": [],
      "source": [
        "lr_df.columns"
      ]
    },
    {
      "cell_type": "markdown",
      "metadata": {},
      "source": [
        "To invert these transformations, you can call the respective inverse transform:\n\n\n"
      ]
    },
    {
      "cell_type": "code",
      "execution_count": null,
      "metadata": {
        "collapsed": false
      },
      "outputs": [],
      "source": [
        "back_transformed = lr_df.pyrocomp.inverse_CLR()"
      ]
    },
    {
      "cell_type": "markdown",
      "metadata": {},
      "source": [
        "Given we haven't done anything to our dataframe in the meantime, we should be back\nwhere we started, and our values should all be equal within numerical precision.\nTo verify this, we can use :func:`numpy.allclose`:\n\n\n"
      ]
    },
    {
      "cell_type": "code",
      "execution_count": null,
      "metadata": {
        "collapsed": false
      },
      "outputs": [],
      "source": [
        "import numpy as np\n\nnp.allclose(back_transformed, df)"
      ]
    },
    {
      "cell_type": "markdown",
      "metadata": {},
      "source": [
        "In addition to easy access to the transforms, there's also a convenience function\nfor taking a log-transformed mean (log-transforming, taking a mean, and inverse log\ntransforming; :func:`~pyrolite.comp.codata.pyrocomp.logratiomean`):\n\n\n"
      ]
    },
    {
      "cell_type": "code",
      "execution_count": null,
      "metadata": {
        "collapsed": false
      },
      "outputs": [],
      "source": [
        "df.pyrocomp.logratiomean()"
      ]
    },
    {
      "cell_type": "markdown",
      "metadata": {},
      "source": [
        "While this function defaults to using :func:`~pyrolite.comp.codata.clr`,\nyou can specify other log-transforms to use:\n\n\n"
      ]
    },
    {
      "cell_type": "code",
      "execution_count": null,
      "metadata": {
        "collapsed": false
      },
      "outputs": [],
      "source": [
        "df.pyrocomp.logratiomean(transform=\"CLR\")"
      ]
    },
    {
      "cell_type": "markdown",
      "metadata": {},
      "source": [
        "Notably, however, the logratio means should all give you the same result:\n\n\n"
      ]
    },
    {
      "cell_type": "code",
      "execution_count": null,
      "metadata": {
        "collapsed": false
      },
      "outputs": [],
      "source": [
        "np.allclose(\n    df.pyrocomp.logratiomean(transform=\"CLR\"),\n    df.pyrocomp.logratiomean(transform=\"ALR\"),\n) & np.allclose(\n    df.pyrocomp.logratiomean(transform=\"CLR\"),\n    df.pyrocomp.logratiomean(transform=\"ILR\"),\n)"
      ]
    },
    {
      "cell_type": "markdown",
      "metadata": {},
      "source": [
        ".. [#ref_1] Aitchison, J., 1984. The statistical analysis of geochemical compositions.\n      Journal of the International Association for Mathematical Geology 16, 531\u2013564.\n      doi: `10.1007/BF01029316 <https://doi.org/10.1007/BF01029316>`__\n\n.. [#ref_2]  Egozcue, J.J., Pawlowsky-Glahn, V., Mateu-Figueras, G.,\n      Barcel\u00f3-Vidal, C., 2003.\n      Isometric Logratio Transformations for Compositional Data Analysis.\n      Mathematical Geology 35, 279\u2013300.\n      doi: `10.1023/A:1023818214614 <https://doi.org/10.1023/A:1023818214614>`__\n\n.. seealso::\n\n  Examples:\n    `Log Ratio Means <logratiomeans.html>`__,\n    `Compositional Data <compositional_data.html>`__,\n    `Ternary Plots <../ternary.html>`__\n\n  Tutorials:\n    `Ternary Density Plots <../../tutorials/ternary_density.html>`__,\n    `Making the Logo <../../tutorials/logo.html>`__\n\n  Modules and Functions:\n    :mod:`pyrolite.comp.codata`,\n    :func:`~pyrolite.comp.codata.boxcox`,\n    :func:`~pyrolite.comp.pyrocomp.renormalise`\n\n"
      ]
    }
  ],
  "metadata": {
    "kernelspec": {
      "display_name": "Python 3",
      "language": "python",
      "name": "python3"
    },
    "language_info": {
      "codemirror_mode": {
        "name": "ipython",
        "version": 3
      },
      "file_extension": ".py",
      "mimetype": "text/x-python",
      "name": "python",
      "nbconvert_exporter": "python",
      "pygments_lexer": "ipython3",
      "version": "3.7.4"
    }
  },
  "nbformat": 4,
  "nbformat_minor": 0
}