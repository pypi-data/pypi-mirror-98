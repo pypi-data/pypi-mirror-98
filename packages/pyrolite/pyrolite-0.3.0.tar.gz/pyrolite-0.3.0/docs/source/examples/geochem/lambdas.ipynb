{
  "cells": [
    {
      "cell_type": "code",
      "execution_count": null,
      "metadata": {
        "collapsed": false
      },
      "outputs": [],
      "source": [
        "%matplotlib inline"
      ]
    },
    {
      "cell_type": "markdown",
      "metadata": {},
      "source": [
        "\nlambdas: Parameterising REE Profiles\n=====================================\n\nOrthogonal polynomial decomposition can be used for dimensional reduction of smooth\nfunction over an independent variable, producing an array of independent values\nrepresenting the relative weights for each order of component polynomial. This is an\neffective method to parameterise and compare the nature of smooth profiles.\n\nIn geochemistry, the most applicable use case is for reduction Rare Earth Element (REE)\nprofiles. The REE are a collection of elements with broadly similar physicochemical\nproperties (the lanthanides), which vary with ionic radii. Given their similar behaviour\nand typically smooth function of normalised abundance vs. ionic radii, the REE profiles\nand their shapes can be effectively parameterised and dimensionally reduced (14 elements\nsummarised by 3-4 shape parameters).\n\nHere we generate some example data, reduce these to lambda values, and visualise the\nresults.\n"
      ]
    },
    {
      "cell_type": "code",
      "execution_count": null,
      "metadata": {
        "collapsed": false
      },
      "outputs": [],
      "source": [
        "import numpy as np\nimport pandas as pd\nimport matplotlib.pyplot as plt\nimport pyrolite.plot\n\n\nnp.random.seed(82)"
      ]
    },
    {
      "cell_type": "markdown",
      "metadata": {},
      "source": [
        "First we'll generate some example synthetic data based around Depleted Morb Mantle:\n\n\n"
      ]
    },
    {
      "cell_type": "code",
      "execution_count": null,
      "metadata": {
        "collapsed": false
      },
      "outputs": [],
      "source": [
        "from pyrolite.util.synthetic import example_spider_data\n\ndf = example_spider_data(\n    noise_level=0.05,\n    nobs=100,\n    start=\"DMM_WH2005\",\n    norm_to=\"Chondrite_PON\",\n    offsets={\"Eu\": 0.2},\n)"
      ]
    },
    {
      "cell_type": "markdown",
      "metadata": {},
      "source": [
        "Let's have a quick look at what this REE data looks like:\n\n\n"
      ]
    },
    {
      "cell_type": "code",
      "execution_count": null,
      "metadata": {
        "collapsed": false
      },
      "outputs": [],
      "source": [
        "df.pyroplot.REE(alpha=0.05, c=\"k\", unity_line=True)\nplt.show()"
      ]
    },
    {
      "cell_type": "markdown",
      "metadata": {},
      "source": [
        "From this REE data we can fit a series of orthogonal polynomials, and subsequently used\nthe regression coefficients ('lambdas') as a parameterisation of the REE\npattern/profile. This example data is already normalised to Chondrite, so to avoid\ndouble-normalising, we pass :code:`norm_to=None`:\n\n\n"
      ]
    },
    {
      "cell_type": "code",
      "execution_count": null,
      "metadata": {
        "collapsed": false
      },
      "outputs": [],
      "source": [
        "ls = df.pyrochem.lambda_lnREE(degree=4, norm_to=None)"
      ]
    },
    {
      "cell_type": "markdown",
      "metadata": {},
      "source": [
        "So what's actually happening here? To get some idea of what these \u03bb coefficients\ncorrespond to, we can pull this process apart and visualse our REE profiles as\nthe sum of the series of orthogonal polynomial components of increasing order.\nAs lambdas represent the coefficients for the regression of log-transformed normalised\ndata, we'll first need to take the logarithm.\n\nWith our data, we've then fit a function of ionic radius with the form\n$f(r) = \\lambda_0 + \\lambda_1 f_1 + \\lambda_2 f_2 + \\lambda_3 f_3...$\nwhere the polynomial components of increasing order are $f_1 = (r - \\beta_0)$,\n$f_2 = (r - \\gamma_0)(r - \\gamma_1)$,\n$f_3 = (r - \\delta_0)(r - \\delta_1)(r - \\delta_2)$ and so on. The parameters\n$\\beta$, $\\gamma$, $\\delta$ are pre-computed such that the\npolynomial components are indeed independent. Here we can visualise how these\npolynomial components are summed to produce the regressed profile, using the last REE\nprofile we generated above as an example:\n\n\n"
      ]
    },
    {
      "cell_type": "code",
      "execution_count": null,
      "metadata": {
        "collapsed": false
      },
      "outputs": [],
      "source": [
        "from pyrolite.util.lambdas import plot_lambdas_components\n\nax = df.iloc[-1, :].apply(np.log).pyroplot.REE(color=\"k\", label=\"Data\", logy=False)\n\nplot_lambdas_components(ls.iloc[-1, :], ax=ax)\n\nax.legend(frameon=False, facecolor=None, bbox_to_anchor=(1, 1))\nplt.show()"
      ]
    },
    {
      "cell_type": "markdown",
      "metadata": {},
      "source": [
        "Note that we've not used Eu in this regression - Eu anomalies are a deviation from\nthe 'smooth profile' we need to use this method. Consider this if your data might also\nexhibit significant Ce anomalies, you might need to exclude this data.\n\nNow that we've gone through a brief introduction to how the lambdas are generated,\nlet's quickly check what the coefficient values themselves look like:\n\n\n"
      ]
    },
    {
      "cell_type": "code",
      "execution_count": null,
      "metadata": {
        "collapsed": false
      },
      "outputs": [],
      "source": [
        "fig, ax = plt.subplots(1, 3, figsize=(9, 3))\nfor ix in range(ls.columns.size - 1):\n    ls[ls.columns[ix : ix + 2]].pyroplot.scatter(ax=ax[ix], alpha=0.1, c=\"k\")\n\nplt.tight_layout()"
      ]
    },
    {
      "cell_type": "markdown",
      "metadata": {},
      "source": [
        "But what do these parameters correspond to? From the deconstructed orthogonal\npolynomial above, we can see that $\\lambda_0$ parameterises relative enrichement\n(this is the mean value of the logarithm of Chondrite-normalised REE abundances),\n$\\lambda_1$ parameterises a linear slope (here, LREE enrichemnt), and higher\norder terms describe curvature of the REE pattern. Through this parameterisation,\nthe REE profile can be effectively described and directly linked to geochemical\nprocesses. While the amount of data we need to describe the patterns is lessened,\nthe values themselves are more meaningful and readily used to describe the profiles\nand their physical significance.\n\nThe visualisation of $\\lambda_1$-$\\lambda_2$ can be particularly useful\nwhere you're trying to compare REE profiles.\n\nWe've used a synthetic dataset here which is by design approximately normally\ndistrtibuted, so the values themeselves here are not particularly revealing,\nbut they do illustrate the expected mangitudes of values for each of the parameters.\n\nFor more on using orthogonal polynomials to describe geochemical pattern data, dig\ninto the paper which introduced the method to geochemists:\nO\u2019Neill, H.S.C., 2016. The Smoothness and Shapes of Chondrite-normalized Rare Earth\nElement Patterns in Basalts. J Petrology 57, 1463\u20131508.\n`doi: 10.1093/petrology/egw047 <https://doi.org/10.1093/petrology/egw047>`__.\n\n.. seealso::\n\n  Examples:\n   `Ionic Radii <ionic_radii.html>`__,\n   `REE Radii Plot <../plotting/REE_radii_plot.html>`__\n\n  Functions:\n    :func:`~pyrolite.geochem.pyrochem.lambda_lnREE`,\n    :func:`~pyrolite.geochem.ind.get_ionic_radii`,\n    :func:`pyrolite.plot.pyroplot.REE`\n\n\n"
      ]
    }
  ],
  "metadata": {
    "kernelspec": {
      "display_name": "Python 3",
      "language": "python",
      "name": "python3"
    },
    "language_info": {
      "codemirror_mode": {
        "name": "ipython",
        "version": 3
      },
      "file_extension": ".py",
      "mimetype": "text/x-python",
      "name": "python",
      "nbconvert_exporter": "python",
      "pygments_lexer": "ipython3",
      "version": "3.7.4"
    }
  },
  "nbformat": 4,
  "nbformat_minor": 0
}