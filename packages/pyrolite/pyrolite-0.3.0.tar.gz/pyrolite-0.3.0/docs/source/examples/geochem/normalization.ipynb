{
  "cells": [
    {
      "cell_type": "code",
      "execution_count": null,
      "metadata": {
        "collapsed": false
      },
      "outputs": [],
      "source": [
        "%matplotlib inline"
      ]
    },
    {
      "cell_type": "markdown",
      "metadata": {},
      "source": [
        "\nNormalization\n==============\n\nA selection of reference compositions are included in pyrolite, and can be easily\naccessed with :func:`pyrolite.geochem.norm.get_reference_composition` (see the list\nat the bottom of the page for a complete list):\n"
      ]
    },
    {
      "cell_type": "code",
      "execution_count": null,
      "metadata": {
        "collapsed": false
      },
      "outputs": [],
      "source": [
        "import pandas as pd\nimport matplotlib.pyplot as plt\nimport pyrolite.plot\nfrom pyrolite.geochem.ind import REE\nfrom pyrolite.geochem.norm import get_reference_composition, all_reference_compositions"
      ]
    },
    {
      "cell_type": "code",
      "execution_count": null,
      "metadata": {
        "collapsed": false
      },
      "outputs": [],
      "source": [
        "chondrite = get_reference_composition(\"Chondrite_PON\")"
      ]
    },
    {
      "cell_type": "markdown",
      "metadata": {},
      "source": [
        "To use the compositions with a specific set of units, you can change them with\n:func:`~pyrolite.geochem.norm.Composition.set_units`:\n\n\n"
      ]
    },
    {
      "cell_type": "code",
      "execution_count": null,
      "metadata": {
        "collapsed": false
      },
      "outputs": [],
      "source": [
        "CI = chondrite.set_units(\"ppm\")"
      ]
    },
    {
      "cell_type": "markdown",
      "metadata": {},
      "source": [
        "The :func:`~pyrolite.geochem.pyrochem.normalize_to` method can be used to\nnormalise DataFrames to a given reference (e.g. for spiderplots):\n\n\n"
      ]
    },
    {
      "cell_type": "code",
      "execution_count": null,
      "metadata": {
        "collapsed": false
      },
      "outputs": [],
      "source": [
        "fig, ax = plt.subplots(1)\n\nfor name, ref in list(all_reference_compositions().items())[::2]:\n    if name != \"Chondrite_PON\":\n        ref.set_units(\"ppm\")\n        df = ref.comp.pyrochem.REE.pyrochem.normalize_to(CI, units=\"ppm\")\n        df.pyroplot.REE(unity_line=True, ax=ax, label=name)\n\nax.set_ylabel(\"X/X$_{Chondrite}$\")\nax.legend(frameon=False, facecolor=None, loc=\"upper left\", bbox_to_anchor=(1.0, 1.0))\nplt.show()"
      ]
    },
    {
      "cell_type": "markdown",
      "metadata": {},
      "source": [
        ".. seealso::\n\n  Examples:\n    `lambdas: Parameterising REE Profiles <lambdas.html>`__,\n    `REE Radii Plot <../plotting/REE_radii_plot.html>`__\n\nCurrently available models include:\n\n|refcomps|\n\n"
      ]
    }
  ],
  "metadata": {
    "kernelspec": {
      "display_name": "Python 3",
      "language": "python",
      "name": "python3"
    },
    "language_info": {
      "codemirror_mode": {
        "name": "ipython",
        "version": 3
      },
      "file_extension": ".py",
      "mimetype": "text/x-python",
      "name": "python",
      "nbconvert_exporter": "python",
      "pygments_lexer": "ipython3",
      "version": "3.7.4"
    }
  },
  "nbformat": 4,
  "nbformat_minor": 0
}