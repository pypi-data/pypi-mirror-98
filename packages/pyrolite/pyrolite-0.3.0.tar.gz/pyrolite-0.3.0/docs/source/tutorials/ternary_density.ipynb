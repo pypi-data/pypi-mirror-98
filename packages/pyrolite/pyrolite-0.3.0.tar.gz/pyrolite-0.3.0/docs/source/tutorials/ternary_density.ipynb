{
  "cells": [
    {
      "cell_type": "code",
      "execution_count": null,
      "metadata": {
        "collapsed": false
      },
      "outputs": [],
      "source": [
        "%matplotlib inline"
      ]
    },
    {
      "cell_type": "markdown",
      "metadata": {},
      "source": [
        "\nOne Way to Do Ternary Heatmaps\n==================================\n\nThere are multiple ways you can acheive ternary heatmaps, but those based on\nthe cartesian axes (e.g. a regularly spaced rectangular grid, or even a regularly\nspaced triangular grid) can result in difficulties and data misrepresentation.\n\nHere we illustrate how the ternary heatmaps for pyrolite are constructed using an\nirregualr triangulated grid and log transforms, and how this avoids some of the\npotential issues of the methods mentioned above.\n"
      ]
    },
    {
      "cell_type": "markdown",
      "metadata": {},
      "source": [
        "Let's first get some data to deal with. :mod:`mpltern` has a conventient dataset\nwhich we can use here:\n\n\n"
      ]
    },
    {
      "cell_type": "code",
      "execution_count": null,
      "metadata": {
        "collapsed": false
      },
      "outputs": [],
      "source": [
        "import numpy as np\nimport pandas as pd\nfrom mpltern.ternary.datasets import get_scatter_points\n\nnp.random.seed(43)\ndf = pd.DataFrame(np.array([*get_scatter_points(n=80)]).T, columns=[\"A\", \"B\", \"C\"])\ndf = df.loc[(df > 0.1).all(axis=1), :]"
      ]
    },
    {
      "cell_type": "markdown",
      "metadata": {},
      "source": [
        "From this dataset we'll generate a\n:func:`~pyrolite.plot.density.ternary.ternary_heatmap`, which is the basis\nfor ternary density diagrams via :func:`~pyrolite.plot.pyrochem.density`:\n\n\n"
      ]
    },
    {
      "cell_type": "code",
      "execution_count": null,
      "metadata": {
        "collapsed": false
      },
      "outputs": [],
      "source": [
        "from pyrolite.comp.codata import ilr, inverse_ilr\nfrom pyrolite.plot.density.ternary import ternary_heatmap\n\ncoords, H, data = ternary_heatmap(\n    df.values,\n    bins=10,\n    mode=\"density\",\n    remove_background=True,\n    transform=ilr,\n    inverse_transform=inverse_ilr,\n    grid_border_frac=0.2,\n)"
      ]
    },
    {
      "cell_type": "markdown",
      "metadata": {},
      "source": [
        "This function returns more than just the coordinates and histogram/density estimate,\nwhich will come in handy for exploring how it came together. The data variable here\nis a dictonary with contains the grids and coordiantes used to construct the\nhistogram/density diagram. We can use these to show how the ternary log-grid is\nconstructed, and then transformed back to ternary space before being triangulated\nand interpoalted for the ternary heatmap:\n\n\n"
      ]
    },
    {
      "cell_type": "code",
      "execution_count": null,
      "metadata": {
        "collapsed": false
      },
      "outputs": [],
      "source": [
        "import matplotlib.pyplot as plt\nimport pyrolite.plot\nfrom pyrolite.util.math import flattengrid\nfrom pyrolite.util.plot.axes import axes_to_ternary, share_axes\n\nfig, ax = plt.subplots(3, 2, figsize=(6, 9))\nax = ax.flat\n\nshare_axes([ax[1], ax[2], ax[3]])\nax = axes_to_ternary([ax[0], ax[4], ax[5]])\n\nax[0].set_title(\"data\", y=1.2)\ndf.pyroplot.scatter(ax=ax[0], c=\"k\", alpha=0.1)\nax[0].scatter(*data[\"tern_bound_points\"].T, c=\"k\")\n\nax[1].set_title(\"transformed data\", y=1.2)\nax[1].scatter(*data[\"tfm_tern_bound_points\"].T, c=\"k\")\nax[1].scatter(*data[\"grid_transform\"](df.values).T, c=\"k\", alpha=0.1)\n\nax[2].set_title(\"log grid\", y=1.2)\nax[2].scatter(*flattengrid(data[\"tfm_centres\"]).T, c=\"k\", marker=\".\", s=5)\nax[2].scatter(*flattengrid(data[\"tfm_edges\"]).T, c=\"k\", marker=\".\", s=2)\nax[2].scatter(*data[\"tfm_tern_bound_points\"].T, c=\"k\")\n\nax[3].set_title(\"log-grid heatmap\", y=1.2)\nax[3].pcolormesh(*data[\"tfm_edges\"], H)\nax[3].scatter(*data[\"grid_transform\"](df.values).T, c=\"white\", alpha=0.8, s=1)\n\nax[4].set_title(\"ternary log-grid\", y=1.2)\nax[4].scatter(*data[\"tern_centres\"].T, c=\"k\", marker=\".\", s=5)\nax[4].scatter(*data[\"tern_edges\"].T, c=\"k\", marker=\".\", s=2)\nax[4].scatter(*data[\"tern_bound_points\"].T, c=\"k\")\n\nax[5].set_title(\"ternary heatmap\", y=1.2)\nax[5].tripcolor(*coords.T, H.flatten())\nax[5].scatter(*data[\"tern_bound_points\"].T, c=\"k\")\n\n\nplt.tight_layout()"
      ]
    },
    {
      "cell_type": "code",
      "execution_count": null,
      "metadata": {
        "collapsed": false
      },
      "outputs": [],
      "source": [
        "plt.close(\"all\")  # let's save some memory.."
      ]
    },
    {
      "cell_type": "markdown",
      "metadata": {},
      "source": [
        "We can see how this works almost exactly the same for the histograms:\n\n\n"
      ]
    },
    {
      "cell_type": "code",
      "execution_count": null,
      "metadata": {
        "collapsed": false
      },
      "outputs": [],
      "source": [
        "coords, H, data = ternary_heatmap(\n    df.values,\n    bins=10,\n    mode=\"histogram\",\n    remove_background=True,\n    transform=ilr,\n    inverse_transform=inverse_ilr,\n    grid_border_frac=0.2,\n)"
      ]
    },
    {
      "cell_type": "code",
      "execution_count": null,
      "metadata": {
        "collapsed": false
      },
      "outputs": [],
      "source": [
        "fig, ax = plt.subplots(3, 2, figsize=(6, 9))\nax = ax.flat\n\nshare_axes([ax[1], ax[2], ax[3]])\nax = axes_to_ternary([ax[0], ax[4], ax[5]])\n\nax[0].set_title(\"data\", y=1.2)\ndf.pyroplot.scatter(ax=ax[0], c=\"k\", alpha=0.1)\nax[0].scatter(*data[\"tern_bound_points\"].T, c=\"k\")\n\nax[1].set_title(\"transformed data\", y=1.2)\nax[1].scatter(*data[\"tfm_tern_bound_points\"].T, c=\"k\")\nax[1].scatter(*data[\"grid_transform\"](df.values).T, c=\"k\", alpha=0.1)\n\nax[2].set_title(\"log grid\", y=1.2)\nax[2].scatter(*flattengrid(data[\"tfm_centres\"]).T, c=\"k\", marker=\".\", s=5)\nax[2].scatter(*flattengrid(data[\"tfm_edges\"]).T, c=\"k\", marker=\".\", s=2)\nax[2].scatter(*data[\"tfm_tern_bound_points\"].T, c=\"k\")\n\nax[3].set_title(\"log-grid heatmap\", y=1.2)\nax[3].pcolormesh(*data[\"tfm_centres\"], H)\nax[3].scatter(*data[\"grid_transform\"](df.values).T, c=\"white\", alpha=0.8, s=1)\n\nax[4].set_title(\"ternary log-grid\", y=1.2)\nax[4].scatter(*data[\"tern_centres\"].T, c=\"k\", marker=\".\", s=5)\nax[4].scatter(*data[\"tern_edges\"].T, c=\"k\", marker=\".\", s=2)\nax[4].scatter(*data[\"tern_bound_points\"].T, c=\"k\")\n\nax[5].set_title(\"ternary heatmap\", y=1.2)\nax[5].tripcolor(*coords.T, H.flatten())\nax[5].scatter(*data[\"tern_bound_points\"].T, c=\"k\")\n\nplt.tight_layout()"
      ]
    }
  ],
  "metadata": {
    "kernelspec": {
      "display_name": "Python 3",
      "language": "python",
      "name": "python3"
    },
    "language_info": {
      "codemirror_mode": {
        "name": "ipython",
        "version": 3
      },
      "file_extension": ".py",
      "mimetype": "text/x-python",
      "name": "python",
      "nbconvert_exporter": "python",
      "pygments_lexer": "ipython3",
      "version": "3.7.4"
    }
  },
  "nbformat": 4,
  "nbformat_minor": 0
}