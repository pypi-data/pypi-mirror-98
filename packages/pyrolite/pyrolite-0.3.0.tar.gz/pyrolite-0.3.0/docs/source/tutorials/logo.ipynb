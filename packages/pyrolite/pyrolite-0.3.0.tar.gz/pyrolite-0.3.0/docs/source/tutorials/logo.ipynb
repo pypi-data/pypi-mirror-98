{
  "cells": [
    {
      "cell_type": "code",
      "execution_count": null,
      "metadata": {
        "collapsed": false
      },
      "outputs": [],
      "source": [
        "%matplotlib inline"
      ]
    },
    {
      "cell_type": "markdown",
      "metadata": {},
      "source": [
        "\nMaking the Logo\n==================================\n"
      ]
    },
    {
      "cell_type": "markdown",
      "metadata": {},
      "source": [
        "Having some funky ellipses in a simplex inspired some interest when I put the logo\ntogether for pyrolite, so I put together a cleaned-up example of how you can create\nthese kinds of plots for your own data. These examples illustrate different methods to\nshow distribution of (homogeneous, or near so) compositional data for exploratory\nanalysis.\n\n\n"
      ]
    },
    {
      "cell_type": "code",
      "execution_count": null,
      "metadata": {
        "collapsed": false
      },
      "outputs": [],
      "source": [
        "import matplotlib\nimport numpy as np\nimport pandas as pd\nimport matplotlib.pyplot as plt\nimport matplotlib.colors\nimport matplotlib.cm\nfrom pyrolite.comp.codata import *\nfrom pyrolite.util.skl.transform import ILRTransform, ALRTransform\nfrom pyrolite.util.synthetic import random_composition\n\nimport pyrolite.plot\nfrom pyrolite.util.plot.helpers import plot_pca_vectors, plot_stdev_ellipses\n\nnp.random.seed(82)\n\n# ignore sphinx_gallery warnings\nimport warnings\n\nwarnings.filterwarnings(\"ignore\", \"Matplotlib is currently using agg\")"
      ]
    },
    {
      "cell_type": "markdown",
      "metadata": {},
      "source": [
        "First we choose some colors, create some log-distributed synthetic data. Here I've\ngenerated a synthetic dataset with four samples having means equidistant from the\nlog-space centre and with varying covariance. This should illustrate the spatial\nwarping of the simplex nicely. Additionally, I chose a log-transform here to go\nfrom and to compositional space (:class:`~pyrolite.util.skl.ILRTransform`, which uses\nthe isometric log-ratio function :func:`~pyrolite.comp.codata.ilr`). Choosing\nanother transform will change the distortion observed in the simplex slightly.\nThis synthetic dataset is added into a :class:`~pandas.DataFrame` for convenient access\nto plotting functions via the pandas API defined in :class:`pyrolite.plot.pyroplot`.\n\n\n"
      ]
    },
    {
      "cell_type": "code",
      "execution_count": null,
      "metadata": {
        "collapsed": false
      },
      "outputs": [],
      "source": [
        "t10b3 = [  # tableau 10 colorblind safe colors, a selection of 4\n    (0, 107, 164),\n    (171, 171, 171),\n    (89, 89, 89),\n    (95, 158, 209),\n]\nt10b3 = [(r / 255.0, g / 255.0, b / 255.0) for r, g, b in t10b3]"
      ]
    },
    {
      "cell_type": "code",
      "execution_count": null,
      "metadata": {
        "collapsed": false
      },
      "outputs": [],
      "source": [
        "d = 1.0  # distance from centre\nsig = 0.1  # scale for variance\n# means for logspace (D=2)\nmeans = np.array(np.meshgrid([-1, 1], [-1, 1])).T.reshape(-1, 2) * d\n# means = np.array([(-d, -d), (d, -d), (-d, d), (d, d)])\ncovs = (  # covariance for logspace (D=2)\n    np.array(\n        [\n            [[1, 0], [0, 1]],\n            [[0.5, 0.15], [0.15, 0.5]],\n            [[1.5, -1], [-1, 1.5]],\n            [[1.2, -0.6], [-0.6, 1.2]],\n        ]\n    )\n    * sig\n)\n\nmeans = ILRTransform().inverse_transform(means)  # compositional means (D=3)\nsize = 2000  # logo @ 10000\npts = [random_composition(mean=M, cov=C, size=size) for M, C in zip(means, covs)]\n\nT = ILRTransform()\nto_log = T.transform\nfrom_log = T.inverse_transform\n\ndf = pd.DataFrame(np.vstack(pts))\ndf.columns = [\"SiO2\", \"MgO\", \"FeO\"]\ndf[\"Sample\"] = np.repeat(np.arange(df.columns.size + 1), size).flatten()\nchem = [\"MgO\", \"SiO2\", \"FeO\"]"
      ]
    },
    {
      "cell_type": "code",
      "execution_count": null,
      "metadata": {
        "collapsed": false
      },
      "outputs": [],
      "source": [
        "fig, ax = plt.subplots(\n    2, 2, figsize=(10, 10 * np.sqrt(3) / 2), subplot_kw=dict(projection=\"ternary\")\n)\nax = ax.flat\n_ = [[x.set_ticks([]) for x in [a.taxis, a.laxis, a.raxis]] for a in ax]"
      ]
    },
    {
      "cell_type": "markdown",
      "metadata": {},
      "source": [
        "First, let's look at the synthetic data itself in the ternary space:\n\n\n"
      ]
    },
    {
      "cell_type": "code",
      "execution_count": null,
      "metadata": {
        "collapsed": false
      },
      "outputs": [],
      "source": [
        "kwargs = dict(marker=\"D\", alpha=0.2, s=3, no_ticks=True, axlabels=False)\nfor ix, sample in enumerate(df.Sample.unique()):\n    comp = df.query(\"Sample == {}\".format(sample))\n    comp.loc[:, chem].pyroplot.scatter(ax=ax[0], c=t10b3[ix], **kwargs)\nplt.show()"
      ]
    },
    {
      "cell_type": "markdown",
      "metadata": {},
      "source": [
        "We can take the mean and covariance in log-space to create covariance ellipses and\nvectors using principal component analysis:\n\n\n"
      ]
    },
    {
      "cell_type": "code",
      "execution_count": null,
      "metadata": {
        "collapsed": false
      },
      "outputs": [],
      "source": [
        "kwargs = dict(ax=ax[1], transform=from_log, nstds=3)\nax[1].set_title(\"Covariance Ellipses and PCA Vectors\")\nfor ix, sample in enumerate(df.Sample.unique()):\n    comp = df.query(\"Sample == {}\".format(sample))\n    tcomp = to_log(comp.loc[:, chem])\n    plot_stdev_ellipses(tcomp.values, color=t10b3[ix], resolution=1000, **kwargs)\n    plot_pca_vectors(tcomp.values, ls=\"-\", lw=0.5, color=\"k\", **kwargs)\nplt.show()"
      ]
    },
    {
      "cell_type": "markdown",
      "metadata": {},
      "source": [
        "We can also look at data density (here using kernel density estimation)\nin logratio-space:\n\n\n"
      ]
    },
    {
      "cell_type": "code",
      "execution_count": null,
      "metadata": {
        "collapsed": false
      },
      "outputs": [],
      "source": [
        "kwargs = dict(ax=ax[-2], bins=100, axlabels=False)\nax[-2].set_title(\"Individual Density, with Contours\")\n\nfor ix, sample in enumerate(df.Sample.unique()):\n    comp = df.query(\"Sample == {}\".format(sample))\n    comp.loc[:, chem].pyroplot.density(cmap=\"Blues\", vmin=0.05, **kwargs)\n    comp.loc[:, chem].pyroplot.density(\n        contours=[0.68, 0.95],\n        cmap=\"Blues_r\",\n        contour_labels={0.68: \"\u03c3\", 0.95: \"2\u03c3\"},\n        **kwargs,\n    )\nplt.show()"
      ]
    },
    {
      "cell_type": "markdown",
      "metadata": {},
      "source": [
        "We can also do this for individual samples, and estimate percentile contours:\n\n\n"
      ]
    },
    {
      "cell_type": "code",
      "execution_count": null,
      "metadata": {
        "collapsed": false
      },
      "outputs": [],
      "source": [
        "kwargs = dict(ax=ax[-1], axlabels=False)\nax[-1].set_title(\"Overall Density\")\ndf.loc[:, chem].pyroplot.density(bins=100, cmap=\"Greys\", **kwargs)\nplt.show()"
      ]
    },
    {
      "cell_type": "code",
      "execution_count": null,
      "metadata": {
        "collapsed": false
      },
      "outputs": [],
      "source": [
        "for a in ax:\n    a.set_aspect(\"equal\")\n    a.patch.set_visible(False)\nplt.show()"
      ]
    }
  ],
  "metadata": {
    "kernelspec": {
      "display_name": "Python 3",
      "language": "python",
      "name": "python3"
    },
    "language_info": {
      "codemirror_mode": {
        "name": "ipython",
        "version": 3
      },
      "file_extension": ".py",
      "mimetype": "text/x-python",
      "name": "python",
      "nbconvert_exporter": "python",
      "pygments_lexer": "ipython3",
      "version": "3.7.4"
    }
  },
  "nbformat": 4,
  "nbformat_minor": 0
}