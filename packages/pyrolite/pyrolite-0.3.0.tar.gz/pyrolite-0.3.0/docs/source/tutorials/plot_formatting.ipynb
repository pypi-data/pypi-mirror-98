{
  "cells": [
    {
      "cell_type": "code",
      "execution_count": null,
      "metadata": {
        "collapsed": false
      },
      "outputs": [],
      "source": [
        "%matplotlib inline"
      ]
    },
    {
      "cell_type": "markdown",
      "metadata": {},
      "source": [
        "\nFormatting and Cleaning Up Plots\n==================================\n\n<div class=\"alert alert-info\"><h4>Note</h4><p>This tutorial is a work in progress and will be gradually updated.</p></div>\n\nIn this tutorial we will illustrate some straightfoward formatting for your plots which\nwill allow for greater customisation as needed. As :mod:`pyrolite` heavily uses\nand exposes the API of :mod:`matplotlib` for the visualisation components\n(and also :mod:`mpltern` for ternary diagrams), you should also check out their\ndocumentation pages for more in-depth guides, examples and API documentation.\n"
      ]
    },
    {
      "cell_type": "markdown",
      "metadata": {},
      "source": [
        "First let's pull in a simple dataset to use throughout these examples:\n\n\n"
      ]
    },
    {
      "cell_type": "code",
      "execution_count": null,
      "metadata": {
        "collapsed": false
      },
      "outputs": [],
      "source": [
        "from pyrolite.util.synthetic import test_df\n\ndf = test_df(cols=[\"SiO2\", \"CaO\", \"MgO\", \"Al2O3\", \"TiO2\", \"27Al\", \"d11B\"])"
      ]
    },
    {
      "cell_type": "markdown",
      "metadata": {},
      "source": [
        "Basic Figure and Axes Settings\n------------------------------\n\n:mod:`matplotlib` makes it relatively straightfoward to customise most settings for\nyour figures and axes. These settings can be defined at creation (e.g. in a call to\n:func:`~matplotlib.pyplot.subplots`), or they can be defined after you've created an\naxis (with the methods :code:`ax.set_<parameter>()`). For example:\n\n\n"
      ]
    },
    {
      "cell_type": "code",
      "execution_count": null,
      "metadata": {
        "collapsed": false
      },
      "outputs": [],
      "source": [
        "import matplotlib.pyplot as plt\n\nfig, ax = plt.subplots(1)\n\nax.set_xlabel(\"My X Axis Label\")\nax.set_title(\"My Axis Title\", fontsize=12)\nax.set_yscale(\"log\")\nax.set_xlim((0.5, 10))\n\nfig.suptitle(\"My Figure Title\", fontsize=15)\n\nplt.show()"
      ]
    },
    {
      "cell_type": "markdown",
      "metadata": {},
      "source": [
        "You can use a single method to set most of these things:\n:func:`~matplotlib.axes.Axes.set`. For example:\n\n\n"
      ]
    },
    {
      "cell_type": "code",
      "execution_count": null,
      "metadata": {
        "collapsed": false
      },
      "outputs": [],
      "source": [
        "import matplotlib.pyplot as plt\n\nfig, ax = plt.subplots(1)\nax.set(yscale=\"log\", xlim=(0, 1), ylabel=\"YAxis\", xlabel=\"XAxis\")\nplt.show()"
      ]
    },
    {
      "cell_type": "markdown",
      "metadata": {},
      "source": [
        "Labels and Text\n----------------\n\n:mod:`matplotlib` enables you to use $\\TeX$ within all text elements, including\nlabels and annotations. This can be leveraged for more complex formatting,\nincorporating math and symbols into your plots. Check out the mod:`matplotlib`\n`tutorial <https://matplotlib.org/3.2.1/tutorials/text/mathtext.html>`__, and\nfor more on working with text generally in :mod:`matplotlib`, check out the\n`relevant tutorials gallery <https://matplotlib.org/3.2.1/tutorials/index.html#text>`__.\n\nThe ability to use TeX syntax in :mod:`matplotlib` text objects can also be used\nfor typsetting, like for subscripts and superscripts. This is particularly relevant\nfor geochemical oxides labels (e.g. Al2O3, which would ideally be rendered as\n$Al_2O_3$) and isotopes (e.g. d11B, which should be $\\delta^{11}B$).\nAt the moment, pyrolite won't do this for you, so you may want to adjust the labelling\nafter you've made them. For example:\n\n"
      ]
    },
    {
      "cell_type": "code",
      "execution_count": null,
      "metadata": {
        "collapsed": false
      },
      "outputs": [],
      "source": [
        "import pyrolite.plot\nimport matplotlib.pyplot as plt\n\nfig, ax = plt.subplots(2, 1)\ndf[[\"Al2O3\", \"TiO2\"]].pyroplot.scatter(ax=ax[0])\nax[0].set_xlabel(\"Al$_2$O$_3$\")\nax[0].set_ylabel(\"TiO$_2$\")\n\ndf[[\"27Al\", \"d11B\"]].pyroplot.scatter(ax=ax[1])\nax[1].set_xlabel(\"$^{27}$Al\")\nax[1].set_ylabel(\"$\\delta^{11}$B\")\n\nplt.tight_layout() # rearrange the plots to fit nicely together\nplt.show()"
      ]
    },
    {
      "cell_type": "markdown",
      "metadata": {},
      "source": [
        "Sharing Axes\n------------\n\nIf you're building figures which have variables which are re-used, you'll typically\nwant to 'share' them between your axes. The :mod:`matplotlib.pyplot` API makes\nthis easy for when you want to share among *all* the axes as your create them:\n\n\n"
      ]
    },
    {
      "cell_type": "code",
      "execution_count": null,
      "metadata": {
        "collapsed": false
      },
      "outputs": [],
      "source": [
        "import matplotlib.pyplot as plt\n\nfig, ax = plt.subplots(2, 2, sharex=True, sharey=True)\nplt.show()"
      ]
    },
    {
      "cell_type": "markdown",
      "metadata": {},
      "source": [
        "However, if you want to share axes in a way which is less standard, it can be\ndifficult to set up using this function. :mod:`pyrolite` has a utility function\nwhich can be used to share axes after they're created in slightly more arbitrary\nways. For example, imagine we wanted to share the first and third x-axes, and the\nfirst three y-axes, you could use:\n\n\n"
      ]
    },
    {
      "cell_type": "code",
      "execution_count": null,
      "metadata": {
        "collapsed": false
      },
      "outputs": [],
      "source": [
        "import matplotlib.pyplot as plt\nfrom pyrolite.util.plot.axes import share_axes\n\nfig, ax = plt.subplots(2, 2)\nax = ax.flat # turn the (2,2) array of axes into one flat axes with shape (4,)\nshare_axes([ax[0], ax[2]], which=\"x\") # share x-axes for 0, 2\nshare_axes(ax[0:3], which=\"y\") # share y-axes for 0, 1, 2\n\nax[0].set_xlim((0, 10))\nax[1].set_ylim((-5, 5))\nplt.show()"
      ]
    },
    {
      "cell_type": "markdown",
      "metadata": {},
      "source": [
        "Legends\n-------\n\nWhile it's simple to set up basic legends in :mod:`maplotlib` (see the docs for\n:func:`matplotlib.axes.Axes.legend`), often you'll want to customise\nyour legends to fit nicely within your figures. Here we'll create a few\nsynthetic datasets, add them to a figure and create the default legend:\n\n"
      ]
    },
    {
      "cell_type": "code",
      "execution_count": null,
      "metadata": {
        "collapsed": false
      },
      "outputs": [],
      "source": [
        "import pyrolite.plot\nimport matplotlib.pyplot as plt\n\nfig, ax = plt.subplots(1)\nfor i in range(3):\n    sample_data = test_df(cols=[\"CaO\", \"MgO\", \"FeO\"])  # a new random sample\n    sample_data[[\"CaO\", \"MgO\"]].pyroplot.scatter(ax=ax, label=\"Sample {:d}\".format(i))\nax.legend()\nplt.show()"
      ]
    },
    {
      "cell_type": "markdown",
      "metadata": {},
      "source": [
        "On many of the :mod:`pyrolite` examples, you'll find legends formatted along the\nlines of the following to clean them up a little:\n\n\n"
      ]
    },
    {
      "cell_type": "code",
      "execution_count": null,
      "metadata": {
        "collapsed": false
      },
      "outputs": [],
      "source": [
        "ax.legend(\n    facecolor=None,  # have a transparent legend background\n    frameon=False,  # remove the legend frame\n    bbox_to_anchor=(1, 1),  # anchor legend's corner to the axes' top-right\n    loc='upper left' # use the upper left corner for the anchor\n)\nplt.show()"
      ]
    },
    {
      "cell_type": "markdown",
      "metadata": {},
      "source": [
        "Check out the :mod:`matplotlib`\n`legend guide <https://matplotlib.org/tutorials/intermediate/legend_guide.html>`__\nfor more.\n\nTernary Plots\n-------------\n\nThe ternary plots in :mod:`pyrolite` are generated using :mod:`mpltern`, and while\nthe syntax is very similar to the :mod:`matplotlib` API, as we have three axes\nto deal with sometimes things are little different. Here we demonstrate how to\ncomplete some common tasks, but you should check out the :mod:`mpltern` documentation\nif you want to dig deeper into customising your ternary diagrams (e.g. see the\n`example gallery <https://mpltern.readthedocs.io/en/latest/gallery/index.html>`__),\nwhich these examples were developed from.\n\nOne of the key things to note in :mod:`mpltern` is that you have `top`, `left` and\n`right` axes.\n\nTernary Plot Axes Labels\n~~~~~~~~~~~~~~~~~~~~~~~~\n\nLabelling ternary axes is done similarly to in :mod:`matplotlib`, but using the\naxes prefixes `t`, `l` and `r` for top, left and right axes, respectively:\n\n\n"
      ]
    },
    {
      "cell_type": "code",
      "execution_count": null,
      "metadata": {
        "collapsed": false
      },
      "outputs": [],
      "source": [
        "import pyrolite.plot\nimport matplotlib.pyplot as plt\n\nax = df[[\"CaO\", \"MgO\", \"Al2O3\"]].pyroplot.scatter()\nax.set_tlabel(\"Top\")\nax.set_llabel(\"Left\")\nax.set_rlabel(\"Right\")\nplt.show()"
      ]
    },
    {
      "cell_type": "markdown",
      "metadata": {},
      "source": [
        "Ternary Plot Grids\n~~~~~~~~~~~~~~~~~~\n\nTo add a simple grid to your ternary plot, you can use\n:func:`~mpltern.TernaryAxis.grid`:\n\n\n"
      ]
    },
    {
      "cell_type": "code",
      "execution_count": null,
      "metadata": {
        "collapsed": false
      },
      "outputs": [],
      "source": [
        "import pyrolite.plot\nimport matplotlib.pyplot as plt\n\nax = df[[\"CaO\", \"MgO\", \"Al2O3\"]].pyroplot.scatter()\nax.grid()\nplt.show()"
      ]
    },
    {
      "cell_type": "markdown",
      "metadata": {},
      "source": [
        "With this method, you can also specify an `axis`, `which` tickmarks you want to use\nfor the grid ('major', 'minor' or 'both') and a `linestyle`:\n\n\n"
      ]
    },
    {
      "cell_type": "code",
      "execution_count": null,
      "metadata": {
        "collapsed": false
      },
      "outputs": [],
      "source": [
        "import pyrolite.plot\nimport matplotlib.pyplot as plt\n\nax = df[[\"CaO\", \"MgO\", \"Al2O3\"]].pyroplot.scatter()\nax.grid(axis=\"r\", which=\"both\", linestyle=\"--\")\nplt.show()"
      ]
    },
    {
      "cell_type": "markdown",
      "metadata": {},
      "source": [
        "Ternary Plot Limits\n~~~~~~~~~~~~~~~~~~~\n\nTo focus on a specific area, you can reset the limits of your ternary axes with\n:func:`~mpltern.TernaryAxis.set_ternary_lim`.\n\nAlso check out the :mod:`mpltern`\n`inset axes example <https://mpltern.readthedocs.io/en/latest/gallery/advanced/05.inset.html>`__\nif you're after ways to focus on specific regions.\n\n\n"
      ]
    },
    {
      "cell_type": "code",
      "execution_count": null,
      "metadata": {
        "collapsed": false
      },
      "outputs": [],
      "source": [
        "import pyrolite.plot\nimport matplotlib.pyplot as plt\n\nax = df[[\"CaO\", \"MgO\", \"Al2O3\"]].pyroplot.scatter()\nax.set_ternary_lim(\n    0.1, # tmin\n    0.5, # tmax\n    0.2, # lmin\n    0.6, # lmax\n    0.3, # rmin\n    0.7  # rmax\n)\nplt.show()"
      ]
    }
  ],
  "metadata": {
    "kernelspec": {
      "display_name": "Python 3",
      "language": "python",
      "name": "python3"
    },
    "language_info": {
      "codemirror_mode": {
        "name": "ipython",
        "version": 3
      },
      "file_extension": ".py",
      "mimetype": "text/x-python",
      "name": "python",
      "nbconvert_exporter": "python",
      "pygments_lexer": "ipython3",
      "version": "3.7.4"
    }
  },
  "nbformat": 4,
  "nbformat_minor": 0
}