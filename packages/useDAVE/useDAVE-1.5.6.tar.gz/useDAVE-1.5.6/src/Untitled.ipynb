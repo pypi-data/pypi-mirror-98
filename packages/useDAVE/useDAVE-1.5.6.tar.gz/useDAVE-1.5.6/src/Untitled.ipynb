{
 "cells": [
  {
   "cell_type": "code",
   "execution_count": 1,
   "metadata": {},
   "outputs": [],
   "source": [
    "import PySide2"
   ]
  },
  {
   "cell_type": "code",
   "execution_count": 2,
   "metadata": {},
   "outputs": [
    {
     "name": "stdout",
     "output_type": "stream",
     "text": [
      "default resource folders:\n",
      "C:\\data\\Dave\\Public\\DAVE\\src\\DAVE\\resources\n",
      "C:\\Users\\beneden\\DAVE_models\n",
      "Blender found at: C:\\Program Files\\Blender Foundation\\Blender 2.82\\blender.exe\n"
     ]
    }
   ],
   "source": [
    "from DAVE.scene import *"
   ]
  },
  {
   "cell_type": "code",
   "execution_count": 3,
   "metadata": {},
   "outputs": [
    {
     "name": "stdout",
     "output_type": "stream",
     "text": [
      "embedWindow(verbose=True): could not load k3d module, try:\n",
      "> pip install k3d      # and if necessary:\n",
      "> conda install nodejs\n"
     ]
    }
   ],
   "source": [
    "from DAVE.gui.main import Gui"
   ]
  },
  {
   "cell_type": "code",
   "execution_count": 6,
   "metadata": {},
   "outputs": [],
   "source": [
    "s = Scene()"
   ]
  },
  {
   "cell_type": "code",
   "execution_count": 10,
   "outputs": [
    {
     "name": "stdout",
     "output_type": "stream",
     "text": [
      "Creating Node Tree\n",
      "Creating Derived Properties\n",
      "Creating Properties\n",
      "Creating Selection Actions\n",
      "selecting a node with name demo\n",
      "[<DAVE.scene.RigidBody object at 0x00000145337CBCC8>]\n",
      "closing\n",
      "closing\n",
      "closing\n"
     ]
    },
    {
     "ename": "AttributeError",
     "evalue": "'Viewport' object has no attribute 'vtkWidget'",
     "output_type": "error",
     "traceback": [
      "\u001B[1;31m---------------------------------------------------------------------------\u001B[0m",
      "\u001B[1;31mAttributeError\u001B[0m                            Traceback (most recent call last)",
      "\u001B[1;32mC:\\data\\Dave\\Public\\DAVE\\src\\DAVE\\gui\\main.py\u001B[0m in \u001B[0;36monClose\u001B[1;34m(self)\u001B[0m\n\u001B[0;32m    640\u001B[0m \u001B[1;33m\u001B[0m\u001B[0m\n\u001B[0;32m    641\u001B[0m     \u001B[1;32mdef\u001B[0m \u001B[0monClose\u001B[0m\u001B[1;33m(\u001B[0m\u001B[0mself\u001B[0m\u001B[1;33m)\u001B[0m\u001B[1;33m:\u001B[0m\u001B[1;33m\u001B[0m\u001B[1;33m\u001B[0m\u001B[0m\n\u001B[1;32m--> 642\u001B[1;33m         \u001B[0mself\u001B[0m\u001B[1;33m.\u001B[0m\u001B[0mvisual\u001B[0m\u001B[1;33m.\u001B[0m\u001B[0mshutdown_qt\u001B[0m\u001B[1;33m(\u001B[0m\u001B[1;33m)\u001B[0m\u001B[1;33m\u001B[0m\u001B[1;33m\u001B[0m\u001B[0m\n\u001B[0m\u001B[0;32m    643\u001B[0m         \u001B[1;31m# self._logfile.close()\u001B[0m\u001B[1;33m\u001B[0m\u001B[1;33m\u001B[0m\u001B[1;33m\u001B[0m\u001B[0m\n\u001B[0;32m    644\u001B[0m         \u001B[0mprint\u001B[0m\u001B[1;33m(\u001B[0m\u001B[1;34m'closing'\u001B[0m\u001B[1;33m)\u001B[0m\u001B[1;33m\u001B[0m\u001B[1;33m\u001B[0m\u001B[0m\n",
      "\u001B[1;32mC:\\data\\Dave\\Public\\DAVE\\src\\DAVE\\visual.py\u001B[0m in \u001B[0;36mshutdown_qt\u001B[1;34m(self)\u001B[0m\n\u001B[0;32m   1271\u001B[0m         \u001B[1;34m\"\"\"Stops the renderer such that the application can close without issues\"\"\"\u001B[0m\u001B[1;33m\u001B[0m\u001B[1;33m\u001B[0m\u001B[0m\n\u001B[0;32m   1272\u001B[0m \u001B[1;33m\u001B[0m\u001B[0m\n\u001B[1;32m-> 1273\u001B[1;33m         \u001B[1;32mif\u001B[0m \u001B[0mself\u001B[0m\u001B[1;33m.\u001B[0m\u001B[0mvtkWidget\u001B[0m\u001B[1;33m:\u001B[0m\u001B[1;33m\u001B[0m\u001B[1;33m\u001B[0m\u001B[0m\n\u001B[0m\u001B[0;32m   1274\u001B[0m             \u001B[0mren\u001B[0m \u001B[1;33m=\u001B[0m \u001B[0mself\u001B[0m\u001B[1;33m.\u001B[0m\u001B[0mvtkWidget\u001B[0m\u001B[1;33m.\u001B[0m\u001B[0mGetRenderWindow\u001B[0m\u001B[1;33m(\u001B[0m\u001B[1;33m)\u001B[0m\u001B[1;33m\u001B[0m\u001B[1;33m\u001B[0m\u001B[0m\n\u001B[0;32m   1275\u001B[0m             \u001B[0miren\u001B[0m \u001B[1;33m=\u001B[0m \u001B[0mren\u001B[0m\u001B[1;33m.\u001B[0m\u001B[0mGetInteractor\u001B[0m\u001B[1;33m(\u001B[0m\u001B[1;33m)\u001B[0m\u001B[1;33m\u001B[0m\u001B[1;33m\u001B[0m\u001B[0m\n",
      "\u001B[1;31mAttributeError\u001B[0m: 'Viewport' object has no attribute 'vtkWidget'"
     ]
    },
    {
     "data": {
      "text/plain": "<DAVE.gui.main.Gui at 0x145339bc088>"
     },
     "execution_count": 10,
     "metadata": {},
     "output_type": "execute_result"
    }
   ],
   "source": [
    "Gui(s)"
   ],
   "metadata": {
    "collapsed": false,
    "pycharm": {
     "name": "#%%\n"
    }
   }
  },
  {
   "cell_type": "code",
   "execution_count": 9,
   "outputs": [
    {
     "data": {
      "text/plain": "<DAVE.scene.RigidBody at 0x145337cbcc8>"
     },
     "execution_count": 9,
     "metadata": {},
     "output_type": "execute_result"
    }
   ],
   "source": [
    "s.new_rigidbody('demo')"
   ],
   "metadata": {
    "collapsed": false,
    "pycharm": {
     "name": "#%%\n"
    }
   }
  },
  {
   "cell_type": "code",
   "execution_count": 11,
   "outputs": [
    {
     "name": "stdout",
     "output_type": "stream",
     "text": [
      "demo [RigidBody]\n",
      " |-> Axis [Axis]\n"
     ]
    }
   ],
   "source": [
    "s.print_node_tree()\n",
    "\n"
   ],
   "metadata": {
    "collapsed": false,
    "pycharm": {
     "name": "#%%\n"
    }
   }
  },
  {
   "cell_type": "code",
   "execution_count": null,
   "outputs": [],
   "source": [
    "\n"
   ],
   "metadata": {
    "collapsed": false,
    "pycharm": {
     "name": "#%%\n"
    }
   }
  }
 ],
 "metadata": {
  "kernelspec": {
   "display_name": "Python 3",
   "language": "python",
   "name": "python3"
  },
  "language_info": {
   "codemirror_mode": {
    "name": "ipython",
    "version": 3
   },
   "file_extension": ".py",
   "mimetype": "text/x-python",
   "name": "python",
   "nbconvert_exporter": "python",
   "pygments_lexer": "ipython3",
   "version": "3.7.3"
  }
 },
 "nbformat": 4,
 "nbformat_minor": 4
}