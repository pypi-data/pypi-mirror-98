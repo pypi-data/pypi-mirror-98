{
 "cells": [
  {
   "cell_type": "markdown",
   "metadata": {},
   "source": [
    "# Setting specific lags"
   ]
  },
  {
   "cell_type": "markdown",
   "metadata": {},
   "source": [
    "Different ways to set the maximum lag for input and output"
   ]
  },
  {
   "cell_type": "code",
   "execution_count": 1,
   "metadata": {},
   "outputs": [],
   "source": [
    "import numpy as np\n",
    "import pandas as pd\n",
    "import matplotlib.pyplot as plt\n",
    "from sysidentpy.polynomial_basis import PolynomialNarmax"
   ]
  },
  {
   "cell_type": "markdown",
   "metadata": {},
   "source": [
    "If you pass int values for *ylag* and *xlag*, the lags are defined as a range from 1-*ylag* and 1-*xlag*. \n",
    "\n",
    "For example: if *ylag=4* then the candidate regressors are $y_{k-1}, y_{k-2}, y_{k-3}, y_{k-4}$"
   ]
  },
  {
   "cell_type": "code",
   "execution_count": 2,
   "metadata": {
    "scrolled": false
   },
   "outputs": [
    {
     "output_type": "execute_result",
     "data": {
      "text/plain": [
       "array([[   0],\n",
       "       [1001],\n",
       "       [1002],\n",
       "       [1003],\n",
       "       [1004],\n",
       "       [2001],\n",
       "       [2002],\n",
       "       [2003],\n",
       "       [2004]])"
      ]
     },
     "metadata": {},
     "execution_count": 2
    }
   ],
   "source": [
    "model = PolynomialNarmax(non_degree=1,\n",
    "                         order_selection=True,\n",
    "                         n_info_values=10,\n",
    "                         extended_least_squares=False,\n",
    "                         ylag=4, xlag=4,\n",
    "                         info_criteria='aic',\n",
    "                         estimator='least_squares',\n",
    "                         )\n",
    "\n",
    "model.regressor_code"
   ]
  },
  {
   "cell_type": "markdown",
   "metadata": {},
   "source": [
    "If you pass the *ylag* and *xlag* as a list, only the lags related to values in the list will be created."
   ]
  },
  {
   "cell_type": "code",
   "execution_count": 3,
   "metadata": {},
   "outputs": [
    {
     "output_type": "execute_result",
     "data": {
      "text/plain": [
       "array([[   0],\n",
       "       [1001],\n",
       "       [1004],\n",
       "       [2001],\n",
       "       [2004]])"
      ]
     },
     "metadata": {},
     "execution_count": 3
    }
   ],
   "source": [
    "model = PolynomialNarmax(non_degree=1,\n",
    "                         order_selection=True,\n",
    "                         n_info_values=10,\n",
    "                         extended_least_squares=False,\n",
    "                         ylag=[1, 4], xlag=[1, 4],\n",
    "                         info_criteria='aic',\n",
    "                         estimator='least_squares',\n",
    "                         )\n",
    "\n",
    "model.regressor_code"
   ]
  }
 ],
 "metadata": {
  "kernelspec": {
   "name": "python3",
   "display_name": "Python 3.8.6 64-bit ('v0.1.4': conda)",
   "metadata": {
    "interpreter": {
     "hash": "af0c49d7270b55aedb9d136513e348c9f6bf581fb1aab1dd354844b585f9bbf2"
    }
   }
  },
  "language_info": {
   "codemirror_mode": {
    "name": "ipython",
    "version": 3
   },
   "file_extension": ".py",
   "mimetype": "text/x-python",
   "name": "python",
   "nbconvert_exporter": "python",
   "pygments_lexer": "ipython3",
   "version": "3.8.6-final"
  }
 },
 "nbformat": 4,
 "nbformat_minor": 4
}