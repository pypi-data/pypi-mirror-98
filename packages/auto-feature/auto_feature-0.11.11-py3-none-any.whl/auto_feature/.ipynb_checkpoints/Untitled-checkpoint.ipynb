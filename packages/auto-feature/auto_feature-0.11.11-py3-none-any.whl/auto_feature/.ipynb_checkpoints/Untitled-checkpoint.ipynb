{
 "cells": [
  {
   "cell_type": "code",
   "execution_count": 1,
   "metadata": {},
   "outputs": [
    {
     "data": {
      "text/plain": [
       "['/Users/livy/Desktop/aself-learning/feature_auto/auto_feature',\n",
       " '/usr/local/Cellar/jupyterlab/2.2.8/libexec/lib/python38.zip',\n",
       " '/usr/local/Cellar/jupyterlab/2.2.8/libexec/lib/python3.8',\n",
       " '/usr/local/Cellar/jupyterlab/2.2.8/libexec/lib/python3.8/lib-dynload',\n",
       " '/usr/local/opt/python@3.8/Frameworks/Python.framework/Versions/3.8/lib/python3.8',\n",
       " '',\n",
       " '/usr/local/Cellar/jupyterlab/2.2.8/libexec/lib/python3.8/site-packages',\n",
       " '/usr/local/Cellar/jupyterlab/2.2.8/libexec/lib/python3.8/site-packages/IPython/extensions',\n",
       " '/Users/livy/.ipython']"
      ]
     },
     "execution_count": 1,
     "metadata": {},
     "output_type": "execute_result"
    }
   ],
   "source": [
    "import sys\n",
    "sys.path"
   ]
  },
  {
   "cell_type": "code",
   "execution_count": 2,
   "metadata": {},
   "outputs": [],
   "source": [
    "sys.path.append('/Users/livy/Desktop/aself-learning/feature_auto/fauto/lib/python3.8/site-packages',)"
   ]
  },
  {
   "cell_type": "code",
   "execution_count": null,
   "metadata": {},
   "outputs": [],
   "source": []
  },
  {
   "cell_type": "code",
   "execution_count": 19,
   "metadata": {},
   "outputs": [],
   "source": [
    "#import pymongo\n",
    "from dbhelper import DBHelper\n",
    "from collections import defaultdict\n",
    "from smart_open import open as s_open\n",
    "import os\n",
    "import pickle\n",
    "import boto3\n",
    "import json"
   ]
  },
  {
   "cell_type": "code",
   "execution_count": 5,
   "metadata": {},
   "outputs": [],
   "source": [
    "DB = DBHelper()"
   ]
  },
  {
   "cell_type": "code",
   "execution_count": 6,
   "metadata": {},
   "outputs": [],
   "source": [
    "config = {}\n",
    "\n",
    "# get entities, relations, and pivotings\n",
    "\n",
    "entities = DB.get_table('entities',withid=False)\n",
    "relations = DB.get_table('relations',withid=False)\n",
    "pivotings = DB.get_table('pivotings',withid=False)\n",
    "\n",
    "\n",
    "config['entities']=entities\n",
    "config['relations']=relations\n",
    "config['pivotings']=pivotings"
   ]
  },
  {
   "cell_type": "code",
   "execution_count": 12,
   "metadata": {},
   "outputs": [],
   "source": [
    "all_collections=DB.db.list_collection_names()"
   ]
  },
  {
   "cell_type": "code",
   "execution_count": 13,
   "metadata": {},
   "outputs": [
    {
     "data": {
      "text/plain": [
       "['pivotings', 'relations', 'entities', 'claimant.xlsx', 'target.xlsx']"
      ]
     },
     "execution_count": 13,
     "metadata": {},
     "output_type": "execute_result"
    }
   ],
   "source": [
    "all_collections"
   ]
  },
  {
   "cell_type": "code",
   "execution_count": 16,
   "metadata": {},
   "outputs": [],
   "source": [
    "## get primitives\n",
    "\n",
    "collections = [c for c in all_collections if c not in ['entities','pivotings','relations']]\n",
    "\n",
    "def get_default(collections:list,agg_tfm:str):\n",
    "    # prms are the colletions for primitives\n",
    "    # ag_tfm is the field name for agg and transform\n",
    "    prm_map = defaultdict(set)\n",
    "    default = set()\n",
    "    for name in collections:\n",
    "        tfms = list(DB.db[name].find({},{'_id':0,'type':1,agg_tfm:1}))\n",
    "        #print(tfms)\n",
    "        if not agg_tfm in tfms[0]:\n",
    "            #print('{} not in'.format(agg_tfm))\n",
    "            continue\n",
    "        for t in tfms:\n",
    "            #print(t)\n",
    "            prm_map[t['type']]|=set(t[agg_tfm])\n",
    "            default|=set(t[agg_tfm])\n",
    "\n",
    "    return list(default),prm_map\n",
    "\n",
    "\n",
    "# get default transform and agg primitives and the map\n",
    "tfm_prm_default,tfm_prm_map=get_default(collections,'tfm_prm')\n",
    "agg_prm_default,agg_prm_map = get_default(collections,'agg_prm')\n",
    "\n",
    "''' ##map is like below\n",
    "##agg_prm_map is like:\n",
    "##defaultdict(set,\n",
    "            {'index': {'count'},\n",
    "             'int64': set(),\n",
    "             'object': {'mode', 'num_unique'},\n",
    "             'pivot': {'count', 'if_exist'}})\n",
    "'''\n",
    "\n",
    "\n",
    "config['pmt_agg_kpt']= agg_prm_default\n",
    "config['pmt_tfm_kpt']= tfm_prm_default"
   ]
  },
  {
   "cell_type": "code",
   "execution_count": 17,
   "metadata": {},
   "outputs": [],
   "source": [
    "# get primitive options\n",
    "\n",
    "''' ## primitive options is like below; we mainly use ignore_variables\n",
    "primitive_options={\n",
    "     'mode': {'include_variables': {'log': ['product_id', 'zipcode'],\n",
    "                                   'sessions': ['device_type'],\n",
    "                                     'customers': ['cancel_reason']}},\n",
    "     'weekday': {'ignore_variables': {'customers':\n",
    "                                          ['signup_date',\n",
    "                                            'cancel_date']}}})\n",
    "'''\n",
    "\n",
    "\n",
    "primitive_options={}\n",
    "\n",
    "def get_prm_option(prms:list,agg_tfm:str,agg_tfm_map:dict):\n",
    "    for name in prms:\n",
    "        alias = list(DB.db.entities.find({'entity':name},{'_id':0,'alias':1}))[0]['alias']\n",
    "        tfms = list(DB.db[name].find({},{'_id':0,'type':1,'features':1,agg_tfm:1}))\n",
    "\n",
    "        if not agg_tfm in tfms[0]:\n",
    "            #print('{} not in'.format(agg_tfm))\n",
    "            continue\n",
    "\n",
    "        for t in tfms:\n",
    "            cur_primitives = set(t[agg_tfm])\n",
    "            map_primitives = agg_tfm_map[t['type']]\n",
    "            dif = map_primitives-cur_primitives\n",
    "            if dif:\n",
    "                dif = tuple(dif) if len(dif)>1 else list(dif)[0]\n",
    "                primitives = primitive_options.get(dif,{})\n",
    "                inside = primitives.get('ignore_variables',{})\n",
    "                inside[alias]=inside.get(alias,[])+[t['features']]\n",
    "                primitives['ignore_variables']=inside\n",
    "                primitive_options[dif]=primitives\n",
    "    return primitive_options\n",
    "\n",
    "\n",
    "\n",
    "primitive_options_agg=get_prm_option(collections,'agg_prm',agg_prm_map)\n",
    "primitive_options_tfm=get_prm_option(collections,'tfm_prm',tfm_prm_map)\n",
    "primitive_options = {**primitive_options_agg,**primitive_options_tfm}\n",
    "config['primitive_options']=primitive_options"
   ]
  },
  {
   "cell_type": "code",
   "execution_count": 20,
   "metadata": {},
   "outputs": [],
   "source": [
    "with open('path.json',\"r\") as f:\n",
    "    configs= json.load(f)\n",
    "bucket_name = configs['bucket_name']\n",
    "pre = configs['prefix']"
   ]
  },
  {
   "cell_type": "code",
   "execution_count": null,
   "metadata": {},
   "outputs": [],
   "source": [
    "with s_open(os.path.join('s3://',bucket_name,pre,'config.pickle'), 'wb') as handle:\n",
    "    pickle.dump(config, handle)"
   ]
  }
 ],
 "metadata": {
  "kernelspec": {
   "display_name": "Python 3",
   "language": "python",
   "name": "python3"
  },
  "language_info": {
   "codemirror_mode": {
    "name": "ipython",
    "version": 3
   },
   "file_extension": ".py",
   "mimetype": "text/x-python",
   "name": "python",
   "nbconvert_exporter": "python",
   "pygments_lexer": "ipython3",
   "version": "3.8.6"
  }
 },
 "nbformat": 4,
 "nbformat_minor": 4
}
