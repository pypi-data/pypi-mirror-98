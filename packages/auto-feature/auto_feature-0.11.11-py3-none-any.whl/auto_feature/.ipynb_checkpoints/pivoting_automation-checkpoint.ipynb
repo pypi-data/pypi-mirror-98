{
 "cells": [
  {
   "cell_type": "markdown",
   "metadata": {},
   "source": [
    "# check packages"
   ]
  },
  {
   "cell_type": "code",
   "execution_count": null,
   "metadata": {},
   "outputs": [],
   "source": [
    "import sys\n",
    "sys.path"
   ]
  },
  {
   "cell_type": "code",
   "execution_count": null,
   "metadata": {},
   "outputs": [],
   "source": [
    "import os\n",
    "from jupyter_nbextensions_configurator import __file__\n",
    "print(os.path.realpath(__file__))"
   ]
  },
  {
   "cell_type": "code",
   "execution_count": 1,
   "metadata": {},
   "outputs": [],
   "source": [
    "%run auto_helper.ipynb"
   ]
  },
  {
   "cell_type": "markdown",
   "metadata": {},
   "source": [
    "# hypter parameters"
   ]
  },
  {
   "cell_type": "code",
   "execution_count": 2,
   "metadata": {},
   "outputs": [],
   "source": [
    "bucket_name ='automating-travis'\n",
    "folder_name = 'data'"
   ]
  },
  {
   "cell_type": "code",
   "execution_count": 3,
   "metadata": {},
   "outputs": [],
   "source": [
    "COL_PLACEHOLDER = [\"Don't have\"]"
   ]
  },
  {
   "cell_type": "markdown",
   "metadata": {},
   "source": [
    "# 1. get config"
   ]
  },
  {
   "cell_type": "code",
   "execution_count": 5,
   "metadata": {},
   "outputs": [],
   "source": [
    "\n",
    "config = defaultdict(list)"
   ]
  },
  {
   "cell_type": "markdown",
   "metadata": {},
   "source": [
    "## entities"
   ]
  },
  {
   "cell_type": "code",
   "execution_count": 6,
   "metadata": {},
   "outputs": [],
   "source": [
    "entities=[\\\n",
    "    {'entity': 'claimant.xlsx',\n",
    "   'idx': 'idx',\n",
    "   'time_idx': \"Don't have\",\n",
    "   'cutoff': \"Don't have\",\n",
    "   'if_target': \"Don't have\",\n",
    "   'alias': 'claimant',\n",
    "   'frn_key': 'Claim_number|date_insert'},\n",
    " {'entity': 'target.xlsx',\n",
    "   'idx': 'Claim_number|date_insert',\n",
    "   'time_idx': \"Don't have\",\n",
    "   'cutoff': \"Don't have\",\n",
    "   'if_target': 'yes',\n",
    "   'alias': 'claim'}\\\n",
    "]"
   ]
  },
  {
   "cell_type": "code",
   "execution_count": 7,
   "metadata": {},
   "outputs": [],
   "source": [
    "config['entities']=entities"
   ]
  },
  {
   "cell_type": "markdown",
   "metadata": {},
   "source": [
    "## relations"
   ]
  },
  {
   "cell_type": "code",
   "execution_count": 8,
   "metadata": {},
   "outputs": [],
   "source": [
    "relations = [\\\n",
    "           {'one': 'target.xlsx',\n",
    "   'many': 'claimant.xlsx',\n",
    "   'foreign_key': 'Claim_number|date_insert'}\\\n",
    "            ]"
   ]
  },
  {
   "cell_type": "code",
   "execution_count": 9,
   "metadata": {},
   "outputs": [],
   "source": [
    "config['relations']=relations"
   ]
  },
  {
   "cell_type": "markdown",
   "metadata": {},
   "source": [
    "## pivotings"
   ]
  },
  {
   "cell_type": "code",
   "execution_count": 10,
   "metadata": {},
   "outputs": [],
   "source": [
    "pivotings = [\\\n",
    "    {'entity': 'claimant.xlsx',\n",
    "   'kind': 'one',\n",
    "   'column1': ['age','SP'],\n",
    "   'reference': 'grp.xlsx',\n",
    "   'ref_type': 'range'}\\\n",
    "            ]"
   ]
  },
  {
   "cell_type": "code",
   "execution_count": 11,
   "metadata": {},
   "outputs": [],
   "source": [
    "pivotings.append(  {'entity': 'claimant.xlsx',\n",
    "   'kind': 'two',\n",
    "   'column1': ['age'],\n",
    "   'column2': ['coverage','SP'],\n",
    "   'reference': \"Don't have\",\n",
    "   'ref_type': \"Don't have\"}\n",
    "                )"
   ]
  },
  {
   "cell_type": "code",
   "execution_count": 12,
   "metadata": {},
   "outputs": [],
   "source": [
    "config['pivotings']=pivotings"
   ]
  },
  {
   "cell_type": "markdown",
   "metadata": {},
   "source": [
    "## primitives"
   ]
  },
  {
   "cell_type": "code",
   "execution_count": 13,
   "metadata": {},
   "outputs": [],
   "source": [
    "primitives = ['count','if_exist']"
   ]
  },
  {
   "cell_type": "code",
   "execution_count": 14,
   "metadata": {},
   "outputs": [],
   "source": [
    "config['where_primitives']=primitives"
   ]
  },
  {
   "cell_type": "code",
   "execution_count": 15,
   "metadata": {},
   "outputs": [
    {
     "data": {
      "text/plain": [
       "defaultdict(list,\n",
       "            {'entities': [{'entity': 'claimant.xlsx',\n",
       "               'idx': 'idx',\n",
       "               'time_idx': \"Don't have\",\n",
       "               'cutoff': \"Don't have\",\n",
       "               'if_target': \"Don't have\",\n",
       "               'alias': 'claimant',\n",
       "               'frn_key': 'Claim_number|date_insert'},\n",
       "              {'entity': 'target.xlsx',\n",
       "               'idx': 'Claim_number|date_insert',\n",
       "               'time_idx': \"Don't have\",\n",
       "               'cutoff': \"Don't have\",\n",
       "               'if_target': 'yes',\n",
       "               'alias': 'claim'}],\n",
       "             'relations': [{'one': 'target.xlsx',\n",
       "               'many': 'claimant.xlsx',\n",
       "               'foreign_key': 'Claim_number|date_insert'}],\n",
       "             'pivotings': [{'entity': 'claimant.xlsx',\n",
       "               'kind': 'one',\n",
       "               'column1': ['age', 'SP'],\n",
       "               'reference': 'grp.xlsx',\n",
       "               'ref_type': 'range'},\n",
       "              {'entity': 'claimant.xlsx',\n",
       "               'kind': 'two',\n",
       "               'column1': ['age'],\n",
       "               'column2': ['coverage', 'SP'],\n",
       "               'reference': \"Don't have\",\n",
       "               'ref_type': \"Don't have\"}],\n",
       "             'where_primitives': ['count', 'if_exist']})"
      ]
     },
     "execution_count": 15,
     "metadata": {},
     "output_type": "execute_result"
    }
   ],
   "source": [
    "config"
   ]
  },
  {
   "cell_type": "code",
   "execution_count": null,
   "metadata": {},
   "outputs": [],
   "source": []
  },
  {
   "cell_type": "markdown",
   "metadata": {},
   "source": [
    "# 2. prepare config for feature engineering"
   ]
  },
  {
   "cell_type": "code",
   "execution_count": 16,
   "metadata": {},
   "outputs": [],
   "source": [
    "#from views import COL_PLACEHOLDER,pd_read\n",
    "\n",
    "ref_map = defaultdict(list)"
   ]
  },
  {
   "cell_type": "code",
   "execution_count": 17,
   "metadata": {},
   "outputs": [
    {
     "name": "stdout",
     "output_type": "stream",
     "text": [
      "name in confg: claimant.xlsx\n",
      "name in confg: target.xlsx\n",
      "fts age\n",
      "[18, 50, 70]\n",
      "['age|coverage', 'age|SP']\n",
      "[['<= 18', '(18, 50]', '(50, 70]', '> 70'], ['pd', 'pip', 'UM']]\n",
      "[['<= 18', '(18, 50]', '(50, 70]', '> 70'], ['Y', 'N']]\n",
      "[['<= 18', '(18, 50]', '(50, 70]', '> 70'], ['pd', 'pip', 'UM']]\n",
      "[['<= 18', '(18, 50]', '(50, 70]', '> 70'], ['Y', 'N']]\n",
      "after itr, config is [{'entity': 'claimant.xlsx', 'kind': 'one', 'column1': ['age', 'SP'], 'reference': 'grp.xlsx', 'ref_type': 'range', 'columns': ['age'], 'values': [['<= 18', '(18, 50]', '(50, 70]', '> 70']]}, {'entity': 'claimant.xlsx', 'kind': 'two', 'column1': ['age'], 'column2': ['coverage', 'SP'], 'reference': \"Don't have\", 'ref_type': \"Don't have\", 'columns': ['age_coverage', 'age_SP'], 'values': [['<= 18_pd', '<= 18_pip', '<= 18_UM', '(18, 50]_pd', '(18, 50]_pip', '(18, 50]_UM', '(50, 70]_pd', '(50, 70]_pip', '(50, 70]_UM', '> 70_pd', '> 70_pip', '> 70_UM'], ['<= 18_Y', '<= 18_N', '(18, 50]_Y', '(18, 50]_N', '(50, 70]_Y', '(50, 70]_N', '> 70_Y', '> 70_N']]}]\n"
     ]
    }
   ],
   "source": [
    "config_prod = prepare_config(config)\n",
    "\n"
   ]
  },
  {
   "cell_type": "code",
   "execution_count": 18,
   "metadata": {},
   "outputs": [
    {
     "data": {
      "text/plain": [
       "defaultdict(list,\n",
       "            {'entities': [{'entity': 'claimant.xlsx',\n",
       "               'idx': 'idx',\n",
       "               'time_idx': \"Don't have\",\n",
       "               'cutoff': \"Don't have\",\n",
       "               'if_target': \"Don't have\",\n",
       "               'alias': 'claimant',\n",
       "               'frn_key': 'Claim_number|date_insert'},\n",
       "              {'entity': 'target.xlsx',\n",
       "               'idx': 'Claim_number|date_insert',\n",
       "               'time_idx': \"Don't have\",\n",
       "               'cutoff': \"Don't have\",\n",
       "               'if_target': 'yes',\n",
       "               'alias': 'claim'}],\n",
       "             'relations': [{'one': 'target.xlsx',\n",
       "               'many': 'claimant.xlsx',\n",
       "               'foreign_key': 'Claim_number|date_insert'}],\n",
       "             'pivotings': [{'entity': 'claimant.xlsx',\n",
       "               'kind': 'one',\n",
       "               'column1': ['age', 'SP'],\n",
       "               'reference': 'grp.xlsx',\n",
       "               'ref_type': 'range',\n",
       "               'columns': ['age'],\n",
       "               'values': [['<= 18', '(18, 50]', '(50, 70]', '> 70']]},\n",
       "              {'entity': 'claimant.xlsx',\n",
       "               'kind': 'two',\n",
       "               'column1': ['age'],\n",
       "               'column2': ['coverage', 'SP'],\n",
       "               'reference': \"Don't have\",\n",
       "               'ref_type': \"Don't have\",\n",
       "               'columns': ['age_coverage', 'age_SP'],\n",
       "               'values': [['<= 18_pd',\n",
       "                 '<= 18_pip',\n",
       "                 '<= 18_UM',\n",
       "                 '(18, 50]_pd',\n",
       "                 '(18, 50]_pip',\n",
       "                 '(18, 50]_UM',\n",
       "                 '(50, 70]_pd',\n",
       "                 '(50, 70]_pip',\n",
       "                 '(50, 70]_UM',\n",
       "                 '> 70_pd',\n",
       "                 '> 70_pip',\n",
       "                 '> 70_UM'],\n",
       "                ['<= 18_Y',\n",
       "                 '<= 18_N',\n",
       "                 '(18, 50]_Y',\n",
       "                 '(18, 50]_N',\n",
       "                 '(50, 70]_Y',\n",
       "                 '(50, 70]_N',\n",
       "                 '> 70_Y',\n",
       "                 '> 70_N']]}],\n",
       "             'where_primitives': ['count', 'if_exist'],\n",
       "             'claimant.xlsx':    idx  Claim_number  claimant number  Name coverage       age  \\\n",
       "             0    1             1                1  John       pd  (18, 50]   \n",
       "             1    2             1                1  Dave       pd  (18, 50]   \n",
       "             2    3             1                1  Dave      pip  (18, 50]   \n",
       "             3    4             1                1  John       pd  (18, 50]   \n",
       "             4    5             1                1  John      pip  (18, 50]   \n",
       "             5    6             1                1  Dave       pd  (18, 50]   \n",
       "             6    7             1                1  Dave      pip  (18, 50]   \n",
       "             7    8             1                1  Dave       UM  (18, 50]   \n",
       "             \n",
       "               Doctor_treatment SP date_insert  age_coverage      age_SP  \n",
       "             0                N  Y  2020-01-01   (18, 50]_pd  (18, 50]_Y  \n",
       "             1                N  Y  2020-01-01   (18, 50]_pd  (18, 50]_Y  \n",
       "             2                Y  N  2020-01-01  (18, 50]_pip  (18, 50]_N  \n",
       "             3                N  Y  2020-01-07   (18, 50]_pd  (18, 50]_Y  \n",
       "             4                Y  Y  2020-01-07  (18, 50]_pip  (18, 50]_Y  \n",
       "             5                N  Y  2020-01-07   (18, 50]_pd  (18, 50]_Y  \n",
       "             6                Y  Y  2020-01-07  (18, 50]_pip  (18, 50]_Y  \n",
       "             7                Y  N  2020-01-07   (18, 50]_UM  (18, 50]_N  ,\n",
       "             'target.xlsx':    Claim_number date_insert\n",
       "             0             1  2020-01-01\n",
       "             1             1  2020-01-07})"
      ]
     },
     "execution_count": 18,
     "metadata": {},
     "output_type": "execute_result"
    }
   ],
   "source": [
    "config_prod"
   ]
  },
  {
   "cell_type": "markdown",
   "metadata": {},
   "source": [
    "# 3. feature engineerin"
   ]
  },
  {
   "cell_type": "code",
   "execution_count": 19,
   "metadata": {},
   "outputs": [],
   "source": [
    "ent = ft_agg(config_prod)\n",
    "\n"
   ]
  },
  {
   "cell_type": "code",
   "execution_count": 20,
   "metadata": {},
   "outputs": [
    {
     "name": "stdout",
     "output_type": "stream",
     "text": [
      "col are Index(['Claim_number', 'date_insert'], dtype='object')\n",
      "key is ['Claim_number', 'date_insert']\n",
      "name key is claim_key\n",
      "generate key\n",
      "col are Index(['idx', 'Claim_number', 'claimant number', 'Name', 'coverage', 'age',\n",
      "       'Doctor_treatment', 'SP', 'date_insert', 'age_coverage', 'age_SP'],\n",
      "      dtype='object')\n",
      "key is ['Claim_number', 'date_insert']\n",
      "name key is claimant_frn_claim\n",
      "generate key\n",
      "es is Entityset: None\n",
      "  Entities:\n",
      "    claimant [Rows: 8, Columns: 12]\n",
      "    claim [Rows: 2, Columns: 3]\n",
      "  Relationships:\n",
      "    claimant.claimant_frn_claim -> claim.claim_key\n",
      "interesting finished\n",
      "interesting finished\n",
      "interesting finished\n",
      "get entityset done\n"
     ]
    }
   ],
   "source": [
    "en_set,cutoff = ent.get_entityset()\n",
    "\n"
   ]
  },
  {
   "cell_type": "code",
   "execution_count": null,
   "metadata": {},
   "outputs": [],
   "source": []
  },
  {
   "cell_type": "code",
   "execution_count": 21,
   "metadata": {},
   "outputs": [
    {
     "name": "stdout",
     "output_type": "stream",
     "text": [
      "agg_used ['count', <class 'featuretools.primitives.base.aggregation_primitive_base.If'>]\n",
      "agg_not_whr []\n",
      "agg wher ['count', <class 'featuretools.primitives.base.aggregation_primitive_base.If'>]\n"
     ]
    }
   ],
   "source": [
    "features = ent.run_dfs(es=en_set,cutoff=cutoff,featureonly=True)"
   ]
  },
  {
   "cell_type": "code",
   "execution_count": 22,
   "metadata": {},
   "outputs": [
    {
     "data": {
      "text/plain": [
       "[<Feature: Claim_number>,\n",
       " <Feature: IF(claimant.idx)>,\n",
       " <Feature: COUNT(claimant)>,\n",
       " <Feature: IF(claimant.idx WHERE age_coverage = (18, 50]_UM)>,\n",
       " <Feature: IF(claimant.idx WHERE age = (18, 50])>,\n",
       " <Feature: IF(claimant.idx WHERE age_SP = (18, 50]_Y)>,\n",
       " <Feature: IF(claimant.idx WHERE age_SP = (50, 70]_Y)>,\n",
       " <Feature: IF(claimant.idx WHERE age_coverage = (50, 70]_pip)>,\n",
       " <Feature: IF(claimant.idx WHERE age_coverage = (50, 70]_UM)>,\n",
       " <Feature: IF(claimant.idx WHERE age_coverage = > 70_pip)>,\n",
       " <Feature: IF(claimant.idx WHERE age = (50, 70])>,\n",
       " <Feature: IF(claimant.idx WHERE age_coverage = > 70_UM)>,\n",
       " <Feature: IF(claimant.idx WHERE age_SP = (18, 50]_N)>,\n",
       " <Feature: IF(claimant.idx WHERE age_SP = (50, 70]_N)>,\n",
       " <Feature: IF(claimant.idx WHERE age_SP = > 70_Y)>,\n",
       " <Feature: IF(claimant.idx WHERE age_SP = > 70_N)>,\n",
       " <Feature: IF(claimant.idx WHERE age_SP = <= 18_N)>,\n",
       " <Feature: IF(claimant.idx WHERE age_coverage = <= 18_pd)>,\n",
       " <Feature: IF(claimant.idx WHERE age_coverage = <= 18_pip)>,\n",
       " <Feature: IF(claimant.idx WHERE age_SP = <= 18_Y)>,\n",
       " <Feature: IF(claimant.idx WHERE age_coverage = > 70_pd)>,\n",
       " <Feature: IF(claimant.idx WHERE age_coverage = (18, 50]_pd)>,\n",
       " <Feature: IF(claimant.idx WHERE age_coverage = <= 18_UM)>,\n",
       " <Feature: IF(claimant.idx WHERE age = > 70)>,\n",
       " <Feature: IF(claimant.idx WHERE age_coverage = (18, 50]_pip)>,\n",
       " <Feature: IF(claimant.idx WHERE age_coverage = (50, 70]_pd)>,\n",
       " <Feature: IF(claimant.idx WHERE age = <= 18)>,\n",
       " <Feature: COUNT(claimant WHERE age_coverage = (18, 50]_UM)>,\n",
       " <Feature: COUNT(claimant WHERE age = (18, 50])>,\n",
       " <Feature: COUNT(claimant WHERE age_SP = (18, 50]_Y)>,\n",
       " <Feature: COUNT(claimant WHERE age_SP = (50, 70]_Y)>,\n",
       " <Feature: COUNT(claimant WHERE age_coverage = (50, 70]_pip)>,\n",
       " <Feature: COUNT(claimant WHERE age_coverage = (50, 70]_UM)>,\n",
       " <Feature: COUNT(claimant WHERE age_coverage = > 70_pip)>,\n",
       " <Feature: COUNT(claimant WHERE age = (50, 70])>,\n",
       " <Feature: COUNT(claimant WHERE age_coverage = > 70_UM)>,\n",
       " <Feature: COUNT(claimant WHERE age_SP = (18, 50]_N)>,\n",
       " <Feature: COUNT(claimant WHERE age_SP = (50, 70]_N)>,\n",
       " <Feature: COUNT(claimant WHERE age_SP = > 70_Y)>,\n",
       " <Feature: COUNT(claimant WHERE age_SP = > 70_N)>,\n",
       " <Feature: COUNT(claimant WHERE age_SP = <= 18_N)>,\n",
       " <Feature: COUNT(claimant WHERE age_coverage = <= 18_pd)>,\n",
       " <Feature: COUNT(claimant WHERE age_coverage = <= 18_pip)>,\n",
       " <Feature: COUNT(claimant WHERE age_SP = <= 18_Y)>,\n",
       " <Feature: COUNT(claimant WHERE age_coverage = > 70_pd)>,\n",
       " <Feature: COUNT(claimant WHERE age_coverage = (18, 50]_pd)>,\n",
       " <Feature: COUNT(claimant WHERE age_coverage = <= 18_UM)>,\n",
       " <Feature: COUNT(claimant WHERE age = > 70)>,\n",
       " <Feature: COUNT(claimant WHERE age_coverage = (18, 50]_pip)>,\n",
       " <Feature: COUNT(claimant WHERE age_coverage = (50, 70]_pd)>,\n",
       " <Feature: COUNT(claimant WHERE age = <= 18)>]"
      ]
     },
     "execution_count": 22,
     "metadata": {},
     "output_type": "execute_result"
    }
   ],
   "source": [
    "features"
   ]
  },
  {
   "cell_type": "code",
   "execution_count": null,
   "metadata": {},
   "outputs": [],
   "source": []
  },
  {
   "cell_type": "markdown",
   "metadata": {},
   "source": [
    "# 4. process after schema"
   ]
  },
  {
   "cell_type": "code",
   "execution_count": 23,
   "metadata": {},
   "outputs": [
    {
     "data": {
      "text/plain": [
       "['IF(claimant.idx WHERE age_SP = (18, 50]_N)',\n",
       " 'IF(claimant.idx WHERE age_SP = (50, 70]_N)',\n",
       " 'IF(claimant.idx WHERE age_SP = > 70_N)',\n",
       " 'IF(claimant.idx WHERE age_SP = <= 18_N)',\n",
       " 'COUNT(claimant WHERE age_SP = (18, 50]_N)',\n",
       " 'COUNT(claimant WHERE age_SP = (50, 70]_N)',\n",
       " 'COUNT(claimant WHERE age_SP = > 70_N)',\n",
       " 'COUNT(claimant WHERE age_SP = <= 18_N)']"
      ]
     },
     "execution_count": 23,
     "metadata": {},
     "output_type": "execute_result"
    }
   ],
   "source": [
    "filter_cols(features,['SP','_N'],None,'check')"
   ]
  },
  {
   "cell_type": "code",
   "execution_count": 24,
   "metadata": {},
   "outputs": [],
   "source": [
    "features_kept = filter_cols(features,None,['IF(claimant.idx WHERE age_SP = <= 18_N)',\n",
    " 'IF(claimant.idx WHERE age_SP = > 70_N)',\n",
    " 'IF(claimant.idx WHERE age_SP = (18, 50]_N)',\n",
    " 'IF(claimant.idx WHERE age_SP = (50, 70]_N)',\n",
    " 'COUNT(claimant WHERE age_SP = <= 18_N)',\n",
    " 'COUNT(claimant WHERE age_SP = > 70_N)',\n",
    " 'COUNT(claimant WHERE age_SP = (18, 50]_N)',\n",
    " 'COUNT(claimant WHERE age_SP = (50, 70]_N)'],'rm')"
   ]
  },
  {
   "cell_type": "code",
   "execution_count": null,
   "metadata": {},
   "outputs": [],
   "source": []
  },
  {
   "cell_type": "markdown",
   "metadata": {},
   "source": [
    "# 5. calculate with schema"
   ]
  },
  {
   "cell_type": "code",
   "execution_count": 25,
   "metadata": {},
   "outputs": [
    {
     "data": {
      "text/plain": [
       "[<Feature: Claim_number>,\n",
       " <Feature: IF(claimant.idx)>,\n",
       " <Feature: COUNT(claimant)>,\n",
       " <Feature: IF(claimant.idx WHERE age_coverage = (18, 50]_UM)>,\n",
       " <Feature: IF(claimant.idx WHERE age = (18, 50])>,\n",
       " <Feature: IF(claimant.idx WHERE age_SP = (18, 50]_Y)>,\n",
       " <Feature: IF(claimant.idx WHERE age_SP = (50, 70]_Y)>,\n",
       " <Feature: IF(claimant.idx WHERE age_coverage = (50, 70]_pip)>,\n",
       " <Feature: IF(claimant.idx WHERE age_coverage = (50, 70]_UM)>,\n",
       " <Feature: IF(claimant.idx WHERE age_coverage = > 70_pip)>,\n",
       " <Feature: IF(claimant.idx WHERE age = (50, 70])>,\n",
       " <Feature: IF(claimant.idx WHERE age_coverage = > 70_UM)>,\n",
       " <Feature: IF(claimant.idx WHERE age_SP = > 70_Y)>,\n",
       " <Feature: IF(claimant.idx WHERE age_coverage = <= 18_pd)>,\n",
       " <Feature: IF(claimant.idx WHERE age_coverage = <= 18_pip)>,\n",
       " <Feature: IF(claimant.idx WHERE age_SP = <= 18_Y)>,\n",
       " <Feature: IF(claimant.idx WHERE age_coverage = > 70_pd)>,\n",
       " <Feature: IF(claimant.idx WHERE age_coverage = (18, 50]_pd)>,\n",
       " <Feature: IF(claimant.idx WHERE age_coverage = <= 18_UM)>,\n",
       " <Feature: IF(claimant.idx WHERE age = > 70)>,\n",
       " <Feature: IF(claimant.idx WHERE age_coverage = (18, 50]_pip)>,\n",
       " <Feature: IF(claimant.idx WHERE age_coverage = (50, 70]_pd)>,\n",
       " <Feature: IF(claimant.idx WHERE age = <= 18)>,\n",
       " <Feature: COUNT(claimant WHERE age_coverage = (18, 50]_UM)>,\n",
       " <Feature: COUNT(claimant WHERE age = (18, 50])>,\n",
       " <Feature: COUNT(claimant WHERE age_SP = (18, 50]_Y)>,\n",
       " <Feature: COUNT(claimant WHERE age_SP = (50, 70]_Y)>,\n",
       " <Feature: COUNT(claimant WHERE age_coverage = (50, 70]_pip)>,\n",
       " <Feature: COUNT(claimant WHERE age_coverage = (50, 70]_UM)>,\n",
       " <Feature: COUNT(claimant WHERE age_coverage = > 70_pip)>,\n",
       " <Feature: COUNT(claimant WHERE age = (50, 70])>,\n",
       " <Feature: COUNT(claimant WHERE age_coverage = > 70_UM)>,\n",
       " <Feature: COUNT(claimant WHERE age_SP = > 70_Y)>,\n",
       " <Feature: COUNT(claimant WHERE age_coverage = <= 18_pd)>,\n",
       " <Feature: COUNT(claimant WHERE age_coverage = <= 18_pip)>,\n",
       " <Feature: COUNT(claimant WHERE age_SP = <= 18_Y)>,\n",
       " <Feature: COUNT(claimant WHERE age_coverage = > 70_pd)>,\n",
       " <Feature: COUNT(claimant WHERE age_coverage = (18, 50]_pd)>,\n",
       " <Feature: COUNT(claimant WHERE age_coverage = <= 18_UM)>,\n",
       " <Feature: COUNT(claimant WHERE age = > 70)>,\n",
       " <Feature: COUNT(claimant WHERE age_coverage = (18, 50]_pip)>,\n",
       " <Feature: COUNT(claimant WHERE age_coverage = (50, 70]_pd)>,\n",
       " <Feature: COUNT(claimant WHERE age = <= 18)>]"
      ]
     },
     "execution_count": 25,
     "metadata": {},
     "output_type": "execute_result"
    }
   ],
   "source": [
    "features_kept"
   ]
  },
  {
   "cell_type": "code",
   "execution_count": 26,
   "metadata": {},
   "outputs": [],
   "source": [
    "df_out = ent.calculate_matrix(en_set,features_kept,cutoff)"
   ]
  },
  {
   "cell_type": "code",
   "execution_count": 27,
   "metadata": {},
   "outputs": [],
   "source": [
    "df_reset_idx = ent.recover_col(df_out,ent.target_idx_columns,ent.target_key)\n",
    "\n"
   ]
  },
  {
   "cell_type": "code",
   "execution_count": 28,
   "metadata": {},
   "outputs": [
    {
     "data": {
      "text/html": [
       "<div>\n",
       "<style scoped>\n",
       "    .dataframe tbody tr th:only-of-type {\n",
       "        vertical-align: middle;\n",
       "    }\n",
       "\n",
       "    .dataframe tbody tr th {\n",
       "        vertical-align: top;\n",
       "    }\n",
       "\n",
       "    .dataframe thead th {\n",
       "        text-align: right;\n",
       "    }\n",
       "</style>\n",
       "<table border=\"1\" class=\"dataframe\">\n",
       "  <thead>\n",
       "    <tr style=\"text-align: right;\">\n",
       "      <th></th>\n",
       "      <th>Claim_number</th>\n",
       "      <th>IF(claimant.idx)</th>\n",
       "      <th>COUNT(claimant)</th>\n",
       "      <th>IF(claimant.idx WHERE age_coverage = (18, 50]_UM)</th>\n",
       "      <th>IF(claimant.idx WHERE age = (18, 50])</th>\n",
       "      <th>IF(claimant.idx WHERE age_SP = (18, 50]_Y)</th>\n",
       "      <th>IF(claimant.idx WHERE age_SP = (50, 70]_Y)</th>\n",
       "      <th>IF(claimant.idx WHERE age_coverage = (50, 70]_pip)</th>\n",
       "      <th>IF(claimant.idx WHERE age_coverage = (50, 70]_UM)</th>\n",
       "      <th>IF(claimant.idx WHERE age_coverage = &gt; 70_pip)</th>\n",
       "      <th>...</th>\n",
       "      <th>COUNT(claimant WHERE age_coverage = &lt;= 18_pip)</th>\n",
       "      <th>COUNT(claimant WHERE age_SP = &lt;= 18_Y)</th>\n",
       "      <th>COUNT(claimant WHERE age_coverage = &gt; 70_pd)</th>\n",
       "      <th>COUNT(claimant WHERE age_coverage = (18, 50]_pd)</th>\n",
       "      <th>COUNT(claimant WHERE age_coverage = &lt;= 18_UM)</th>\n",
       "      <th>COUNT(claimant WHERE age = &gt; 70)</th>\n",
       "      <th>COUNT(claimant WHERE age_coverage = (18, 50]_pip)</th>\n",
       "      <th>COUNT(claimant WHERE age_coverage = (50, 70]_pd)</th>\n",
       "      <th>COUNT(claimant WHERE age = &lt;= 18)</th>\n",
       "      <th>date_insert</th>\n",
       "    </tr>\n",
       "  </thead>\n",
       "  <tbody>\n",
       "    <tr>\n",
       "      <th>0</th>\n",
       "      <td>1</td>\n",
       "      <td>1</td>\n",
       "      <td>3</td>\n",
       "      <td>0.0</td>\n",
       "      <td>1</td>\n",
       "      <td>1</td>\n",
       "      <td>0.0</td>\n",
       "      <td>0.0</td>\n",
       "      <td>0.0</td>\n",
       "      <td>0.0</td>\n",
       "      <td>...</td>\n",
       "      <td>0.0</td>\n",
       "      <td>0.0</td>\n",
       "      <td>0.0</td>\n",
       "      <td>2</td>\n",
       "      <td>0.0</td>\n",
       "      <td>0.0</td>\n",
       "      <td>1</td>\n",
       "      <td>0.0</td>\n",
       "      <td>0.0</td>\n",
       "      <td>2020-01-01 00:00:00</td>\n",
       "    </tr>\n",
       "    <tr>\n",
       "      <th>1</th>\n",
       "      <td>1</td>\n",
       "      <td>1</td>\n",
       "      <td>5</td>\n",
       "      <td>1.0</td>\n",
       "      <td>1</td>\n",
       "      <td>1</td>\n",
       "      <td>0.0</td>\n",
       "      <td>0.0</td>\n",
       "      <td>0.0</td>\n",
       "      <td>0.0</td>\n",
       "      <td>...</td>\n",
       "      <td>0.0</td>\n",
       "      <td>0.0</td>\n",
       "      <td>0.0</td>\n",
       "      <td>2</td>\n",
       "      <td>0.0</td>\n",
       "      <td>0.0</td>\n",
       "      <td>2</td>\n",
       "      <td>0.0</td>\n",
       "      <td>0.0</td>\n",
       "      <td>2020-01-07 00:00:00</td>\n",
       "    </tr>\n",
       "  </tbody>\n",
       "</table>\n",
       "<p>2 rows × 44 columns</p>\n",
       "</div>"
      ],
      "text/plain": [
       "  Claim_number  IF(claimant.idx)  COUNT(claimant)  \\\n",
       "0            1                 1                3   \n",
       "1            1                 1                5   \n",
       "\n",
       "   IF(claimant.idx WHERE age_coverage = (18, 50]_UM)  \\\n",
       "0                                                0.0   \n",
       "1                                                1.0   \n",
       "\n",
       "   IF(claimant.idx WHERE age = (18, 50])  \\\n",
       "0                                      1   \n",
       "1                                      1   \n",
       "\n",
       "   IF(claimant.idx WHERE age_SP = (18, 50]_Y)  \\\n",
       "0                                           1   \n",
       "1                                           1   \n",
       "\n",
       "   IF(claimant.idx WHERE age_SP = (50, 70]_Y)  \\\n",
       "0                                         0.0   \n",
       "1                                         0.0   \n",
       "\n",
       "   IF(claimant.idx WHERE age_coverage = (50, 70]_pip)  \\\n",
       "0                                                0.0    \n",
       "1                                                0.0    \n",
       "\n",
       "   IF(claimant.idx WHERE age_coverage = (50, 70]_UM)  \\\n",
       "0                                                0.0   \n",
       "1                                                0.0   \n",
       "\n",
       "   IF(claimant.idx WHERE age_coverage = > 70_pip)  ...  \\\n",
       "0                                             0.0  ...   \n",
       "1                                             0.0  ...   \n",
       "\n",
       "   COUNT(claimant WHERE age_coverage = <= 18_pip)  \\\n",
       "0                                             0.0   \n",
       "1                                             0.0   \n",
       "\n",
       "   COUNT(claimant WHERE age_SP = <= 18_Y)  \\\n",
       "0                                     0.0   \n",
       "1                                     0.0   \n",
       "\n",
       "   COUNT(claimant WHERE age_coverage = > 70_pd)  \\\n",
       "0                                           0.0   \n",
       "1                                           0.0   \n",
       "\n",
       "   COUNT(claimant WHERE age_coverage = (18, 50]_pd)  \\\n",
       "0                                                 2   \n",
       "1                                                 2   \n",
       "\n",
       "   COUNT(claimant WHERE age_coverage = <= 18_UM)  \\\n",
       "0                                            0.0   \n",
       "1                                            0.0   \n",
       "\n",
       "   COUNT(claimant WHERE age = > 70)  \\\n",
       "0                               0.0   \n",
       "1                               0.0   \n",
       "\n",
       "   COUNT(claimant WHERE age_coverage = (18, 50]_pip)  \\\n",
       "0                                                  1   \n",
       "1                                                  2   \n",
       "\n",
       "   COUNT(claimant WHERE age_coverage = (50, 70]_pd)  \\\n",
       "0                                               0.0   \n",
       "1                                               0.0   \n",
       "\n",
       "   COUNT(claimant WHERE age = <= 18)          date_insert  \n",
       "0                                0.0  2020-01-01 00:00:00  \n",
       "1                                0.0  2020-01-07 00:00:00  \n",
       "\n",
       "[2 rows x 44 columns]"
      ]
     },
     "execution_count": 28,
     "metadata": {},
     "output_type": "execute_result"
    }
   ],
   "source": [
    "df_reset_idx"
   ]
  },
  {
   "cell_type": "code",
   "execution_count": null,
   "metadata": {},
   "outputs": [],
   "source": []
  },
  {
   "cell_type": "code",
   "execution_count": null,
   "metadata": {},
   "outputs": [],
   "source": []
  },
  {
   "cell_type": "code",
   "execution_count": null,
   "metadata": {},
   "outputs": [],
   "source": []
  }
 ],
 "metadata": {
  "kernelspec": {
   "display_name": "flk",
   "language": "python",
   "name": "flk"
  },
  "language_info": {
   "codemirror_mode": {
    "name": "ipython",
    "version": 3
   },
   "file_extension": ".py",
   "mimetype": "text/x-python",
   "name": "python",
   "nbconvert_exporter": "python",
   "pygments_lexer": "ipython3",
   "version": "3.8.6"
  }
 },
 "nbformat": 4,
 "nbformat_minor": 4
}
