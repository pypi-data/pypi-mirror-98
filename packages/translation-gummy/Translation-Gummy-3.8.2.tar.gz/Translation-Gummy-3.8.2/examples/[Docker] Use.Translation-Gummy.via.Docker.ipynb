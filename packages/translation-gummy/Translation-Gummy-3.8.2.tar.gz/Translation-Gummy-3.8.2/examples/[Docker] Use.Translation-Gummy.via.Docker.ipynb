{
 "cells": [
  {
   "cell_type": "markdown",
   "metadata": {},
   "source": [
    "## Use Translation-Gummy via Docker"
   ]
  },
  {
   "cell_type": "markdown",
   "metadata": {},
   "source": [
    "Click [here](https://github.com/iwasakishuto/Translation-Gummy/tree/master/docker) for details."
   ]
  },
  {
   "cell_type": "markdown",
   "metadata": {},
   "source": [
    "### Create PDF from journal URL"
   ]
  },
  {
   "cell_type": "code",
   "execution_count": 1,
   "metadata": {},
   "outputs": [
    {
     "name": "stdout",
     "output_type": "stream",
     "text": [
      "failed to find \u001b[34mlibmagic\u001b[0m, so use \u001b[34mmimetypes\u001b[0m instead.\n",
      "\u001b[31m[failure]\u001b[0m local driver can't be built.\n",
      "\u001b[32m[success]\u001b[0m remote driver can be built.\n",
      "DRIVER_TYPE: \u001b[32mremote\u001b[0m\n"
     ]
    }
   ],
   "source": [
    "from gummy import TranslationGummy\n",
    "from gummy.utils import get_driver"
   ]
  },
  {
   "cell_type": "code",
   "execution_count": 2,
   "metadata": {},
   "outputs": [
    {
     "name": "stdout",
     "output_type": "stream",
     "text": [
      "DRIVER_TYPE: \u001b[32mremote\u001b[0m\n",
      "Estimated Journal Type : \u001b[01mNature\u001b[0m\n",
      "Crawling Type: \u001b[01msoup\u001b[0m\n",
      "Use \u001b[32mUselessGateWay\u001b[0m.\u001b[34m_pass2others\u001b[0m method.\n",
      "\n",
      "Decompose unnecessary tags to make it easy to parse.\n",
      "==============================\n",
      "Decomposed \u001b[32m<i>\u001b[0m tag (63)\n",
      "Decomposed \u001b[32m<link>\u001b[0m tag (19)\n",
      "Decomposed \u001b[32m<meta>\u001b[0m tag (281)\n",
      "Decomposed \u001b[32m<noscript>\u001b[0m tag (7)\n",
      "Decomposed \u001b[32m<script>\u001b[0m tag (57)\n",
      "Decomposed \u001b[32m<style>\u001b[0m tag (10)\n",
      "Decomposed \u001b[32m<sup>\u001b[0m tag (72)\n",
      "Decomposed \u001b[32m<None>\u001b[0m tag (29)\n",
      "\n",
      "Show contents of the paper.\n",
      "==============================\n",
      "[1/6] Abstract\n",
      "[2/6] Main\n",
      "[3/6] Methods\n",
      "[4/6] Data availability\n",
      "[5/6] Extended data figures and tables\n",
      "[6/6] Supplementary information\n",
      "\n",
      "Translation: \u001b[01mDeepLTranslator\u001b[0m\n",
      "==============================\n",
      "[01/16] \u001b[01mAbstract\u001b[0m (query1) 03/20 [##------------------] 15.00% - 3.422[s]\n",
      "[02/16] \u001b[01mMain\u001b[0m (query1) 01/20 [#-------------------]  5.00% - 1.102[s]\n",
      "[03/16] \u001b[01m\t\u001b[0m<img>\n",
      "[04/16] \u001b[01m\t\u001b[0m (query1) 01/20 [#-------------------]  5.00% - 1.088[s]\n",
      "[04/16] \u001b[01m\t\u001b[0m (query2) 01/20 [#-------------------]  5.00% - 1.095[s]\n",
      "[05/16] \u001b[01m\t\u001b[0m<img>\n",
      "[06/16] \u001b[01m\t\u001b[0m (query1) 01/20 [#-------------------]  5.00% - 1.179[s]\n",
      "[07/16] \u001b[01m\t\u001b[0m<img>\n",
      "[08/16] \u001b[01m\t\u001b[0m (query1) 01/20 [#-------------------]  5.00% - 1.093[s]\n",
      "[09/16] \u001b[01m\t\u001b[0m<img>\n",
      "[10/16] \u001b[01m\t\u001b[0m (query1) 01/20 [#-------------------]  5.00% - 1.093[s]\n",
      "[11/16] \u001b[01m\t\u001b[0m<img>\n",
      "[12/16] \u001b[01m\t\u001b[0m (query1) 01/20 [#-------------------]  5.00% - 1.102[s]\n",
      "[13/16] \u001b[01mMethods\u001b[0m (query1) 01/20 [#-------------------]  5.00% - 1.104[s]\n",
      "[13/16] \u001b[01mMethods\u001b[0m (query2) 01/20 [#-------------------]  5.00% - 1.092[s]\n",
      "[13/16] \u001b[01mMethods\u001b[0m (query3) 01/20 [#-------------------]  5.00% - 1.209[s]\n",
      "[14/16] \u001b[01mData availability\u001b[0m (query1) 01/20 [#-------------------]  5.00% - 1.098[s]\n",
      "[15/16] \u001b[01mExtended data figures and tables\u001b[0m (query1) 01/20 [#-------------------]  5.00% - 1.092[s]\n",
      "[16/16] \u001b[01mSupplementary information\u001b[0m (query1) 01/20 [#-------------------]  5.00% - 1.094[s]\n",
      "Save HTML file at \u001b[34m/home/jovyan/.gummy/A mobile robotic chemist.html\u001b[0m\n",
      "Convert from HTML to PDF\n",
      "==============================\n",
      "Save PDF file at \u001b[34m/home/jovyan/.gummy/A mobile robotic chemist.pdf\u001b[0m\n",
      "Delete original HTML file at \u001b[31m/home/jovyan/.gummy/A mobile robotic chemist.html\u001b[0m\n",
      "/home/jovyan/.gummy/A mobile robotic chemist.pdf\n"
     ]
    }
   ],
   "source": [
    "with get_driver(selenium_port=\"4444\") as driver:          \n",
    "    model = TranslationGummy(driver=driver, gateway=\"useless\", translator=\"deepl\")\n",
    "    pdf_path = model.toPDF(url=\"https://www.nature.com/articles/s41586-020-2442-2\")\n",
    "    print(pdf_path)"
   ]
  },
  {
   "cell_type": "code",
   "execution_count": null,
   "metadata": {},
   "outputs": [],
   "source": []
  }
 ],
 "metadata": {
  "hide_input": false,
  "kernelspec": {
   "display_name": "Python 3",
   "language": "python",
   "name": "python3"
  },
  "language_info": {
   "codemirror_mode": {
    "name": "ipython",
    "version": 3
   },
   "file_extension": ".py",
   "mimetype": "text/x-python",
   "name": "python",
   "nbconvert_exporter": "python",
   "pygments_lexer": "ipython3",
   "version": "3.7.3"
  }
 },
 "nbformat": 4,
 "nbformat_minor": 4
}
