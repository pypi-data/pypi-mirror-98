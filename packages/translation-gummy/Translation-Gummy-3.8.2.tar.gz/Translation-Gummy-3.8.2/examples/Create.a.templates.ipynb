{
 "cells": [
  {
   "cell_type": "markdown",
   "metadata": {},
   "source": [
    "# Create a Template"
   ]
  },
  {
   "cell_type": "markdown",
   "metadata": {},
   "source": [
    "PDF(HTML) templates are shown [here](https://github.com/iwasakishuto/Translation-Gummy/tree/master/gummy/templates)."
   ]
  },
  {
   "cell_type": "code",
   "execution_count": 1,
   "metadata": {},
   "outputs": [
    {
     "name": "stdout",
     "output_type": "stream",
     "text": [
      "\u001b[32m[success]\u001b[0m local driver can be built.\n",
      "\u001b[31m[failure]\u001b[0m remote driver can't be built.\n",
      "DRIVER_TYPE: \u001b[32mlocal\u001b[0m\n"
     ]
    }
   ],
   "source": [
    "from gummy.utils import tohtml"
   ]
  },
  {
   "cell_type": "code",
   "execution_count": 2,
   "metadata": {
    "code_folding": []
   },
   "outputs": [],
   "source": [
    "contents = [\n",
    "    {\n",
    "        \"en\": \"English\",\n",
    "        \"ja\": \"日本語\",\n",
    "        \"head\": \"見出し\",\n",
    "        \"subhead\": \"小見出し\"\n",
    "    }\n",
    "]"
   ]
  },
  {
   "cell_type": "code",
   "execution_count": 3,
   "metadata": {},
   "outputs": [
    {
     "name": "stdout",
     "output_type": "stream",
     "text": [
      "Save HTML file at \u001b[34mexample.html\u001b[0m\n"
     ]
    }
   ],
   "source": [
    "_ = tohtml(\n",
    "    path=\"example.html\", \n",
    "    title=\"Title\", \n",
    "    contents=contents,\n",
    "    template=\"paper.html\",\n",
    ")"
   ]
  },
  {
   "cell_type": "code",
   "execution_count": 4,
   "metadata": {
    "scrolled": false
   },
   "outputs": [
    {
     "name": "stdout",
     "output_type": "stream",
     "text": [
      "<!DOCTYPE html>\r\n",
      "<html lang=\"en\">\r\n",
      "  <head>\r\n",
      "    <meta charset=\"UTF-8\" />\r\n",
      "    <meta name=\"viewport\" content=\"width=device-width, initial-scale=1.0\" />\r\n",
      "    <meta name=\"twitter:card\" content=\"summary\" />\r\n",
      "    <meta name=\"twitter:site\" content=\"@cabernet_rock\" />\r\n",
      "    <meta property=\"og:url\" content=\"https://github.com/iwasakishuto/Translation-Gummy\" />\r\n",
      "    <meta property=\"og:title\" content=\"Translation-Gummy\" />\r\n",
      "    <meta property=\"og:description\" content=\"Translation Gummy is a magical gadget which enables user to be able to speak and understand other languages.\" />\r\n",
      "    <meta property=\"og:image\" content=\"https://github.com/iwasakishuto/Translation-Gummy/blob/master/image/header.png?raw=true\" />\r\n",
      "    <meta name=\"slack-app-id\" content=\"A017FQB5GV9\">\r\n",
      "    <title>Title</title>\r\n",
      "    <style>\r\n",
      "  body {\r\n",
      "    font-family: \"Times New Roman\", \"Helvetica Neue\", Meiryo, monospace, -apple-system, BlinkMacSystemFont, \"Segoe UI\", Roboto, Oxygen, Ubuntu, Cantarell, IPAexMincho, \"Open Sans\", \"Helvetica Neue\", sans-serif, serif;\r\n",
      "    margin: 0;\r\n",
      "  }\r\n",
      "  span.title {\r\n",
      "    text-align: center;\r\n",
      "    font-size: 2.5em;\r\n",
      "    font-weight: bold;\r\n",
      "  }\r\n",
      "  h2.head {\r\n",
      "    border-bottom: 2px solid #d5d5d5;\r\n",
      "    font-size: 1.5em;\r\n",
      "    margin: 0.75em 0;\r\n",
      "  }\r\n",
      "  h3.subhead {\r\n",
      "    font-size: 1.1em;\r\n",
      "    margin: 0.75em 0;\r\n",
      "    position: relative;\r\n",
      "    padding: 0 1em;\r\n",
      "    display: inline-block;\r\n",
      "    top:0;\r\n",
      "  }\r\n",
      "  h3.subhead:before, h3.subhead:after { \r\n",
      "    position: absolute;\r\n",
      "    top: 0;\r\n",
      "    content:'';\r\n",
      "    width: 8px;\r\n",
      "    height: 100%;\r\n",
      "    display: inline-block;\r\n",
      "  }\r\n",
      "  h3.subhead:before {\r\n",
      "    border-top: solid 1px #d5d5d5;\r\n",
      "    border-left: solid 1px #d5d5d5;\r\n",
      "    border-bottom: solid 1px #d5d5d5;\r\n",
      "    left: 0;\r\n",
      "  }\r\n",
      "  h3.subhead:after {\r\n",
      "    content: '';\r\n",
      "    border-top: solid 1px #d5d5d5;\r\n",
      "    border-right: solid 1px #d5d5d5;\r\n",
      "    border-bottom: solid 1px #d5d5d5;\r\n",
      "    right: 0;\r\n",
      "  }\r\n",
      "  table {\r\n",
      "    width: 100%;\r\n",
      "    border-collapse: collapse;\r\n",
      "    table-layout: fixed;\r\n",
      "  }\r\n",
      "  thead {\r\n",
      "    font-size: 1.15em;\r\n",
      "    font-weight: bold;\r\n",
      "  }\r\n",
      "  td, th {\r\n",
      "    width: 50%;\r\n",
      "    vertical-align: top;\r\n",
      "  }\r\n",
      "  .raw {\r\n",
      "    line-height: 1.6em;\r\n",
      "  }\r\n",
      "  .translated {\r\n",
      "    font-size: 0.85em;\r\n",
      "    line-height: 2.25em;\r\n",
      "  }\r\n",
      "  p.img_center {\r\n",
      "    text-align: center;\r\n",
      "    border: 5px solid #d5d5d5;\r\n",
      "    padding: 20px 10px;\r\n",
      "    max-width: 100%;\r\n",
      "    margin: 10px 10%;\r\n",
      "  }\r\n",
      "  img {\r\n",
      "    max-width: 80%;\r\n",
      "  }\r\n",
      "  span.odd {\r\n",
      "    background-color: #fff!important;\r\n",
      "  }\r\n",
      "  span.even {\r\n",
      "    background-color: #ddd!important;\r\n",
      "  }\r\n",
      "  sup {\r\n",
      "    color: #777;\r\n",
      "    font-size: .75em;\r\n",
      "  }\r\n",
      "  @media print {\r\n",
      "    * {\r\n",
      "      -webkit-print-color-adjust: exact;  \r\n",
      "    }\r\n",
      "    span.odd {\r\n",
      "      background-color: #fff!important;\r\n",
      "    }\r\n",
      "    span.even {\r\n",
      "      background-color: #ddd!important;\r\n",
      "    }\r\n",
      "  }\r\n",
      "</style>\r\n",
      "  </head>\r\n",
      "  <body>\r\n",
      "    <span class=\"title\"> Title </span>\r\n",
      "    \r\n",
      "    <h2 class=\"head\">見出し</h2>\r\n",
      "    <h3 class=\"subhead\">小見出し</h3>\r\n",
      "\r\n",
      "  </body>\r\n",
      "</html>"
     ]
    }
   ],
   "source": [
    "!cat example.html"
   ]
  }
 ],
 "metadata": {
  "hide_input": false,
  "kernelspec": {
   "display_name": "Python 3 (/usr/local/bin/)",
   "language": "python",
   "name": "python3"
  },
  "language_info": {
   "codemirror_mode": {
    "name": "ipython",
    "version": 3
   },
   "file_extension": ".py",
   "mimetype": "text/x-python",
   "name": "python",
   "nbconvert_exporter": "python",
   "pygments_lexer": "ipython3",
   "version": "3.8.5"
  }
 },
 "nbformat": 4,
 "nbformat_minor": 4
}
