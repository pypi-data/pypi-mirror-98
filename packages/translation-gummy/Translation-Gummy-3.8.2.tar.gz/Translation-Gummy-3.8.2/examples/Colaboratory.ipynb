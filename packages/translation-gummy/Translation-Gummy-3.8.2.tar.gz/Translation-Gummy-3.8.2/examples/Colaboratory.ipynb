{
  "nbformat": 4,
  "nbformat_minor": 0,
  "metadata": {
    "colab": {
      "name": "Translation-Gummy.ipynb",
      "provenance": [],
      "collapsed_sections": [],
      "authorship_tag": "ABX9TyPPwclrB1svBoLXfGq2Tajb",
      "include_colab_link": true
    },
    "kernelspec": {
      "name": "python3",
      "display_name": "Python 3"
    }
  },
  "cells": [
    {
      "cell_type": "markdown",
      "metadata": {
        "id": "view-in-github",
        "colab_type": "text"
      },
      "source": [
        "<a href=\"https://colab.research.google.com/github/iwasakishuto/Translation-Gummy/blob/master/examples/Colaboratory.ipynb\" target=\"_parent\"><img src=\"https://colab.research.google.com/assets/colab-badge.svg\" alt=\"Open In Colab\"/></a>"
      ]
    },
    {
      "cell_type": "markdown",
      "metadata": {
        "id": "eb5iZXSsAlTg"
      },
      "source": [
        "# Translation-Gummy on Google Colab Notebook\n",
        "\n",
        "\n",
        "<a href=\"https://github.com/iwasakishuto/Translation-Gummy\"><img src=\"https://github.com/iwasakishuto/Translation-Gummy/blob/master/image/header.png?raw=true\" alt=\"header\" width=\"50%\"></a>\n",
        "\n",
        "[![PyPI version](https://badge.fury.io/py/Translation-Gummy.svg)](https://pypi.org/project/Translation-Gummy/)\n",
        "[![GitHub version](https://badge.fury.io/gh/iwasakishuto%2FTranslation-Gummy.svg)](https://github.com/iwasakishuto/Translation-Gummy)\n",
        "![Python package](https://github.com/iwasakishuto/Translation-Gummy/workflows/Python%20package/badge.svg)\n",
        "![Upload Python Package](https://github.com/iwasakishuto/Translation-Gummy/workflows/Upload%20Python%20Package/badge.svg)\n",
        "[![license](https://img.shields.io/github/license/mashape/apistatus.svg?maxAge=2592000)](https://github.com/iwasakishuto/Translation-Gummy/blob/master/LICENSE)\n",
        "[![Open in Colab](https://colab.research.google.com/assets/colab-badge.svg)](https://colab.research.google.com/github/iwasakishuto/Translation-Gummy/blob/master/examples/Colaboratory.ipynb)\n",
        "[![Docker file](https://img.shields.io/badge/%F0%9F%90%B3-Dockerfile-0db7ed?style=flat-radius)](https://github.com/iwasakishuto/Translation-Gummy/blob/master/docker/Dockerfile)\n",
        "[![Documentation](https://img.shields.io/badge/Documentation-portfolio-001d34?style=flat-radius)](https://iwasakishuto.github.io/Translation-Gummy/index.html)\n",
        "[![twitter badge](https://img.shields.io/badge/twitter-Requests-1da1f2?style=flat-radius&logo=twitter)](https://www.twitter.com/messages/compose?recipient_id=1042783905697288193&text=Please%20support%20this%20journal%3A%20)\n",
        "[![Qiita badge1](https://img.shields.io/badge/「ほん訳コンニャク」を食べて論文を読もう-Qiita-64c914?style=flat-radius)](https://qiita.com/cabernet_rock/items/670d5cd597bcd9f2ff3f)\n",
        "[![Qiita badge2](https://img.shields.io/badge/「ほん訳コンニャク」を使ってみよう。-Qiita-64c914?style=flat-radius)](https://qiita.com/cabernet_rock/items/1f9bff5e0b9363da312d)\n",
        "[![website](https://img.shields.io/badge/website-Translation--Gummy-lightblue)](https://elb.translation-gummy.com/)\n",
        "[![Sponsor](https://img.shields.io/badge/%E2%9D%A4-Sponsor-db61a2)](https://github.com/sponsors/iwasakishuto)\n",
        "[![Add to Slack](https://platform.slack-edge.com/img/add_to_slack.png)](https://elb.translation-gummy.com/slack_auth_begin)"
      ]
    },
    {
      "cell_type": "markdown",
      "metadata": {
        "id": "VICmVoUoN6_e"
      },
      "source": [
        "### Environment"
      ]
    },
    {
      "cell_type": "code",
      "metadata": {
        "id": "3tjQ8Pl6A-Hp"
      },
      "source": [
        "# Ubuntu 18.04.5 LTS \\n \\l\n",
        "! cat /etc/issue "
      ],
      "execution_count": null,
      "outputs": []
    },
    {
      "cell_type": "code",
      "metadata": {
        "id": "9SM3tI9S8DGe"
      },
      "source": [
        "REPOSITORY = PACKAGE_NAME = \"Translation-Gummy\"\n",
        "WKHTMLTOPDF_VERSION = \"0.12.4\""
      ],
      "execution_count": null,
      "outputs": []
    },
    {
      "cell_type": "markdown",
      "metadata": {
        "id": "sTEb4l4R8DnD"
      },
      "source": [
        "## Installation"
      ]
    },
    {
      "cell_type": "code",
      "metadata": {
        "id": "PNF2-WFsL1IO"
      },
      "source": [
        "# Install Fonts\n",
        "! wget https://noto-website.storage.googleapis.com/pkgs/Noto-unhinted.zip \\\n",
        "        && unzip -d NotoSansJapanese Noto-unhinted.zip \\\n",
        "        && mkdir -p /usr/share/fonts/opentype \\\n",
        "        && mv -fv ./NotoSansJapanese /usr/share/fonts/opentype/NotoSansJapanese \\\n",
        "        && rm -rfv Noto-unhinted.zip \\\n",
        "        && fc-cache -fv; \\\n",
        "        \n",
        "# Install chromedriver\n",
        "! apt-get update -y && \\\n",
        "  apt-get install chromium-chromedriver\n",
        "\n",
        "# Install wkhtmltopdf\n",
        "! wget \"https://github.com/wkhtmltopdf/wkhtmltopdf/releases/download/{WKHTMLTOPDF_VERSION}/wkhtmltox-{WKHTMLTOPDF_VERSION}_linux-generic-amd64.tar.xz\" && \\\n",
        "  tar vxfJ \"wkhtmltox-{WKHTMLTOPDF_VERSION}_linux-generic-amd64.tar.xz\" && \\\n",
        "  mv wkhtmltox/bin/wkhtmltopdf /usr/bin/wkhtmltopdf\n",
        "\n",
        "# Install Translation-Gummy\n",
        "# ! pip install \"git+https://git@github.com/iwasakishuto/{REPOSITORY}.git@develop\"\n",
        "! pip install \"{PACKAGE_NAME}\""
      ],
      "execution_count": null,
      "outputs": []
    },
    {
      "cell_type": "markdown",
      "metadata": {
        "id": "GYAfPJmDN3K-"
      },
      "source": [
        "## Examples"
      ]
    },
    {
      "cell_type": "code",
      "metadata": {
        "id": "qROwUx2ARt6J"
      },
      "source": [
        "from google.colab import files\n",
        "from gummy import TranslationGummy\n",
        "\n",
        "def func(url, gateway=\"useless\", translator=\"deepl\", correspond=True, **gatewaykwargs):\n",
        "  model = TranslationGummy(gateway=gateway, translator=translator, specialize=True)\n",
        "  pdfpath = model.toPDF(url=url, from_lang=\"en\", to_lang=\"ja\", correspond=correspond, delete_html=True, **gatewaykwargs)\n",
        "  files.download(pdfpath)"
      ],
      "execution_count": null,
      "outputs": []
    },
    {
      "cell_type": "code",
      "metadata": {
        "id": "31yl54awaIW0"
      },
      "source": [
        "func(url=\"https://www.nature.com/articles/ncb0800_500\")"
      ],
      "execution_count": null,
      "outputs": []
    },
    {
      "cell_type": "markdown",
      "metadata": {
        "id": "6lp_ci5eYde8"
      },
      "source": [
        "You may get a PDF of **Abstract only**.\n",
        "\n",
        "This is because [_Nature Cell Biology_](https://www.nature.com/ncb/) is not an **open access journal**, so you have to get a right access to get full contents in this journal.\n",
        "\n",
        "If you have, for example <a href=\"https://gateway.itc.u-tokyo.ac.jp/dana-na/auth/url_default/welcome.cgi\">SSL-VPN Gateway service</a>\n",
        "(Authentication Gateway Service for students at the <a href=\"https://www.u-tokyo.ac.jp/en/index.html\">University of Tokyo</a>), you can use your access rights by using [`gummy.gateways` module](https://iwasakishuto.github.io/Translation-Gummy/gummy.gateways.html)"
      ]
    },
    {
      "cell_type": "code",
      "metadata": {
        "id": "i9nBMwghcXU1"
      },
      "source": [
        "USERNAME=\"\"\n",
        "PASSWORD=\"\""
      ],
      "execution_count": null,
      "outputs": []
    },
    {
      "cell_type": "code",
      "metadata": {
        "id": "Ftxu15qJb1th"
      },
      "source": [
        "gatewaykwargs = {\n",
        "    \"username\" : USERNAME,\n",
        "    \"password\" : PASSWORD,\n",
        "}"
      ],
      "execution_count": null,
      "outputs": []
    },
    {
      "cell_type": "code",
      "metadata": {
        "id": "Re4FuyvyJQPW"
      },
      "source": [
        "func(url=\"https://www.nature.com/articles/ncb0800_500\", gateway=\"utokyo\", **gatewaykwargs)"
      ],
      "execution_count": null,
      "outputs": []
    }
  ]
}