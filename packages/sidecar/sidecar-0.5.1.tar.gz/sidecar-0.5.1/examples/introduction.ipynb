{
 "cells": [
  {
   "cell_type": "markdown",
   "metadata": {},
   "source": [
    "# Introduction"
   ]
  },
  {
   "cell_type": "code",
   "execution_count": null,
   "metadata": {},
   "outputs": [],
   "source": [
    "from sidecar import Sidecar\n",
    "from ipywidgets import IntSlider"
   ]
  },
  {
   "cell_type": "code",
   "execution_count": null,
   "metadata": {},
   "outputs": [],
   "source": [
    "sc = Sidecar(title='Sidecar Output')\n",
    "sl = IntSlider(description='Some slider')\n",
    "\n",
    "with sc:\n",
    "    display(sl)"
   ]
  },
  {
   "cell_type": "markdown",
   "metadata": {},
   "source": [
    "# Sidecar as main area panel"
   ]
  },
  {
   "cell_type": "code",
   "execution_count": null,
   "metadata": {},
   "outputs": [],
   "source": [
    "sl = IntSlider(description='Some slider')\n",
    "\n",
    "with Sidecar(title='Sidecar Output Main', anchor='split-right'):\n",
    "    display(sl)"
   ]
  },
  {
   "cell_type": "markdown",
   "metadata": {},
   "source": [
    "`anchor` can take one of the following value: \n",
    "\n",
    "- 'split-right': main panel right of the notebook,\n",
    "- 'split-left': main panel left of the notebook,\n",
    "- 'split-top': main panel above the notebook,\n",
    "- 'split-bottom': main panel below the notebook, \n",
    "- 'tab-before': main panel stacked before the tab notebook,\n",
    "- 'tab-after': main panel stacked after the tab notebook,\n",
    "- 'right': [default] right sidebar panel."
   ]
  }
 ],
 "metadata": {
  "kernelspec": {
   "display_name": "Python [default]",
   "language": "python",
   "name": "python3"
  },
  "language_info": {
   "codemirror_mode": {
    "name": "ipython",
    "version": 3
   },
   "file_extension": ".py",
   "mimetype": "text/x-python",
   "name": "python",
   "nbconvert_exporter": "python",
   "pygments_lexer": "ipython3",
   "version": "3.6.5"
  }
 },
 "nbformat": 4,
 "nbformat_minor": 2
}