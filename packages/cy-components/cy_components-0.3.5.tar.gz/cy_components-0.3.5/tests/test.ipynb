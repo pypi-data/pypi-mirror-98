{
 "cells": [
  {
   "cell_type": "code",
   "execution_count": 38,
   "metadata": {
    "tags": []
   },
   "outputs": [
    {
     "output_type": "stream",
     "name": "stdout",
     "text": "2020-07-07 22:43:24.896601 1594133004000\n2020-07-07 14:43:24+00:00 2020-07-07 22:43:24+08:00\n2020-07-07 22:43:24 None 2020-07-07 14:43:24+00:00 2020-07-07 22:43:24+00:00\n2020-07-07 22:43:24+08:00\n"
    }
   ],
   "source": [
    "from cy_components.helpers.formatter import DateFormatter as df\n",
    "from datetime import datetime\n",
    "import pytz\n",
    "now = datetime.now()\n",
    "ts = df.convert_local_date_to_timestamp(now)\n",
    "date_utc = df.convert_timestamp_to_local_date(ts, tz=pytz.utc)\n",
    "date_local = df.convert_timestamp_to_local_date(ts)\n",
    "date_local_with_tz = df.convert_timestamp_to_local_date(ts, tz=pytz.timezone(\"Asia/Shanghai\"))\n",
    "print(now, ts)\n",
    "print(date_utc, date_utc.astimezone(tz=pytz.timezone(\"Asia/Shanghai\")))\n",
    "print(date_local, date_local.tzinfo, date_local.astimezone(tz=pytz.utc), date_local.replace(tzinfo=pytz.utc))\n",
    "print(date_local_with_tz)"
   ]
  },
  {
   "cell_type": "code",
   "execution_count": 1,
   "metadata": {
    "tags": []
   },
   "outputs": [
    {
     "output_type": "stream",
     "name": "stdout",
     "text": "None 2020-07-07 22:23:00\n2020-07-07 22:23:00+12:58\n2020-07-07 06:23:00-08:00\n1594113900000\n1594131780000\n2020-07-07 22:23:00+00:00\n2020-07-07 14:23:00+00:00\n1594160580000\n1594131780000\n"
    }
   ],
   "source": [
    "from cy_components.helpers.formatter import DateFormatter as df\n",
    "from datetime import datetime\n",
    "import pytz\n",
    "\n",
    "date_string = '2020-07-07 22:23:00'\n",
    "date = df.convert_string_to_local_date(date_string)\n",
    "print(date.tzinfo, date)\n",
    "date_replace = date.replace(tzinfo=pytz.timezone('America/Nome'))\n",
    "date_as = date.astimezone(tz=pytz.timezone('America/Nome'))\n",
    "print(date_replace)\n",
    "print(date_as)\n",
    "print(df.convert_local_date_to_timestamp(date_replace))\n",
    "print(df.convert_local_date_to_timestamp(date_as))\n",
    "date_replace = date.replace(tzinfo=pytz.utc)\n",
    "date_as = date.astimezone(tz=pytz.utc)\n",
    "print(date_replace)\n",
    "print(date_as)\n",
    "print(df.convert_local_date_to_timestamp(date_replace))\n",
    "print(df.convert_local_date_to_timestamp(date_as))"
   ]
  },
  {
   "cell_type": "code",
   "execution_count": 11,
   "metadata": {},
   "outputs": [
    {
     "output_type": "execute_result",
     "data": {
      "text/plain": "datetime.datetime(2020, 7, 7, 14, 14, 39, tzinfo=<UTC>)"
     },
     "metadata": {},
     "execution_count": 11
    }
   ],
   "source": []
  },
  {
   "cell_type": "code",
   "execution_count": null,
   "metadata": {},
   "outputs": [],
   "source": []
  }
 ],
 "metadata": {
  "language_info": {
   "codemirror_mode": {
    "name": "ipython",
    "version": 3
   },
   "file_extension": ".py",
   "mimetype": "text/x-python",
   "name": "python",
   "nbconvert_exporter": "python",
   "pygments_lexer": "ipython3",
   "version": "3.7.5-final"
  },
  "orig_nbformat": 2,
  "kernelspec": {
   "name": "python37564bit0b633b15d70b48adb30f596c0f66ec29",
   "display_name": "Python 3.7.5 64-bit"
  }
 },
 "nbformat": 4,
 "nbformat_minor": 2
}