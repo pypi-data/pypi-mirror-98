{
 "cells": [
  {
   "cell_type": "markdown",
   "metadata": {},
   "source": [
    "# Reading isotherms\n",
    "\n",
    "The first thing to do is to read previously created isotherms. Example data can be found in the [data](https://github.com/pauliacomi/pyGAPS/tree/master/docs/examples/data) directory, saved in the pyGAPS JSON format, which we will now open. First, we'll do the necessary top-level imports for the session."
   ]
  },
  {
   "cell_type": "code",
   "execution_count": 1,
   "metadata": {},
   "outputs": [],
   "source": [
    "from pathlib import Path\n",
    "import matplotlib.pyplot as plt\n",
    "import pygaps\n",
    "\n",
    "json_path = Path.cwd() / 'data'"
   ]
  },
  {
   "cell_type": "markdown",
   "metadata": {},
   "source": [
    "Then we'll import the json files, one-by-one by using the `isotherm_from_json` method which reads an isotherm from a file (or a string). There are three folders:\n",
    "\n",
    "- One containing nitrogen adsorption data at 77 kelvin\n",
    "- Another with room-temperature adsorption of $CO_2$ combined with microcalorimetry\n",
    "- Some room-temperature isotherms which we will use for IAST calculations\n",
    "- Finally a set of isotherms with $C_4H_{10}$ at different temperature, for isosteric enthalpy calculations"
   ]
  },
  {
   "cell_type": "code",
   "execution_count": 2,
   "metadata": {},
   "outputs": [
    {
     "output_type": "stream",
     "name": "stdout",
     "text": [
      "Selected 5 isotherms with nitrogen at 77K\n"
     ]
    }
   ],
   "source": [
    "# Get the nitrogen data at 77 kelvin\n",
    "isotherms_n2_77k_paths = list(Path(json_path / 'characterisation').rglob(\"*.json\" ))\n",
    "isotherms_n2_77k = []\n",
    "for filepath in isotherms_n2_77k_paths:\n",
    "    isotherms_n2_77k.append(pygaps.isotherm_from_json(filepath))\n",
    "        \n",
    "print('Selected', len(isotherms_n2_77k), 'isotherms with nitrogen at 77K')"
   ]
  },
  {
   "cell_type": "code",
   "execution_count": 3,
   "metadata": {},
   "outputs": [
    {
     "output_type": "stream",
     "name": "stdout",
     "text": [
      "Selected 2 room temperature calorimetry isotherms\n"
     ]
    }
   ],
   "source": [
    "# Get the combined isotherm-calorimetry data\n",
    "isotherms_calorimetry_paths = list(Path(json_path / 'calorimetry').rglob(\"*.json\" ))\n",
    "isotherms_calorimetry = []\n",
    "for filepath in isotherms_calorimetry_paths:\n",
    "    isotherms_calorimetry.append(pygaps.isotherm_from_json(filepath))\n",
    "        \n",
    "print('Selected', len(isotherms_calorimetry), 'room temperature calorimetry isotherms')"
   ]
  },
  {
   "cell_type": "code",
   "execution_count": 4,
   "metadata": {},
   "outputs": [
    {
     "output_type": "stream",
     "name": "stdout",
     "text": [
      "Selected 2 isotherms for IAST calculation\n"
     ]
    }
   ],
   "source": [
    "# Get the isotherms for IAST calculations\n",
    "isotherms_iast_paths = list(Path(json_path / 'iast').rglob(\"*.json\" ))\n",
    "isotherms_iast = []\n",
    "for filepath in isotherms_iast_paths:\n",
    "    isotherms_iast.append(pygaps.isotherm_from_json(filepath))\n",
    "        \n",
    "print('Selected', len(isotherms_iast), 'isotherms for IAST calculation')"
   ]
  },
  {
   "cell_type": "code",
   "execution_count": 5,
   "metadata": {},
   "outputs": [
    {
     "output_type": "stream",
     "name": "stdout",
     "text": [
      "Selected 3 isotherms for isosteric enthalpy calculation\n"
     ]
    }
   ],
   "source": [
    "# Get the isotherms for isosteric enthalpy calculations\n",
    "isotherms_isosteric_paths = list(Path(json_path / 'isosteric').rglob(\"*.json\" ))\n",
    "isotherms_isosteric = []\n",
    "for filepath in isotherms_isosteric_paths:\n",
    "    isotherms_isosteric.append(pygaps.isotherm_from_json(filepath))\n",
    "        \n",
    "print('Selected', len(isotherms_isosteric), 'isotherms for isosteric enthalpy calculation')"
   ]
  }
 ],
 "metadata": {
  "kernelspec": {
   "display_name": "Python 3",
   "language": "python",
   "name": "python3"
  },
  "language_info": {
   "codemirror_mode": {
    "name": "ipython",
    "version": 3
   },
   "file_extension": ".py",
   "mimetype": "text/x-python",
   "name": "python",
   "nbconvert_exporter": "python",
   "pygments_lexer": "ipython3",
   "version": "3.8.5"
  }
 },
 "nbformat": 4,
 "nbformat_minor": 2
}