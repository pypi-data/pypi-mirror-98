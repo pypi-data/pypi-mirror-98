{
 "cells": [
  {
   "cell_type": "markdown",
   "metadata": {},
   "source": [
    "# Database examples"
   ]
  },
  {
   "cell_type": "markdown",
   "metadata": {},
   "source": [
    "## Premise\n",
    "\n",
    "Let's assume we want to upload a newly created isotherm in the internal database. This isotherm\n",
    "is measured on the novel adsorbent *Carbon X1*, with nitrogen at 77 K. The sample itself is \n",
    "synthesised locally, by Dr. Alice and has then undergone a chemical activation process. The experiment is performed on a homemade apparatus by Dr. Bob."
   ]
  },
  {
   "cell_type": "markdown",
   "metadata": {},
   "source": [
    "## Imports\n",
    "\n",
    "First we need to do the required imports"
   ]
  },
  {
   "cell_type": "code",
   "execution_count": 1,
   "metadata": {},
   "outputs": [],
   "source": [
    "import pygaps"
   ]
  },
  {
   "cell_type": "markdown",
   "metadata": {},
   "source": [
    "## Adsorbate"
   ]
  },
  {
   "cell_type": "markdown",
   "metadata": {},
   "source": [
    "The internal database already contains nitrogen as an adsorbate therefore, there's no need to\n",
    "worry about the adsorbate for now."
   ]
  },
  {
   "cell_type": "markdown",
   "metadata": {},
   "source": [
    "## Material\n",
    "\n",
    "Since no samples are present in the internal database, we must first upload the sample object.\n",
    "We create a Material class with the required values and try to upload it."
   ]
  },
  {
   "cell_type": "code",
   "execution_count": 2,
   "metadata": {
    "scrolled": true
   },
   "outputs": [
    {
     "name": "stdout",
     "output_type": "stream",
     "text": [
      "Error\n",
      "\n"
     ]
    }
   ],
   "source": [
    "novel_material = pygaps.Material(\n",
    "            name = 'Carbon',\n",
    "            batch = 'X1',\n",
    "\n",
    "            contact = 'Alice',\n",
    "            source = 'local',\n",
    "            treatment = 'etched'\n",
    "            )\n",
    "\n",
    "try:\n",
    "    pygaps.material_to_db(pygaps.DATABASE, novel_material)\n",
    "except Exception as e:\n",
    "    print(e)"
   ]
  },
  {
   "cell_type": "markdown",
   "metadata": {},
   "source": [
    "We get a foreign key error, since the constraints do not exist in the database yet.\n",
    "Before we can upload the sample, we need to have the values of the foreign keys in place:\n",
    "\n",
    "- the contact, as Alice\n",
    "- the source, as local\n",
    "- the type of adsorbent, as novel\n",
    "- the sample property we have added\n",
    "\n",
    "We can do this by passing to the respective functions dictionaries with the required values."
   ]
  },
  {
   "cell_type": "code",
   "execution_count": 3,
   "metadata": {},
   "outputs": [
    {
     "name": "stdout",
     "output_type": "stream",
     "text": [
      "Material properties type uploaded contact\n",
      "Material properties type uploaded source\n",
      "Material properties type uploaded treatment\n"
     ]
    }
   ],
   "source": [
    "pygaps.material_to_db_property_type(pygaps.DATABASE, { 'type' : 'contact'})\n",
    "pygaps.material_to_db_property_type(pygaps.DATABASE, { 'type' : 'source'})\n",
    "pygaps.material_to_db_property_type(pygaps.DATABASE, { 'type' : 'treatment'})"
   ]
  },
  {
   "cell_type": "markdown",
   "metadata": {},
   "source": [
    "Now that all of the constraints are in place let's try the sample upload again."
   ]
  },
  {
   "cell_type": "code",
   "execution_count": 4,
   "metadata": {},
   "outputs": [
    {
     "name": "stdout",
     "output_type": "stream",
     "text": [
      "Material uploaded Carbon X1\n"
     ]
    }
   ],
   "source": [
    "pygaps.material_to_db(pygaps.DATABASE, novel_material)"
   ]
  },
  {
   "cell_type": "markdown",
   "metadata": {},
   "source": [
    "## Isotherm\n",
    "\n",
    "Now it's time to upload the isotherm itself.\n",
    "We happen to have the isotherm conveniently stored as a json file, so we load it into memory and we attempt to upload it."
   ]
  },
  {
   "cell_type": "code",
   "execution_count": 5,
   "metadata": {},
   "outputs": [
    {
     "name": "stdout",
     "output_type": "stream",
     "text": [
      "Error\n",
      "\n"
     ]
    }
   ],
   "source": [
    "from pathlib import Path\n",
    "json_path = Path.cwd() / 'data' / 'database' / 'Carbon X1.json'\n",
    "with open(json_path) as text_file:\n",
    "    isotherm = pygaps.isotherm_from_json(text_file.read())\n",
    "\n",
    "try:\n",
    "    pygaps.isotherm_to_db(pygaps.DATABASE, isotherm)\n",
    "except Exception as e:\n",
    "    print(e)"
   ]
  },
  {
   "cell_type": "markdown",
   "metadata": {},
   "source": [
    "As before, we need to first make sure that the constraints are satisfied before the isotherm can be uploaded. On the isotherm side, we have the following constraints:\n",
    "\n",
    "- the adsorbate which was used in the experiment, which is already in the database\n",
    "- the machine which was used to measure the data\n",
    "- the user who measured it\n",
    "- the experiment type, in this case physisorption\n",
    "- the experiment data types, which in this case are just the columns in the dataframe: pressure and loading.\n",
    "\n",
    "\n",
    "Again, we pass to the respective functions dictionaries with the required values."
   ]
  },
  {
   "cell_type": "code",
   "execution_count": 6,
   "metadata": {},
   "outputs": [
    {
     "name": "stdout",
     "output_type": "stream",
     "text": [
      "Experiment type uploaded physisorption\n",
      "Experiment data type uploaded loading\n",
      "Experiment data type uploaded pressure\n",
      "Experiment property type uploaded t_act\n",
      "Experiment property type uploaded machine\n",
      "Experiment property type uploaded user\n",
      "Experiment property type uploaded lab\n"
     ]
    }
   ],
   "source": [
    "pygaps.isotherm_to_db_type(pygaps.DATABASE, {\n",
    "                                 'type' : 'physisorption',\n",
    "                                 'description' : 'physisorption at 77 k'\n",
    "                             })\n",
    "pygaps.isotherm_to_db_data_type(pygaps.DATABASE, {'type' : isotherm.loading_key})\n",
    "pygaps.isotherm_to_db_data_type(pygaps.DATABASE, {'type' : isotherm.pressure_key})\n",
    "pygaps.isotherm_to_db_property_type(pygaps.DATABASE, {'type':'t_act'})\n",
    "pygaps.isotherm_to_db_property_type(pygaps.DATABASE, {'type':'machine'})\n",
    "pygaps.isotherm_to_db_property_type(pygaps.DATABASE, {'type':'user'})\n",
    "pygaps.isotherm_to_db_property_type(pygaps.DATABASE, {'type':'lab'})"
   ]
  },
  {
   "cell_type": "markdown",
   "metadata": {},
   "source": [
    "Now we can try the upload again."
   ]
  },
  {
   "cell_type": "code",
   "execution_count": 7,
   "metadata": {},
   "outputs": [
    {
     "name": "stdout",
     "output_type": "stream",
     "text": [
      "Success: Material: Carbon\n",
      "Batch: X1\n",
      "Adsorbate used: nitrogen\n",
      "Isotherm temperature: 303.0K\n",
      "iso_type: physisorption\n",
      "Units: \n",
      "\tUnit for loading: mmol/g\n",
      "\tUnit for pressure: bar\n",
      "Other properties: \n",
      "\tuser: Bob\n",
      "\tmachine: homemade1\n",
      "\tt_act: 150.0\n",
      "\tlab: local\n",
      "\n"
     ]
    }
   ],
   "source": [
    "pygaps.isotherm_to_db(pygaps.DATABASE, isotherm)"
   ]
  },
  {
   "cell_type": "markdown",
   "metadata": {},
   "source": [
    "## Conclusion\n",
    "\n",
    "While the instantiation process is initially lengthy, after the constraints are added to the database, the infrastructure is in place for easy upload of isotherms."
   ]
  },
  {
   "cell_type": "markdown",
   "metadata": {},
   "source": [
    "## Clean-up\n",
    "\n",
    "If you run this iPython notebook with your own installation, run the following code to remove any residual values from the database."
   ]
  },
  {
   "cell_type": "code",
   "execution_count": 8,
   "metadata": {},
   "outputs": [
    {
     "name": "stdout",
     "output_type": "stream",
     "text": [
      "Success: Material: Carbon\n",
      "Batch: X1\n",
      "Adsorbate used: nitrogen\n",
      "Isotherm temperature: 303.0K\n",
      "iso_type: physisorption\n",
      "Units: \n",
      "\tUnit for loading: mmol/g\n",
      "\tUnit for pressure: bar\n",
      "Other properties: \n",
      "\tuser: Bob\n",
      "\tmachine: homemade1\n",
      "\tt_act: 150.0\n",
      "\tlab: local\n",
      "\n",
      "Success Carbon X1\n",
      "Success, deleted material property types treatment\n",
      "Success, deleted material property types source\n",
      "Success, deleted material property types contact\n",
      "Success, deleted isotherm types physisorption\n",
      "Success, deleted isotherm property types t_act\n",
      "Success, deleted isotherm property types machine\n",
      "Success, deleted isotherm property types user\n",
      "Success, deleted isotherm property types lab\n",
      "Success, deleted isotherm data types loading\n",
      "Success, deleted isotherm data types pressure\n"
     ]
    }
   ],
   "source": [
    "pygaps.isotherm_delete_db(pygaps.DATABASE, isotherm)\n",
    "pygaps.material_delete_db(pygaps.DATABASE, novel_material)\n",
    "pygaps.material_delete_db_property_type(pygaps.DATABASE, 'treatment')\n",
    "pygaps.material_delete_db_property_type(pygaps.DATABASE, 'source')\n",
    "pygaps.material_delete_db_property_type(pygaps.DATABASE, 'contact')\n",
    "pygaps.isotherm_delete_db_type(pygaps.DATABASE, 'physisorption')\n",
    "pygaps.isotherm_delete_db_property_type(pygaps.DATABASE, 't_act')\n",
    "pygaps.isotherm_delete_db_property_type(pygaps.DATABASE, 'machine')\n",
    "pygaps.isotherm_delete_db_property_type(pygaps.DATABASE, 'user')\n",
    "pygaps.isotherm_delete_db_property_type(pygaps.DATABASE, 'lab')\n",
    "pygaps.isotherm_delete_db_data_type(pygaps.DATABASE, isotherm.loading_key)\n",
    "pygaps.isotherm_delete_db_data_type(pygaps.DATABASE, isotherm.pressure_key)"
   ]
  }
 ],
 "metadata": {
  "kernelspec": {
   "display_name": "Python 3",
   "language": "python",
   "name": "python3"
  },
  "language_info": {
   "codemirror_mode": {
    "name": "ipython",
    "version": 3
   },
   "file_extension": ".py",
   "mimetype": "text/x-python",
   "name": "python",
   "nbconvert_exporter": "python",
   "pygments_lexer": "ipython3",
   "version": "3.8.3"
  }
 },
 "nbformat": 4,
 "nbformat_minor": 2
}
