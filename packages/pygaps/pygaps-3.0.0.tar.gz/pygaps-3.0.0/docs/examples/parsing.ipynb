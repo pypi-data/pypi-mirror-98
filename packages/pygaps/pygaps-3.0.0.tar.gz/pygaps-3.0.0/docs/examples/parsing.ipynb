{
 "cells": [
  {
   "cell_type": "markdown",
   "metadata": {},
   "source": [
    "# Parsing examples\n",
    "\n",
    "Some examples on parsing to and from supported formats. More info about all parsing methods can be found in the [manual section](../manual/parsing.rst).\n",
    "\n",
    "## Declare paths\n",
    "\n",
    "First, let's do all the necessary imports and generate the paths that we'll use for file import and export."
   ]
  },
  {
   "cell_type": "code",
   "execution_count": 1,
   "metadata": {},
   "outputs": [],
   "source": [
    "from pathlib import Path\n",
    "import pygaps\n",
    "\n",
    "# Get directory paths\n",
    "base_path = Path.cwd() / 'data' / 'parsing'\n",
    "\n",
    "# Find files\n",
    "json_file_paths = list((base_path/'json').rglob('*.json'))\n",
    "xl_file_paths = list((base_path/'excel').rglob('*.xls'))\n",
    "csv_file_paths = list((base_path/'csv').rglob('*.csv'))"
   ]
  },
  {
   "cell_type": "markdown",
   "metadata": {},
   "source": [
    "## JSON Parsing\n",
    "### JSON Import\n",
    "\n",
    "Isotherms can be imported either from a json file or from a json string. The same function is used in both cases."
   ]
  },
  {
   "cell_type": "code",
   "execution_count": 2,
   "metadata": {},
   "outputs": [
    {
     "output_type": "stream",
     "name": "stdout",
     "text": [
      "Material: MCM-41\nAdsorbate: nitrogen\nTemperature: 77.0K\nUnits: \n\tUptake in: mmol/g\n\tPressure in: bar\nOther properties: \n\tcomment: None\n\tdate: None\n\tiso_type: Isotherme\n\tlab: MADIREL\n\tmachine: Triflex\n\tmaterial_batch: Test\n\tproject: None\n\tt_act: 150.0\n\tuser: PI\n\n"
     ]
    }
   ],
   "source": [
    "# Import them\n",
    "isotherms = [pygaps.isotherm_from_json(path) for path in json_file_paths]\n",
    "\n",
    "# Display an example file\n",
    "print(isotherms[1])"
   ]
  },
  {
   "cell_type": "markdown",
   "metadata": {},
   "source": [
    "### JSON Export\n",
    "\n",
    "Exporting to JSON can be done to a file or a string, depending on whether a path is passed. For this purpose use either the module `pygaps.isotherm_to_json()` function or the convenience class function `to_json()`."
   ]
  },
  {
   "cell_type": "code",
   "execution_count": 3,
   "metadata": {},
   "outputs": [],
   "source": [
    "# module function\n",
    "for isotherm in isotherms:\n",
    "    filename = ' '.join([str(isotherm.material), str(isotherm.adsorbate), str(isotherm.temperature)]) + '.json'\n",
    "    pygaps.isotherm_to_json(isotherm, base_path / 'json' / filename)\n",
    "    \n",
    "# save to file with convenience function\n",
    "isotherms[0].to_json('isotherm.json')\n",
    "\n",
    "# string\n",
    "isotherm_string = isotherms[0].to_json()"
   ]
  },
  {
   "cell_type": "markdown",
   "metadata": {},
   "source": [
    "## Excel Parsing\n",
    "\n",
    "Excel *does not* have to be installed on the system in use.     \n",
    "\n",
    "### Excel Import"
   ]
  },
  {
   "cell_type": "code",
   "execution_count": 4,
   "metadata": {
    "scrolled": true
   },
   "outputs": [
    {
     "output_type": "stream",
     "name": "stdout",
     "text": [
      "Material: HKUST-1(Cu)\n",
      "Adsorbate: carbon dioxide\n",
      "Temperature: 303.0K\n",
      "Units: \n",
      "\tUptake in: mmol/g\n",
      "\tPressure in: bar\n",
      "Other properties: \n",
      "\tdate: 2010-05-21 00:00:00\n",
      "\tlab: MADIREL\n",
      "\tmachine: CV\n",
      "\tproject: None\n",
      "\tt_act: 150.0\n",
      "\tuser: ADW\n",
      "\tcomment: None\n",
      "\tiso_type: Calorimetrie\n",
      "\tmaterial_batch: Test\n",
      "\n",
      "c:\\users\\pauli\\git\\pygaps\\src\\pygaps\\parsing\\excel.py:362: UserWarning: The file version is None while the parser uses version 2.0. Strange things might happen, so double check your data.\n",
      "  warnings.warn(\n"
     ]
    }
   ],
   "source": [
    "# Import them\n",
    "isotherms = [pygaps.isotherm_from_xl(path) for path in xl_file_paths]\n",
    "\n",
    "# Display an example file\n",
    "print(isotherms[1])"
   ]
  },
  {
   "cell_type": "markdown",
   "metadata": {},
   "source": [
    "### Excel Export"
   ]
  },
  {
   "cell_type": "code",
   "execution_count": 5,
   "metadata": {},
   "outputs": [],
   "source": [
    "# Export each isotherm in turn\n",
    "for isotherm in isotherms:\n",
    "    filename = ' '.join([str(isotherm.material), str(isotherm.adsorbate), str(isotherm.temperature)]) + '.xls'\n",
    "    pygaps.isotherm_to_xl(isotherm, base_path / 'excel' / filename)\n",
    "\n",
    "# save to file with convenience function\n",
    "isotherms[0].to_xl('isotherm.xls')"
   ]
  },
  {
   "cell_type": "markdown",
   "metadata": {},
   "source": [
    "## CSV Parsing\n",
    "### CSV Import\n",
    "\n",
    "\n",
    "Like JSON, isotherms can be imported either from a CSV file or from a CSV string. The same function is used in both cases."
   ]
  },
  {
   "cell_type": "code",
   "execution_count": 6,
   "metadata": {},
   "outputs": [
    {
     "output_type": "stream",
     "name": "stdout",
     "text": [
      "Material: HKUST-1(Cu)\nAdsorbate: carbon dioxide\nTemperature: 303.0K\nUnits: \n\tUptake in: mmol/g\n\tPressure in: bar\nOther properties: \n\tmaterial_batch: Test\n\tiso_type: Calorimetrie\n\tuser: ADW\n\tmachine: CV\n\tdate: 21/05/2010 00:00\n\tt_act: 150.0\n\tlab: MADIREL\n\n"
     ]
    }
   ],
   "source": [
    "# Import them\n",
    "isotherms = [pygaps.isotherm_from_csv(path) for path in csv_file_paths]\n",
    "\n",
    "# Display an example file\n",
    "print(isotherms[0])"
   ]
  },
  {
   "cell_type": "markdown",
   "metadata": {},
   "source": [
    "### CSV Export"
   ]
  },
  {
   "cell_type": "code",
   "execution_count": 7,
   "metadata": {},
   "outputs": [],
   "source": [
    "# Export each isotherm in turn\n",
    "for isotherm in isotherms:\n",
    "    filename = ' '.join([str(isotherm.material), str(isotherm.adsorbate), str(isotherm.temperature)]) + '.csv'\n",
    "    pygaps.isotherm_to_csv(isotherm, base_path / 'csv' / filename)\n",
    "\n",
    "# save to file with convenience function\n",
    "isotherms[0].to_csv('isotherm.csv')\n",
    "\n",
    "# string representation\n",
    "isotherm_string = isotherms[0].to_csv()"
   ]
  },
  {
   "cell_type": "code",
   "execution_count": null,
   "metadata": {},
   "outputs": [],
   "source": []
  }
 ],
 "metadata": {
  "kernelspec": {
   "display_name": "Python 3",
   "language": "python",
   "name": "python3"
  },
  "language_info": {
   "codemirror_mode": {
    "name": "ipython",
    "version": 3
   },
   "file_extension": ".py",
   "mimetype": "text/x-python",
   "name": "python",
   "nbconvert_exporter": "python",
   "pygments_lexer": "ipython3",
   "version": "3.8.5-final"
  }
 },
 "nbformat": 4,
 "nbformat_minor": 2
}