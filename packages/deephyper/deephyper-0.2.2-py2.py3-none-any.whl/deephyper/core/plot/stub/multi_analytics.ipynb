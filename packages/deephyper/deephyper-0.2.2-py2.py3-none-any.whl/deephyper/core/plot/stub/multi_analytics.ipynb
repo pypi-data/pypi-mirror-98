{
 "cells": [
  {
   "cell_type": "markdown",
   "metadata": {
    "ExecuteTime": {
     "end_time": "2019-05-06T21:59:04.765111Z",
     "start_time": "2019-05-06T21:59:04.762923Z"
    }
   },
   "source": [
    "# Deephyper analytics - multi study\n",
    "**path to data file**: {{path_to_data_file}}\n",
    "\n",
    "for customization please see: https://matplotlib.org/api/matplotlib_configuration_api.html\n",
    "\n",
    "## Setup & Data loading"
   ]
  },
  {
   "cell_type": "code",
   "execution_count": null,
   "metadata": {
    "ExecuteTime": {
     "end_time": "2019-05-06T22:00:21.530180Z",
     "start_time": "2019-05-06T22:00:21.459136Z"
    }
   },
   "outputs": [],
   "source": [
    "path_to_data_file = {{path_to_data_file}}\n",
    "labels = {{labels}}"
   ]
  },
  {
   "cell_type": "code",
   "execution_count": null,
   "metadata": {},
   "outputs": [],
   "source": [
    "import matplotlib\n",
    "import matplotlib.pyplot as plt\n",
    "import numpy as np\n",
    "import json\n",
    "from pprint import pprint\n",
    "from datetime import datetime \n",
    "\n",
    "width = 21\n",
    "height = width/1.618\n",
    "\n",
    "matplotlib.rcParams.update({\n",
    "    'font.size': 21,\n",
    "    'figure.figsize': (width, height), \n",
    "    'figure.facecolor': 'white', \n",
    "    'savefig.dpi': 72, \n",
    "    'figure.subplot.bottom': 0.125, \n",
    "    'figure.edgecolor': 'white',\n",
    "    'xtick.labelsize': 21,\n",
    "    'ytick.labelsize': 21})\n",
    "\n",
    "def to_sec(ts):\n",
    "    try:\n",
    "        return datetime.strptime(ts, '%Y-%m-%d %H:%M:%S').timestamp()\n",
    "    except:\n",
    "        return datetime.strptime(ts, '%Y-%m-%d %H:%M:%S.%f').timestamp()\n",
    "\n",
    "def load_json(path):\n",
    "    with open(path, 'r') as f:\n",
    "        data = json.load(f)\n",
    "    return data\n",
    "\n",
    "data_list = [load_json(p) for p in path_to_data_file]\n",
    "\n",
    "for label, data in zip(labels, data_list):\n",
    "    print(f'file: {label} has keys: {list(data.keys())}')\n",
    "\n",
    "\n",
    "start_infos_list = []\n",
    "for data in data_list:\n",
    "    try:\n",
    "        start_infos = data['start_infos'][0]\n",
    "    except:\n",
    "        start_infos = None\n",
    "    start_infos_list.append(start_infos)\n",
    "for label, start_infos in zip(labels, start_infos_list):\n",
    "    print(f' - file:{label}')\n",
    "    pprint(start_infos)\n",
    "    \n",
    "if None in start_infos_list:\n",
    "    print(\"Some of the experiments doesn't have 'start_infos'.\")"
   ]
  },
  {
   "cell_type": "markdown",
   "metadata": {
    "ExecuteTime": {
     "end_time": "2019-05-06T22:29:00.322201Z",
     "start_time": "2019-05-06T22:29:00.319648Z"
    }
   },
   "source": [
    "## Search trajectory\n",
    "### Raw rewards"
   ]
  },
  {
   "cell_type": "code",
   "execution_count": null,
   "metadata": {},
   "outputs": [],
   "source": [
    "def moving_average(data_list, window_size=100):\n",
    "    res_list = list()\n",
    "    for i in range(len(data_list) - window_size):\n",
    "            res_list.append(sum(data_list[i:i+window_size])/window_size)\n",
    "    return res_list\n",
    "\n",
    "window_size = 100\n",
    "\n",
    "for label, data in zip(labels, data_list):\n",
    "\n",
    "    plt.plot(moving_average(data['raw_rewards'], window_size), label=label)\n",
    "\n",
    "plt.ylabel('Reward')\n",
    "plt.xlabel('Evaluations')\n",
    "plt.xlim(left=0)\n",
    "plt.grid()\n",
    "plt.legend()\n",
    "plt.show()"
   ]
  },
  {
   "cell_type": "markdown",
   "metadata": {},
   "source": [
    "### Average reward per batch"
   ]
  },
  {
   "cell_type": "code",
   "execution_count": null,
   "metadata": {},
   "outputs": [],
   "source": [
    "\n",
    "for label, data in zip(labels, data_list):\n",
    "    try:\n",
    "        avr_reward_mbatches = [np.mean(stats['rewards']) for stats in data['env_stats']]\n",
    "        start_time = to_sec(data['workload']['times'][0])\n",
    "        times = [to_sec(stats['timestamp'])-start_time for stats in data['env_stats']]\n",
    "\n",
    "        plt.plot(times, avr_reward_mbatches, label=label)\n",
    "    except:\n",
    "        print(f'file:{label} skipped.')\n",
    "\n",
    "plt.ylabel('Reward')\n",
    "plt.xlabel('Time (s.)')\n",
    "plt.xlim(left=0)\n",
    "plt.grid()\n",
    "plt.legend()\n",
    "plt.show()"
   ]
  },
  {
   "cell_type": "markdown",
   "metadata": {},
   "source": [
    "## Workload\n",
    "### Profiles"
   ]
  },
  {
   "cell_type": "code",
   "execution_count": null,
   "metadata": {},
   "outputs": [],
   "source": [
    "for label, data in zip(labels, data_list):\n",
    "    start_time = to_sec(data['workload']['times'][0])\n",
    "    times = [to_sec(t)-start_time for t in data['workload']['times']]\n",
    "    num_running = np.array(data['workload']['num_running']) - 1\n",
    "\n",
    "    plt.step(times, num_running, where='post', label=label)\n",
    "\n",
    "plt.xlabel('Time (s)')\n",
    "plt.ylabel('Node utilization')\n",
    "plt.xlim(left=0)\n",
    "plt.ylim(bottom=0)\n",
    "plt.grid()\n",
    "plt.legend()\n",
    "plt.show()"
   ]
  },
  {
   "cell_type": "markdown",
   "metadata": {},
   "source": [
    "### Pie charts"
   ]
  },
  {
   "cell_type": "code",
   "execution_count": null,
   "metadata": {},
   "outputs": [],
   "source": [
    "def integrate_square(x, y, offset=0):\n",
    "    res = 0\n",
    "    for i in range(len(x)-1):\n",
    "        res += (x[i+1] - x[i]) * y[i]\n",
    "    return res\n",
    "\n",
    "for label, data, start_infos in zip(labels, data_list, start_infos_list):\n",
    "    if start_infos is None:\n",
    "        print(f'file:{label} skipped because start_infos is not present.')\n",
    "    else:\n",
    "        start_time = to_sec(data['workload']['times'][0])\n",
    "        times = [to_sec(t)-start_time for t in data['workload']['times']]\n",
    "        num_running = np.array(data['workload']['num_running']) - 1\n",
    "        nworkers = start_infos['nworkers'] - start_infos['nagents']\n",
    "        total_available = nworkers * times[-1]\n",
    "        used_time = integrate_square(times, num_running)\n",
    "        unused_time = total_available - used_time\n",
    "        perc_used_time = int(used_time / total_available * 100)\n",
    "        perc_unused_time = int(unused_time / total_available * 100)\n",
    "        label_used_time = f'{perc_used_time}% used'\n",
    "        label_unused_time = f'{perc_unused_time}% unused'\n",
    "        plt.title(label)\n",
    "        lpie = plt.pie([used_time, unused_time],\n",
    "                       labels=[label_used_time, label_unused_time],\n",
    "                       colors=['green', 'red'])\n",
    "        plt.show()"
   ]
  },
  {
   "cell_type": "markdown",
   "metadata": {},
   "source": [
    "## Minibatches\n",
    "### Timing of minibatches evaluation"
   ]
  },
  {
   "cell_type": "code",
   "execution_count": null,
   "metadata": {},
   "outputs": [],
   "source": [
    "window_size = 1\n",
    "\n",
    "for label, data in zip(labels, data_list):\n",
    "    try:\n",
    "        start_time = to_sec(data['workload']['times'][0])\n",
    "        nca_list = []\n",
    "        times = []\n",
    "        for stats in data['env_stats']:\n",
    "            rank = stats['rank']\n",
    "            nca = stats['batch_computation']\n",
    "            time = to_sec(stats['timestamp']) - start_time\n",
    "            nca_list.append(nca)\n",
    "            times.append(time)\n",
    "        \n",
    "        nca_list = moving_average(nca_list, window_size)\n",
    "        times = moving_average(times, window_size)\n",
    "        plt.plot(times, nca_list, label=label)\n",
    "    except:\n",
    "        print(f'file:{label} skipped.')\n",
    "        \n",
    "plt.ylabel('Batch Computation Time')\n",
    "plt.xlabel('Time (s.)')\n",
    "plt.xlim(left=0)\n",
    "plt.ylim(bottom=0)\n",
    "plt.grid()\n",
    "plt.legend()\n",
    "plt.show()"
   ]
  },
  {
   "cell_type": "markdown",
   "metadata": {},
   "source": [
    "## Cache\n",
    "### Number of evaluation cached\n",
    "It shows the number of cache accesses used for the computation of a given batch at time T."
   ]
  },
  {
   "cell_type": "code",
   "execution_count": null,
   "metadata": {},
   "outputs": [],
   "source": [
    "window_size = 21\n",
    "\n",
    "for label, data in zip(labels, data_list):\n",
    "    try:\n",
    "        start_time = to_sec(data['workload']['times'][0])\n",
    "        nca_list = []\n",
    "        times = []\n",
    "        last_nca_rank = {}\n",
    "        for stats in data['env_stats']:\n",
    "            rank = stats['rank']\n",
    "            nca = stats['num_cache_used']\n",
    "            time = to_sec(stats['timestamp']) - start_time\n",
    "            last_nca = last_nca_rank.get(rank)\n",
    "            if last_nca_rank.get(rank) is None:\n",
    "                last_nca = 0\n",
    "            nca_list.append(nca-last_nca)\n",
    "            times.append(time)\n",
    "            last_nca_rank[rank] = nca\n",
    "        \n",
    "        nca_list = moving_average(nca_list, window_size)\n",
    "        times = moving_average(times, window_size)\n",
    "        plt.plot(times, nca_list, label=label)\n",
    "    except:\n",
    "        print(f'file:{label} skipped.')\n",
    "        \n",
    "plt.ylabel('Cache accesses')\n",
    "plt.xlabel('Time (s.)')\n",
    "plt.xlim(left=0)\n",
    "plt.ylim(bottom=0)\n",
    "plt.grid()\n",
    "plt.legend()\n",
    "plt.show()"
   ]
  }
 ],
 "metadata": {
  "kernelspec": {
   "display_name": "Python 3",
   "language": "python",
   "name": "python3"
  },
  "language_info": {
   "codemirror_mode": {
    "name": "ipython",
    "version": 3
   },
   "file_extension": ".py",
   "mimetype": "text/x-python",
   "name": "python",
   "nbconvert_exporter": "python",
   "pygments_lexer": "ipython3",
   "version": "3.6.8"
  },
  "toc": {
   "base_numbering": 1,
   "nav_menu": {},
   "number_sections": true,
   "sideBar": true,
   "skip_h1_title": false,
   "title_cell": "Table of Contents",
   "title_sidebar": "Contents",
   "toc_cell": false,
   "toc_position": {},
   "toc_section_display": true,
   "toc_window_display": false
  }
 },
 "nbformat": 4,
 "nbformat_minor": 2
}
