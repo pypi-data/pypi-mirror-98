{
 "cells": [
  {
   "cell_type": "markdown",
   "metadata": {},
   "source": [
    "# Deephyper analytics - post-training study\n",
    "**path to workflow folder**: {{path_to_data_folder}}\n",
    "\n",
    "for customization please see: https://matplotlib.org/api/matplotlib_configuration_api.html\n",
    "\n",
    "## Setup & Data loading"
   ]
  },
  {
   "cell_type": "code",
   "execution_count": null,
   "metadata": {},
   "outputs": [],
   "source": [
    "path_to_data_folder = {{path_to_data_folder}}"
   ]
  },
  {
   "cell_type": "code",
   "execution_count": null,
   "metadata": {},
   "outputs": [],
   "source": [
    "import matplotlib\n",
    "import matplotlib.pyplot as plt\n",
    "import numpy as np\n",
    "import os\n",
    "import json\n",
    "from pprint import pprint\n",
    "from datetime import datetime\n",
    "from tqdm import tqdm\n",
    "from IPython.display import display, Markdown\n",
    "\n",
    "width = 21\n",
    "height = width/1.618\n",
    "\n",
    "matplotlib.rcParams.update({\n",
    "    'font.size': 21,\n",
    "    'figure.figsize': (width, height), \n",
    "    'figure.facecolor': 'white', \n",
    "    'savefig.dpi': 72, \n",
    "    'figure.subplot.bottom': 0.125, \n",
    "    'figure.edgecolor': 'white',\n",
    "    'xtick.labelsize': 21,\n",
    "    'ytick.labelsize': 21})\n",
    "\n",
    "def load_json(path):\n",
    "    with open(path, 'r') as f:\n",
    "        data = json.load(f)\n",
    "    return data\n",
    "\n",
    "data = {}\n",
    "\n",
    "for root, dirs, files in os.walk(path_to_data_folder):  \n",
    "    if 'task' in root.split('/')[-1]:\n",
    "        rank = int(root.split('/')[-1].split('_')[0].split('task')[-1])\n",
    "        try:\n",
    "            th_fn = list(filter(lambda name: 'training_hist' in name, files))[0]\n",
    "        except:\n",
    "            print(f'folder: {root.split(\"/\")[-1]} doesn\\'t contain a training history file.')\n",
    "            print('   files: ', files)\n",
    "            continue\n",
    "        data[rank] = load_json(os.path.join(root, th_fn))\n",
    "\n",
    "ranks = list(data.keys())\n",
    "ranks.sort()\n",
    "\n",
    "metrics_names = list(data[list(data.keys())[0]].keys())\n",
    "display(Markdown('**Metrics:**'))\n",
    "for name in metrics_names:\n",
    "    display(Markdown(f' - {name}'))"
   ]
  },
  {
   "cell_type": "markdown",
   "metadata": {},
   "source": [
    "## Training metrics"
   ]
  },
  {
   "cell_type": "code",
   "execution_count": null,
   "metadata": {},
   "outputs": [],
   "source": [
    "for mn in metrics_names:\n",
    "    if not 'val' in mn:\n",
    "        show = False\n",
    "        for rank in ranks:\n",
    "            if type(data[rank][mn]) is list:\n",
    "                plt.plot(data[rank][mn], label=str(rank))\n",
    "                show = True\n",
    "        \n",
    "        if show:\n",
    "            plt.legend(prop={'size': 13}, markerscale=1, ncol=10, \n",
    "                       bbox_to_anchor=(0,1.02,1,0.2), loc=\"lower left\", \n",
    "                       mode=\"expand\", borderaxespad=0)\n",
    "            plt.ylabel(f'Training ${mn}$')\n",
    "            plt.xlabel('Epochs')\n",
    "            plt.grid()\n",
    "            plt.show()"
   ]
  },
  {
   "cell_type": "markdown",
   "metadata": {},
   "source": [
    "## Validation metrics"
   ]
  },
  {
   "cell_type": "code",
   "execution_count": null,
   "metadata": {},
   "outputs": [],
   "source": [
    "for mn in metrics_names:\n",
    "    if 'val' in mn:\n",
    "        show = False\n",
    "        for rank in ranks:\n",
    "            if type(data[rank][mn]) is list:\n",
    "                plt.plot(data[rank][mn], label=str(rank))\n",
    "                show = True\n",
    "        \n",
    "        if show:\n",
    "            plt.legend(prop={'size': 13}, markerscale=1, ncol=10, \n",
    "                       bbox_to_anchor=(0,1.02,1,0.2), loc=\"lower left\", \n",
    "                       mode=\"expand\", borderaxespad=0)\n",
    "            plt.ylabel(f'Validation: ${mn.split(\"_\")[-1]}$')\n",
    "            plt.xlabel('Epochs')\n",
    "            plt.grid()\n",
    "            plt.show()"
   ]
  }
 ],
 "metadata": {
  "kernelspec": {
   "display_name": "Python 3",
   "language": "python",
   "name": "python3"
  },
  "language_info": {
   "codemirror_mode": {
    "name": "ipython",
    "version": 3
   },
   "file_extension": ".py",
   "mimetype": "text/x-python",
   "name": "python",
   "nbconvert_exporter": "python",
   "pygments_lexer": "ipython3",
   "version": "3.6.8"
  }
 },
 "nbformat": 4,
 "nbformat_minor": 2
}
