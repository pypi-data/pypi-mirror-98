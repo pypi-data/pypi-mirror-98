{
 "cells": [
  {
   "cell_type": "code",
   "execution_count": 1,
   "metadata": {
    "scrolled": false
   },
   "outputs": [
    {
     "data": {
      "text/html": [
       "<script>\n",
       "code_show=true; \n",
       "function code_toggle() {\n",
       " if (code_show){\n",
       " $('div.input').hide();\n",
       " } else {\n",
       " $('div.input').show();\n",
       " }\n",
       " code_show = !code_show\n",
       "} \n",
       "$( document ).ready(code_toggle);\n",
       "</script>\n",
       "<form action=\"javascript:code_toggle()\"><input type=\"submit\" value=\"Click here to toggle on/off the raw code.\"></form>"
      ],
      "text/plain": [
       "<IPython.core.display.HTML object>"
      ]
     },
     "execution_count": 1,
     "metadata": {},
     "output_type": "execute_result"
    }
   ],
   "source": [
    "from IPython.display import HTML\n",
    "\n",
    "HTML('''<script>\n",
    "code_show=true; \n",
    "function code_toggle() {\n",
    " if (code_show){\n",
    " $('div.input').hide();\n",
    " } else {\n",
    " $('div.input').show();\n",
    " }\n",
    " code_show = !code_show\n",
    "} \n",
    "$( document ).ready(code_toggle);\n",
    "</script>\n",
    "<form action=\"javascript:code_toggle()\"><input type=\"submit\" value=\"Click here to toggle on/off the raw code.\"></form>''')"
   ]
  },
  {
   "cell_type": "code",
   "execution_count": 2,
   "metadata": {
    "scrolled": false
   },
   "outputs": [
    {
     "data": {
      "text/html": [
       "<style>.container { width:80% !important; }</style>"
      ],
      "text/plain": [
       "<IPython.core.display.HTML object>"
      ]
     },
     "metadata": {},
     "output_type": "display_data"
    }
   ],
   "source": [
    "#!/usr/bin/env python3\n",
    "# -*- coding: utf-8 -*-\n",
    "\"\"\"\n",
    "Created on Mon Dec 14 11:26:33 2020\n",
    "\n",
    "@author:\n",
    "Maximilian N. Günther\n",
    "MIT Kavli Institute for Astrophysics and Space Research, \n",
    "Massachusetts Institute of Technology,\n",
    "77 Massachusetts Avenue,\n",
    "Cambridge, MA 02109, \n",
    "USA\n",
    "Email: maxgue@mit.edu\n",
    "Web: www.mnguenther.com\n",
    "\"\"\"\n",
    "\n",
    "from __future__ import print_function, division, absolute_import\n",
    "%matplotlib inline\n",
    "\n",
    "#::: modules\n",
    "import warnings\n",
    "import matplotlib\n",
    "warnings.filterwarnings(\"ignore\", category=DeprecationWarning) \n",
    "warnings.filterwarnings(\"ignore\", category=matplotlib.cbook.deprecation.MatplotlibDeprecationWarning) \n",
    "import os, sys\n",
    "import numpy as np\n",
    "import matplotlib.pyplot as plt\n",
    "import pandas as pd\n",
    "from tqdm import tqdm\n",
    "from glob import glob\n",
    "from pprint import pprint\n",
    "from astropy.stats import sigma_clip\n",
    "from matplotlib.widgets import SpanSelector\n",
    "import ipywidgets as widgets\n",
    "import IPython\n",
    "from IPython.display import display, HTML, Markdown, clear_output, Javascript\n",
    "display(HTML(\"<style>.container { width:80% !important; }</style>\"))\n",
    "from tkinter import Tk, filedialog\n",
    "\n",
    "#::: special modules\n",
    "try:\n",
    "    from wotan import flatten, t14\n",
    "except ImportError:\n",
    "    pass\n",
    "\n",
    "#::: my modules\n",
    "import allesfitter\n",
    "from allesfitter import tessplot\n",
    "from allesfitter.detection.periodicity import estimate_period\n",
    "from allesfitter.detection.transit_search import get_tls_kwargs_by_tic, tls_search, \n",
    "from allesfitter.time_series import slide_clip\n",
    "from allesfitter.io import read_csv\n",
    "from exoworlds.tess import tessio\n",
    "\n",
    "#::: plotting settings\n",
    "import seaborn as sns\n",
    "sns.set(context='paper', style='ticks', palette='deep', font='sans-serif', font_scale=1.5, color_codes=True)\n",
    "sns.set_style({\"xtick.direction\": \"in\",\"ytick.direction\": \"in\"})\n",
    "sns.set_context(rc={'lines.markeredgewidth': 1})\n",
    "\n",
    "%load_ext autoreload\n",
    "%autoreload 2"
   ]
  },
  {
   "cell_type": "code",
   "execution_count": 3,
   "metadata": {},
   "outputs": [],
   "source": [
    "\"\"\"\n",
    "Extension for disabling autoscrolling long output, which is super annoying sometimes\n",
    "Usage:\n",
    "    %load_ext disable_autoscroll\n",
    "You can also put the js snippet below in profile_dir/static/js/custom.js\n",
    "\"\"\"\n",
    "\n",
    "from IPython.display import display, Javascript\n",
    "\n",
    "disable_js = \"\"\"\n",
    "IPython.OutputArea.prototype._should_scroll = function(lines) {\n",
    "    return false;\n",
    "}\n",
    "\"\"\"\n",
    "\n",
    "def load_ipython_extension(ip):\n",
    "    display(Javascript(disable_js))\n",
    "    print (\"autoscrolling long output is disabled\")"
   ]
  },
  {
   "cell_type": "markdown",
   "metadata": {},
   "source": [
    "![allesfitter](_static/_logos/logo_circ_tess_transit_search.png)"
   ]
  },
  {
   "cell_type": "code",
   "execution_count": 4,
   "metadata": {
    "scrolled": false
   },
   "outputs": [],
   "source": [
    "#::: globals\n",
    "global INPUT\n",
    "global VBOXES\n",
    "global BUTTONS\n",
    "global DROPDOWNS\n",
    "INPUT = {}\n",
    "VBOXES = {}\n",
    "BUTTONS = {}\n",
    "DROPDOWNS = {}\n",
    "layout = {'width': '180px'}\n",
    "layout_wide = {'width': '360px'}\n",
    "layout_textbox = {'width': '120px'}\n",
    "layout_checkbox = {}"
   ]
  },
  {
   "cell_type": "markdown",
   "metadata": {},
   "source": [
    "## Load the data"
   ]
  },
  {
   "cell_type": "code",
   "execution_count": 5,
   "metadata": {
    "scrolled": false
   },
   "outputs": [],
   "source": [
    "#TODO:\n",
    "#    run tls in here (spawn it in a terminal to run fast)"
   ]
  },
  {
   "cell_type": "code",
   "execution_count": 6,
   "metadata": {
    "scrolled": false
   },
   "outputs": [
    {
     "data": {
      "application/vnd.jupyter.widget-view+json": {
       "model_id": "da488af8b6ac4519b97d27500f63c14a",
       "version_major": 2,
       "version_minor": 0
      },
      "text/plain": [
       "Text(value='', description='TIC ID:', placeholder='123456789')"
      ]
     },
     "metadata": {},
     "output_type": "display_data"
    },
    {
     "data": {
      "application/vnd.jupyter.widget-view+json": {
       "model_id": "8aa2f8ec12a0468c9713caafe42f782d",
       "version_major": 2,
       "version_minor": 0
      },
      "text/plain": [
       "Text(value='', description='Input file:', placeholder='Leave empty to automatically download the light curve')"
      ]
     },
     "metadata": {},
     "output_type": "display_data"
    },
    {
     "data": {
      "application/vnd.jupyter.widget-view+json": {
       "model_id": "9e02f63d30d1416b93fa8d1713333b6d",
       "version_major": 2,
       "version_minor": 0
      },
      "text/plain": [
       "interactive(children=(Button(description='Run Interact', style=ButtonStyle()), Output()), _dom_classes=('widge…"
      ]
     },
     "metadata": {},
     "output_type": "display_data"
    },
    {
     "data": {
      "application/vnd.jupyter.widget-view+json": {
       "model_id": "f922da1ca5d443908fea6efd3b778a31",
       "version_major": 2,
       "version_minor": 0
      },
      "text/plain": [
       "interactive(children=(Button(description='Run Interact', style=ButtonStyle()), Output()), _dom_classes=('widge…"
      ]
     },
     "metadata": {},
     "output_type": "display_data"
    }
   ],
   "source": [
    "INPUT['tic_id'] = widgets.Text(value=None, description='TIC ID:', placeholder='123456789')\n",
    "INPUT['datafile'] = widgets.Text(value='', description='Input file:', placeholder='Leave empty to automatically download the light curve',)\n",
    "\n",
    "display(INPUT['tic_id'])\n",
    "display(INPUT['datafile'])\n",
    "\n",
    "\n",
    "\n",
    "def select_datafile():\n",
    "    root = Tk()\n",
    "    root.withdraw()\n",
    "    root.call('wm', 'attributes', '.', '-topmost', True)\n",
    "    INPUT['datafile_dialog'] = filedialog.askopenfilename()\n",
    "    %gui tk\n",
    "    if INPUT['datafile_dialog'] != '':\n",
    "        INPUT['datafile'].value = INPUT['datafile_dialog']\n",
    "im = widgets.interact_manual(select_datafile);\n",
    "im.widget.children[0].description = 'Open file dialog' #https://stackoverflow.com/a/51361461/4718101\n",
    "\n",
    "\n",
    "\n",
    "def load():\n",
    "    global tic_id\n",
    "    global time\n",
    "    global flux\n",
    "    global flux_err\n",
    "    global tls_kwargs\n",
    "    \n",
    "    tic_id = INPUT['tic_id'].value\n",
    "    datafile = INPUT['datafile'].value\n",
    "    \n",
    "    if len(tic_id)==0:\n",
    "        print('Please enter a valid TIC ID first.')\n",
    "        return None\n",
    "    \n",
    "    print('Loading TIC', tic_id, '...')\n",
    "    try:\n",
    "        tls_kwargs = get_tls_kwargs_by_tic(tic_id=tic_id)\n",
    "        print(' > Stellar parameters succesfully loaded. Rstar=', tls_kwargs['R_star'], 'Rsun, M_star=', tls_kwargs['M_star'], 'Msun')\n",
    "    except:\n",
    "        tls_kwargs = {'R_star': 1., 'M_star': 1.}\n",
    "        print(' > Stellar parameters could not be loaded. Using solar analog instead.')\n",
    "    print('Loading data ...')\n",
    "\n",
    "    try:\n",
    "        time, flux, flux_err = read_csv(datafile)\n",
    "        print(' > Input file succesfully loaded.')\n",
    "    except:\n",
    "        try:\n",
    "            time, flux, flux_err = tessio.get(tic_id, unpack=True)\n",
    "            print(' > Data succesfully loaded locally via tessio.')\n",
    "        except:\n",
    "            try:\n",
    "                print(' > No local file found, trying to download (might take a minute)...')\n",
    "                time, flux, flux_err = tessio.get_via_lightkurve(tic_id)\n",
    "                print(' > Data succesfully downloaded via lightkurve.')\n",
    "            except:\n",
    "                print(' > Failed to load any data.')\n",
    "                    \n",
    "    fig, ax = plt.subplots(figsize=(8,6))\n",
    "    ps = np.linspace(0.5,101,100)\n",
    "    tdur1 = [t14(R_s=tls_kwargs['R_star'], M_s=tls_kwargs['M_star'], P=p, small_planet=True) for p in ps]\n",
    "    tdur2 = [t14(R_s=tls_kwargs['R_star'], M_s=tls_kwargs['M_star'], P=p, small_planet=False) for p in ps]\n",
    "    ax.plot(ps, tdur1, label='small planet')\n",
    "    ax.plot(ps, tdur2, label='large planet')\n",
    "    ax.set(xlabel='Planet orbital period (days)', ylabel='Transit duration (days)')\n",
    "    ax.legend()\n",
    "    ax2 = ax.twinx()\n",
    "    ax2.set(ylim=[3*x for x in ax.get_ylim()], ylabel='Minimum detrending\\nwindow length (days)')\n",
    "    \n",
    "im = widgets.interact_manual(load);\n",
    "im.widget.children[0].description = 'Load / Refresh' #https://stackoverflow.com/a/51361461/4718101"
   ]
  },
  {
   "cell_type": "markdown",
   "metadata": {},
   "source": [
    "## Tailor your detrending\n",
    "In this interactive plot, you have various options:\n",
    "\n",
    "- **clip**: Clip flares and outliers in the plot. This only affects the plot and nothing else.\n",
    "- **mask**: Mask out certain regions for the analysis. This **will** affect all other operations.\n",
    "- **mask_ranges**: If you select to mask regions, you need to type those here (in BJD_TDB). \n",
    "  Example: \"1970-1977 and 1980-1981 and 1991.1-1991.2\" (don't type the \"\").\n",
    "- **method**: Choose between biweight, cosine, and rspline (biweight is good for wild noise, cosine is good for very sinusoidal noise).\n",
    "- **window_length**: Choose the detrending window, in days (1 day is a good first guess). Try to keep it at least 3x the transit duration you expect.\n",
    "\n",
    "Note: For speed, only every second data point is plotted - but all data is analyzed."
   ]
  },
  {
   "cell_type": "code",
   "execution_count": 7,
   "metadata": {
    "scrolled": false
   },
   "outputs": [
    {
     "data": {
      "application/vnd.jupyter.widget-view+json": {
       "model_id": "a05c35dbc5d94eacba3ccf099a0285a1",
       "version_major": 2,
       "version_minor": 0
      },
      "text/plain": [
       "Tab(children=(Output(), Output(), Output(), Output()), _titles={'0': 'Data & Trend', '1': 'Data Periodogram', …"
      ]
     },
     "metadata": {},
     "output_type": "display_data"
    },
    {
     "data": {
      "application/vnd.jupyter.widget-view+json": {
       "model_id": "46ab30c5d95a40959c077bcaa41791ab",
       "version_major": 2,
       "version_minor": 0
      },
      "text/plain": [
       "interactive(children=(Checkbox(value=True, description='clip'), Checkbox(value=False, description='mask'), Tex…"
      ]
     },
     "metadata": {},
     "output_type": "display_data"
    }
   ],
   "source": [
    "#==============================================================================\n",
    "#::: layout\n",
    "#==============================================================================\n",
    "out1 = widgets.Output()\n",
    "out2 = widgets.Output()\n",
    "out3 = widgets.Output()\n",
    "out4 = widgets.Output()\n",
    "tab = widgets.Tab(children=[out1,out2,out3,out4])\n",
    "tab.set_title(0,'Data & Trend')\n",
    "tab.set_title(1,'Data Periodogram')\n",
    "tab.set_title(2,'Residuals')\n",
    "tab.set_title(3,'Residual Periodogram')\n",
    "display(tab)\n",
    "\n",
    "\n",
    "#==============================================================================\n",
    "#::: manually mask bad regions\n",
    "#==============================================================================\n",
    "def get_mask(mask, mask_ranges):\n",
    "    mask2 = np.array([False] * len(time)) #mask2 is an array the size of time\n",
    "    if mask and len(mask_ranges)>0: #mask is a bool\n",
    "            limits = []\n",
    "            for m in mask_ranges.split(' and '):\n",
    "                try:\n",
    "                    m0, m1 = [float(x) for x in m.split('-')]\n",
    "                except:\n",
    "                    mask = False\n",
    "                    warnings.warn('Your mask_ranges syntax was invalid and has been ignored. The parameter \"mask\" has been turned off automatically.')\n",
    "                limits.append([m0,m1])\n",
    "                mask2[ (time>2457000+m0) & (time<2457000+m1) ] = True\n",
    "            return mask2, limits\n",
    "    else:\n",
    "        return mask2, []\n",
    "    \n",
    "def plot_mask(axes, limits):\n",
    "    if len(limits)>0:\n",
    "        for ax in np.atleast_1d(axes): \n",
    "            for (xmin, xmax) in limits:\n",
    "                ax.axvspan(xmin, xmax, color='r', alpha=0.3)\n",
    "\n",
    "                \n",
    "#==============================================================================\n",
    "#::: manually optimize detrending\n",
    "#==============================================================================\n",
    "def optimize(clip, mask, mask_ranges, method, window_length):\n",
    "    global wotan_kwargs\n",
    "    global fig1\n",
    "    global fig2\n",
    "    global fig3\n",
    "    global fig4\n",
    "    global time2\n",
    "    global flux3\n",
    "    global flux_err2\n",
    "    \n",
    "    try:\n",
    "        time*flux*flux_err #check if they work\n",
    "    except:\n",
    "        print('Please load a valid data file first.')\n",
    "        return None\n",
    "    \n",
    "    #::: mask (if chosen)\n",
    "    mask2, limits = get_mask(mask, mask_ranges) #mask2 is an array the size of time\n",
    "    time2 = time[~mask2]\n",
    "    flux2 = flux[~mask2]\n",
    "    flux_err2 = flux_err[~mask2]\n",
    "\n",
    "    #::: wotan kwargs\n",
    "    wotan_kwargs = {}\n",
    "    wotan_kwargs['slide_clip'] = {}\n",
    "    wotan_kwargs['slide_clip']['window_length'] = 1\n",
    "    wotan_kwargs['slide_clip']['low'] = 20\n",
    "    wotan_kwargs['slide_clip']['high'] = 3\n",
    "    wotan_kwargs['flatten'] = {}\n",
    "    wotan_kwargs['flatten']['method'] = method\n",
    "    wotan_kwargs['flatten']['window_length'] = window_length\n",
    "\n",
    "    #silence\n",
    "    import contextlib\n",
    "    import sys\n",
    "    class DummyFile(object):\n",
    "        def write(self, x): pass\n",
    "    @contextlib.contextmanager\n",
    "    def nostdout():\n",
    "        save_stdout = sys.stdout\n",
    "        sys.stdout = DummyFile()\n",
    "        yield\n",
    "        sys.stdout = save_stdout\n",
    "    \n",
    "    #::: clip and detrend\n",
    "    with nostdout():\n",
    "        flux3 = sigma_clip(flux2, sigma_upper=3, sigma_lower=20)\n",
    "        flux3 = slide_clip(time2, flux3, **wotan_kwargs['slide_clip']) #slide_clip is super fast (<1 second for a TESS 2 min lightcurve for a single Sector)\n",
    "        flux3, trend = flatten(time2, flux3, return_trend=True, **wotan_kwargs['flatten']) #flatten is super fast, (<1 second for a TESS 2 min lightcurve for a single Sector)\n",
    "    \n",
    "    #::: data & tred\n",
    "    with out1:\n",
    "        out1.clear_output()\n",
    "        axes = tessplot(time[::2], flux[::2], clip=True)\n",
    "        axes = tessplot(time2[::2], trend[::2], axes=axes, shade=False, marker=None, color='r', linestyle='-', linewidth=2)\n",
    "        plot_mask(axes, limits) #if chosen\n",
    "        fig1 = np.atleast_1d(axes)[0].get_figure()\n",
    "        plt.show(fig1)\n",
    "        #plt.gcf().savefig(outdir+'/tessplot_trend.pdf')\n",
    "    \n",
    "    #::: data periodogram (takes masks into account)\n",
    "    with out2:\n",
    "        out2.clear_output()\n",
    "        axes = estimate_period(time2, flux2, flux_err2, options={'show_plot':True, 'save_plot':False, 'return_plot':True})[2]\n",
    "        fig2 = np.atleast_1d(axes)[0].get_figure()\n",
    "#         plt.show(fig2)\n",
    "        #estimate_period(time, flux2, flux_err, options={'outdir':outdir, 'fname_plot':'periodogram_flat'})\n",
    "        \n",
    "    #::: residuals\n",
    "    with out3:\n",
    "        out3.clear_output()\n",
    "        axes = tessplot(time2[::2], flux3[::2])\n",
    "        fig3 = np.atleast_1d(axes)[0].get_figure()\n",
    "        plt.show(fig3)\n",
    "        #plt.gcf().savefig(outdir+'/tessplot_flat.pdf')\n",
    "\n",
    "    #::: residual periodogram\n",
    "    with out4:\n",
    "        out4.clear_output()\n",
    "        axes = estimate_period(time2, flux3, flux_err2, options={'show_plot':True, 'save_plot':False, 'return_plot':True})[2]\n",
    "        fig4 = np.atleast_1d(axes)[0].get_figure()\n",
    "#         plt.show(fig4)\n",
    "        #estimate_period(time, flux2, flux_err, options={'outdir':outdir, 'fname_plot':'periodogram_flat'})\n",
    "\n",
    "                \n",
    "#==============================================================================\n",
    "#::: main\n",
    "#==============================================================================\n",
    "im = widgets.interact_manual(optimize, clip=True, mask=False, mask_ranges='', method=['biweight','cosine','rspline'], window_length=1.)\n",
    "im.widget.children[5].description = 'Plot / Refresh' #https://stackoverflow.com/a/51361461/4718101 "
   ]
  },
  {
   "cell_type": "markdown",
   "metadata": {},
   "source": [
    "## Run a Transit-Least-Squares search"
   ]
  },
  {
   "cell_type": "code",
   "execution_count": 8,
   "metadata": {
    "scrolled": false
   },
   "outputs": [
    {
     "data": {
      "application/vnd.jupyter.widget-view+json": {
       "model_id": "44cab6f3529942619528e62eca88260a",
       "version_major": 2,
       "version_minor": 0
      },
      "text/plain": [
       "interactive(children=(IntSlider(value=1, description='period_min', max=99), IntSlider(value=20, description='p…"
      ]
     },
     "metadata": {},
     "output_type": "display_data"
    }
   ],
   "source": [
    "def search(period_min, period_max):\n",
    "    try:\n",
    "        tls_kwargs['R_star']\n",
    "    except:\n",
    "        print('Please finish the above steps first.')\n",
    "        return None\n",
    "    \n",
    "    tls_kwargs['period_min'] = period_min\n",
    "    tls_kwargs['period_max'] = period_max\n",
    "    tls_kwargs['show_progress_bar'] = True\n",
    "    \n",
    "    tls_search(time2, flux3, flux_err2, \n",
    "               wotan_kwargs=None, #use the detrending from above \n",
    "               tls_kwargs=tls_kwargs,\n",
    "               options={'show_plot':'2'})\n",
    "\n",
    "im = widgets.interact_manual(search, \n",
    "                             period_min=widgets.IntSlider(min=0, max=99, step=1, value=1), \n",
    "                             period_max=widgets.IntSlider(min=1, max=100, step=1, value=20));\n",
    "im.widget.children[2].description = 'TLS Search' #https://stackoverflow.com/a/51361461/4718101'"
   ]
  },
  {
   "cell_type": "markdown",
   "metadata": {},
   "source": [
    "## Save the results"
   ]
  },
  {
   "cell_type": "code",
   "execution_count": 9,
   "metadata": {
    "scrolled": false
   },
   "outputs": [
    {
     "data": {
      "application/vnd.jupyter.widget-view+json": {
       "model_id": "dc413ca3364d4884ae8ceaef221bdaaa",
       "version_major": 2,
       "version_minor": 0
      },
      "text/plain": [
       "Text(value='', description='Output directory:')"
      ]
     },
     "metadata": {},
     "output_type": "display_data"
    },
    {
     "data": {
      "application/vnd.jupyter.widget-view+json": {
       "model_id": "705675ce6cfa4d7e9b6acf825916f120",
       "version_major": 2,
       "version_minor": 0
      },
      "text/plain": [
       "interactive(children=(Button(description='Run Interact', style=ButtonStyle()), Output()), _dom_classes=('widge…"
      ]
     },
     "metadata": {},
     "output_type": "display_data"
    },
    {
     "data": {
      "application/vnd.jupyter.widget-view+json": {
       "model_id": "e98d831fe21d4edeaaf642c9ee50bf07",
       "version_major": 2,
       "version_minor": 0
      },
      "text/plain": [
       "interactive(children=(Button(description='Run Interact', style=ButtonStyle()), Output()), _dom_classes=('widge…"
      ]
     },
     "metadata": {},
     "output_type": "display_data"
    }
   ],
   "source": [
    "INPUT['outdir'] = widgets.Text(value='', description='Output directory:')\n",
    "display(INPUT['outdir'])\n",
    "\n",
    "\n",
    "def select_outdir():\n",
    "    root = Tk()\n",
    "    root.withdraw()\n",
    "    root.call('wm', 'attributes', '.', '-topmost', True)\n",
    "    INPUT['outdir_dialog'] = filedialog.askdirectory()\n",
    "    %gui tk\n",
    "    if INPUT['outdir_dialog'] != '':\n",
    "        INPUT['outdir'].value = INPUT['outdir_dialog']\n",
    "im = widgets.interact_manual(select_outdir);\n",
    "im.widget.children[0].description = 'Open file dialog' #https://stackoverflow.com/a/51361461/4718101\n",
    "\n",
    "\n",
    "def save():\n",
    "    try:\n",
    "        outdir = INPUT['outdir'].value\n",
    "        allesfitter.write_dic( os.path.join(outdir,'TIC_'+tic_id+'_wotan_kwargs.json'), wotan_kwargs )\n",
    "        fig1.savefig(os.path.join(outdir,'TIC_'+tic_id+'_data_and_trend.pdf'))\n",
    "        fig2.savefig(os.path.join(outdir,'TIC_'+tic_id+'_data_periodogram.pdf'))\n",
    "        fig3.savefig(os.path.join(outdir,'TIC_'+tic_id+'_residuals.pdf'))\n",
    "        fig4.savefig(os.path.join(outdir,'TIC_'+tic_id+'_residuals_periodogram.pdf'))\n",
    "        print('Saved all files succesfully.')\n",
    "    except:\n",
    "        print('Please get some results first.')\n",
    "    \n",
    "    \n",
    "im = widgets.interact_manual(save);\n",
    "im.widget.children[0].description = 'Save' #https://stackoverflow.com/a/51361461/4718101"
   ]
  },
  {
   "cell_type": "code",
   "execution_count": null,
   "metadata": {},
   "outputs": [],
   "source": []
  }
 ],
 "metadata": {
  "kernelspec": {
   "display_name": "Python 3",
   "language": "python",
   "name": "python3"
  },
  "language_info": {
   "codemirror_mode": {
    "name": "ipython",
    "version": 3
   },
   "file_extension": ".py",
   "mimetype": "text/x-python",
   "name": "python",
   "nbconvert_exporter": "python",
   "pygments_lexer": "ipython3",
   "version": "3.7.9"
  }
 },
 "nbformat": 4,
 "nbformat_minor": 4
}
