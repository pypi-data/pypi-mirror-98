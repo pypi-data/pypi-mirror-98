{
 "cells": [
  {
   "cell_type": "markdown",
   "metadata": {},
   "source": [
    "PySB Tutorial\n",
    "========\n",
    "\n",
    "Introduction\n",
    "------------\n",
    "\n",
    "This tutorial will walk you through the creation and simulation of a\n",
    "PySB model.\n",
    "\n",
    "First steps\n",
    "-----------\n",
    "\n",
    "Once you have installed PySB, run the following commands from a Python\n",
    "interpreter to check that the basic functionality is working. This will\n",
    "define a model that synthesizes a molecule `A` at the rate of 3 copies\n",
    "per second, simulates that model from t=0 to 60 seconds and displays the\n",
    "amount of `A` sampled at intervals of 10 seconds:"
   ]
  },
  {
   "cell_type": "markdown",
   "metadata": {},
   "source": [
    "First, we import the core PySB model building functionality, and the `ScipyOdeSimulator`, which is a wrapper around the `scipy` library to perform ODE integration."
   ]
  },
  {
   "cell_type": "code",
   "execution_count": 13,
   "metadata": {},
   "outputs": [],
   "source": [
    "from pysb import *\n",
    "from pysb.simulator import ScipyOdeSimulator"
   ]
  },
  {
   "cell_type": "markdown",
   "metadata": {},
   "source": [
    "Next, we declare a model. All components after this declaration will be attached to this model."
   ]
  },
  {
   "cell_type": "code",
   "execution_count": 14,
   "metadata": {},
   "outputs": [
    {
     "data": {
      "text/plain": [
       "<Model '_interactive_' (monomers: 0, rules: 0, parameters: 0, expressions: 0, compartments: 0) at 0x117b1f810>"
      ]
     },
     "execution_count": 14,
     "metadata": {},
     "output_type": "execute_result"
    }
   ],
   "source": [
    "Model()"
   ]
  },
  {
   "cell_type": "markdown",
   "metadata": {},
   "source": [
    "### Model components\n",
    "\n",
    "Now we can add components to the model. In a rule-based model, there are several key components to a model:\n",
    "\n",
    "* `Monomers`, which are the individual biochemical components\n",
    "* `Parameters`, which define parameter values, e.g. reaction rates and initial concentrations\n",
    "* `Rules`, which define transformations to monomers using *patterns*, together with their rates\n",
    "* `Observables`, which define patterns to match for counting biochemical complex concentrations\n",
    "* `Expressions`, which can be used in place of parameters to define rates as equations\n",
    "\n",
    "### Key concepts\n",
    "\n",
    "Monomers can have internal *states*, e.g. an indicator of phosphorylation, and *binding sites*, which are used to combine monomers into *complexes*. A monomer or complex is referred to as a biochemical *species*.\n",
    "\n",
    "Rules use patterns to define transformations to sets of species. These patterns might specify only some aspects of the reactants. For example, if the phosphorylation state of a reactant is not important to a reaction, we can leave it out when specifying the reactant pattern. In this way, the reactant side of a rule can match against multiple species and generate multiple *reactions*. The process of converting rules into a set of reactions and species is called *network generation*.\n",
    "\n",
    "These concepts are expanded further later in this tutorial.\n",
    "\n",
    "### Add components to model"
   ]
  },
  {
   "cell_type": "code",
   "execution_count": 15,
   "metadata": {},
   "outputs": [
    {
     "data": {
      "text/plain": [
       "Monomer('A')"
      ]
     },
     "execution_count": 15,
     "metadata": {},
     "output_type": "execute_result"
    }
   ],
   "source": [
    "Monomer('A')"
   ]
  },
  {
   "cell_type": "code",
   "execution_count": 16,
   "metadata": {},
   "outputs": [
    {
     "data": {
      "text/plain": [
       "Parameter('k', 3.0)"
      ]
     },
     "execution_count": 16,
     "metadata": {},
     "output_type": "execute_result"
    }
   ],
   "source": [
    "Parameter('k', 3.0)"
   ]
  },
  {
   "cell_type": "code",
   "execution_count": 17,
   "metadata": {},
   "outputs": [
    {
     "data": {
      "text/plain": [
       "Rule('synthesize_A', None >> A(), k)"
      ]
     },
     "execution_count": 17,
     "metadata": {},
     "output_type": "execute_result"
    }
   ],
   "source": [
    "Rule('synthesize_A', None >> A(), k)"
   ]
  },
  {
   "cell_type": "markdown",
   "metadata": {},
   "source": [
    "### Run a simulation\n",
    "\n",
    "We define `t`, the set of times to integrate over (arbitrary units), instantiate an ODE solver using `ScipyOdeSimulator`, and run the simulation."
   ]
  },
  {
   "cell_type": "code",
   "execution_count": 18,
   "metadata": {},
   "outputs": [],
   "source": [
    "t = [0, 10, 20, 30, 40, 50, 60]"
   ]
  },
  {
   "cell_type": "code",
   "execution_count": 19,
   "metadata": {},
   "outputs": [],
   "source": [
    "solver = ScipyOdeSimulator(model, t)"
   ]
  },
  {
   "cell_type": "code",
   "execution_count": 21,
   "metadata": {},
   "outputs": [],
   "source": [
    "result = solver.run()"
   ]
  },
  {
   "cell_type": "code",
   "execution_count": 24,
   "metadata": {},
   "outputs": [
    {
     "name": "stdout",
     "output_type": "stream",
     "text": [
      "[[  0.]\n",
      " [ 30.]\n",
      " [ 60.]\n",
      " [ 90.]\n",
      " [120.]\n",
      " [150.]\n",
      " [180.]]\n"
     ]
    }
   ],
   "source": [
    "print(result.species)"
   ]
  },
  {
   "cell_type": "markdown",
   "metadata": {},
   "source": [
    "Creating a model\n",
    "----------------\n",
    "\n",
    "The example above notwithstanding, PySB model definition is not meant to\n",
    "be performed in an interactive environment. The proper way to create a\n",
    "model is to write the code in a .py file which can then be loaded\n",
    "interactively or in other scripts for analysis and simulation. Here are\n",
    "the Python statements necessary to define the model from first steps above."
   ]
  },
  {
   "cell_type": "code",
   "execution_count": 27,
   "metadata": {},
   "outputs": [
    {
     "data": {
      "text/plain": [
       "Rule('synthesize_A', None >> A(), k)"
      ]
     },
     "execution_count": 27,
     "metadata": {},
     "output_type": "execute_result"
    }
   ],
   "source": [
    "from pysb import *\n",
    "\n",
    "Model()\n",
    "Monomer('A')\n",
    "Parameter('k', 3.0)\n",
    "Rule('synthesize_A', None >> A(), k)"
   ]
  },
  {
   "cell_type": "markdown",
   "metadata": {},
   "source": [
    "Note that we did not import `pysb.simulator`, define the `t` variable or\n",
    "create a `ScipyOdeSimulator` object. These are part of model usage, not definition,\n",
    "so they do not belong here.\n",
    "\n",
    "You may also be wondering why there are no assignment statements to be\n",
    "found. This is because every PySB model component automatically assigns\n",
    "itself to a variable named identically to the component's name (`A`,\n",
    "`k` and `synthesize_A` above), or `model` in the case of the `Model`\n",
    "object itself. This is not standard Python behavior but it makes models\n",
    "much more readable. The Component section below explains a\n",
    "bit more about this feature, and technical readers can find even more in\n",
    "the Self-export section.\n",
    "\n",
    "Using a model\n",
    "-------------"
   ]
  },
  {
   "cell_type": "code",
   "execution_count": 32,
   "metadata": {},
   "outputs": [
    {
     "name": "stdout",
     "output_type": "stream",
     "text": [
      "[[  0.]\n",
      " [ 30.]\n",
      " [ 60.]\n",
      " [ 90.]\n",
      " [120.]\n",
      " [150.]\n",
      " [180.]]\n"
     ]
    }
   ],
   "source": [
    "from pysb.simulator import ScipyOdeSimulator\n",
    "# from tutorial_a import model\n",
    "\n",
    "t = [0, 10, 20, 30, 40, 50, 60]\n",
    "simulator = ScipyOdeSimulator(model, tspan=t)\n",
    "simresult = simulator.run()\n",
    "print(simresult.species)"
   ]
  },
  {
   "cell_type": "markdown",
   "metadata": {},
   "source": [
    "The one line that's been added relative to the original listing, commented out, is\n",
    "`from tutorial_a import model`. Since PySB models are just Python code,\n",
    "we can use the standard python `import` mechanism to load them from a separate file.\n",
    "\n",
    "The variable `model` which holds the `Model` object is explicitly chosen for import.\n",
    "All other model components defined in `tutorial_a.py` are accessible\n",
    "through `model`, so there is little need to import them separately.\n",
    "\n",
    "Model creation in depth\n",
    "-----------------------\n",
    "\n",
    "Every model file must begin with these two lines:"
   ]
  },
  {
   "cell_type": "code",
   "execution_count": 33,
   "metadata": {},
   "outputs": [
    {
     "data": {
      "text/plain": [
       "<Model '_interactive_' (monomers: 0, rules: 0, parameters: 0, expressions: 0, compartments: 0) at 0x117ed88d0>"
      ]
     },
     "execution_count": 33,
     "metadata": {},
     "output_type": "execute_result"
    }
   ],
   "source": [
    "from pysb import *\n",
    "Model()"
   ]
  },
  {
   "cell_type": "markdown",
   "metadata": {},
   "source": [
    "The first line brings in all of the Python classes needed to define a\n",
    "model. The second line creates an instance of the `Model` class and\n",
    "implicitly assigns this object to the variable `model`. We won't have\n",
    "to refer to `model` within the model file itself, rather this is the\n",
    "symbol we will later import from *other* code in order to make use of\n",
    "the model.\n",
    "\n",
    "The rest of the model file will be component declarations. There are\n",
    "several types of components, some required and others optional. The\n",
    "required types are `Monomer`, `Parameter` and `Rule` \\-- we have already\n",
    "encountered these in `tutorial_a.py`. The optional ones are `Observable`\n",
    "and `Compartment`. Each of these component types is represented by a\n",
    "Python class which inherits from the base class `Component`. The\n",
    "following sections will explain what each of these component types does\n",
    "in a model and how to create them.\n",
    "\n",
    "### Component\n",
    "\n",
    "The base `Component` class is never explicitly used in a model, but it\n",
    "defines two pieces of basic functionality that are common to all\n",
    "component types. The first is a `name` attribute, which is specified as\n",
    "the first argument to the constructor for all subclasses of `Component`.\n",
    "The second is the \\\"self-export\\\" functionality, which automatically\n",
    "assigns every component to a local variable named for its `name`\n",
    "attribute. Self-export helps streamline model definition, making it feel\n",
    "much more like a domain-specific language like BNGL or Kappa. A\n",
    "justification for the technically-minded for this somewhat unusual\n",
    "behavior may be found in the [Self-export](#self-export) section near\n",
    "the end of the tutorial.\n",
    "\n",
    "### Monomer\n",
    "\n",
    "Monomers are the indivisible elements that will make up the molecules\n",
    "and complexes whose behavior you intend to model. Typically they will\n",
    "represent a specific protein or other biomolecule such as \\\"EGFR\\\" or\n",
    "\\\"ATP\\\". Monomers have a *name* (like all components) as well as a list\n",
    "of *sites*. Sites are named locations on the monomer which can *bind*\n",
    "with a site on another monomer and/or take on a *state*. Binding merely\n",
    "represents aggregation, not necessarily a formal chemical bond. States\n",
    "can range from the biochemically specific (e.g.\n",
    "\\\"phosphorylated/unphosphorylated\\\" to the generic (e.g.\n",
    "\\\"active/inactive\\\"). The site list is technically optional (as seen in\n",
    "`tutorial_a.py`) but only the simplest toy models will be able to get by\n",
    "without them.\n",
    "\n",
    "The :py[Monomer constructor \\<pysb.core.Monomer\\>]{role=\"class\"} takes a\n",
    "name, followed by a list of site names, and finally a dict specifying\n",
    "the allowable states for the sites. Sites used only for binding may be\n",
    "omitted from the dict.\n",
    "\n",
    "Here we will define a monomer representing the protein **Raf**, for use\n",
    "in a model of the MAPK signaling cascade. We choose to give our Raf\n",
    "monomer two sites: **s** represents the serine residue on which it is\n",
    "phosphorylated by Ras to activate its own kinase activity, and **k**\n",
    "represents the catalytic kinase domain with which it can subsequently\n",
    "phosphorylate MEK. Site **s** can take on two states: \\'u\\' for\n",
    "unphosphorylated and \\'p\\' for phosphorylated:"
   ]
  },
  {
   "cell_type": "code",
   "execution_count": null,
   "metadata": {},
   "outputs": [],
   "source": [
    "Monomer('Raf', ['s', 'k'], {'s': ['u', 'p']})"
   ]
  },
  {
   "cell_type": "markdown",
   "metadata": {},
   "source": [
    "Now let\\'s provide a definition for **MEK**, the substrate of Raf. MEK\n",
    "has two serine residues at positions 218 and 222 in the amino acid\n",
    "sequence which are both phosphorylated by Raf. We can\\'t call them both\n",
    "**s** as site names must be unique within a monomer, so we\\'ve used the\n",
    "residue numbers in the sites\\' names to distinguish them: **s218** and\n",
    "**s222**. MEK has a kinase domain of its own for which we\\'ve again used\n",
    "**k**:"
   ]
  },
  {
   "cell_type": "code",
   "execution_count": null,
   "metadata": {},
   "outputs": [],
   "source": [
    "Monomer('MEK', ['s218', 's222', 'k'], {'s218': ['u', 'p'], 's222': ['u', 'p']})"
   ]
  },
  {
   "cell_type": "markdown",
   "metadata": {},
   "source": [
    "Adding these two monomer definitions to a new model file `tutorial_b.py`\n",
    "yields the following:\n",
    "\n",
    "::: {.literalinclude}\n",
    "/../pysb/examples/tutorial\\_b.py\n",
    ":::\n",
    "\n",
    "We can import this model in an interactive Python session and explore\n",
    "its monomers:"
   ]
  },
  {
   "cell_type": "code",
   "execution_count": null,
   "metadata": {},
   "outputs": [],
   "source": [
    ">>> from tutorial_b import model\n",
    ">>> model.monomers\n",
    "ComponentSet([\n",
    " Monomer('Raf', ['s', 'k'], {'s': ['u', 'p']}),\n",
    " Monomer('MEK', ['s218', 's222', 'k'], {'s218': ['u', 'p'], 's222': ['u', 'p']}),\n",
    " ])\n",
    ">>> [m.name for m in model.monomers]\n",
    "['Raf', 'MEK']\n",
    ">>> model.monomers[0]\n",
    "Monomer('Raf', ['s', 'k'], {'s': ['u', 'p']})\n",
    ">>> model.monomers.keys()\n",
    "['Raf', 'MEK']\n",
    ">>> model.monomers['MEK']\n",
    "Monomer('MEK', ['s218', 's222', 'k'], {'s218': ['u', 'p'], 's222': ['u', 'p']})\n",
    ">>> model.monomers['MEK'].sites\n",
    "['s218', 's222', 'k']"
   ]
  },
  {
   "cell_type": "markdown",
   "metadata": {},
   "source": [
    "The `Model` class has a container for each component type, for example\n",
    "`monomers` holds the monomers. These component objects are the very same\n",
    "ones you defined in your model script \\-- they were implicitly added to\n",
    "the model\\'s `monomers` container by the self-export system. This\n",
    "container is a `ComponentSet`, a special PySB class which acts like a\n",
    "list, a dict and a set rolled into one, although it can only hold\n",
    "`Component` objects and can only be appended to (never deleted from).\n",
    "Its list personality allows you to iterate over the components or index\n",
    "an individual component by integer position, with the ordering of the\n",
    "values corresponding to the order in which the components were defined\n",
    "in the model. Its dict personality allows you to index an individual\n",
    "component with its string name and use the standard `keys` and `items`\n",
    "methods. The set personality allows set operations with ordering\n",
    "retained. For binary set operators, the left-hand operand\\'s ordering\n",
    "takes precedence.\n",
    "\n",
    "We can also access the fields of a `Monomer` object such as `name` and\n",
    "`sites`. See the [/modules/core]{role=\"doc\"} section of the module\n",
    "reference for documentation on the fields and methods of all the\n",
    "component classes.\n",
    "\n",
    "### Parameter\n",
    "\n",
    "Parameters are constant numerical values that represent biological\n",
    "constants. A parameter can be used as a reaction rate constant,\n",
    "compartment volume or initial (boundary) condition for a molecular\n",
    "species. Other than *name*, the only other attribute of a parameter is\n",
    "its numerical *value*.\n",
    "\n",
    "The :py[Parameter constructor \\<pysb.core.Parameter\\>]{role=\"class\"}\n",
    "takes the name and value as its two arguments. The value is optional and\n",
    "defaults to 0.\n",
    "\n",
    "Here we will define three parameters: a forward reaction rate for the\n",
    "binding of Raf and MEK and initial conditions for those two proteins:"
   ]
  },
  {
   "cell_type": "code",
   "execution_count": null,
   "metadata": {},
   "outputs": [],
   "source": [
    "Parameter('kf', 1e-5)\n",
    "Parameter('Raf_0', 7e4)\n",
    "Parameter('MEK_0', 3e6)"
   ]
  },
  {
   "cell_type": "markdown",
   "metadata": {},
   "source": [
    "Add these parameter definitions to our `tutorial_b` model file to create\n",
    "`tutorial_c.py`:\n",
    "\n",
    "::: {.literalinclude}\n",
    "/../pysb/examples/tutorial\\_c.py\n",
    ":::\n",
    "\n",
    "Then explore the `parameters` container:"
   ]
  },
  {
   "cell_type": "code",
   "execution_count": null,
   "metadata": {},
   "outputs": [],
   "source": [
    ">>> from tutorial_c import model\n",
    ">>> model.parameters\n",
    "ComponentSet([\n",
    " Parameter('kf', 1e-05),\n",
    " Parameter('Raf_0', 70000.0),\n",
    " Parameter('MEK_0', 3000000.0),\n",
    " ])\n",
    ">>> model.parameters['Raf_0'].value\n",
    "70000.0"
   ]
  },
  {
   "cell_type": "markdown",
   "metadata": {},
   "source": [
    "Parameters as defined are unitless, so you'll need to maintain unit\n",
    "consistency on your own. Best practice is to use number of molecules for\n",
    "species concentrations (i.e. initial conditions) and S.I. units for\n",
    "everything else: unimolecular rate constants in $s^{-1}$, bimolecular\n",
    "rate constants in $\\#molecules^{-1} \\times s^{-1}$, compartment volumes\n",
    "in $L$, etc.\n",
    "\n",
    "In the following sections we will see how parameters are used to build\n",
    "other model components.\n",
    "\n",
    "### Rules\n",
    "\n",
    "Rules define chemical reactions between molecules and complexes. A rule\n",
    "consists of a *name*, a pattern describing which molecular species\n",
    "should act as the *reactants*, another pattern describing how reactants\n",
    "should be transformed into *products*, and parameters denoting the *rate\n",
    "constants*.\n",
    "\n",
    "The :py[Rule constructor \\<pysb.core.Rule\\>]{role=\"class\"} takes a name,\n",
    "a `RuleExpression` containing the reactant and product patterns (more on\n",
    "that below) and one or two `Parameter` objects for the rate constants.\n",
    "It also takes several optional boolean flags as kwargs which alter the\n",
    "behavior of the rule in certain ways.\n",
    "\n",
    "Rules, as described in this section, comprise the basic elements of\n",
    "procedural instructions that encode biochemical interactions. In its\n",
    "simplest form a rule is a chemical reaction that can be made general to\n",
    "a range of monomer states or very specific to only one kind of monomer\n",
    "in one kind of state. We follow the style for writing rules as described\n",
    "in [BioNetGen](http://bionetgen.org/index.php/Documentation) but the\n",
    "style proposed by\n",
    "[Kappa](http://dev.executableknowledge.org/docs/KaSim-manual-master/KaSim_manual.htm)\n",
    "is quite similar with only some differences related to the\n",
    "implementation details (e.g. mass-action vs. stochastic simulations,\n",
    "compartments or no compartments, etc). We will write two rules to\n",
    "represent the interaction between the reactants and the products in a\n",
    "two-step manner.\n",
    "\n",
    "The general pattern for a rule consists of the statement *Rule* and in\n",
    "parenthesis a series of statements separated by commas, namely the rule\n",
    "name (string), the rule interactions, and the rule parameters. The rule\n",
    "interactions make use of the following operators:"
   ]
  },
  {
   "cell_type": "code",
   "execution_count": null,
   "metadata": {},
   "outputs": [],
   "source": [
    "*+* operator to represent complexation \n",
    "*|* operator to represent backward/forward reaction\n",
    "*>>* operator to represent forward-only reaction\n",
    "*%* operator to represent a binding interaction between two species"
   ]
  },
  {
   "cell_type": "markdown",
   "metadata": {},
   "source": [
    "::: {.note}\n",
    "::: {.admonition-title}\n",
    "Note\n",
    ":::\n",
    "\n",
    "PySB used to use the \\<\\> operator for reversible rules, but that\n",
    "\n",
    ":   operator was removed in Python 3. All new models should use the \\|\n",
    "    operator instead. Support for the \\<\\> in PySB with Python 2 will be\n",
    "    removed in a future version of PySB.\n",
    ":::\n",
    "\n",
    "To illustrate the use of the operators and the rule syntax we write the\n",
    "complex formation reaction with labels illustrating the parts of the\n",
    "rule:"
   ]
  },
  {
   "cell_type": "code",
   "execution_count": 11,
   "metadata": {},
   "outputs": [
    {
     "ename": "NameError",
     "evalue": "name 'C8' is not defined",
     "output_type": "error",
     "traceback": [
      "\u001B[0;31m---------------------------------------------------------------------------\u001B[0m",
      "\u001B[0;31mNameError\u001B[0m                                 Traceback (most recent call last)",
      "\u001B[0;32m<ipython-input-11-23e72ee80a19>\u001B[0m in \u001B[0;36m<module>\u001B[0;34m()\u001B[0m\n\u001B[0;32m----> 1\u001B[0;31m \u001B[0mRule\u001B[0m\u001B[0;34m(\u001B[0m\u001B[0;34m'C8_Bid_bind'\u001B[0m\u001B[0;34m,\u001B[0m \u001B[0mC8\u001B[0m\u001B[0;34m(\u001B[0m\u001B[0mb\u001B[0m\u001B[0;34m=\u001B[0m\u001B[0mNone\u001B[0m\u001B[0;34m)\u001B[0m \u001B[0;34m+\u001B[0m \u001B[0mBid\u001B[0m\u001B[0;34m(\u001B[0m\u001B[0mb\u001B[0m\u001B[0;34m=\u001B[0m\u001B[0mNone\u001B[0m\u001B[0;34m,\u001B[0m \u001B[0mS\u001B[0m\u001B[0;34m=\u001B[0m\u001B[0;34m'u'\u001B[0m\u001B[0;34m)\u001B[0m \u001B[0;34m|\u001B[0m \u001B[0mC8\u001B[0m\u001B[0;34m(\u001B[0m\u001B[0mb\u001B[0m\u001B[0;34m=\u001B[0m\u001B[0;36m1\u001B[0m\u001B[0;34m)\u001B[0m \u001B[0;34m%\u001B[0m \u001B[0mBid\u001B[0m\u001B[0;34m(\u001B[0m\u001B[0mb\u001B[0m\u001B[0;34m=\u001B[0m\u001B[0;36m1\u001B[0m\u001B[0;34m,\u001B[0m \u001B[0mS\u001B[0m\u001B[0;34m=\u001B[0m\u001B[0;34m'u'\u001B[0m\u001B[0;34m)\u001B[0m\u001B[0;34m,\u001B[0m \u001B[0;34m*\u001B[0m\u001B[0;34m[\u001B[0m\u001B[0mkf\u001B[0m\u001B[0;34m,\u001B[0m \u001B[0mkr\u001B[0m\u001B[0;34m]\u001B[0m\u001B[0;34m)\u001B[0m\u001B[0;34m\u001B[0m\u001B[0m\n\u001B[0m\u001B[1;32m      2\u001B[0m \"\"\"   |              |     |           |        |     |    |     |             |\n\u001B[1;32m      3\u001B[0m       \u001B[0;34m|\u001B[0m              \u001B[0;34m|\u001B[0m     \u001B[0;34m|\u001B[0m           \u001B[0;34m|\u001B[0m        \u001B[0;34m|\u001B[0m     \u001B[0;34m|\u001B[0m    \u001B[0;34m|\u001B[0m     \u001B[0;34m|\u001B[0m            \u001B[0mparameter\u001B[0m \u001B[0mlist\u001B[0m\u001B[0;34m\u001B[0m\u001B[0m\n\u001B[1;32m      4\u001B[0m       \u001B[0;34m|\u001B[0m              \u001B[0;34m|\u001B[0m     \u001B[0;34m|\u001B[0m           \u001B[0;34m|\u001B[0m        \u001B[0;34m|\u001B[0m     \u001B[0;34m|\u001B[0m    \u001B[0;34m|\u001B[0m     \u001B[0;34m|\u001B[0m\u001B[0;34m\u001B[0m\u001B[0m\n\u001B[1;32m      5\u001B[0m       \u001B[0;34m|\u001B[0m              \u001B[0;34m|\u001B[0m     \u001B[0;34m|\u001B[0m           \u001B[0;34m|\u001B[0m        \u001B[0;34m|\u001B[0m     \u001B[0;34m|\u001B[0m    \u001B[0;34m|\u001B[0m    \u001B[0mbound\u001B[0m \u001B[0mspecies\u001B[0m\u001B[0;34m\u001B[0m\u001B[0m\n",
      "\u001B[0;31mNameError\u001B[0m: name 'C8' is not defined"
     ]
    }
   ],
   "source": [
    "Rule('C8_Bid_bind', C8(b=None) + Bid(b=None, S='u') | C8(b=1) % Bid(b=1, S='u'), *[kf, kr])\n",
    "\"\"\"   |              |     |           |        |     |    |     |             |\n",
    "      |              |     |           |        |     |    |     |            parameter list\n",
    "      |              |     |           |        |     |    |     |\n",
    "      |              |     |           |        |     |    |    bound species\n",
    "      |              |     |           |        |     |    |\n",
    "      |              |     |           |        |     |   binding operator\n",
    "      |              |     |           |        |     |\n",
    "      |              |     |           |        |    bound species\n",
    "      |              |     |           |        |\n",
    "      |              |     |           |        forward/backward operator\n",
    "      |              |     |           |\n",
    "      |              |     |          unbound species\n",
    "      |              |     |\n",
    "      |              |    complexation / addition operator\n",
    "      |              |\n",
    "      |         unbound species\n",
    "     rule name\n",
    "\"\"\""
   ]
  },
  {
   "cell_type": "markdown",
   "metadata": {},
   "source": [
    "The *rule name* can be any string and should be enclosed in single (\\')\n",
    "or double (\\\") quotation marks. The species are *instances* of the\n",
    "mononmers in a specific state. In this case we are requiring that *C8*\n",
    "and *Bid* are both unbound, as we would not want any binding to occur\n",
    "with species that are previously bound. The *complexation* or *addition*\n",
    "operator tells the program that the two species are being added, that\n",
    "is, undergoing a transition, to form a new species as specified on the\n",
    "right side of the rule. The forward/backward operator states that the\n",
    "reaction is reversible. Finally the *binding* operator indicates that\n",
    "there is a bond formed between two or more species. This is indicated by\n",
    "the matching integer (in this case *1*) in the bonding site of both\n",
    "species along with the *binding* operator. If a non-reversible rule is\n",
    "desired, then the *forward-only* operator can be relplaced for the\n",
    "*forward/backward* operator.\n",
    "\n",
    "In order to actually change the state of the Bid protein we must now\n",
    "edit the monomer so that have an acutal state site as follows:"
   ]
  },
  {
   "cell_type": "code",
   "execution_count": null,
   "metadata": {},
   "outputs": [],
   "source": [
    "Monomer('Bid', ['b', 'S'], {'S':['u', 't']})"
   ]
  },
  {
   "cell_type": "markdown",
   "metadata": {},
   "source": [
    "Having added the state site we can now further specify the state of the\n",
    "Bid protein whe it undergoes rule-based interactions and explicitly\n",
    "indicate the changes of the protein state.\n",
    "\n",
    "With this state site added, we can now go ahead and write the rules that\n",
    "will account for the binding step and the unbinding step as follows:"
   ]
  },
  {
   "cell_type": "code",
   "execution_count": null,
   "metadata": {},
   "outputs": [],
   "source": [
    "Rule('C8_Bid_bind', C8(b=None) + Bid(b=None, S='u') | C8(b=1) % Bid(b=1, S='u'), kf, kr)\n",
    "Rule('tBid_from_C8Bid', C8(b=1) % Bid(b=1, S='u') >> C8(b=None) % Bid(b=None, S='t'), kc)"
   ]
  },
  {
   "cell_type": "markdown",
   "metadata": {},
   "source": [
    "As shown, the initial reactants, *C8* and *Bid* initially in the unbound\n",
    "state and, for Bid, in the \\'u\\' state, undergo a complexation reaction\n",
    "and further a dissociation reaction to return the original *C8* protein\n",
    "and the *Bid* protein but now in the \\'t\\' state, indicating its\n",
    "truncation. Make these additions to your [mymodel.py]{role=\"file\"} file.\n",
    "After you are done, your file should look like this:\n",
    "\n",
    "::: {.literalinclude}\n",
    "examples/mymodel3.py\n",
    ":::\n",
    "\n",
    "Once you are done editing your file, start your *ipython* (or *python*)\n",
    "interpreter and type the commands at the prompts below. Once you load\n",
    "your model you should be able to probe and check that you have the\n",
    "correct monomers, parameters, and rules. Your output should be very\n",
    "similar to the one presented (output shown below the `'>>>'` python\n",
    "prompts).:"
   ]
  },
  {
   "cell_type": "code",
   "execution_count": null,
   "metadata": {},
   "outputs": [],
   "source": [
    ">>> import mymodel as m\n",
    ">>> m.model.monomers\n",
    "   {'C8': Monomer(name='C8', sites=['b'], site_states={}),\n",
    "   'Bid': Monomer(name='Bid', sites=['b', 'S'], site_states={'S': ['u', 't']})}\n",
    ">>> model.parameters\n",
    "   {'kf': Parameter(name='kf', value=1.0e-07),\n",
    "    'kr': Parameter(name='kr', value=1.0e-03),\n",
    "    'kc': Parameter(name='kc', value=1.0    )}\n",
    ">>> m.model.rules\n",
    "   {'C8_Bid_bind': Rule(name='C8_Bid_bind', reactants=C8(b=None) +\n",
    "   Bid(b=None, S='u'), products=C8(b=1) % Bid(b=1, S='u'),\n",
    "   rate_forward=Parameter(name='kf', value=1.0e-07),\n",
    "   rate_reverse=Parameter(name='kr', value=1.0e-03)),\n",
    "   'tBid_from_C8Bid': Rule(name='tBid_from_C8Bid', reactants=C8(b=1) %\n",
    "   Bid(b=1, S='u'u), products=C8(b=None) + Bid(b=None, S=t),\n",
    "   rate_forward=Parameter(name='kc', value=1.0))}"
   ]
  },
  {
   "cell_type": "markdown",
   "metadata": {},
   "source": [
    "With this we are almost ready to run a simulation, all we need now is to\n",
    "specify the initial conditions of the system.\n",
    "\n",
    "### Observables\n",
    "\n",
    "In our model we have two initial species (*C8* and *Bid*) and one output\n",
    "species (*tBid*). As shown in the [ODEs]{role=\"eq\"} derived from the\n",
    "reactions above, there are four mathematical species needed to describe\n",
    "the evolution of the system (i.e. *C8*, *Bid*, *tBid*, and *C8:Bid*).\n",
    "Although this system is rather small, there are situations when we will\n",
    "have many more species than we care to monitor or characterize\n",
    "throughout the time evolution of the [ODEs]{role=\"eq\"}. In addition, it\n",
    "will often happen that the desirable species are combinations or sums of\n",
    "many other species. For this reason the rules-based engines we currently\n",
    "employ implemented the *Observables* call which automatically collects\n",
    "the necessary information and returns the desired species. In our case,\n",
    "we will monitor the amount of free *C8*, unbound *Bid*, and active\n",
    "*tBid*. To specify the observables enter the following lines in your\n",
    "[mymodel.py]{role=\"file\"} file as follows:"
   ]
  },
  {
   "cell_type": "code",
   "execution_count": null,
   "metadata": {},
   "outputs": [],
   "source": [
    "Observable('obsC8', C8(b=None))\n",
    "Observable('obsBid', Bid(b=None, S='u'))\n",
    "Observable('obstBid', Bid(b=None, S='t'))"
   ]
  },
  {
   "cell_type": "markdown",
   "metadata": {},
   "source": [
    "As shown,the observable can be a species. As we will show later the\n",
    "observable can also contain wild-cards and given the \\\"don\\'t care\n",
    "don\\'t write\\\" approach to rule-writing it can be a very powerful\n",
    "approach to observe activated complexes.\n",
    "\n",
    "Initial conditions\n",
    "------------------\n",
    "\n",
    "Having specified the *monomers*, the *parameters* and the *rules* we\n",
    "have the basics of what is needed to generate a set of ODEs and run a\n",
    "model. From a mathematical perspective a system of ODEs can only be\n",
    "solved if a bound is placed on the ODEs for integration. In our case,\n",
    "these bounds are the initial conditions of the system that indicate how\n",
    "much non-zero initial species are present at time *t=0s* in the system.\n",
    "In our system, we only have two initial species, namely *C8* and *Bid*\n",
    "so we need to specify their initial concentrations. To do this we enter\n",
    "the following lines of code into the [mymodel.py]{role=\"file\"} file:"
   ]
  },
  {
   "cell_type": "code",
   "execution_count": null,
   "metadata": {},
   "outputs": [],
   "source": [
    "Parameter('C8_0', 1000)\n",
    "Parameter('Bid_0', 10000)\n",
    "Initial(C8(b=None), C8_0)\n",
    "Initial(Bid(b=None, S='u'), Bid_0)"
   ]
  },
  {
   "cell_type": "markdown",
   "metadata": {},
   "source": [
    "A parameter object must be declared to specify the initial condition\n",
    "rather than just giving a value as shown above. Once the parameter\n",
    "object is declared (i.e. *C8\\_0* and *Bid\\_0*) it can be fed to the\n",
    "*Initial* definition. Now that we have specified the initial conditions\n",
    "we are basically ready to run simulations. We will add an *observables*\n",
    "call in the next section prior to running the simulation.\n",
    "\n",
    "Simulation and analysis\n",
    "-----------------------\n",
    "\n",
    "By now your [mymodel.py]{role=\"file\"} file should look something like\n",
    "this:\n",
    "\n",
    "::: {.literalinclude}\n",
    "examples/mymodel4.py\n",
    ":::\n",
    "\n",
    "You can use a few commands to check that your model is defined properly.\n",
    "Start your *ipython* (or *python*) interpreter and enter the commands as\n",
    "shown below. Notice the output should be similar to the one shown\n",
    "(output shown below the `'>>>'`\\` prompts):"
   ]
  },
  {
   "cell_type": "code",
   "execution_count": null,
   "metadata": {},
   "outputs": [],
   "source": [
    ">>> import mymodel as m\n",
    ">>> m.model.monomers\n",
    "   {'C8': Monomer(name='C8', sites=['b'], site_states={}),\n",
    "    'Bid': Monomer(name='Bid', sites=['b', 'S'], site_states={'S': ['u', 't']})}\n",
    ">>> m.model.parameters\n",
    "   {'kf': Parameter(name='kf', value=1.0e-07),\n",
    "    'kr': Parameter(name='kr', value=1.0e-03),\n",
    "    'kc': Parameter(name='kc', value=1.0    ),\n",
    "    'C8_0': Parameter(name='C8_0', value=1000),\n",
    "    'Bid_0': Parameter(name='Bid_0', value=10000)}\n",
    ">>> m.model.observables\n",
    "   {'obsC8': <pysb.core.Observable object at 0x104b2c4d0>,\n",
    "    'obsBid': <pysb.core.Observable object at 0x104b2c5d0>,\n",
    "    'obstBid': <pysb.core.Observable object at 0x104b2c6d0>}\n",
    ">>> m.model.initial_conditions\n",
    "   [(C8(b=None), Parameter(name='C8_0', value=1000)), (Bid(b=None, S=u), Parameter(name='Bid_0', value=10000))]\n",
    ">>> m.model.rules\n",
    "   {'C8_Bid_bind': Rule(name='C8_Bid_bind', reactants=C8(b=None) +\n",
    "   Bid(b=None, S=None), products=C8(b=1) % Bid(b=1, S=None),\n",
    "   rate_forward=Parameter(name='kf', value=1.0e-07),    rate_reverse=Parameter(name='kr', value=1.0e-03)),\n",
    "    'tBid_from_C8Bid': Rule(name='tBid_from_C8Bid', reactants=C8(b=1)\n",
    "    % Bid(b=1, S=u), products=C8(b=None) + Bid(b=None, S=t),    rate_forward=Parameter(name='kc', value=1.0))}"
   ]
  },
  {
   "cell_type": "markdown",
   "metadata": {},
   "source": [
    "With this we are now ready to run a simulation! The parameter values for\n",
    "the simulation were taken directly from typical values in the paper\n",
    "about [extrinsic apoptosis\n",
    "signaling](http://www.plosbiology.org/article/info%3Adoi%2F10.1371%2Fjournal.pbio.0060299).\n",
    "To run the simulation we must use a numerical integrator. Common\n",
    "examples include LSODA, VODE, CVODE, Matlab\\'s ode15s, etc. We will use\n",
    "two *python* modules that are very useful for numerical manipulation. We\n",
    "have adapted the integrators in the *SciPy*[^1] module to function\n",
    "seamlessly with PySB for integration of ODE systems. We will also be\n",
    "using the *PyLab* [^2] package for graphing and plotting from the\n",
    "command line.\n",
    "\n",
    "We will begin our simulation by loading the model from the *ipython* (or\n",
    "*python*) interpreter as shown below:"
   ]
  },
  {
   "cell_type": "code",
   "execution_count": null,
   "metadata": {},
   "outputs": [],
   "source": [
    ">>> import mymodel as m"
   ]
  },
  {
   "cell_type": "markdown",
   "metadata": {},
   "source": [
    "You can check that your model imported correctly by typing a few\n",
    "commands related to your model as shown:"
   ]
  },
  {
   "cell_type": "code",
   "execution_count": null,
   "metadata": {},
   "outputs": [],
   "source": [
    ">>> m.mymodel.monomers\n",
    ">>> m.mymodel.rules"
   ]
  },
  {
   "cell_type": "markdown",
   "metadata": {},
   "source": [
    "Both commands should return information about your model. (Hint: If you\n",
    "are using iPython, you can press tab twice after \\\"m.mymodel\\\" to tab\n",
    "complete and see all the possible options).\n",
    "\n",
    "Now, we will import the *PyLab* and PySB simulator module. Enter the\n",
    "commands as shown below:"
   ]
  },
  {
   "cell_type": "code",
   "execution_count": null,
   "metadata": {},
   "outputs": [],
   "source": [
    ">>> from pysb.simulator import ScipyOdeSimulator\n",
    ">>> import pylab as pl"
   ]
  },
  {
   "cell_type": "markdown",
   "metadata": {},
   "source": [
    "We have now loaded the integration engine and the graph engine into the\n",
    "interpreter environment. You may get some feedback from the program as\n",
    "some functions can be compiled at runtime for speed, depending on your\n",
    "operating system.Next we need to tell the integrator the time domain\n",
    "over which we wish to integrate the equations. For our case we will use\n",
    "$20000s$ of simulation time. To do this we generate an array using the\n",
    "*linspace* function from *PyLab*. Enter the command below:"
   ]
  },
  {
   "cell_type": "code",
   "execution_count": null,
   "metadata": {},
   "outputs": [],
   "source": [
    ">>> t = pl.linspace(0, 20000)"
   ]
  },
  {
   "cell_type": "markdown",
   "metadata": {},
   "source": [
    "This command assigns an array in the range $[0..20000]$ to the variable\n",
    "*t*. You can type the name of the variable at any time to see the\n",
    "content of the variable. Typing the variable *t* results in the\n",
    "following:"
   ]
  },
  {
   "cell_type": "code",
   "execution_count": null,
   "metadata": {},
   "outputs": [],
   "source": [
    ">>> t\n",
    "array([     0.        ,    408.16326531,    816.32653061,   1224.48979592,\n",
    "         1632.65306122,   2040.81632653,   2448.97959184,   2857.14285714,\n",
    "         3265.30612245,   3673.46938776,   4081.63265306,   4489.79591837,\n",
    "         4897.95918367,   5306.12244898,   5714.28571429,   6122.44897959,\n",
    "         6530.6122449 ,   6938.7755102 ,   7346.93877551,   7755.10204082,\n",
    "         8163.26530612,   8571.42857143,   8979.59183673,   9387.75510204,\n",
    "         9795.91836735,  10204.08163265,  10612.24489796,  11020.40816327,\n",
    "        11428.57142857,  11836.73469388,  12244.89795918,  12653.06122449,\n",
    "        13061.2244898 ,  13469.3877551 ,  13877.55102041,  14285.71428571,\n",
    "        14693.87755102,  15102.04081633,  15510.20408163,  15918.36734694,\n",
    "        16326.53061224,  16734.69387755,  17142.85714286,  17551.02040816,\n",
    "        17959.18367347,  18367.34693878,  18775.51020408,  19183.67346939,\n",
    "        19591.83673469,  20000.        ])"
   ]
  },
  {
   "cell_type": "markdown",
   "metadata": {},
   "source": [
    "These are the points at which we will get data for each ODE from the\n",
    "integrator. With this, we can now run our simulation. Enter the\n",
    "following commands to run the simulation and get the results:"
   ]
  },
  {
   "cell_type": "code",
   "execution_count": null,
   "metadata": {},
   "outputs": [],
   "source": [
    ">>> simres = ScipyOdeSimulator(m.model, tspan=t).run()\n",
    ">>> yout = simres.all"
   ]
  },
  {
   "cell_type": "markdown",
   "metadata": {},
   "source": [
    "To verify that the simulation run you can see the content of the *yout*\n",
    "object. For example, check for the content of the *Bid* observable\n",
    "defined previously:"
   ]
  },
  {
   "cell_type": "code",
   "execution_count": null,
   "metadata": {},
   "outputs": [],
   "source": [
    ">>> yout['obsBid']\n",
    "array([ 10000.        ,   9601.77865674,   9224.08135988,   8868.37855506,\n",
    "         8534.45591732,   8221.19944491,   7927.08884234,   7650.48970981,\n",
    "         7389.81105408,   7143.5816199 ,   6910.47836131,   6689.32927828,\n",
    "         6479.10347845,   6278.89607041,   6087.91189021,   5905.45001654,\n",
    "         5730.89003662,   5563.68044913,   5403.32856328,   5249.39176146,\n",
    "         5101.47069899,   4959.20384615,   4822.26262101,   4690.34720441,\n",
    "         4563.18294803,   4440.51745347,   4322.11815173,   4207.77021789,\n",
    "         4097.27471952,   3990.44698008,   3887.11517373,   3787.11923497,\n",
    "         3690.30945136,   3596.54594391,   3505.69733323,   3417.64025401,\n",
    "         3332.25897699,   3249.44415872,   3169.09326717,   3091.10923365,\n",
    "         3015.40034777,   2941.87977234,   2870.4652525 ,   2801.07879018,\n",
    "         2733.64632469,   2668.09744369,   2604.36497901,   2542.38554596,\n",
    "         2482.09776367,   2423.44473279])"
   ]
  },
  {
   "cell_type": "markdown",
   "metadata": {},
   "source": [
    "As you may recall we named some observables in the\n",
    "[Observables](#observables) section above. The variable *yout* contains\n",
    "an array of all the ODE outputs from the integrators along with the\n",
    "named observables (i.e. *obsBid*, *obstBid*, and *obsC8*) which can be\n",
    "called by their names. We can therefore plot this data to visualize our\n",
    "output. Using the commands imported from the *PyLab* module we can\n",
    "create a graph interactively. Enter the commands as shown below:"
   ]
  },
  {
   "cell_type": "code",
   "execution_count": null,
   "metadata": {},
   "outputs": [],
   "source": [
    ">>> pl.ion()\n",
    ">>> pl.figure()\n",
    ">>> pl.plot(t, yout['obsBid'], label=\"Bid\")\n",
    ">>> pl.plot(t, yout['obstBid'], label=\"tBid\")\n",
    ">>> pl.plot(t, yout['obsC8'], label=\"C8\")\n",
    ">>> pl.legend()\n",
    ">>> pl.xlabel(\"Time (s)\")\n",
    ">>> pl.ylabel(\"Molecules/cell\")\n",
    ">>> pl.show()"
   ]
  },
  {
   "cell_type": "markdown",
   "metadata": {},
   "source": [
    "You should now have a figure in your screen showing the number of *Bid*\n",
    "molecules decreaing from the initial amount decreasing over time, the\n",
    "number of *tBid* molecules increasing over time, and the number of free\n",
    "*C8* molecules decrease to about half. For help with the above commands\n",
    "and to see more commands related to *PyLab* check the documentation[^3].\n",
    "Your figure should look something like the one below:\n",
    "\n",
    "![mymodel figure](examples/fig_mymodel4.png){width=\"800px\"\n",
    "height=\"600px\"}\n",
    "\n",
    "Congratulations! You have created your first model and run a simulation!\n",
    "\n",
    "Visualization\n",
    "-------------\n",
    "\n",
    "It is useful to visualize the species and reactions that make a model.\n",
    "We have provided two methods to visualize species and reactions. We\n",
    "recommend using the tools in\n",
    "[Kappa](http://dev.executableknowledge.org/docs/KaSim-manual-master/KaSim_manual.htm)\n",
    "and [BioNetGen](http://bionetgen.org/index.php/Documentation) for other\n",
    "visualization tools such as contact maps and stories.\n",
    "\n",
    "The simplest way to visualize a model is to generate the graph file\n",
    "using the programs available from the command line. The files are\n",
    "located in the [\\.../pysb/tools]{role=\"file\"} directory. The files to\n",
    "visualize reactions and species are [render\\_reactions.py]{role=\"file\"}\n",
    "and [render\\_species.py]{role=\"file\"}. These python scripts will\n",
    "generate `.dot` graph files that can be visualized using several tool\n",
    "such as [OmniGraffle](http://www.omnigroup.com/products/omnigraffle/) in\n",
    "[OS X]{role=\"file\"} or [GraphViz](http://www.graphviz.org/) in all major\n",
    "platforms. For this tutorial we will use the\n",
    "[GraphViz](http://www.graphviz.org/) renderer. For this example will\n",
    "visualize the [mymodel.py]{role=\"file\"} file that was created earlier.\n",
    "Issue the following command, replacing the comments inside square\n",
    "brackets`[]` with the correct paths. We will first generate the `.dot`\n",
    "from the command line as follows:"
   ]
  },
  {
   "cell_type": "code",
   "execution_count": null,
   "metadata": {},
   "outputs": [],
   "source": [
    "[path-to-pysb]/pysb/tools/render_reactions.py [path-to-pysb-model-file]/mymodel.py > mymodel.dot"
   ]
  },
  {
   "cell_type": "markdown",
   "metadata": {},
   "source": [
    "If your model can be properly visualized you should have gotten no\n",
    "errors and should now have a file called [mymodel.dot]{role=\"file\"}. You\n",
    "can now use this file as an input for any visualization tool as\n",
    "described above. You can follow the same procedures with the\n",
    "[render\\_species.py]{role=\"file\"} script to visualize the species\n",
    "generated by your models.\n",
    "\n",
    "Higher-order rules\n",
    "------------------\n",
    "\n",
    "For this section we will show the power working in a programming\n",
    "environment by creating a simple function called \\\"catalyze\\\". Catalysis\n",
    "happens quite often in models and it is one of the basic functions we\n",
    "have found useful in our model development. Rather than typing many\n",
    "lines such as:"
   ]
  },
  {
   "cell_type": "code",
   "execution_count": null,
   "metadata": {},
   "outputs": [],
   "source": [
    "Rule(\"association\",  Enz(b=None) + Sub(b=None, S=\"i\") | Enz(b=1)%Sub(b=1,S=\"i\"), kf, kr)\n",
    "Rule(\"dissociation\", Enz(b=1)%Sub(b=1,S=\"i\") >> Enz(b=None) + Sub(b=None, S=\"a\"), kc)"
   ]
  },
  {
   "cell_type": "markdown",
   "metadata": {},
   "source": [
    "multiple times, we find it more powerful, transparent and easy to\n",
    "instantiate/edit a simple, one-line function call such as:"
   ]
  },
  {
   "cell_type": "code",
   "execution_count": null,
   "metadata": {},
   "outputs": [],
   "source": [
    "catalyze(Enz, Sub, \"S\", \"i\", \"a\", kf, kr, kc)"
   ]
  },
  {
   "cell_type": "markdown",
   "metadata": {},
   "source": [
    "We find that the functional form captures what we mean to write: a\n",
    "chemical species (the substrate) undergoes catalytic activation (by the\n",
    "enzyme) with a given set of parameters. We will now describe how a\n",
    "function can be written in PySB to automate the scripting of simple\n",
    "concepts into a programmatic format. Examine the function below:"
   ]
  },
  {
   "cell_type": "code",
   "execution_count": null,
   "metadata": {},
   "outputs": [],
   "source": [
    "def catalyze(enz, sub, site, state1, state2, kf, kr, kc):   # (0) function call\n",
    "    \"\"\"2-step catalytic process\"\"\"                          # (1) reaction name\n",
    "    r1_name = '%s_assoc_%s' % (enz.name, sub.name)          # (2) name of association reaction for rule\n",
    "    r2_name = '%s_diss_%s' % (enz.name, sub.name)           # (3) name of dissociation reaction for rule\n",
    "    E = enz(b=None)                                         # (4) define enzyme state in function\n",
    "    S = sub({'b': None, site: state1})                      # (5) define substrate state in function\n",
    "    ES = enz(b=1) % sub({'b': 1, site: state1})             # (6) define state of enzyme:substrate complex\n",
    "    P = sub({'b': None, site: state2})                      # (7) define state of product\n",
    "    Rule(r1_name, E + S | ES, kf, kr)                       # (8) rule for enzyme + substrate association (bidirectional)\n",
    "    Rule(r2_name, ES >> E + P, kc)                          # (9) rule for enzyme:substrate dissociation  (unidirectional)"
   ]
  },
  {
   "cell_type": "markdown",
   "metadata": {},
   "source": [
    "As shown it takes about ten lines to write the catalyze function\n",
    "(shorter variants are certainly possible with more advanced *Python*\n",
    "statements). The skeleton of every function in *Python*\n",
    "\n",
    "As shown, *Monomers*, *Parameters*, *Species*, and pretty much anything\n",
    "related to rules-based modeling are instantiated as objects in *Python*.\n",
    "One could write functions to interact with these objects and they could\n",
    "be instantiated and inherit methods from a class. The limits to\n",
    "programming biology with PySB are those enforced by the *Python*\n",
    "language itself. We can now go ahead and embed this into a model. Go\n",
    "back to your `mymodel.py` file and modify it to look something like\n",
    "this:\n",
    "\n",
    "::: {.literalinclude}\n",
    "examples/mymodel5.py\n",
    ":::\n",
    "\n",
    "With this you should be able to execute your code and generate figures\n",
    "as described in the previous sections.\n",
    "\n",
    "Using provided macros\n",
    "---------------------\n",
    "\n",
    "For further reference we invite the users to explore the\n",
    "[macros.py]{role=\"file\"} file in the [\\.../pysb/]{role=\"file\"}\n",
    "directory. Based on our experience with modeling signal transduction\n",
    "pathways we have identified a set of commonly-used constructs that can\n",
    "serve as building blocks for more complex models. In addition to some\n",
    "meta-macros useful for instantiating user macros, we provide a set of\n",
    "macros such as `equilibrate`. `bind`, `catalyze`, `catalyze_one_step`,\n",
    "`catalyze_one_step_reversible`, `synthesize`, `degrade`,\n",
    "`assemble_pore_sequential`, and `pore_transport`. In addition to these\n",
    "basic macros we also provide the higher-level macros `bind_table` and\n",
    "`catalyze_table` which we have found useful in instantiating the\n",
    "interactions between families of models.\n",
    "\n",
    "In what follows we expand our previous model example of `Caspase-8` by\n",
    "adding a few more species. The initiator caspase, as was described\n",
    "earlier, catalytically cleaves `Bid` to create truncated `Bid` (`tBid`)\n",
    "in this model. This `tBid` then catalytically activates Bax and Bak\n",
    "which eventually go on to form pores at the mitochondria leading to\n",
    "mitochondrial outer-membrane permeabilization (MOMP) and eventual cell\n",
    "death. To introduce the concept of higher-level macros we will show how\n",
    "the `bind_table` macro can be used to show how a family of inhibitors,\n",
    "namely `Bcl-2`, `Bcl-xL`, and `Mcl-1` inhibits a family of proteins,\n",
    "namely `Bid`, `Bax`, and `Bak`.\n",
    "\n",
    "In your favorite editor, go ahead and create a file (I will refer to it\n",
    "as ::file::mymodel\\_fxns). Many rules that dictate the interactions\n",
    "among species depend on a single binding site. We will begin by creating\n",
    "our model and declaring a generic binding site. We will also declare\n",
    "some functions, using the `PySB` macros and tailor them to our needs by\n",
    "specifying the binding site to be passed to the function. The first\n",
    "thing we do is import PySB and then import PySB macros. Then we declare\n",
    "our generic site and redefine the `pysb.macros` for our model as\n",
    "follows:"
   ]
  },
  {
   "cell_type": "code",
   "execution_count": null,
   "metadata": {},
   "outputs": [],
   "source": [
    "# import the pysb module and all its methods and functions\n",
    "from pysb import *\n",
    "from pysb.macros import *\n",
    "\n",
    "# some functions to make life easy\n",
    "site_name = 'b'\n",
    "def catalyze_b(enz, sub, product, klist):\n",
    "    \"\"\"Alias for pysb.macros.catalyze with default binding site 'b'.\n",
    "    \"\"\"\n",
    "    return catalyze(enz, site_name, sub, site_name, product, klist)\n",
    "def bind_table_b(table):\n",
    "    \"\"\"Alias for pysb.macros.bind_table with default binding sites 'bf'.\n",
    "    \"\"\"\n",
    "    return bind_table(table, site_name, site_name)"
   ]
  },
  {
   "cell_type": "markdown",
   "metadata": {},
   "source": [
    "The first two lines just import the necessary modules from PySB. The\n",
    "`catalyze_b`\\` function, tailored for the model, takes four inputs but\n",
    "feeds six inputs to the `pysb.macros.catalyze` function, hence making\n",
    "the model more clean. Similarly the `bind_table_b` function takes only\n",
    "one entry, a list of lists, and feeds the entries needed to the\n",
    "`pysb.macros.bind_table` macro. Note that these entries could be\n",
    "contained in a header file to be hidden from the user at model time.\n",
    "\n",
    "With this technical work out of the way we can now actually start our\n",
    "mdoel building. We will declare two sets of rates, the `bid_rates` that\n",
    "we will use for all the `Bid` interactions and the `bcl2_rates` which we\n",
    "will use for all the Bcl-2 interactions. Thesevalues could be specified\n",
    "individually as desired as desired but it is common practice in models\n",
    "to use generic values for the reaction rate parameters of a model and\n",
    "determine these in detail through some sort of model calibration. We\n",
    "will use these values for now for illustrative purposes.\n",
    "\n",
    "The next entries for the rates, the model declaration, and the Monomers\n",
    "follow:"
   ]
  },
  {
   "cell_type": "code",
   "execution_count": null,
   "metadata": {},
   "outputs": [],
   "source": [
    "# Bid activation rates\n",
    "bid_rates = [        1e-7, 1e-3, 1] #\n",
    "\n",
    "# Bcl2 Inhibition Rates\n",
    "bcl2_rates = [1.428571e-05, 1e-3] # 1.0e-6/v_mito\n",
    "\n",
    "# instantiate a model\n",
    "Model()\n",
    "\n",
    "# declare monomers\n",
    "Monomer('C8',    ['b'])\n",
    "Monomer('Bid',   ['b', 'S'], {'S':['u', 't', 'm']})\n",
    "Monomer('Bax',   ['b', 'S'], {'S':['i', 'a', 'm']})\n",
    "Monomer('Bak',   ['b', 'S'], {'S':['i', 'a']})\n",
    "Monomer('BclxL', ['b', 'S'], {'S':['c', 'm']})\n",
    "Monomer('Bcl2', ['b'])\n",
    "Monomer('Mcl1', ['b'])"
   ]
  },
  {
   "cell_type": "markdown",
   "metadata": {},
   "source": [
    "As shown, the generic rates are declared followed by the declaration of\n",
    "the monomers. We have the `C8` and `Bid` monomers as we did in the\n",
    "initial part of the tutorial, the MOMP effectors `Bid`, `Bax`, `Bak`,\n",
    "and the MOMP inhibitors `Bcl-xL`, `Bcl-2`, and `Mcl-1`. The `Bid`,\n",
    "`Bax`, and `BclxL` monomers, in addition to the active and inactive\n",
    "terms also have a `'m'` term indicating that they can be in a membrane,\n",
    "which in this case we indicate as a state. We will have a translocation\n",
    "to the membrane as part of the reactions.\n",
    "\n",
    "We can now begin to write some checmical procedures. The first procedure\n",
    "is the catalytic activation of `Bid` by `C8`. This is followed by the\n",
    "catalytic activation of Bax and Bak. :"
   ]
  },
  {
   "cell_type": "code",
   "execution_count": null,
   "metadata": {},
   "outputs": [],
   "source": [
    "# Activate Bid\n",
    "catalyze_b(C8, Bid(S='u'), Bid(S='t'), [KF, KR, KC])\n",
    "\n",
    "# Activate Bax/Bak\n",
    "catalyze_b(Bid(S='m'), Bax(S='i'), Bax(S='m'), bid_rates)\n",
    "catalyze_b(Bid(S='m'), Bak(S='i'), Bak(S='a'), bid_rates)"
   ]
  },
  {
   "cell_type": "markdown",
   "metadata": {},
   "source": [
    "As shown, we simply state the soecies that acts as an *enzyme* as the\n",
    "first function argument, the species that acts as the *reactant* with\n",
    "the enzyme as the second argument (along with any state specifications)\n",
    "and finally the *product* species. The `bid_rates` argument is the list\n",
    "of rates that we declared earlier.\n",
    "\n",
    "You may have noticed a problem with the previous statements. The `Bid`\n",
    "species undergoes a transformation from state `S='u'` to `S='t'` but the\n",
    "activation of `Bax` and `Bak` happens only when `Bid` is in state\n",
    "`S='m'` to imply that these events only happen at the membrane. In order\n",
    "to transport `Bid` from the `'t'` state to the `'m'` state we need a\n",
    "transporf function. We achieve this by using the *equilibrate* macro in\n",
    "PySB between these states. In addition we use this same macro for the\n",
    "transport of the `Bax` species and the `BclxL` species as shown below. :"
   ]
  },
  {
   "cell_type": "code",
   "execution_count": null,
   "metadata": {},
   "outputs": [],
   "source": [
    "# Bid, Bax, BclxL \"transport\" to the membrane\n",
    "equilibrate(Bid(b=None, S='t'),   Bid(b=None, S='m'), [1e-1, 1e-3])\n",
    "equilibrate(Bax(b=None, S='m'),   Bax(b=None, S='a'), [1e-1, 1e-3])\n",
    "equilibrate(BclxL(b=None, S='c'), BclxL(b=None, S='m'), [1e-1, 1e-3])"
   ]
  },
  {
   "cell_type": "markdown",
   "metadata": {},
   "source": [
    "According to published experimental data, the Bcl-2 family of inhibitors\n",
    "can inhibit the initiator `Bid` and the effector `Bax` and `Bak`. These\n",
    "family has complex interactions with all these proteins. Given that we\n",
    "have three inhibitors, and three molecules to be inhibited, this\n",
    "indicates nine interactions that need to be specified. This would\n",
    "involve writing nine reversible reactions in a rules language or at\n",
    "least eighteen reactions for each direction if we were writing the ODEs.\n",
    "Given that we are simply stating that these species *bind* to inhibit\n",
    "interactions, we can take advantage of two things. In the first case we\n",
    "have already seen that there is a *bind* macro specified in PySB. We can\n",
    "further functionalize this into a higher level macro, naemly the\n",
    "*bind\\_table* macro, which takes a table of interactions as an argument\n",
    "and generates the rules based on these simple interactions. We specify\n",
    "the bind table for the inhibitors (top row) and the inhibited molecules\n",
    "(left column) as follows. :"
   ]
  },
  {
   "cell_type": "code",
   "execution_count": null,
   "metadata": {},
   "outputs": [],
   "source": [
    "bind_table_b([[                  Bcl2,  BclxL(S='m'),       Mcl1],\n",
    "              [Bid(S='m'), bcl2_rates,  bcl2_rates,   bcl2_rates],\n",
    "              [Bax(S='a'), bcl2_rates,  bcl2_rates,         None],\n",
    "              [Bak(S='a'),       None,  bcl2_rates,   bcl2_rates]])"
   ]
  },
  {
   "cell_type": "markdown",
   "metadata": {},
   "source": [
    "As shown the inhibitors interact by giving the rates of interactions or\n",
    "the *\\\"None\\\"* Python keyword to indicate no interaction. The only thing\n",
    "left to run this simple model is to declare some initial conditions and\n",
    "some observables. We declare the following:"
   ]
  },
  {
   "cell_type": "code",
   "execution_count": null,
   "metadata": {},
   "outputs": [],
   "source": [
    "# initial conditions\n",
    "Parameter('C8_0',    1e4)\n",
    "Parameter('Bid_0',   1e4)\n",
    "Parameter('Bax_0',  .8e5)\n",
    "Parameter('Bak_0',  .2e5)\n",
    "Parameter('BclxL_0', 1e3)\n",
    "Parameter('Bcl2_0',  1e3)\n",
    "Parameter('Mcl1_0',  1e3)\n",
    "\n",
    "Initial(C8(b=None), C8_0)\n",
    "Initial(Bid(b=None, S='u'), Bid_0)\n",
    "Initial(Bax(b=None, S='i'), Bax_0)\n",
    "Initial(Bak(b=None, S='i'), Bak_0)\n",
    "Initial(BclxL(b=None, S='c'), BclxL_0)\n",
    "Initial(Bcl2(b=None), Bcl2_0)\n",
    "Initial(Mcl1(b=None), Mcl1_0)\n",
    "\n",
    "# Observables\n",
    "Observable('obstBid', Bid(b=None, S='m'))\n",
    "Observable('obsBax', Bax(b=None, S='a'))\n",
    "Observable('obsBak', Bax(b=None, S='a'))\n",
    "Observable('obsBaxBclxL', Bax(b=1, S='a')%BclxL(b=1, S='m'))"
   ]
  },
  {
   "cell_type": "markdown",
   "metadata": {},
   "source": [
    "By now you should have a file with all the components that looks\n",
    "something like this:\n",
    "\n",
    "::: {.literalinclude}\n",
    "examples/mymodel\\_fxns.py\n",
    ":::\n",
    "\n",
    "With this you should be able to run the simulations and generate figures\n",
    "as described in the basic tutorial sections.\n",
    "\n",
    "Compartments\n",
    "------------\n",
    "\n",
    "We will continue building on your [mymodel\\_fxns.py]{role=\"file\"} file\n",
    "and add one more species and a compartment. In extrinsic apoptosis, once\n",
    "*tBid* is activated it translocates to the outer mitochondrial membrane\n",
    "where it interacts with the protein *Bak* (residing in the membrane).\n",
    "\n",
    "Model calibration\n",
    "-----------------\n",
    "\n",
    "We are actively working on adding calibration tools to PySB. One option\n",
    "is PyDREAM[^4], PyDREAM, a Python implementation of the (Multiple-Try)\n",
    "Differential Evolution Adaptive Metropolis algorithm by \n",
    "\n",
    "Modules\n",
    "-------\n",
    "\n",
    "\n",
    "\n",
    "Miscellaneous\n",
    "-------------\n",
    "\n",
    "### Self-export\n",
    "\n",
    "For anyone who feels a little queasy about self-export, this section\n",
    "will try to explain the rationale behind it.\n",
    "\n",
    "In order to make model definition feel like a domain-specific language\n",
    "specially designed for model construction, the mechanism for component\n",
    "definition needs to provide three things:\n",
    "\n",
    "-   It must provide an internal name so that components can be usefully\n",
    "    distinguished when inspected interactively, or translated into\n",
    "    various output file formats such as BNGL.\n",
    "-   The component object must be assigned to a local variable so that\n",
    "    subsequent component declarations can reference it by name using\n",
    "    normal Python syntax (including operator overloading).\n",
    "-   The object must also be inserted into the data structures of the\n",
    "    model object itself.\n",
    "\n",
    "Without self-export, every component definition would need to manage\n",
    "these points explicitly:"
   ]
  },
  {
   "cell_type": "code",
   "execution_count": null,
   "metadata": {},
   "outputs": [],
   "source": [
    "A = Monomer('A')\n",
    "model.add_component(A)\n",
    "B = Monomer('B')\n",
    "model.add_component(B)"
   ]
  },
  {
   "cell_type": "markdown",
   "metadata": {},
   "source": [
    "This pattern introduces several opportunities for error, for example a\n",
    "`name` argument and the corresponding variable name may end up out of\n",
    "sync or the modeler may forget an `add_component` call. The redundancy\n",
    "also introduces visual noise which makes the code harder to read.\n",
    "Furthermore, self-export makes model modularization much simpler, as\n",
    "components may be defined within functions without forcing the function\n",
    "to explicitly return them or requiring extra code in the caller to deal\n",
    "with the returned components.\n",
    "\n",
    "In addition to `Component` and its subclasses, the `Model` constructor\n",
    "also utilizes self-export, with two differences: The local variable is\n",
    "always named `model`, and the `name` argument is optional and defaults\n",
    "to the full hierarchical name of the module from which `Model()` is\n",
    "called, e.g. `pysb.examples.tutorial_a`.\n",
    "\n",
    "**Footnotes**\n",
    "\n",
    "[^1]: SciPy: <http://www.scipy.org>\n",
    "\n",
    "[^2]: PyLab: <http://www.scipy.org/PyLab>\n",
    "\n",
    "[^3]: PyLab: <http://www.scipy.org/PyLab>\n",
    "\n",
    "[^4]: PyDREAM: <https://pubmed.ncbi.nlm.nih.gov/29028896/>"
   ]
  }
 ],
 "metadata": {
  "kernelspec": {
   "display_name": "Python 2",
   "language": "python",
   "name": "python2"
  },
  "language_info": {
   "codemirror_mode": {
    "name": "ipython",
    "version": 2
   },
   "file_extension": ".py",
   "mimetype": "text/x-python",
   "name": "python",
   "nbconvert_exporter": "python",
   "pygments_lexer": "ipython2",
   "version": "2.7.14"
  }
 },
 "nbformat": 4,
 "nbformat_minor": 2
}