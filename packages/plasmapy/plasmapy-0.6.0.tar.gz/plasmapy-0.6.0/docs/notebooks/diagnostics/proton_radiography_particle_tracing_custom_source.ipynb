{
 "cells": [
  {
   "cell_type": "markdown",
   "metadata": {},
   "source": [
    "# Synthetic Radiographs with Custom Source Profiles"
   ]
  },
  {
   "cell_type": "markdown",
   "metadata": {},
   "source": [
    "[SyntheticProtronRadiography]: ../../api/plasmapy.diagnostics.proton_radiography.SyntheticProtonRadiograph.rst#plasmapy.diagnostics.proton_radiography.SyntheticProtonRadiograph\n",
    "\n",
    "In real charged particle radiography experiments, the finite size and distribution of the particle source limits the resolution of the radiograph. Some realistic sources produce particles with a non-uniform angular distribution that then superimposes a large scale \"source profile\" on the radiograph. For these reasons, the \n",
    "[SyntheticProtronRadiography] particle tracing class allows users to specify their own initial particle positions and velocities. This example will demonstrate how to use this functionality to create a more realistic synthetic radiograph that includes the effects from a non-uniform, finite source profile."
   ]
  },
  {
   "cell_type": "code",
   "execution_count": null,
   "metadata": {},
   "outputs": [],
   "source": [
    "import astropy.constants as const\n",
    "import astropy.units as u\n",
    "import matplotlib.pyplot as plt\n",
    "import numpy as np\n",
    "import warnings\n",
    "\n",
    "from mpl_toolkits.mplot3d import Axes3D\n",
    "\n",
    "from plasmapy.diagnostics import proton_radiography as prad\n",
    "from plasmapy.formulary.mathematics import rot_a_to_b\n",
    "from plasmapy.particles import Particle\n",
    "from plasmapy.plasma.grids import CartesianGrid"
   ]
  },
  {
   "cell_type": "markdown",
   "metadata": {},
   "source": [
    "## Contents\n",
    "\n",
    "1. [Creating Particles](#Creating-Particles)\n",
    "    1. [Creating the Initial Particle Velocities](#Creating-the-Initial-Particle-Velocities)\n",
    "    1. [Creating the Initial Particle Positions](#Creating-the-Initial-Particle-Positions)\n",
    "1. [Creating a Synthetic Radiograph](#Creating-a-Synthetic-Radiograph)"
   ]
  },
  {
   "cell_type": "markdown",
   "metadata": {},
   "source": [
    "## Creating Particles"
   ]
  },
  {
   "cell_type": "markdown",
   "metadata": {},
   "source": [
    "In this example we will create a source of 1e5 protons with a 5% variance in energy, a non-uniform angular velocity distribution, and a finite size."
   ]
  },
  {
   "cell_type": "code",
   "execution_count": null,
   "metadata": {},
   "outputs": [],
   "source": [
    "nparticles = 1e5\n",
    "particle = Particle(\"p+\")"
   ]
  },
  {
   "cell_type": "markdown",
   "metadata": {},
   "source": [
    "We will choose a setup in which the source-detector axis is parallel to the $y$-axis."
   ]
  },
  {
   "cell_type": "code",
   "execution_count": null,
   "metadata": {},
   "outputs": [],
   "source": [
    "# define location of source and detector plane\n",
    "source = (0 * u.mm, -10 * u.mm, 0 * u.mm)\n",
    "detector = (0 * u.mm, 100 * u.mm, 0 * u.mm)"
   ]
  },
  {
   "cell_type": "markdown",
   "metadata": {},
   "source": [
    "### Creating the Initial Particle Velocities"
   ]
  },
  {
   "cell_type": "markdown",
   "metadata": {},
   "source": [
    "We will create the source distribution by utilizing the method of separation of variables,\n",
    "\n",
    "$$f(v, \\theta, \\phi)=u(v)g(\\theta)h(\\phi)$$\n",
    "\n",
    "and separately define the distribution component for each independent variable, $u(v)$, $g(\\theta)$, and $h(\\phi)$.  For geometric convenience, we will generate the velocity vector distribution around the $z$-axis and then rotate the final velocities to be parallel to the source-detector axis (in this case the $y$-axis).\n",
    "\n",
    "<img src=\"proton_radiography_source_profile_setup_graphic.png\">\n",
    "\n",
    "\n",
    "First we will create the orientation angles polar ($\\theta$) and azimuthal ($\\phi$) for each particle. Generating $\\phi$ is simple: we will choose the azimuthal angles to just be uniformly distributed"
   ]
  },
  {
   "cell_type": "code",
   "execution_count": null,
   "metadata": {},
   "outputs": [],
   "source": [
    "phi = np.random.uniform(high=2 * np.pi, size=int(nparticles))"
   ]
  },
  {
   "cell_type": "markdown",
   "metadata": {},
   "source": [
    "However, choosing $\\theta$ is more complicated. Since the solid angle $d\\Omega = sin \\theta d\\theta d\\phi$, if we draw a uniform distribution of $\\theta$ we will create a non-uniform distribution of particles in solid angle. This will create a sharp central peak on the detector plane."
   ]
  },
  {
   "cell_type": "code",
   "execution_count": null,
   "metadata": {},
   "outputs": [],
   "source": [
    "theta = np.random.uniform(high=np.pi / 2, size=int(nparticles))\n",
    "\n",
    "fig, ax = plt.subplots(figsize=(6, 6))\n",
    "theta_per_sa, bins = np.histogram(theta, bins=100, weights=1 / np.sin(theta))\n",
    "ax.set_xlabel(\"$\\\\theta$ (rad)\", fontsize=14)\n",
    "ax.set_ylabel(\"N/N$_0$ per  d$\\\\Omega$\", fontsize=14)\n",
    "ax.plot(bins[1:], theta_per_sa / np.sum(theta_per_sa))\n",
    "ax.set_title(f\"N$_0$ = {nparticles:.0e}\", fontsize=14)\n",
    "ax.set_yscale(\"log\")\n",
    "ax.set_xlim(0, np.pi / 2)\n",
    "ax.set_ylim(None, 1)"
   ]
  },
  {
   "cell_type": "markdown",
   "metadata": {},
   "source": [
    "[np.random.choice()]: https://numpy.org/doc/stable/reference/random/generated/numpy.random.choice.html\n",
    "\n",
    "To create a uniform distribution in solid angle, we need to draw values of $\\theta$ with a probability distribution weighted by $\\sin \\theta$. This can be done using the [np.random.choice()] function, which draws `size` elements from a distribution `arg` with a probability distribution `prob`. Setting the `replace` keyword allows the same arguments to be drawn multiple times."
   ]
  },
  {
   "cell_type": "code",
   "execution_count": null,
   "metadata": {},
   "outputs": [],
   "source": [
    "arg = np.linspace(0, np.pi / 2, num=int(1e5))\n",
    "prob = np.sin(arg)\n",
    "prob *= 1 / np.sum(prob)\n",
    "theta = np.random.choice(arg, size=int(nparticles), replace=True, p=prob)\n",
    "\n",
    "fig, ax = plt.subplots(figsize=(6, 6))\n",
    "theta_per_sa, bins = np.histogram(theta, bins=100, weights=1 / np.sin(theta))\n",
    "ax.plot(bins[1:], theta_per_sa / np.sum(theta_per_sa))\n",
    "ax.set_xlabel(\"$\\\\theta$ (rad)\", fontsize=14)\n",
    "ax.set_ylabel(\"N/N$_0$ per  d$\\\\Omega$\", fontsize=14)\n",
    "ax.set_title(f\"N$_0$ = {nparticles:.0e}\", fontsize=14)\n",
    "ax.set_yscale(\"log\")\n",
    "ax.set_xlim(0, np.pi / 2)\n",
    "ax.set_ylim(None, 0.1)"
   ]
  },
  {
   "cell_type": "markdown",
   "metadata": {},
   "source": [
    "[np.random.choice()]: https://numpy.org/doc/stable/reference/random/generated/numpy.random.choice.html\n",
    "[create_particles()]: ../../api/plasmapy.diagnostics.proton_radiography.SyntheticProtonRadiograph.rst#plasmapy.diagnostics.proton_radiography.SyntheticProtonRadiograph.create_particles\n",
    "\n",
    "Now that we have a $\\theta$ distribution that is uniform in solid angle, we can perturb it by adding additional factors to the probability distribution used in [np.random.choice()]. For this case, let's create a Gaussian distribution in solid angle.\n",
    "\n",
    "Since particles moving at large angles will not be seen in the synthetic radiograph, we will set an upper bound $\\theta_{max}$ on the argument here. This is equivalent to setting the `max_theta` keyword in [create_particles()]"
   ]
  },
  {
   "cell_type": "code",
   "execution_count": null,
   "metadata": {},
   "outputs": [],
   "source": [
    "arg = np.linspace(0, np.pi / 8, num=int(1e5))\n",
    "prob = np.sin(arg) * np.exp(-(arg ** 2) / 0.1 ** 2)\n",
    "prob *= 1 / np.sum(prob)\n",
    "theta = np.random.choice(arg, size=int(nparticles), replace=True, p=prob)\n",
    "\n",
    "fig, ax = plt.subplots(figsize=(6, 6))\n",
    "theta_per_sa, bins = np.histogram(theta, bins=100, weights=1 / np.sin(theta))\n",
    "ax.plot(bins[1:], theta_per_sa / np.sum(theta_per_sa))\n",
    "ax.set_title(f\"N$_0$ = {nparticles:.0e}\", fontsize=14)\n",
    "ax.set_xlabel(\"$\\\\theta$ (rad)\", fontsize=14)\n",
    "ax.set_ylabel(\"N/N$_0$ per  d$\\\\Omega$\", fontsize=14)\n",
    "ax.set_yscale(\"log\")\n",
    "ax.set_xlim(0, np.pi / 2)\n",
    "ax.set_ylim(None, 1)"
   ]
  },
  {
   "cell_type": "markdown",
   "metadata": {},
   "source": [
    "Now that the angular distributions are done, we will determine the energy (speed) for each particle. For this example, we will assume that the particle energy distribution is not a function of angle. We will create a Gaussian distribution of speeds with ~5% variance centered on a particle energy of 15 MeV."
   ]
  },
  {
   "cell_type": "code",
   "execution_count": null,
   "metadata": {},
   "outputs": [],
   "source": [
    "v_cent = np.sqrt(2 * 15 * u.MeV / particle.mass).to(u.m / u.s).value\n",
    "v0 = np.random.normal(loc=v_cent, scale=1e6, size=int(nparticles))\n",
    "v0 *= u.m / u.s\n",
    "\n",
    "fig, ax = plt.subplots(figsize=(6, 6))\n",
    "v_per_bin, bins = np.histogram(v0.si.value, bins=100)\n",
    "ax.plot(bins[1:], v_per_bin / np.sum(v_per_bin))\n",
    "ax.set_title(f\"N$_0$ = {nparticles:.0e}\", fontsize=14)\n",
    "ax.set_xlabel(\"v0 (m/s)\", fontsize=14)\n",
    "ax.set_ylabel(\"N/N$_0$\", fontsize=14)\n",
    "ax.axvline(x=1.05 * v_cent, label=\"+5%\", color=\"C1\")\n",
    "ax.axvline(x=0.95 * v_cent, label=\"-5%\", color=\"C2\")\n",
    "ax.legend(fontsize=14, loc=\"upper right\")"
   ]
  },
  {
   "cell_type": "markdown",
   "metadata": {},
   "source": [
    "Next, we will construct velocity vectors centered around the z-axis for each particle."
   ]
  },
  {
   "cell_type": "code",
   "execution_count": null,
   "metadata": {},
   "outputs": [],
   "source": [
    "vel = np.zeros([int(nparticles), 3]) * u.m / u.s\n",
    "vel[:, 0] = v0 * np.sin(theta) * np.cos(phi)\n",
    "vel[:, 1] = v0 * np.sin(theta) * np.sin(phi)\n",
    "vel[:, 2] = v0 * np.cos(theta)"
   ]
  },
  {
   "cell_type": "markdown",
   "metadata": {},
   "source": [
    "[rot_a_to_b()]: ../../api/plasmapy.formulary.mathematics.rot_a_to_b.rst#plasmapy.formulary.mathematics.rot_a_to_b\n",
    "\n",
    "Finally, we will use the function [rot_a_to_b()] to create a rotation matrix that will rotate the `vel` distribution so the distribution is centered about the $y$ axis instead of the $z$ axis."
   ]
  },
  {
   "cell_type": "code",
   "execution_count": null,
   "metadata": {},
   "outputs": [],
   "source": [
    "a = np.array([0, 0, 1])\n",
    "b = np.array([0, 1, 0])\n",
    "R = rot_a_to_b(a, b)\n",
    "vel = np.matmul(vel, R)"
   ]
  },
  {
   "cell_type": "markdown",
   "metadata": {},
   "source": [
    "Since the velocity vector distribution should be symmetric about the $y$ axis, we can confirm this by checking that the normalized average velocity vector is close to the $y$ unit vector."
   ]
  },
  {
   "cell_type": "code",
   "execution_count": null,
   "metadata": {},
   "outputs": [],
   "source": [
    "avg_v = np.mean(vel, axis=0)\n",
    "print(avg_v / np.linalg.norm(avg_v))"
   ]
  },
  {
   "cell_type": "markdown",
   "metadata": {},
   "source": [
    "### Creating the Initial Particle Positions"
   ]
  },
  {
   "cell_type": "markdown",
   "metadata": {},
   "source": [
    "For this example, we will create an initial position distribution representing a laser spot centered on the source location defined above as `source`. The distribution will be cylindrical (oriented along the $y$-axis) with a uniform distribution in y and a Gaussian distribution in radius (in the xz plane). We therefore need to create distributions in $y$, $\\theta$, and $r$, and then transform those into Cartesian positions.\n",
    "\n",
    "Just as we previously weighted the $\\theta$ distribution with a $sin \\theta$ probability distribution to generate a uniform distribution in solid angle, we need to weight the $r$ distribution with a $r$ probability distribution so that the particles are uniformly distributed over the area of the disk."
   ]
  },
  {
   "cell_type": "code",
   "execution_count": null,
   "metadata": {},
   "outputs": [],
   "source": [
    "dy = 300 * u.um\n",
    "y = np.random.uniform(\n",
    "    low=(source[1] - dy).to(u.m).value,\n",
    "    high=(source[1] + dy).to(u.m).value,\n",
    "    size=int(nparticles),\n",
    ")\n",
    "\n",
    "arg = np.linspace(1e-9, 1e-3, num=int(1e5))\n",
    "prob = arg * np.exp(-((arg / 3e-4) ** 2))\n",
    "prob *= 1 / np.sum(prob)\n",
    "r = np.random.choice(arg, size=int(nparticles), replace=True, p=prob)\n",
    "\n",
    "\n",
    "theta = np.random.uniform(low=0, high=2 * np.pi, size=int(nparticles))\n",
    "\n",
    "x = r * np.cos(theta)\n",
    "z = r * np.sin(theta)\n",
    "\n",
    "hist, xpos, zpos = np.histogram2d(\n",
    "    x * 1e6, z * 1e6, bins=[100, 100], range=np.array([[-5e2, 5e2], [-5e2, 5e2]])\n",
    ")\n",
    "\n",
    "hist2, xpos2, ypos = np.histogram2d(\n",
    "    x * 1e6,\n",
    "    (y - source[1].to(u.m).value) * 1e6,\n",
    "    bins=[100, 100],\n",
    "    range=np.array([[-5e2, 5e2], [-5e2, 5e2]]),\n",
    ")\n",
    "\n",
    "fig, ax = plt.subplots(ncols=2, figsize=(12, 6))\n",
    "fig.subplots_adjust(wspace=0.3, right=0.8)\n",
    "fig.suptitle(\"Initial Particle Position Distribution\", fontsize=14)\n",
    "vmax = np.max([np.max(hist), np.max(hist2)])\n",
    "\n",
    "p1 = ax[0].pcolormesh(xpos, zpos, hist.T, vmax=vmax)\n",
    "ax[0].set_xlabel(\"x ($\\\\mu m$)\", fontsize=14)\n",
    "ax[0].set_ylabel(\"z ($\\\\mu m$)\", fontsize=14)\n",
    "ax[0].set_aspect(\"equal\")\n",
    "\n",
    "p2 = ax[1].pcolormesh(xpos2, ypos, hist2.T, vmax=vmax)\n",
    "ax[1].set_xlabel(\"x ($\\\\mu m$)\", fontsize=14)\n",
    "ax[1].set_ylabel(\"y - $y_0$ ($\\\\mu m$)\", fontsize=14)\n",
    "ax[1].set_aspect(\"equal\")\n",
    "\n",
    "cbar_ax = fig.add_axes([0.85, 0.2, 0.03, 0.6])\n",
    "cbar_ax.set_title(\"# Particles\")\n",
    "fig.colorbar(p2, cax=cbar_ax)"
   ]
  },
  {
   "cell_type": "markdown",
   "metadata": {},
   "source": [
    "Finally we will combine these position arrays into an array with units."
   ]
  },
  {
   "cell_type": "code",
   "execution_count": null,
   "metadata": {},
   "outputs": [],
   "source": [
    "pos = np.zeros([int(nparticles), 3]) * u.m\n",
    "pos[:, 0] = x * u.m\n",
    "pos[:, 1] = y * u.m\n",
    "pos[:, 2] = z * u.m"
   ]
  },
  {
   "cell_type": "markdown",
   "metadata": {},
   "source": [
    "## Creating a Synthetic Radiograph"
   ]
  },
  {
   "cell_type": "markdown",
   "metadata": {},
   "source": [
    "To create an example synthetic radiograph, we will first create a field grid representing the analytical electric field produced by a sphere of Gaussian potential."
   ]
  },
  {
   "cell_type": "code",
   "execution_count": null,
   "metadata": {},
   "outputs": [],
   "source": [
    "# Create a Cartesian grid\n",
    "L = 1 * u.mm\n",
    "grid = CartesianGrid(-L, L, num=100)\n",
    "\n",
    "# Create a spherical potential with a Gaussian radial distribution\n",
    "radius = np.linalg.norm(grid.grid, axis=3)\n",
    "arg = (radius / (L / 3)).to(u.dimensionless_unscaled)\n",
    "potential = 6e5 * np.exp(-(arg ** 2)) * u.V\n",
    "\n",
    "# Calculate E from the potential\n",
    "Ex, Ey, Ez = np.gradient(potential, grid.dax0, grid.dax1, grid.dax2)\n",
    "mask = radius < L / 2\n",
    "Ex = -np.where(mask, Ex, 0)\n",
    "Ey = -np.where(mask, Ey, 0)\n",
    "Ez = -np.where(mask, Ez, 0)\n",
    "\n",
    "# Add those quantities to the grid\n",
    "grid.add_quantities(E_x=Ex, E_y=Ey, E_z=Ez, phi=potential)\n",
    "\n",
    "\n",
    "# Plot the E-field\n",
    "fig = plt.figure(figsize=(8, 8))\n",
    "ax = fig.add_subplot(111, projection=\"3d\")\n",
    "ax.view_init(30, 30)\n",
    "\n",
    "# skip some points to make the vector plot intelligable\n",
    "s = tuple([slice(None, None, 6)] * 3)\n",
    "\n",
    "ax.quiver(\n",
    "    grid.pts0[s].to(u.mm).value,\n",
    "    grid.pts1[s].to(u.mm).value,\n",
    "    grid.pts2[s].to(u.mm).value,\n",
    "    grid[\"E_x\"][s],\n",
    "    grid[\"E_y\"][s],\n",
    "    grid[\"E_z\"][s],\n",
    "    length=5e-7,\n",
    ")\n",
    "\n",
    "ax.set_xlabel(\"X (mm)\", fontsize=14)\n",
    "ax.set_ylabel(\"Y (mm)\", fontsize=14)\n",
    "ax.set_zlabel(\"Z (mm)\", fontsize=14)\n",
    "ax.set_xlim(-1, 1)\n",
    "ax.set_ylim(-1, 1)\n",
    "ax.set_zlim(-1, 1)\n",
    "ax.set_title(\"Gaussian Potential Electric Field\", fontsize=14)"
   ]
  },
  {
   "cell_type": "markdown",
   "metadata": {},
   "source": [
    "We will then create the synthetic radiograph object. The warning filter ignores a warning that arises because $B_x$, $B_y$, $B_z$ are not provided in the grid (they will be assumed to be zero)."
   ]
  },
  {
   "cell_type": "code",
   "execution_count": null,
   "metadata": {},
   "outputs": [],
   "source": [
    "with warnings.catch_warnings():\n",
    "    warnings.simplefilter(\"ignore\")\n",
    "    sim = prad.SyntheticProtonRadiograph(grid, source, detector, verbose=False)"
   ]
  },
  {
   "cell_type": "markdown",
   "metadata": {},
   "source": [
    "[create_particles()]: ../../api/plasmapy.diagnostics.proton_radiography.SyntheticProtonRadiograph.rst#plasmapy.diagnostics.proton_radiography.SyntheticProtonRadiograph.create_particles\n",
    "\n",
    "[load_particles()]: ../../api/plasmapy.diagnostics.proton_radiography.SyntheticProtonRadiograph.rst#plasmapy.diagnostics.proton_radiography.SyntheticProtonRadiograph.load_particles\n",
    "\n",
    "Now, instead of using [create_particles()] to create the particle distribution, we will use the [load_particles()] function to use the particles we have created above."
   ]
  },
  {
   "cell_type": "code",
   "execution_count": null,
   "metadata": {},
   "outputs": [],
   "source": [
    "sim.load_particles(pos, vel, particle=particle)"
   ]
  },
  {
   "cell_type": "markdown",
   "metadata": {},
   "source": [
    "Now the particle radiograph simulation can be run as usual."
   ]
  },
  {
   "cell_type": "code",
   "execution_count": null,
   "metadata": {
    "tags": []
   },
   "outputs": [],
   "source": [
    "sim.run()"
   ]
  },
  {
   "cell_type": "code",
   "execution_count": null,
   "metadata": {
    "nbsphinx-thumbnail": {
     "output-index": -1,
     "tooltip": "Proton Radiograph with source profile"
    }
   },
   "outputs": [],
   "source": [
    "size = np.array([[-1, 1], [-1, 1]]) * 1.5 * u.cm\n",
    "bins = [200, 200]\n",
    "hax, vax, intensity = sim.synthetic_radiograph(size=size, bins=bins)\n",
    "\n",
    "fig, ax = plt.subplots(figsize=(8, 8))\n",
    "plot = ax.pcolormesh(\n",
    "    hax.to(u.cm).value, vax.to(u.cm).value, intensity.T, cmap=\"Blues_r\", shading=\"auto\",\n",
    ")\n",
    "cb = fig.colorbar(plot)\n",
    "cb.ax.set_ylabel(\"Intensity\", fontsize=14)\n",
    "ax.set_aspect(\"equal\")\n",
    "ax.set_xlabel(\"X (cm), Image plane\", fontsize=14)\n",
    "ax.set_ylabel(\"Z (cm), Image plane\", fontsize=14)\n",
    "ax.set_title(\"Synthetic Proton Radiograph\", fontsize=14);"
   ]
  },
  {
   "cell_type": "markdown",
   "metadata": {},
   "source": [
    "[synthetic_radiograph()]: ../../api/plasmapy.diagnostics.proton_radiography.SyntheticProtonRadiograph.rst#plasmapy.diagnostics.proton_radiography.SyntheticProtonRadiograph.synthetic_radiograph\n",
    "\n",
    "Calling the [synthetic_radiograph()] function with the `ignore_grid` keyword will produce the synthetic radiograph corresponding to the source profile propagated freely through space (i.e. in the absence of any grid fields)."
   ]
  },
  {
   "cell_type": "code",
   "execution_count": null,
   "metadata": {},
   "outputs": [],
   "source": [
    "hax, vax, intensity = sim.synthetic_radiograph(size=size, bins=bins, ignore_grid=True)\n",
    "\n",
    "fig, ax = plt.subplots(figsize=(8, 8))\n",
    "plot = ax.pcolormesh(\n",
    "    hax.to(u.cm).value, vax.to(u.cm).value, intensity.T, cmap=\"Blues_r\", shading=\"auto\",\n",
    ")\n",
    "cb = fig.colorbar(plot)\n",
    "cb.ax.set_ylabel(\"Intensity\", fontsize=14)\n",
    "ax.set_aspect(\"equal\")\n",
    "ax.set_xlabel(\"X (cm), Image plane\", fontsize=14)\n",
    "ax.set_ylabel(\"Z (cm), Image plane\", fontsize=14)\n",
    "ax.set_title(\"Source Profile\", fontsize=14)"
   ]
  },
  {
   "cell_type": "code",
   "execution_count": null,
   "metadata": {},
   "outputs": [],
   "source": [
    "fig, ax = plt.subplots(figsize=(6, 6))\n",
    "ax.plot(hax.to(u.cm).value, np.mean(intensity, axis=0))\n",
    "ax.set_xlabel(\"X (cm), Image plane\", fontsize=14)\n",
    "ax.set_ylabel(\"Mean intensity\", fontsize=14)\n",
    "ax.set_title(\"Mean source profile\", fontsize=14)"
   ]
  }
 ],
 "metadata": {
  "kernelspec": {
   "display_name": "Python 3",
   "language": "python",
   "name": "python3"
  },
  "language_info": {
   "codemirror_mode": {
    "name": "ipython",
    "version": 3
   },
   "file_extension": ".py",
   "mimetype": "text/x-python",
   "name": "python",
   "nbconvert_exporter": "python",
   "pygments_lexer": "ipython3",
   "version": "3.7.6"
  },
  "widgets": {
   "application/vnd.jupyter.widget-state+json": {
    "state": {},
    "version_major": 2,
    "version_minor": 0
   }
  }
 },
 "nbformat": 4,
 "nbformat_minor": 4
}
