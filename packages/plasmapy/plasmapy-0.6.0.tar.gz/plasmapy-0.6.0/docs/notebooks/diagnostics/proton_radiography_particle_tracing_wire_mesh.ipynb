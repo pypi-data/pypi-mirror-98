{
 "cells": [
  {
   "cell_type": "markdown",
   "metadata": {},
   "source": [
    "# Synthetic Proton Radiographs with a Wire Mesh"
   ]
  },
  {
   "cell_type": "markdown",
   "metadata": {},
   "source": [
    "[SyntheticProtronRadiography]: ../../api/plasmapy.diagnostics.proton_radiography.SyntheticProtonRadiograph.rst#plasmapy.diagnostics.proton_radiography.SyntheticProtonRadiograph\n",
    "\n",
    "[add_wire_mesh()]: ../../api/plasmapy.diagnostics.proton_radiography.SyntheticProtonRadiograph.rst#plasmapy.diagnostics.proton_radiography.SyntheticProtonRadiograph.add_wire_mesh\n",
    "\n",
    "In proton radiography experiments a wire mesh grid is often placed between the proton source and the object of interest, leaving a shadow of the grid in the proton fluence. The displacement of these shadow grid lines can then be used to quantitatively extract the line-integrated force experienced at each grid vertex.\n",
    "\n",
    "The [SyntheticProtronRadiography] class includes a method ([add_wire_mesh()]) that can be used to create synthetic radiographs with a mesh in place. In this example notebook we will illustrate the options available for creating and placing the mesh(s), the demonstrate the use of a mesh grid in a practical example."
   ]
  },
  {
   "cell_type": "code",
   "execution_count": null,
   "metadata": {},
   "outputs": [],
   "source": [
    "import astropy.constants as const\n",
    "import astropy.units as u\n",
    "import matplotlib.pyplot as plt\n",
    "import numpy as np\n",
    "import warnings\n",
    "\n",
    "from mpl_toolkits.mplot3d import Axes3D\n",
    "\n",
    "from plasmapy.diagnostics import proton_radiography as prad\n",
    "from plasmapy.plasma.grids import CartesianGrid"
   ]
  },
  {
   "cell_type": "markdown",
   "metadata": {},
   "source": [
    "## Creating and Placing a Wire Mesh"
   ]
  },
  {
   "cell_type": "markdown",
   "metadata": {},
   "source": [
    "[CartesianGrid]: ../../api/plasmapy.plasma.grids.CartesianGrid.rst#plasmapy.plasma.grids.CartesianGrid\n",
    "\n",
    "We will begin by creating an empty [CartesianGrid] object in which the electric and magnetic fields are zero. Particle tracing through this grid will allow us to image just the mesh once we add one in place. "
   ]
  },
  {
   "cell_type": "code",
   "execution_count": null,
   "metadata": {},
   "outputs": [],
   "source": [
    "empty_grid = CartesianGrid(-1 * u.mm, 1 * u.mm, num=50)"
   ]
  },
  {
   "cell_type": "markdown",
   "metadata": {},
   "source": [
    "[SyntheticProtronRadiography]: ../../api/plasmapy.diagnostics.proton_radiography.SyntheticProtonRadiograph.rst#plasmapy.diagnostics.proton_radiography.SyntheticProtonRadiograph\n",
    "\n",
    "[SyntheticProtronRadiography] will warn us every time we use this grid that the fields are not specified (before assuming that they are zero). The following line will silence this warning."
   ]
  },
  {
   "cell_type": "code",
   "execution_count": null,
   "metadata": {},
   "outputs": [],
   "source": [
    "warnings.simplefilter(\"ignore\")"
   ]
  },
  {
   "cell_type": "markdown",
   "metadata": {},
   "source": [
    "We'll also define a fixed source and detector that we won't change for the rest of the example."
   ]
  },
  {
   "cell_type": "code",
   "execution_count": null,
   "metadata": {},
   "outputs": [],
   "source": [
    "source = (0 * u.mm, -10 * u.mm, 0 * u.mm)\n",
    "detector = (0 * u.mm, 200 * u.mm, 0 * u.mm)"
   ]
  },
  {
   "cell_type": "markdown",
   "metadata": {},
   "source": [
    "[SyntheticProtronRadiography]: ../../api/plasmapy.diagnostics.proton_radiography.SyntheticProtonRadiograph.rst#plasmapy.diagnostics.proton_radiography.SyntheticProtonRadiograph\n",
    "\n",
    "Finally, we'll create an instance of [SyntheticProtronRadiography]."
   ]
  },
  {
   "cell_type": "code",
   "execution_count": null,
   "metadata": {},
   "outputs": [],
   "source": [
    "sim = prad.SyntheticProtonRadiograph(empty_grid, source, detector, verbose=False)"
   ]
  },
  {
   "cell_type": "markdown",
   "metadata": {},
   "source": [
    "[SyntheticProtronRadiography]: ../../api/plasmapy.diagnostics.proton_radiography.SyntheticProtonRadiograph.rst#plasmapy.diagnostics.proton_radiography.SyntheticProtonRadiograph\n",
    "\n",
    "[add_wire_mesh()]: ../../api/plasmapy.diagnostics.proton_radiography.SyntheticProtonRadiograph.rst#plasmapy.diagnostics.proton_radiography.SyntheticProtonRadiograph.add_wire_mesh\n",
    "\n",
    "[run()]: ../../api/plasmapy.diagnostics.proton_radiography.SyntheticProtonRadiograph.rst#plasmapy.diagnostics.proton_radiography.SyntheticProtonRadiograph.run\n",
    "\n",
    "Now it's time to create the mesh. [add_wire_mesh()] takes four required parameters:\n",
    "\n",
    "- `location` : A vector from the grid origin to the center of the mesh.\n",
    "- `extent` : The size of the mesh. If two values are given the mesh is assumed to be rectangular (extent is the width, height), but if only one is provided the mesh is assumed to be circular (extent is the diameter).\n",
    "- `nwires` : The number of wires in each direction. If only one value is given, it's assumed to be the same for both directions.\n",
    "- `wire_diameter` : The diameter of each wire.\n",
    "\n",
    "[add_wire_mesh()] works by extrapolating the positions of the particles in the mesh plane (based on their initial velocities) and removing those particles that will hit the wires. When [add_wire_mesh()] is called, the description of the mesh is stored inside the [SyntheticProtronRadiography] object. Multiple meshes can be added. The particles are then removed when the [run()] method is called."
   ]
  },
  {
   "cell_type": "code",
   "execution_count": null,
   "metadata": {},
   "outputs": [],
   "source": [
    "location = np.array([0, -2, 0]) * u.mm\n",
    "extent = (1 * u.mm, 1 * u.mm)\n",
    "nwires = (9, 12)\n",
    "wire_diameter = 20 * u.um\n",
    "sim.add_wire_mesh(location, extent, nwires, wire_diameter)"
   ]
  },
  {
   "cell_type": "markdown",
   "metadata": {},
   "source": [
    "Now that the mesh has been created, we will run the particle tracing simulation and create a synthetic radiograph to visualize the result. We'll wrap this in a function so we can use it again later."
   ]
  },
  {
   "cell_type": "code",
   "execution_count": null,
   "metadata": {},
   "outputs": [],
   "source": [
    "def run_radiograph(sim, vmax=None):\n",
    "    sim.create_particles(1e5, 15 * u.MeV, max_theta=8 * u.deg)\n",
    "    sim.run(field_weighting=\"nearest neighbor\")\n",
    "    h, v, i = sim.synthetic_radiograph(\n",
    "        size=np.array([[-1, 1], [-1, 1]]) * 2 * u.cm, bins=[200, 200]\n",
    "    )\n",
    "\n",
    "    if vmax is None:\n",
    "        vmax = np.max(i)\n",
    "\n",
    "    fig, ax = plt.subplots(figsize=(8, 8))\n",
    "    ax.pcolormesh(h.to(u.mm).value, v.to(u.mm).value, i.T, cmap=\"Blues_r\", vmax=vmax)\n",
    "    ax.set_aspect(\"equal\")\n",
    "    ax.set_xlabel(\"X (mm)\")\n",
    "    ax.set_ylabel(\"Y (mm)\")"
   ]
  },
  {
   "cell_type": "code",
   "execution_count": null,
   "metadata": {},
   "outputs": [],
   "source": [
    "run_radiograph(sim)"
   ]
  },
  {
   "cell_type": "markdown",
   "metadata": {},
   "source": [
    "Notice that the distance from the source to the mesh is $10 - 2 = 8$ mm, while the distance from the mesh to the detector is $200 + 2 = 202$ mm. The magnification is therefore $M = 1 + 202/8 = 26.25$, so the $1$ mm wide mesh is $26.25$ mm wide in the image.\n",
    "\n",
    "Changing the `location` keyword can change both the magnification and shift the mesh center."
   ]
  },
  {
   "cell_type": "code",
   "execution_count": null,
   "metadata": {},
   "outputs": [],
   "source": [
    "sim = prad.SyntheticProtonRadiograph(empty_grid, source, detector, verbose=False)\n",
    "sim.add_wire_mesh(np.array([0.5, -4, 0]) * u.mm, extent, nwires, wire_diameter)\n",
    "run_radiograph(sim)"
   ]
  },
  {
   "cell_type": "markdown",
   "metadata": {},
   "source": [
    "Setting the `extent` keyword to a single value will create a circular mesh (with a rectangular grid of wires)."
   ]
  },
  {
   "cell_type": "code",
   "execution_count": null,
   "metadata": {},
   "outputs": [],
   "source": [
    "sim = prad.SyntheticProtonRadiograph(empty_grid, source, detector, verbose=False)\n",
    "sim.add_wire_mesh(location, (1 * u.mm), nwires, wire_diameter)\n",
    "run_radiograph(sim)"
   ]
  },
  {
   "cell_type": "markdown",
   "metadata": {},
   "source": [
    "[add_wire_mesh()]: ../../api/plasmapy.diagnostics.proton_radiography.SyntheticProtonRadiograph.rst#plasmapy.diagnostics.proton_radiography.SyntheticProtonRadiograph.add_wire_mesh\n",
    "\n",
    "[add_wire_mesh()] has two optional keywords that can be used to change the orientation of the mesh. The first, `mesh_hdir` is a unit vector that sets the horizontal direction of the mesh plane. This can be used to effectively rotate the mesh. For example the following example will rotate the mesh by $45^\\circ$ (note that these unit vector inputs are automatically normalized)."
   ]
  },
  {
   "cell_type": "code",
   "execution_count": null,
   "metadata": {},
   "outputs": [],
   "source": [
    "sim = prad.SyntheticProtonRadiograph(empty_grid, source, detector, verbose=False)\n",
    "nremoved = sim.add_wire_mesh(\n",
    "    location, extent, nwires, wire_diameter, mesh_hdir=np.array([0.5, 0, 0.5])\n",
    ")\n",
    "run_radiograph(sim)"
   ]
  },
  {
   "cell_type": "markdown",
   "metadata": {},
   "source": [
    "The second keyword argument, `mesh_vdir`, overrides the unit vector that defines the vertical direction of the mesh plane. By default this vector is set to be mutually orthogonal to `mesh_hdir` and the detector plane normal so that the mesh is parallel to the detector plane. Changing this keyword (alone or in combination with `mesh_hdir`) can be used to create a tilted mesh."
   ]
  },
  {
   "cell_type": "code",
   "execution_count": null,
   "metadata": {},
   "outputs": [],
   "source": [
    "sim = prad.SyntheticProtonRadiograph(empty_grid, source, detector, verbose=False)\n",
    "nremoved = sim.add_wire_mesh(\n",
    "    location, extent, nwires, wire_diameter, mesh_vdir=np.array([0, 0.7, 1])\n",
    ")\n",
    "run_radiograph(sim)"
   ]
  },
  {
   "cell_type": "markdown",
   "metadata": {},
   "source": [
    "## Using a Wire Mesh in an Example Radiograph"
   ]
  },
  {
   "cell_type": "markdown",
   "metadata": {},
   "source": [
    "[CartesianGrid]: ../../api/plasmapy.plasma.grids.CartesianGrid.rst#plasmapy.plasma.grids.CartesianGrid\n",
    "\n",
    "To illustrate the use of a mesh in an actual example, we'll first create an example [CartesianGrid] object and fill it with the analytical electric field produced by a sphere of Gaussian potential."
   ]
  },
  {
   "cell_type": "code",
   "execution_count": null,
   "metadata": {},
   "outputs": [],
   "source": [
    "# Create a Cartesian grid\n",
    "L = 1 * u.mm\n",
    "grid = CartesianGrid(-L, L, num=150)\n",
    "\n",
    "# Create a spherical potential with a Gaussian radial distribution\n",
    "radius = np.linalg.norm(grid.grid, axis=3)\n",
    "arg = (radius / (L / 3)).to(u.dimensionless_unscaled)\n",
    "potential = 2e5 * np.exp(-(arg ** 2)) * u.V\n",
    "\n",
    "# Calculate E from the potential\n",
    "Ex, Ey, Ez = np.gradient(potential, grid.dax0, grid.dax1, grid.dax2)\n",
    "Ex = -np.where(radius < L / 2, Ex, 0)\n",
    "Ey = -np.where(radius < L / 2, Ey, 0)\n",
    "Ez = -np.where(radius < L / 2, Ez, 0)\n",
    "\n",
    "# Add those quantities to the grid\n",
    "grid.add_quantities(E_x=Ex, E_y=Ey, E_z=Ez, phi=potential)\n",
    "\n",
    "\n",
    "# Plot the E-field\n",
    "fig = plt.figure(figsize=(8, 8))\n",
    "ax = fig.add_subplot(111, projection=\"3d\")\n",
    "ax.view_init(30, 30)\n",
    "\n",
    "# skip some points to make the vector plot intelligable\n",
    "s = tuple([slice(None, None, 10)] * 3)\n",
    "\n",
    "ax.quiver(\n",
    "    grid.pts0[s].to(u.mm).value,\n",
    "    grid.pts1[s].to(u.mm).value,\n",
    "    grid.pts2[s].to(u.mm).value,\n",
    "    grid[\"E_x\"][s],\n",
    "    grid[\"E_y\"][s],\n",
    "    grid[\"E_z\"][s],\n",
    "    length=1e-6,\n",
    ")\n",
    "\n",
    "ax.set_xlabel(\"X (mm)\")\n",
    "ax.set_ylabel(\"Y (mm)\")\n",
    "ax.set_zlabel(\"Z (mm)\")\n",
    "ax.set_xlim(-1, 1)\n",
    "ax.set_ylim(-1, 1)\n",
    "ax.set_zlim(-1, 1)\n",
    "ax.set_title(\"Gaussian Potential Electric Field\")"
   ]
  },
  {
   "cell_type": "markdown",
   "metadata": {},
   "source": [
    "Now we will create a mesh and run the particle tracing simulation"
   ]
  },
  {
   "cell_type": "code",
   "execution_count": null,
   "metadata": {
    "nbsphinx-thumbnail": {
     "tooltip": "Proton Radiography with a Wire Mesh"
    }
   },
   "outputs": [],
   "source": [
    "sim = prad.SyntheticProtonRadiograph(grid, source, detector, verbose=False)\n",
    "sim.add_wire_mesh(location, extent, 11, wire_diameter)\n",
    "sim.create_particles(3e5, 15 * u.MeV, max_theta=8 * u.deg)\n",
    "run_radiograph(sim, vmax=10)"
   ]
  },
  {
   "cell_type": "markdown",
   "metadata": {},
   "source": [
    "Notice how the vertices of the grid are displaced by the fields."
   ]
  }
 ],
 "metadata": {
  "kernelspec": {
   "display_name": "Python 3",
   "language": "python",
   "name": "python3"
  },
  "language_info": {
   "codemirror_mode": {
    "name": "ipython",
    "version": 3
   },
   "file_extension": ".py",
   "mimetype": "text/x-python",
   "name": "python",
   "nbconvert_exporter": "python",
   "pygments_lexer": "ipython3",
   "version": "3.7.6"
  }
 },
 "nbformat": 4,
 "nbformat_minor": 4
}
