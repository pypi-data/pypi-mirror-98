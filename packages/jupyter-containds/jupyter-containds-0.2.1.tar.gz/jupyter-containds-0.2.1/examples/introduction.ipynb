{
 "cells": [
  {
   "cell_type": "markdown",
   "metadata": {},
   "source": [
    "# User widget\n",
    "\n",
    "This widget provides user information on the logged dashboard user."
   ]
  },
  {
   "cell_type": "code",
   "execution_count": 1,
   "metadata": {},
   "outputs": [],
   "source": [
    "from jupyter_containds import User"
   ]
  },
  {
   "cell_type": "code",
   "execution_count": 2,
   "metadata": {},
   "outputs": [],
   "source": [
    "u = User()"
   ]
  },
  {
   "cell_type": "markdown",
   "metadata": {},
   "source": [
    "The model has three attributes:\n",
    "\n",
    "- `is_ready`: A boolean to know when the Hub request is complete\n",
    "- `name`: Name of the logged user\n",
    "- `attrs`: A dictionary with user attributes:\n",
    "\n",
    "```python\n",
    "{\n",
    " 'kind': 'user',\n",
    " 'name': 'fcollonval',\n",
    " 'admin': True,\n",
    " 'groups': [],\n",
    " 'server': '/user/fcollonval/',\n",
    " 'pending': None,\n",
    " 'created': '2020-10-13T09:50:11.671960Z',\n",
    " 'last_activity': '2020-12-09T14:32:46.521759Z',\n",
    " 'servers': None\n",
    "}\n",
    "```\n",
    "\n",
    "> Those attributes are emptied if the widget is called outside a Jupyter server with dashboard capability"
   ]
  },
  {
   "cell_type": "code",
   "execution_count": 3,
   "metadata": {},
   "outputs": [
    {
     "data": {
      "text/plain": [
       "{}"
      ]
     },
     "execution_count": 3,
     "metadata": {},
     "output_type": "execute_result"
    }
   ],
   "source": [
    "u.attrs"
   ]
  },
  {
   "cell_type": "code",
   "execution_count": 4,
   "metadata": {},
   "outputs": [],
   "source": [
    "u.name # Should output nothing as the information is not yet retrieved"
   ]
  },
  {
   "cell_type": "markdown",
   "metadata": {},
   "source": [
    "Obtaining the user information is not instantaneous. To determine if the user information request is finished,\n",
    "the best is to observe the user name to change from `None` (the default value) to a string (empty if the\n",
    "request failed)."
   ]
  },
  {
   "cell_type": "code",
   "execution_count": 5,
   "metadata": {},
   "outputs": [
    {
     "data": {
      "application/vnd.jupyter.widget-view+json": {
       "model_id": "dfc060b055aa48ceadc4e33830b71885",
       "version_major": 2,
       "version_minor": 0
      },
      "text/plain": [
       "VBox(children=(Valid(value=False, description='Ready?'), Label(value='')))"
      ]
     },
     "metadata": {},
     "output_type": "display_data"
    }
   ],
   "source": [
    "from ipywidgets import Label, Valid, VBox, dlink\n",
    "\n",
    "cbox = Valid(value=False, description=\"Ready?\")\n",
    "lbl = Label()\n",
    "\n",
    "def is_ready(changes):\n",
    "    lbl.value = f\"{u.name} is ready\" if u.name else \"Unable to get user information\"\n",
    "    \n",
    "u.observe(is_ready, 'is_ready')\n",
    "dlink((u, 'is_ready'), (cbox, 'value'))\n",
    "\n",
    "VBox(children=(cbox, lbl))"
   ]
  }
 ],
 "metadata": {
  "kernelspec": {
   "display_name": "Python 3",
   "language": "python",
   "name": "python3"
  },
  "language_info": {
   "codemirror_mode": {
    "name": "ipython",
    "version": 3
   },
   "file_extension": ".py",
   "mimetype": "text/x-python",
   "name": "python",
   "nbconvert_exporter": "python",
   "pygments_lexer": "ipython3",
   "version": "3.9.0"
  },
  "widgets": {
   "application/vnd.jupyter.widget-state+json": {
    "state": {},
    "version_major": 2,
    "version_minor": 0
   }
  }
 },
 "nbformat": 4,
 "nbformat_minor": 4
}
