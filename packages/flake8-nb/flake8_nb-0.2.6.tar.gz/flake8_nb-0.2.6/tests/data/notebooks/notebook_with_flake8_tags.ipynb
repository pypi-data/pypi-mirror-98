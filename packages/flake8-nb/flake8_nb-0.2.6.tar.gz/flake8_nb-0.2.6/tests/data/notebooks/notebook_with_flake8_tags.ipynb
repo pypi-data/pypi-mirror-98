{
 "cells": [
  {
   "cell_type": "markdown",
   "metadata": {},
   "source": [
    "# This notebook is to demonstrate `flake8_nb` reporting with `flake8-tags`"
   ]
  },
  {
   "cell_type": "markdown",
   "metadata": {},
   "source": [
    "## Testing Celltags"
   ]
  },
  {
   "cell_type": "markdown",
   "metadata": {
    "tags": [
     "flake8-noqa-cell-F401"
    ]
   },
   "source": [
    "The next cell should not report `F401 'not_a_package' imported but unused`, due to the cell tag `flake8-noqa-cell-F401`.\n",
    "\n",
    "But it will report `E231 missing whitespace after ':'`, for line 2."
   ]
  },
  {
   "cell_type": "code",
   "execution_count": 1,
   "metadata": {
    "tags": [
     "raises-exception",
     "flake8-noqa-cell-F401"
    ]
   },
   "outputs": [
    {
     "ename": "ModuleNotFoundError",
     "evalue": "No module named 'not_a_package'",
     "output_type": "error",
     "traceback": [
      "\u001b[1;31m---------------------------------------------------------------------------\u001b[0m",
      "\u001b[1;31mModuleNotFoundError\u001b[0m                       Traceback (most recent call last)",
      "\u001b[1;32m<ipython-input-1-e5f2776a04db>\u001b[0m in \u001b[0;36m<module>\u001b[1;34m\u001b[0m\n\u001b[1;32m----> 1\u001b[1;33m \u001b[1;32mimport\u001b[0m \u001b[0mnot_a_package\u001b[0m\u001b[1;33m\u001b[0m\u001b[1;33m\u001b[0m\u001b[0m\n\u001b[0m\u001b[0;32m      2\u001b[0m \u001b[1;33m{\u001b[0m\u001b[1;34m\"1\"\u001b[0m\u001b[1;33m:\u001b[0m\u001b[1;36m1\u001b[0m\u001b[1;33m}\u001b[0m\u001b[1;33m\u001b[0m\u001b[1;33m\u001b[0m\u001b[0m\n",
      "\u001b[1;31mModuleNotFoundError\u001b[0m: No module named 'not_a_package'"
     ]
    }
   ],
   "source": [
    "import not_a_package\n",
    "{\"1\":1}"
   ]
  },
  {
   "cell_type": "markdown",
   "metadata": {},
   "source": [
    "The next cell should not report `E231 missing whitespace after ':'` for line 1, due to the line tag `flake8-noqa-line-1-E231`.\n",
    "\n",
    "But it will report `E231 missing whitespace after ':'`, for line 2."
   ]
  },
  {
   "cell_type": "code",
   "execution_count": 2,
   "metadata": {
    "tags": [
     "flake8-noqa-line-1-E231"
    ]
   },
   "outputs": [
    {
     "data": {
      "text/plain": [
       "{'2': 2}"
      ]
     },
     "execution_count": 2,
     "metadata": {},
     "output_type": "execute_result"
    }
   ],
   "source": [
    "{\"2\":1}\n",
    "{\"2\":2}"
   ]
  },
  {
   "cell_type": "markdown",
   "metadata": {},
   "source": [
    "The next cell should not report `E231 missing whitespace after ':'`, due to the line tag `flake8-noqa-cell-E231`."
   ]
  },
  {
   "cell_type": "code",
   "execution_count": 3,
   "metadata": {
    "tags": [
     "flake8-noqa-cell-E231"
    ]
   },
   "outputs": [
    {
     "data": {
      "text/plain": [
       "{'3': 2}"
      ]
     },
     "execution_count": 3,
     "metadata": {},
     "output_type": "execute_result"
    }
   ],
   "source": [
    "{\"3\":1}\n",
    "{\"3\":2}"
   ]
  },
  {
   "cell_type": "markdown",
   "metadata": {},
   "source": [
    "## Testing inline Celltags"
   ]
  },
  {
   "cell_type": "markdown",
   "metadata": {},
   "source": [
    "The next cell should not report `F401 'not_a_package' imported but unused`, `F811 redefinition of unused 'not_a_package'` and `E402 module level import not at top of file`, due to the inline cell tag `flake8-noqa-cell-E402-F401-F811`.\n",
    "\n",
    "But it will report `E231 missing whitespace after ':'`, for line 3."
   ]
  },
  {
   "cell_type": "code",
   "execution_count": 4,
   "metadata": {
    "tags": [
     "raises-exception"
    ]
   },
   "outputs": [
    {
     "ename": "ModuleNotFoundError",
     "evalue": "No module named 'not_a_package'",
     "output_type": "error",
     "traceback": [
      "\u001b[1;31m---------------------------------------------------------------------------\u001b[0m",
      "\u001b[1;31mModuleNotFoundError\u001b[0m                       Traceback (most recent call last)",
      "\u001b[1;32m<ipython-input-4-d42ffc79d15f>\u001b[0m in \u001b[0;36m<module>\u001b[1;34m\u001b[0m\n\u001b[0;32m      1\u001b[0m \u001b[1;31m# flake8-noqa-cell-402-F401-F811\u001b[0m\u001b[1;33m\u001b[0m\u001b[1;33m\u001b[0m\u001b[1;33m\u001b[0m\u001b[0m\n\u001b[1;32m----> 2\u001b[1;33m \u001b[1;32mimport\u001b[0m \u001b[0mnot_a_package\u001b[0m\u001b[1;33m\u001b[0m\u001b[1;33m\u001b[0m\u001b[0m\n\u001b[0m\u001b[0;32m      3\u001b[0m \u001b[1;33m{\u001b[0m\u001b[1;34m\"4\"\u001b[0m\u001b[1;33m:\u001b[0m\u001b[1;36m1\u001b[0m\u001b[1;33m}\u001b[0m\u001b[1;33m\u001b[0m\u001b[1;33m\u001b[0m\u001b[0m\n",
      "\u001b[1;31mModuleNotFoundError\u001b[0m: No module named 'not_a_package'"
     ]
    }
   ],
   "source": [
    "# flake8-noqa-cell-E402-F401-F811\n",
    "import not_a_package\n",
    "{\"4\":1}"
   ]
  },
  {
   "cell_type": "markdown",
   "metadata": {},
   "source": [
    "The next cell should not report `E231 missing whitespace after ':'` for line 2, due to the inline line tag `flake8-noqa-line-2-E231`.\n",
    "\n",
    "But it will report `E231 missing whitespace after ':'`, for line 3."
   ]
  },
  {
   "cell_type": "code",
   "execution_count": 5,
   "metadata": {},
   "outputs": [
    {
     "data": {
      "text/plain": [
       "{'5': 2}"
      ]
     },
     "execution_count": 5,
     "metadata": {},
     "output_type": "execute_result"
    }
   ],
   "source": [
    "# flake8-noqa-line-2-E231\n",
    "{\"5\":1}\n",
    "{\"5\":2}"
   ]
  },
  {
   "cell_type": "markdown",
   "metadata": {},
   "source": [
    "The next cell should not report `E231 missing whitespace after ':'`, due to the inline cell tag `flake8-noqa-cell-E231`."
   ]
  },
  {
   "cell_type": "code",
   "execution_count": 6,
   "metadata": {},
   "outputs": [
    {
     "data": {
      "text/plain": [
       "{'6': 2}"
      ]
     },
     "execution_count": 6,
     "metadata": {},
     "output_type": "execute_result"
    }
   ],
   "source": [
    "# flake8-noqa-cell-E231\n",
    "{\"6\":1}\n",
    "{\"6\":2}"
   ]
  },
  {
   "cell_type": "markdown",
   "metadata": {},
   "source": [
    "## Testing normal flake8 noqa comments"
   ]
  },
  {
   "cell_type": "markdown",
   "metadata": {},
   "source": [
    "The next cell should not report `E231 missing whitespace after ':'` for line 1, due to the flake8 noqa comment `#noqa: E231`.\n",
    "\n",
    "But it will report `E231 missing whitespace after ':'`, for line 2."
   ]
  },
  {
   "cell_type": "code",
   "execution_count": 7,
   "metadata": {},
   "outputs": [
    {
     "data": {
      "text/plain": [
       "{'5': 2}"
      ]
     },
     "execution_count": 7,
     "metadata": {},
     "output_type": "execute_result"
    }
   ],
   "source": [
    "{\"5\":1}  # noqa: E231\n",
    "{\"5\":2}"
   ]
  },
  {
   "cell_type": "markdown",
   "metadata": {},
   "source": [
    "The next cell is just for testing, the output of the shell command"
   ]
  },
  {
   "cell_type": "code",
   "execution_count": 8,
   "metadata": {},
   "outputs": [
    {
     "name": "stdout",
     "output_type": "stream",
     "text": [
      "notebook_with_flake8_tags.ipynb#In[1]:2:5: E231 missing whitespace after ':'\n",
      "notebook_with_flake8_tags.ipynb#In[2]:2:5: E231 missing whitespace after ':'\n",
      "notebook_with_flake8_tags.ipynb#In[5]:3:5: E231 missing whitespace after ':'\n",
      "notebook_with_flake8_tags.ipynb#In[7]:2:5: E231 missing whitespace after ':'\n"
     ]
    }
   ],
   "source": [
    "!flake8_nb notebook_with_flake8_tags.ipynb"
   ]
  },
  {
   "cell_type": "code",
   "execution_count": null,
   "metadata": {},
   "outputs": [],
   "source": []
  }
 ],
 "metadata": {
  "kernelspec": {
   "display_name": "Python 3",
   "language": "python",
   "name": "python3"
  },
  "language_info": {
   "codemirror_mode": {
    "name": "ipython",
    "version": 3
   },
   "file_extension": ".py",
   "mimetype": "text/x-python",
   "name": "python",
   "nbconvert_exporter": "python",
   "pygments_lexer": "ipython3",
   "version": "3.7.3"
  }
 },
 "nbformat": 4,
 "nbformat_minor": 4
}
