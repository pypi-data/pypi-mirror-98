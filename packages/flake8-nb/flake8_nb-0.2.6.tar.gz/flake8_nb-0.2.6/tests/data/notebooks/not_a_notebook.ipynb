This isn't an actual notebook and should give a warning at parsing!
