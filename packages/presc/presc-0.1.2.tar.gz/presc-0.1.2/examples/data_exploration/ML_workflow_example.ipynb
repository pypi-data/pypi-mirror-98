{
 "cells": [
  {
   "cell_type": "code",
   "execution_count": 1,
   "metadata": {},
   "outputs": [],
   "source": [
    "##!pip install imblearn\n",
    "import pandas as pd\n",
    "import numpy as np\n",
    "import seaborn as sns\n",
    "from sklearn.model_selection import train_test_split\n",
    "from sklearn import svm\n",
    "from sklearn import preprocessing\n",
    "from sklearn.metrics import accuracy_score, f1_score, confusion_matrix, recall_score\n",
    "from sklearn.metrics import confusion_matrix, classification_report\n",
    "from sklearn.metrics import plot_roc_curve\n",
    "from sklearn.metrics import precision_recall_curve\n",
    "\n",
    "import matplotlib.pyplot as plt\n",
    "%matplotlib inline"
   ]
  },
  {
   "cell_type": "code",
   "execution_count": 4,
   "metadata": {},
   "outputs": [
    {
     "name": "stdout",
     "output_type": "stream",
     "text": [
      "/Users/zhouxinrong/Desktop/PRESC/datasets\n"
     ]
    }
   ],
   "source": [
    "cd datasets"
   ]
  },
  {
   "cell_type": "code",
   "execution_count": 5,
   "metadata": {},
   "outputs": [],
   "source": [
    "Surgical_data = pd.read_csv(\"Surgical-deepnet.csv\")"
   ]
  },
  {
   "cell_type": "code",
   "execution_count": 6,
   "metadata": {},
   "outputs": [
    {
     "data": {
      "text/html": [
       "<div>\n",
       "<style scoped>\n",
       "    .dataframe tbody tr th:only-of-type {\n",
       "        vertical-align: middle;\n",
       "    }\n",
       "\n",
       "    .dataframe tbody tr th {\n",
       "        vertical-align: top;\n",
       "    }\n",
       "\n",
       "    .dataframe thead th {\n",
       "        text-align: right;\n",
       "    }\n",
       "</style>\n",
       "<table border=\"1\" class=\"dataframe\">\n",
       "  <thead>\n",
       "    <tr style=\"text-align: right;\">\n",
       "      <th></th>\n",
       "      <th>bmi</th>\n",
       "      <th>Age</th>\n",
       "      <th>asa_status</th>\n",
       "      <th>baseline_cancer</th>\n",
       "      <th>baseline_charlson</th>\n",
       "      <th>baseline_cvd</th>\n",
       "      <th>baseline_dementia</th>\n",
       "      <th>baseline_diabetes</th>\n",
       "      <th>baseline_digestive</th>\n",
       "      <th>baseline_osteoart</th>\n",
       "      <th>...</th>\n",
       "      <th>complication_rsi</th>\n",
       "      <th>dow</th>\n",
       "      <th>gender</th>\n",
       "      <th>hour</th>\n",
       "      <th>month</th>\n",
       "      <th>moonphase</th>\n",
       "      <th>mort30</th>\n",
       "      <th>mortality_rsi</th>\n",
       "      <th>race</th>\n",
       "      <th>complication</th>\n",
       "    </tr>\n",
       "  </thead>\n",
       "  <tbody>\n",
       "    <tr>\n",
       "      <th>0</th>\n",
       "      <td>19.31</td>\n",
       "      <td>59.2</td>\n",
       "      <td>1</td>\n",
       "      <td>1</td>\n",
       "      <td>0</td>\n",
       "      <td>0</td>\n",
       "      <td>0</td>\n",
       "      <td>0</td>\n",
       "      <td>0</td>\n",
       "      <td>0</td>\n",
       "      <td>...</td>\n",
       "      <td>-0.57</td>\n",
       "      <td>3</td>\n",
       "      <td>0</td>\n",
       "      <td>7.63</td>\n",
       "      <td>6</td>\n",
       "      <td>1</td>\n",
       "      <td>0</td>\n",
       "      <td>-0.43</td>\n",
       "      <td>1</td>\n",
       "      <td>0</td>\n",
       "    </tr>\n",
       "    <tr>\n",
       "      <th>1</th>\n",
       "      <td>18.73</td>\n",
       "      <td>59.1</td>\n",
       "      <td>0</td>\n",
       "      <td>0</td>\n",
       "      <td>0</td>\n",
       "      <td>0</td>\n",
       "      <td>0</td>\n",
       "      <td>0</td>\n",
       "      <td>0</td>\n",
       "      <td>0</td>\n",
       "      <td>...</td>\n",
       "      <td>0.21</td>\n",
       "      <td>0</td>\n",
       "      <td>0</td>\n",
       "      <td>12.93</td>\n",
       "      <td>0</td>\n",
       "      <td>1</td>\n",
       "      <td>0</td>\n",
       "      <td>-0.41</td>\n",
       "      <td>1</td>\n",
       "      <td>0</td>\n",
       "    </tr>\n",
       "    <tr>\n",
       "      <th>2</th>\n",
       "      <td>21.85</td>\n",
       "      <td>59.0</td>\n",
       "      <td>0</td>\n",
       "      <td>0</td>\n",
       "      <td>0</td>\n",
       "      <td>0</td>\n",
       "      <td>0</td>\n",
       "      <td>0</td>\n",
       "      <td>0</td>\n",
       "      <td>0</td>\n",
       "      <td>...</td>\n",
       "      <td>0.00</td>\n",
       "      <td>2</td>\n",
       "      <td>0</td>\n",
       "      <td>7.68</td>\n",
       "      <td>5</td>\n",
       "      <td>3</td>\n",
       "      <td>0</td>\n",
       "      <td>0.08</td>\n",
       "      <td>1</td>\n",
       "      <td>0</td>\n",
       "    </tr>\n",
       "    <tr>\n",
       "      <th>3</th>\n",
       "      <td>18.49</td>\n",
       "      <td>59.0</td>\n",
       "      <td>1</td>\n",
       "      <td>0</td>\n",
       "      <td>1</td>\n",
       "      <td>0</td>\n",
       "      <td>0</td>\n",
       "      <td>1</td>\n",
       "      <td>1</td>\n",
       "      <td>0</td>\n",
       "      <td>...</td>\n",
       "      <td>-0.65</td>\n",
       "      <td>2</td>\n",
       "      <td>1</td>\n",
       "      <td>7.58</td>\n",
       "      <td>4</td>\n",
       "      <td>3</td>\n",
       "      <td>0</td>\n",
       "      <td>-0.32</td>\n",
       "      <td>1</td>\n",
       "      <td>0</td>\n",
       "    </tr>\n",
       "    <tr>\n",
       "      <th>4</th>\n",
       "      <td>19.70</td>\n",
       "      <td>59.0</td>\n",
       "      <td>1</td>\n",
       "      <td>0</td>\n",
       "      <td>0</td>\n",
       "      <td>0</td>\n",
       "      <td>0</td>\n",
       "      <td>0</td>\n",
       "      <td>0</td>\n",
       "      <td>0</td>\n",
       "      <td>...</td>\n",
       "      <td>0.00</td>\n",
       "      <td>0</td>\n",
       "      <td>0</td>\n",
       "      <td>7.88</td>\n",
       "      <td>11</td>\n",
       "      <td>0</td>\n",
       "      <td>0</td>\n",
       "      <td>0.00</td>\n",
       "      <td>1</td>\n",
       "      <td>0</td>\n",
       "    </tr>\n",
       "    <tr>\n",
       "      <th>...</th>\n",
       "      <td>...</td>\n",
       "      <td>...</td>\n",
       "      <td>...</td>\n",
       "      <td>...</td>\n",
       "      <td>...</td>\n",
       "      <td>...</td>\n",
       "      <td>...</td>\n",
       "      <td>...</td>\n",
       "      <td>...</td>\n",
       "      <td>...</td>\n",
       "      <td>...</td>\n",
       "      <td>...</td>\n",
       "      <td>...</td>\n",
       "      <td>...</td>\n",
       "      <td>...</td>\n",
       "      <td>...</td>\n",
       "      <td>...</td>\n",
       "      <td>...</td>\n",
       "      <td>...</td>\n",
       "      <td>...</td>\n",
       "      <td>...</td>\n",
       "    </tr>\n",
       "    <tr>\n",
       "      <th>14630</th>\n",
       "      <td>18.79</td>\n",
       "      <td>14.1</td>\n",
       "      <td>1</td>\n",
       "      <td>0</td>\n",
       "      <td>1</td>\n",
       "      <td>0</td>\n",
       "      <td>0</td>\n",
       "      <td>0</td>\n",
       "      <td>0</td>\n",
       "      <td>0</td>\n",
       "      <td>...</td>\n",
       "      <td>-0.54</td>\n",
       "      <td>1</td>\n",
       "      <td>0</td>\n",
       "      <td>7.78</td>\n",
       "      <td>0</td>\n",
       "      <td>1</td>\n",
       "      <td>0</td>\n",
       "      <td>-0.16</td>\n",
       "      <td>1</td>\n",
       "      <td>1</td>\n",
       "    </tr>\n",
       "    <tr>\n",
       "      <th>14631</th>\n",
       "      <td>19.65</td>\n",
       "      <td>12.6</td>\n",
       "      <td>0</td>\n",
       "      <td>0</td>\n",
       "      <td>0</td>\n",
       "      <td>0</td>\n",
       "      <td>0</td>\n",
       "      <td>0</td>\n",
       "      <td>0</td>\n",
       "      <td>0</td>\n",
       "      <td>...</td>\n",
       "      <td>-1.42</td>\n",
       "      <td>4</td>\n",
       "      <td>0</td>\n",
       "      <td>8.40</td>\n",
       "      <td>6</td>\n",
       "      <td>1</td>\n",
       "      <td>0</td>\n",
       "      <td>-0.77</td>\n",
       "      <td>1</td>\n",
       "      <td>1</td>\n",
       "    </tr>\n",
       "    <tr>\n",
       "      <th>14632</th>\n",
       "      <td>14.84</td>\n",
       "      <td>12.6</td>\n",
       "      <td>1</td>\n",
       "      <td>0</td>\n",
       "      <td>0</td>\n",
       "      <td>0</td>\n",
       "      <td>0</td>\n",
       "      <td>0</td>\n",
       "      <td>0</td>\n",
       "      <td>0</td>\n",
       "      <td>...</td>\n",
       "      <td>0.65</td>\n",
       "      <td>0</td>\n",
       "      <td>0</td>\n",
       "      <td>13.25</td>\n",
       "      <td>3</td>\n",
       "      <td>3</td>\n",
       "      <td>0</td>\n",
       "      <td>0.99</td>\n",
       "      <td>1</td>\n",
       "      <td>1</td>\n",
       "    </tr>\n",
       "    <tr>\n",
       "      <th>14633</th>\n",
       "      <td>17.75</td>\n",
       "      <td>8.9</td>\n",
       "      <td>0</td>\n",
       "      <td>0</td>\n",
       "      <td>1</td>\n",
       "      <td>0</td>\n",
       "      <td>0</td>\n",
       "      <td>0</td>\n",
       "      <td>1</td>\n",
       "      <td>0</td>\n",
       "      <td>...</td>\n",
       "      <td>-0.50</td>\n",
       "      <td>0</td>\n",
       "      <td>1</td>\n",
       "      <td>8.30</td>\n",
       "      <td>5</td>\n",
       "      <td>0</td>\n",
       "      <td>0</td>\n",
       "      <td>0.17</td>\n",
       "      <td>1</td>\n",
       "      <td>1</td>\n",
       "    </tr>\n",
       "    <tr>\n",
       "      <th>14634</th>\n",
       "      <td>14.40</td>\n",
       "      <td>6.1</td>\n",
       "      <td>1</td>\n",
       "      <td>0</td>\n",
       "      <td>1</td>\n",
       "      <td>0</td>\n",
       "      <td>0</td>\n",
       "      <td>0</td>\n",
       "      <td>1</td>\n",
       "      <td>0</td>\n",
       "      <td>...</td>\n",
       "      <td>0.78</td>\n",
       "      <td>2</td>\n",
       "      <td>0</td>\n",
       "      <td>7.65</td>\n",
       "      <td>4</td>\n",
       "      <td>1</td>\n",
       "      <td>0</td>\n",
       "      <td>1.06</td>\n",
       "      <td>0</td>\n",
       "      <td>1</td>\n",
       "    </tr>\n",
       "  </tbody>\n",
       "</table>\n",
       "<p>14635 rows × 25 columns</p>\n",
       "</div>"
      ],
      "text/plain": [
       "         bmi   Age  asa_status  baseline_cancer  baseline_charlson  \\\n",
       "0      19.31  59.2           1                1                  0   \n",
       "1      18.73  59.1           0                0                  0   \n",
       "2      21.85  59.0           0                0                  0   \n",
       "3      18.49  59.0           1                0                  1   \n",
       "4      19.70  59.0           1                0                  0   \n",
       "...      ...   ...         ...              ...                ...   \n",
       "14630  18.79  14.1           1                0                  1   \n",
       "14631  19.65  12.6           0                0                  0   \n",
       "14632  14.84  12.6           1                0                  0   \n",
       "14633  17.75   8.9           0                0                  1   \n",
       "14634  14.40   6.1           1                0                  1   \n",
       "\n",
       "       baseline_cvd  baseline_dementia  baseline_diabetes  baseline_digestive  \\\n",
       "0                 0                  0                  0                   0   \n",
       "1                 0                  0                  0                   0   \n",
       "2                 0                  0                  0                   0   \n",
       "3                 0                  0                  1                   1   \n",
       "4                 0                  0                  0                   0   \n",
       "...             ...                ...                ...                 ...   \n",
       "14630             0                  0                  0                   0   \n",
       "14631             0                  0                  0                   0   \n",
       "14632             0                  0                  0                   0   \n",
       "14633             0                  0                  0                   1   \n",
       "14634             0                  0                  0                   1   \n",
       "\n",
       "       baseline_osteoart  ...  complication_rsi  dow  gender   hour  month  \\\n",
       "0                      0  ...             -0.57    3       0   7.63      6   \n",
       "1                      0  ...              0.21    0       0  12.93      0   \n",
       "2                      0  ...              0.00    2       0   7.68      5   \n",
       "3                      0  ...             -0.65    2       1   7.58      4   \n",
       "4                      0  ...              0.00    0       0   7.88     11   \n",
       "...                  ...  ...               ...  ...     ...    ...    ...   \n",
       "14630                  0  ...             -0.54    1       0   7.78      0   \n",
       "14631                  0  ...             -1.42    4       0   8.40      6   \n",
       "14632                  0  ...              0.65    0       0  13.25      3   \n",
       "14633                  0  ...             -0.50    0       1   8.30      5   \n",
       "14634                  0  ...              0.78    2       0   7.65      4   \n",
       "\n",
       "       moonphase  mort30  mortality_rsi  race  complication  \n",
       "0              1       0          -0.43     1             0  \n",
       "1              1       0          -0.41     1             0  \n",
       "2              3       0           0.08     1             0  \n",
       "3              3       0          -0.32     1             0  \n",
       "4              0       0           0.00     1             0  \n",
       "...          ...     ...            ...   ...           ...  \n",
       "14630          1       0          -0.16     1             1  \n",
       "14631          1       0          -0.77     1             1  \n",
       "14632          3       0           0.99     1             1  \n",
       "14633          0       0           0.17     1             1  \n",
       "14634          1       0           1.06     0             1  \n",
       "\n",
       "[14635 rows x 25 columns]"
      ]
     },
     "execution_count": 6,
     "metadata": {},
     "output_type": "execute_result"
    }
   ],
   "source": [
    "Surgical_data"
   ]
  },
  {
   "cell_type": "code",
   "execution_count": 7,
   "metadata": {},
   "outputs": [],
   "source": [
    "Surgical_data1 = pd.DataFrame(Surgical_data, columns=[\"bmi\",\"Age\",\"complication\"])"
   ]
  },
  {
   "cell_type": "code",
   "execution_count": 8,
   "metadata": {
    "scrolled": true
   },
   "outputs": [
    {
     "data": {
      "text/html": [
       "<div>\n",
       "<style scoped>\n",
       "    .dataframe tbody tr th:only-of-type {\n",
       "        vertical-align: middle;\n",
       "    }\n",
       "\n",
       "    .dataframe tbody tr th {\n",
       "        vertical-align: top;\n",
       "    }\n",
       "\n",
       "    .dataframe thead th {\n",
       "        text-align: right;\n",
       "    }\n",
       "</style>\n",
       "<table border=\"1\" class=\"dataframe\">\n",
       "  <thead>\n",
       "    <tr style=\"text-align: right;\">\n",
       "      <th></th>\n",
       "      <th>bmi</th>\n",
       "      <th>Age</th>\n",
       "      <th>complication</th>\n",
       "    </tr>\n",
       "  </thead>\n",
       "  <tbody>\n",
       "    <tr>\n",
       "      <th>count</th>\n",
       "      <td>14635.000000</td>\n",
       "      <td>14635.000000</td>\n",
       "      <td>14635.000000</td>\n",
       "    </tr>\n",
       "    <tr>\n",
       "      <th>mean</th>\n",
       "      <td>31.295642</td>\n",
       "      <td>63.205268</td>\n",
       "      <td>0.252135</td>\n",
       "    </tr>\n",
       "    <tr>\n",
       "      <th>std</th>\n",
       "      <td>8.152709</td>\n",
       "      <td>18.088191</td>\n",
       "      <td>0.434253</td>\n",
       "    </tr>\n",
       "    <tr>\n",
       "      <th>min</th>\n",
       "      <td>2.150000</td>\n",
       "      <td>6.100000</td>\n",
       "      <td>0.000000</td>\n",
       "    </tr>\n",
       "    <tr>\n",
       "      <th>25%</th>\n",
       "      <td>26.510000</td>\n",
       "      <td>51.500000</td>\n",
       "      <td>0.000000</td>\n",
       "    </tr>\n",
       "    <tr>\n",
       "      <th>50%</th>\n",
       "      <td>28.980000</td>\n",
       "      <td>59.700000</td>\n",
       "      <td>0.000000</td>\n",
       "    </tr>\n",
       "    <tr>\n",
       "      <th>75%</th>\n",
       "      <td>35.295000</td>\n",
       "      <td>74.700000</td>\n",
       "      <td>1.000000</td>\n",
       "    </tr>\n",
       "    <tr>\n",
       "      <th>max</th>\n",
       "      <td>92.590000</td>\n",
       "      <td>90.000000</td>\n",
       "      <td>1.000000</td>\n",
       "    </tr>\n",
       "  </tbody>\n",
       "</table>\n",
       "</div>"
      ],
      "text/plain": [
       "                bmi           Age  complication\n",
       "count  14635.000000  14635.000000  14635.000000\n",
       "mean      31.295642     63.205268      0.252135\n",
       "std        8.152709     18.088191      0.434253\n",
       "min        2.150000      6.100000      0.000000\n",
       "25%       26.510000     51.500000      0.000000\n",
       "50%       28.980000     59.700000      0.000000\n",
       "75%       35.295000     74.700000      1.000000\n",
       "max       92.590000     90.000000      1.000000"
      ]
     },
     "execution_count": 8,
     "metadata": {},
     "output_type": "execute_result"
    }
   ],
   "source": [
    "Surgical_data1.describe()"
   ]
  },
  {
   "cell_type": "markdown",
   "metadata": {
    "scrolled": true
   },
   "source": [
    "## Predict complication based on BMI and age\n"
   ]
  },
  {
   "cell_type": "code",
   "execution_count": 9,
   "metadata": {
    "scrolled": false
   },
   "outputs": [
    {
     "data": {
      "text/html": [
       "<div>\n",
       "<style scoped>\n",
       "    .dataframe tbody tr th:only-of-type {\n",
       "        vertical-align: middle;\n",
       "    }\n",
       "\n",
       "    .dataframe tbody tr th {\n",
       "        vertical-align: top;\n",
       "    }\n",
       "\n",
       "    .dataframe thead th {\n",
       "        text-align: right;\n",
       "    }\n",
       "</style>\n",
       "<table border=\"1\" class=\"dataframe\">\n",
       "  <thead>\n",
       "    <tr style=\"text-align: right;\">\n",
       "      <th></th>\n",
       "      <th>Correlation</th>\n",
       "    </tr>\n",
       "  </thead>\n",
       "  <tbody>\n",
       "    <tr>\n",
       "      <th>bmi</th>\n",
       "      <td>-0.142174</td>\n",
       "    </tr>\n",
       "    <tr>\n",
       "      <th>Age</th>\n",
       "      <td>-0.111327</td>\n",
       "    </tr>\n",
       "  </tbody>\n",
       "</table>\n",
       "</div>"
      ],
      "text/plain": [
       "     Correlation\n",
       "bmi    -0.142174\n",
       "Age    -0.111327"
      ]
     },
     "execution_count": 9,
     "metadata": {},
     "output_type": "execute_result"
    },
    {
     "data": {
      "image/png": "[encoded data removed]",
      "text/plain": [
       "<Figure size 1440x792 with 1 Axes>"
      ]
     },
     "metadata": {
      "needs_background": "light"
     },
     "output_type": "display_data"
    }
   ],
   "source": [
    "corr = pd.DataFrame(Surgical_data1[Surgical_data1.columns[0:]].corr()[\"complication\"][:])\n",
    "plt.figure(figsize=(20,11))\n",
    "corr = corr.drop(index=\"complication\")\n",
    "corr.columns = ['Correlation']\n",
    "sns.barplot(corr.index, corr.Correlation)\n",
    "plt.grid()\n",
    "plt.title(\"A bar plot of the correlation between each feature and complication.\", fontweight=\"bold\")\n",
    "corr"
   ]
  },
  {
   "cell_type": "markdown",
   "metadata": {},
   "source": [
    "create X(input sets) and Y(output/prediction sets)"
   ]
  },
  {
   "cell_type": "code",
   "execution_count": 10,
   "metadata": {},
   "outputs": [],
   "source": [
    "X = Surgical_data1.drop([\"complication\"], axis=1)\n",
    "y = Surgical_data1[\"complication\"]\n"
   ]
  },
  {
   "cell_type": "code",
   "execution_count": 11,
   "metadata": {},
   "outputs": [],
   "source": [
    "import warnings\n",
    "warnings.filterwarnings('ignore')\n",
    "\n",
    "def train_predict(X, y, model, verbose=False):\n",
    "    X_train, X_test, y_train, y_test = train_test_split(X, y, test_size=0.20, random_state=42)\n",
    "    model.fit(X_train, y_train)\n",
    "    y_pred = model.predict(X_test)\n",
    "    conf_mat =  confusion_matrix(y_test, y_pred)\n",
    "    acc = accuracy_score(y_test, y_pred)\n",
    "    probs = model.predict_proba(X_test)\n",
    "    \n",
    "    print(\"Accuracy Score of the SVM classifier: \\n\", acc)\n",
    "    print(\"The confusion Matrix: \\n\", conf_mat)\n",
    "    print(\"Recall = \", recall_score(y_test, y_pred))\n",
    "    print(\"F1_score = \", f1_score(y_test, y_pred))\n",
    "    \n",
    "    #plot the heatmap for the confusio matrix.\n",
    "    #visuals ease comprehension of information and this justifies why \n",
    "    #I want a heatmap to be produced each time this functions is used.\n",
    "    if verbose:\n",
    "        plt.figure(figsize=(8,8))\n",
    "        sns.heatmap(conf_mat, cmap=sns.diverging_palette(20, 220, n=200), square=True, annot=True)\n",
    "    return X_test, y_test, y_pred, probs"
   ]
  },
  {
   "cell_type": "code",
   "execution_count": 12,
   "metadata": {},
   "outputs": [
    {
     "name": "stdout",
     "output_type": "stream",
     "text": [
      "Accuracy Score of the SVM classifier: \n",
      " 0.7728049197130168\n",
      "The confusion Matrix: \n",
      " [[2237    0]\n",
      " [ 665   25]]\n",
      "Recall =  0.036231884057971016\n",
      "F1_score =  0.06993006993006994\n"
     ]
    },
    {
     "data": {
      "image/png": "[encoded data removed]",
      "text/plain": [
       "<Figure size 576x576 with 2 Axes>"
      ]
     },
     "metadata": {
      "needs_background": "light"
     },
     "output_type": "display_data"
    }
   ],
   "source": [
    "diabetes_classifier = svm.SVC(probability=True)\n",
    "xtest, ytest, y_pred, probs = train_predict(X, y, diabetes_classifier, verbose=True)"
   ]
  },
  {
   "cell_type": "markdown",
   "metadata": {},
   "source": [
    "Even though the acuuracy score is not so bad, the model is actually predicting mostly 0, which is not a good model. Also the Recall score and F1 score is not so good."
   ]
  },
  {
   "cell_type": "code",
   "execution_count": 13,
   "metadata": {},
   "outputs": [],
   "source": [
    "from sklearn.metrics import roc_curve\n",
    "from sklearn.metrics import roc_auc_score\n",
    "def plot_roc_cur(probs, y_test):\n",
    "    \n",
    "    probs = probs[:, 1]\n",
    "    auc = roc_auc_score(y_test, probs)\n",
    "    print('AUC: %.2f' % auc)\n",
    "    \n",
    "    fig, ax = plt.subplots(figsize=(20,13))\n",
    "    fpr, tpr, thresholds = roc_curve(y_test, probs)\n",
    "    plt.plot(fpr, tpr, color='blue',LineWidth = 3, label='ROC')\n",
    "    plt.xlabel('False Positive Rate')\n",
    "    plt.ylabel('True Positive Rate')\n",
    "    plt.title(\"Area Under the Receiver Operating Characteristics Curve,\")\n",
    "    plt.grid()\n",
    "    plt.legend()\n",
    "    plt.show()"
   ]
  },
  {
   "cell_type": "code",
   "execution_count": 14,
   "metadata": {},
   "outputs": [
    {
     "name": "stdout",
     "output_type": "stream",
     "text": [
      "AUC: 0.54\n"
     ]
    },
    {
     "data": {
      "image/png": "[encoded data removed]",
      "text/plain": [
       "<Figure size 1440x936 with 1 Axes>"
      ]
     },
     "metadata": {
      "needs_background": "light"
     },
     "output_type": "display_data"
    }
   ],
   "source": [
    "plot_roc_cur(probs, ytest)"
   ]
  },
  {
   "cell_type": "markdown",
   "metadata": {},
   "source": [
    "Because of the imbalance of our data. We will try to do SMOTE resampling on our data "
   ]
  },
  {
   "cell_type": "code",
   "execution_count": 15,
   "metadata": {},
   "outputs": [],
   "source": [
    "from imblearn.over_sampling import SMOTE\n",
    "def SMOTE_resampling(X, y):\n",
    "    \"\"\"\n",
    "    Inputs: X the data set of all explanatory variables\n",
    "            y in the target variable\n",
    "            \n",
    "    Functionality: This function is used when there is imablance in the data set.\n",
    "                   It uses the SMOTE resampling method to generate synthetic points from the minority\n",
    "                   class to increase it's cardinality.\n",
    "    Outputs: The output is a data set(data frame) of explanatory variables and the target variable with increased\n",
    "             number of data points in the minority class.\n",
    "    \"\"\"\n",
    "    smote = SMOTE(random_state = 42)\n",
    "    x_resampled, y_resampled = smote.fit_resample(X, y)\n",
    "    return x_resampled, y_resampled"
   ]
  },
  {
   "cell_type": "code",
   "execution_count": 16,
   "metadata": {},
   "outputs": [
    {
     "name": "stdout",
     "output_type": "stream",
     "text": [
      "Accuracy Score of the SVM classifier: \n",
      " 0.7201918684330745\n",
      "The confusion Matrix: \n",
      " [[1400  799]\n",
      " [ 426 1753]]\n",
      "Recall =  0.8044974759063791\n",
      "F1_score =  0.7410695413231875\n"
     ]
    }
   ],
   "source": [
    "x_resampled, y_resampled = SMOTE_resampling(X, y)\n",
    "Xtest, ytest, y_pred, probs = train_predict(x_resampled, y_resampled, diabetes_classifier)"
   ]
  },
  {
   "cell_type": "markdown",
   "metadata": {},
   "source": [
    "After resampling, even though the accuracy score lowers down a little bit, we can see that the recall score and f1 score is much better. Also, in the confusion matrix, we can see that we have more TP and TN results."
   ]
  },
  {
   "cell_type": "markdown",
   "metadata": {},
   "source": [
    "# use the misclass rate feature to analysis this model"
   ]
  },
  {
   "cell_type": "code",
   "execution_count": 17,
   "metadata": {},
   "outputs": [],
   "source": [
    "from presc.misclassifications.misclass_rate import show_misclass_rates_features"
   ]
  },
  {
   "cell_type": "code",
   "execution_count": 18,
   "metadata": {},
   "outputs": [
    {
     "name": "stdout",
     "output_type": "stream",
     "text": [
      "Index(['bmi', 'Age', 'complication'], dtype='object')\n",
      "['bmi', 'Age', 'complication']\n",
      "['bmi', 'Age']\n"
     ]
    }
   ],
   "source": [
    "testset = pd.concat([Xtest, ytest], axis=1)\n",
    "print(testset.columns)\n",
    "print(list(testset.columns))\n",
    "print(list(testset.columns)[:-1])"
   ]
  },
  {
   "cell_type": "code",
   "execution_count": 19,
   "metadata": {
    "scrolled": false
   },
   "outputs": [
    {
     "data": {
      "image/png": "[encoded data removed]",
      "text/plain": [
       "<Figure size 432x288 with 1 Axes>"
      ]
     },
     "metadata": {
      "needs_background": "light"
     },
     "output_type": "display_data"
    },
    {
     "data": {
      "image/png": "[encoded data removed]",
      "text/plain": [
       "<Figure size 432x288 with 1 Axes>"
      ]
     },
     "metadata": {
      "needs_background": "light"
     },
     "output_type": "display_data"
    }
   ],
   "source": [
    "show_misclass_rates_features(testset,y_pred,bins=30)"
   ]
  },
  {
   "cell_type": "markdown",
   "metadata": {},
   "source": [
    "Each spike represents the misclassification rate on the certain interval of the feature that binned into 30 groups.\n",
    "\n",
    "The spikes on first graph represents the misclassification rate on different bmi interval, there are 30 different intervals.\n",
    "\n",
    "The spikes on first graph represents the misclassification rate on different age interval, there are 30 different intervals."
   ]
  },
  {
   "cell_type": "markdown",
   "metadata": {},
   "source": [
    "forward regression does not help in this case. I am only put it here as a reference."
   ]
  },
  {
   "cell_type": "code",
   "execution_count": 20,
   "metadata": {},
   "outputs": [],
   "source": [
    "import statsmodels.api as sm\n",
    "def forward_regression(X, y, threshold_in, verbose=False):\n",
    "    \"\"\"\n",
    "    Inputs: X the data set of all explanatory variables\n",
    "            y in the target variable\n",
    "            threshold_in represents the maximum value of the p_value\n",
    "            for a variable to be considered important.\n",
    "            verbose permits the printing ot the selected variables and their\n",
    "            corresponding accuracies.\n",
    "    Functionality: This is forward regression implementation which starts with an empty \n",
    "                   set of feautures. The most important feautures are determined using \n",
    "                   the ordinary least squares(OLS) regression method. OLS determines the\n",
    "                   importance of each variable using the principle of least squares. The \n",
    "                   OLS calculates the p-valeu and compare with the threshold which is specified.\n",
    "                   A variable with a p-value lower than the threshold is considered to have a \n",
    "                   significant effect on the target variable.\n",
    "    Outputs: returns a list of the most important feautures in the data set\n",
    "    \"\"\"\n",
    "    included = []\n",
    "    while True:\n",
    "        changed=False\n",
    "        excluded = list(set(X.columns)-set(included))\n",
    "        new_pval = pd.Series(index=excluded)\n",
    "        for new_column in excluded:\n",
    "            model = sm.OLS(y, sm.add_constant(pd.DataFrame(X[included+[new_column]]))).fit()\n",
    "            new_pval[new_column] = model.pvalues[new_column]\n",
    "        best_pval = new_pval.min()\n",
    "        if best_pval < threshold_in:\n",
    "            best_feature = new_pval.idxmin()\n",
    "            included.append(best_feature)\n",
    "            changed=True\n",
    "            if verbose:\n",
    "                print('Add  {:30} with p-value {:.6}'.format(best_feature, best_pval))\n",
    "\n",
    "        if not changed:\n",
    "            break\n",
    "\n",
    "    return included"
   ]
  },
  {
   "cell_type": "code",
   "execution_count": null,
   "metadata": {},
   "outputs": [],
   "source": []
  }
 ],
 "metadata": {
  "kernelspec": {
   "display_name": "Python 3",
   "language": "python",
   "name": "python3"
  },
  "language_info": {
   "codemirror_mode": {
    "name": "ipython",
    "version": 3
   },
   "file_extension": ".py",
   "mimetype": "text/x-python",
   "name": "python",
   "nbconvert_exporter": "python",
   "pygments_lexer": "ipython3",
   "version": "3.7.6"
  }
 },
 "nbformat": 4,
 "nbformat_minor": 4
}
