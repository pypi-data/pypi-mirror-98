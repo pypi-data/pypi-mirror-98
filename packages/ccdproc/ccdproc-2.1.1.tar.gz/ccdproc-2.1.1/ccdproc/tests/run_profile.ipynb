{
 "cells": [
  {
   "cell_type": "code",
   "execution_count": null,
   "metadata": {},
   "outputs": [],
   "source": [
    "import gc\n",
    "from copy import deepcopy\n",
    "\n",
    "%matplotlib inline \n",
    "from matplotlib import pyplot as plt\n",
    "import numpy as np\n",
    "\n",
    "try:\n",
    "    from run_for_memory_profile import run_memory_profile, generate_fits_files\n",
    "except ImportError:\n",
    "    raise ImportError('Please install memory_profiler before running this notebook.')\n",
    "\n",
    "from ccdproc.version import get_git_devstr\n",
    "from astropy import __version__ as apy_version"
   ]
  },
  {
   "cell_type": "code",
   "execution_count": null,
   "metadata": {},
   "outputs": [],
   "source": [
    "print('Astropy version: ', apy_version)"
   ]
  },
  {
   "cell_type": "code",
   "execution_count": null,
   "metadata": {},
   "outputs": [],
   "source": [
    "image_size = 4000   # Square image, so 4000 x 4000\n",
    "num_files = 10\n",
    "sampling_interval = 0.01 # sec\n",
    "memory_limit = 1000000000  # bytes, roughly 1GB\n",
    "\n",
    "commit = get_git_devstr(sha=True)[:7]\n",
    "print(commit)"
   ]
  },
  {
   "cell_type": "code",
   "execution_count": null,
   "metadata": {},
   "outputs": [],
   "source": [
    "generate_fits_files(num_files, size=image_size)"
   ]
  },
  {
   "cell_type": "code",
   "execution_count": null,
   "metadata": {},
   "outputs": [],
   "source": [
    "runs = {\n",
    "    'average': {\n",
    "        'times': [],\n",
    "        'memory': [],\n",
    "        'image_size': 0.\n",
    "    },\n",
    "    'median': {\n",
    "        'times': [],\n",
    "        'memory': [],\n",
    "        'image_size': 0.\n",
    "    },\n",
    "    'sum': {\n",
    "        'times': [],\n",
    "        'memory': [],\n",
    "        'image_size': 0.\n",
    "    }\n",
    "}\n",
    "runs_clip = deepcopy(runs)"
   ]
  },
  {
   "cell_type": "markdown",
   "metadata": {},
   "source": [
    "# Seem to need to do one run before the profiling\n",
    "\n",
    "Every time the first run looks different than the rest, so we run one and throw it out."
   ]
  },
  {
   "cell_type": "code",
   "execution_count": null,
   "metadata": {},
   "outputs": [],
   "source": [
    "_, _ = run_memory_profile(num_files, sampling_interval, size=image_size, \n",
    "                          memory_limit=memory_limit, combine_method='average')"
   ]
  },
  {
   "cell_type": "markdown",
   "metadata": {},
   "source": [
    "# Memory profile without sigma clipping"
   ]
  },
  {
   "cell_type": "code",
   "execution_count": null,
   "metadata": {},
   "outputs": [],
   "source": [
    "n_repetitions = 4"
   ]
  },
  {
   "cell_type": "code",
   "execution_count": null,
   "metadata": {},
   "outputs": [],
   "source": [
    "def run_them(runs, clipping=False):\n",
    "    for combine_method in runs.keys():\n",
    "        for _ in range(n_repetitions):\n",
    "            mem_use, img_size = run_memory_profile(num_files, sampling_interval, size=image_size, \n",
    "                                                   memory_limit=memory_limit, combine_method=combine_method,\n",
    "                                                   sigma_clip=clipping)\n",
    "            gc.collect()\n",
    "            runs[combine_method]['times'].append(np.arange(len(mem_use)) * sampling_interval)\n",
    "            runs[combine_method]['memory'].append(mem_use)\n",
    "            runs[combine_method]['image_size'] = img_size\n",
    "            runs[combine_method]['memory_limit'] = memory_limit\n",
    "            runs[combine_method]['clipping'] = clipping"
   ]
  },
  {
   "cell_type": "code",
   "execution_count": null,
   "metadata": {},
   "outputs": [],
   "source": [
    "run_them(runs)"
   ]
  },
  {
   "cell_type": "code",
   "execution_count": null,
   "metadata": {},
   "outputs": [],
   "source": [
    "styles = ['solid', 'dashed', 'dotted']"
   ]
  },
  {
   "cell_type": "code",
   "execution_count": null,
   "metadata": {},
   "outputs": [],
   "source": [
    "plt.figure(figsize=(20, 10))\n",
    "\n",
    "for idx, method in enumerate(runs.keys()):\n",
    "    style = styles[idx % len(styles)]\n",
    "    for i, data in enumerate(zip(runs[method]['times'], runs[method]['memory'])):\n",
    "        time, mem_use = data \n",
    "        if i == 0:\n",
    "            label = 'Memory use in {} combine (repeated runs same style)'.format(method)\n",
    "            alpha = 1.0\n",
    "        else:\n",
    "            label = ''\n",
    "            alpha = 0.4\n",
    "        plt.plot(time, mem_use, linestyle=style, label=label, alpha=alpha)\n",
    "\n",
    "plt.vlines(-40 * sampling_interval, mem_use[0], mem_use[0] + memory_limit/1e6, colors='red', label='Memory use limit')\n",
    "plt.vlines(-20 * sampling_interval, mem_use[0], mem_use[0] + runs[method]['image_size']/1e6, label='size of one image')\n",
    "\n",
    "plt.grid()\n",
    "clipped = 'ON' if runs[method]['clipping'] else 'OFF'\n",
    "\n",
    "plt.title('ccdproc commit {}; {} repetitions per method; sigma_clip {}'.format(commit, n_repetitions, clipped),\n",
    "          fontsize=20)\n",
    "plt.xlabel('Time (sec)', fontsize=20)\n",
    "plt.ylabel('Memory use (MB)', fontsize=20)\n",
    "\n",
    "plt.legend(fontsize=20)\n",
    "plt.savefig('commit_{}_reps_{}_clip_{}_memlim_{}GB.png'.format(commit, n_repetitions, clipped, memory_limit/1e9))"
   ]
  },
  {
   "cell_type": "markdown",
   "metadata": {},
   "source": [
    "# Memory profile with sigma clipping"
   ]
  },
  {
   "cell_type": "code",
   "execution_count": null,
   "metadata": {},
   "outputs": [],
   "source": [
    "run_them(runs_clip, clipping=True)"
   ]
  },
  {
   "cell_type": "code",
   "execution_count": null,
   "metadata": {},
   "outputs": [],
   "source": [
    "plt.figure(figsize=(20, 10))\n",
    "\n",
    "for idx, method in enumerate(runs_clip.keys()):\n",
    "    style = styles[idx % len(styles)]\n",
    "    for i, data in enumerate(zip(runs_clip[method]['times'], runs_clip[method]['memory'])):\n",
    "        time, mem_use = data \n",
    "        if i == 0:\n",
    "            label = 'Memory use in {} combine (repeated runs same style)'.format(method)\n",
    "            alpha = 1.0\n",
    "        else:\n",
    "            label = ''\n",
    "            alpha = 0.4\n",
    "        plt.plot(time, mem_use, linestyle=style, label=label, alpha=alpha)\n",
    "\n",
    "plt.vlines(-40 * sampling_interval, mem_use[0], mem_use[0] + memory_limit/1e6, colors='red', label='Memory use limit')\n",
    "plt.vlines(-20 * sampling_interval, mem_use[0], mem_use[0] + runs_clip[method]['image_size']/1e6, label='size of one image')\n",
    "\n",
    "plt.grid()\n",
    "clipped = 'ON' if runs_clip[method]['clipping'] else 'OFF'\n",
    "\n",
    "plt.title('ccdproc commit {}; {} repetitions per method; sigma_clip {}'.format(commit, n_repetitions, clipped),\n",
    "          fontsize=20)\n",
    "plt.xlabel('Time (sec)', fontsize=20)\n",
    "plt.ylabel('Memory use (MB)', fontsize=20)\n",
    "\n",
    "plt.legend(fontsize=20)\n",
    "plt.savefig('commit_{}_reps_{}_clip_{}_memlim_{}GB.png'.format(commit, n_repetitions, clipped, memory_limit/1e9))"
   ]
  }
 ],
 "metadata": {
  "kernelspec": {
   "display_name": "Python 3",
   "language": "python",
   "name": "python3"
  },
  "language_info": {
   "codemirror_mode": {
    "name": "ipython",
    "version": 3
   },
   "file_extension": ".py",
   "mimetype": "text/x-python",
   "name": "python",
   "nbconvert_exporter": "python",
   "pygments_lexer": "ipython3",
   "version": "3.6.7"
  }
 },
 "nbformat": 4,
 "nbformat_minor": 2
}
