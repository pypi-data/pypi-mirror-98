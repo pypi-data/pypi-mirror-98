{
 "cells": [
  {
   "cell_type": "markdown",
   "metadata": {},
   "source": [
    "# Plot Cluster DMGs"
   ]
  },
  {
   "cell_type": "code",
   "execution_count": null,
   "metadata": {},
   "outputs": [],
   "source": [
    "import pandas as pd\n",
    "import scanpy as sc\n",
    "import anndata\n",
    "import xarray as xr\n",
    "import matplotlib.pyplot as plt\n",
    "import seaborn as sns\n",
    "import pybedtools\n",
    "import dask\n",
    "from ALLCools.plot import *\n",
    "from ALLCools.mcds.MCDS import MCDS\n",
    "import pathlib\n",
    "import numpy as np\n",
    "import warnings\n",
    "import joblib\n",
    "import networkx as nx"
   ]
  },
  {
   "cell_type": "code",
   "execution_count": null,
   "metadata": {
    "tags": [
     "parameters"
    ]
   },
   "outputs": [],
   "source": [
    "clustering_name = 'L1'\n",
    "downsample = 30000\n",
    "gene_fraction_dir = 'gene_frac/'\n",
    "mc_type = 'CHN'\n",
    "coord_base = 'tsne'\n",
    "gene_meta_path = '/home/hanliu/ref/mouse/gencode/vm22/gencode.vM22.annotation.gene.flat.tsv.gz'\n",
    "ncols = 5\n",
    "nrows = 2\n",
    "outlier_label = 'Outlier'\n",
    "load_top_n = 50\n",
    "adata_path = 'adata.coord_only.h5ad'"
   ]
  },
  {
   "cell_type": "markdown",
   "metadata": {},
   "source": [
    "## Load\n",
    "\n",
    "### Clustering results"
   ]
  },
  {
   "cell_type": "code",
   "execution_count": null,
   "metadata": {},
   "outputs": [],
   "source": [
    "adata = anndata.read_h5ad(adata_path)\n",
    "\n",
    "if downsample and (adata.n_obs > downsample):\n",
    "    use_cells = adata.obs.sample(downsample, random_state=0).index\n",
    "    adata = adata[adata.obs_names.isin(use_cells), :].copy()\n",
    "else:\n",
    "    use_cells = adata.obs_names"
   ]
  },
  {
   "cell_type": "markdown",
   "metadata": {},
   "source": [
    "## Cluster DMGs"
   ]
  },
  {
   "cell_type": "code",
   "execution_count": null,
   "metadata": {},
   "outputs": [],
   "source": [
    "cluster_dmgs = {}\n",
    "with pd.HDFStore('ClusterRankedDMG.CHN.hdf') as hdf:\n",
    "    for cluster in hdf.keys():\n",
    "        cluster_dmgs[cluster[1:]] = hdf[cluster][:load_top_n]\n",
    "\n",
    "# only load relevant genes\n",
    "use_genes = set()\n",
    "for k in cluster_dmgs.values():\n",
    "    use_genes.update(set(k.index))"
   ]
  },
  {
   "cell_type": "markdown",
   "metadata": {},
   "source": [
    "## Gene mC Fraction Data"
   ]
  },
  {
   "cell_type": "code",
   "execution_count": null,
   "metadata": {},
   "outputs": [],
   "source": [
    "gene_meta = pd.read_csv(gene_meta_path, sep='\\t', index_col='gene_id')\n",
    "\n",
    "gene_fraction_dir = pathlib.Path(gene_fraction_dir)\n",
    "gene_meta = pd.read_csv(gene_fraction_dir / 'GeneMetadata.csv.gz', index_col=0)\n",
    "gene_meta.index.name = 'gene_id'\n",
    "gene_frac_da = xr.open_mfdataset(f'{gene_fraction_dir}/*_da_rate.nc',\n",
    "                                 concat_dim='cell',\n",
    "                                 combine='nested')[f'gene_da_rate']\n",
    "\n",
    "# chose cell and genes to load\n",
    "_cells = gene_frac_da.get_index('cell')\n",
    "_cells = _cells[_cells.isin(use_cells)]\n",
    "_genes = gene_frac_da.get_index('gene')\n",
    "_genes = _genes[_genes.isin(use_genes)]\n",
    "gene_frac_da = gene_frac_da.sel(cell=_cells, gene=_genes, mc_type=mc_type).load()\n",
    "gene_meta = gene_meta.loc[_genes].copy()\n",
    "gene_frac_da"
   ]
  },
  {
   "cell_type": "markdown",
   "metadata": {},
   "source": [
    "## Plot"
   ]
  },
  {
   "cell_type": "code",
   "execution_count": null,
   "metadata": {},
   "outputs": [],
   "source": [
    "cell_meta = adata.obs.copy()"
   ]
  },
  {
   "cell_type": "markdown",
   "metadata": {},
   "source": [
    "### Plot Function"
   ]
  },
  {
   "cell_type": "code",
   "execution_count": null,
   "metadata": {},
   "outputs": [],
   "source": [
    "def plot_genes(cluster, ncols, nrows, axes_size=3):\n",
    "    ncols = max(2, ncols)\n",
    "    nrows += 1\n",
    "    \n",
    "    # figure\n",
    "    fig = plt.figure(figsize=(ncols * axes_size, nrows * axes_size), dpi=150)\n",
    "    gs = fig.add_gridspec(nrows=nrows, ncols=ncols)\n",
    "    \n",
    "    # cluster axes\n",
    "    ax = fig.add_subplot(gs[0, 0])\n",
    "    categorical_scatter(data=cell_meta,\n",
    "                        ax=ax,\n",
    "                        coord_base=coord_base,\n",
    "                        axis_format=None,\n",
    "                        hue=clustering_name,\n",
    "                        palette='tab20')\n",
    "    ax.set_title('All Clusters')\n",
    "    ax = fig.add_subplot(gs[0, 1])\n",
    "    categorical_scatter(data=cell_meta,\n",
    "                        ax=ax,\n",
    "                        coord_base=coord_base,\n",
    "                        hue=cell_meta[clustering_name] == cluster,\n",
    "                        axis_format=None,\n",
    "                        palette={\n",
    "                            True: 'red',\n",
    "                            False: 'lightgray'\n",
    "                        })\n",
    "    ax.set_title('This Cluster')\n",
    "    \n",
    "    # gene axes\n",
    "    axes = []\n",
    "    for row in range(1, nrows):\n",
    "        for col in range(ncols):\n",
    "            axes.append(fig.add_subplot(gs[row, col]))\n",
    "    n_genes = len(axes)\n",
    "    \n",
    "    for ax, (gene, value) in zip(axes, cluster_dmgs[cluster][:n_genes].items()):\n",
    "        if ax.is_first_col() and ax.is_last_row():\n",
    "            axis = 'tiny'\n",
    "        else:\n",
    "            axis = None\n",
    "        continuous_scatter(ax=ax,\n",
    "                           data=cell_meta,\n",
    "                           hue=gene_frac_da.sel(gene=gene).to_pandas(),\n",
    "                           axis_format=axis,\n",
    "                           hue_norm=(0.67, 1.5),\n",
    "                           coord_base=coord_base)\n",
    "        name = gene_meta.loc[gene, 'gene_name']\n",
    "        ax.set_title(f'{name} ({value:.2f})')\n",
    "    fig.suptitle(f'Top {cluster} Markers')\n",
    "    return"
   ]
  },
  {
   "cell_type": "markdown",
   "metadata": {},
   "source": [
    "### Per Cluster Plots"
   ]
  },
  {
   "cell_type": "code",
   "execution_count": null,
   "metadata": {
    "scrolled": false
   },
   "outputs": [],
   "source": [
    "for cluster in sorted(cell_meta[clustering_name].unique()):\n",
    "    if cluster != outlier_label:\n",
    "        plot_genes(cluster, ncols, nrows, axes_size=3)"
   ]
  },
  {
   "cell_type": "code",
   "execution_count": null,
   "metadata": {},
   "outputs": [],
   "source": []
  }
 ],
 "metadata": {
  "celltoolbar": "Tags",
  "hide_input": false,
  "kernelspec": {
   "display_name": "Python 3",
   "language": "python",
   "name": "python3"
  },
  "language_info": {
   "codemirror_mode": {
    "name": "ipython",
    "version": 3
   },
   "file_extension": ".py",
   "mimetype": "text/x-python",
   "name": "python",
   "nbconvert_exporter": "python",
   "pygments_lexer": "ipython3",
   "version": "3.8.6"
  },
  "toc": {
   "base_numbering": 1,
   "nav_menu": {},
   "number_sections": true,
   "sideBar": true,
   "skip_h1_title": true,
   "title_cell": "Table of Contents",
   "title_sidebar": "Contents",
   "toc_cell": false,
   "toc_position": {},
   "toc_section_display": true,
   "toc_window_display": true
  }
 },
 "nbformat": 4,
 "nbformat_minor": 4
}
