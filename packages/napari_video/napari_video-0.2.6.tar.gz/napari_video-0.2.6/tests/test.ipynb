{
 "cells": [
  {
   "cell_type": "code",
   "execution_count": 1,
   "metadata": {},
   "outputs": [],
   "source": [
    "import numpy as np\n",
    "import napari\n",
    "from napari_video.napari_video import VideoReaderNP\n",
    "import h5py\n",
    "import flammkuchen\n",
    "from pprint import pprint\n",
    "import matplotlib.pyplot as plt\n",
    "# path='/Volumes/ukme04/#Data/playback/dat.processed/rpi9-20210217_112146/rpi9-20210217_112146.mp4'\n",
    "expt = 'localhost-20201012_131553' #'localhost-20201012_131552'#'localhost-20201125_125026'\n",
    "path = f'/Users/janc/Dropbox/code.py/xarray_behave/dat/{expt}/{expt}.mp4'\n",
    "vr = VideoReaderNP(path)\n"
   ]
  },
  {
   "cell_type": "code",
   "execution_count": 3,
   "metadata": {},
   "outputs": [
    {
     "output_type": "stream",
     "name": "stdout",
     "text": [
      "dict_keys(['background', 'centers', 'centers_initial', 'chambers', 'chambers_bounding_box', 'frame_error', 'frame_error_codes', 'led', 'led_coords', 'led_mask', 'lines', 'number_of_frames', 'file_name', 'frame_count', 'nchambers', 'nflies', 'nframes', 'start_frame', 'status', 'threshold'])\n"
     ]
    },
    {
     "output_type": "execute_result",
     "data": {
      "text/plain": [
       "(121858, 1, 2, 2)"
      ]
     },
     "metadata": {},
     "execution_count": 3
    }
   ],
   "source": [
    "# path_tracks='/Volumes/ukme04/#Data/playback/res/rpi9-20210217_112146/rpi9-20210217_112146_tracks.h5'\n",
    "path_tracks = f'/Users/janc/Dropbox/code.py/xarray_behave/res/{expt}/{expt}_tracks.h5'\n",
    "\n",
    "f = flammkuchen.load(path_tracks)\n",
    "pprint(f.keys())\n",
    "centroids = f['centers']\n",
    "centroids.shape"
   ]
  },
  {
   "cell_type": "code",
   "execution_count": 4,
   "metadata": {},
   "outputs": [],
   "source": [
    "from itertools import product\n",
    "\n",
    "nb_t, nb_c, nb_id, *_ = centroids.shape\n",
    "\n",
    "# tracks - [cnt, (ID, T, Y, X)]\n",
    "tracks = np.zeros((nb_c * nb_id * nb_t, 4))\n",
    "\n",
    "for cnt, (t, id, ch) in enumerate(product(range(nb_t), range(nb_id), range(nb_c))):    \n",
    "    pos = centroids[t, ch, id, :] + f['chambers_bounding_box'][ch+1,0]\n",
    "    tracks[cnt, :] = ((ch*10) + id, t, *pos)\n"
   ]
  },
  {
   "cell_type": "code",
   "execution_count": 7,
   "metadata": {},
   "outputs": [],
   "source": [
    "graph = {\n",
    "    1: [0],\n",
    "    \n",
    "}"
   ]
  },
  {
   "cell_type": "code",
   "execution_count": 8,
   "metadata": {},
   "outputs": [],
   "source": [
    "with napari.gui_qt():\n",
    "    viewer = napari.view_image(vr, name=path)\n",
    "    viewer.add_tracks(tracks, name='tracks', graph=graph, blending='opaque', tail_length=100)\n"
   ]
  },
  {
   "cell_type": "code",
   "execution_count": null,
   "metadata": {},
   "outputs": [],
   "source": []
  }
 ],
 "metadata": {
  "kernel_info": {
   "name": "python3"
  },
  "kernelspec": {
   "name": "python3",
   "display_name": "Python 3",
   "language": "python"
  },
  "language_info": {
   "codemirror_mode": {
    "name": "ipython",
    "version": 3
   },
   "file_extension": ".py",
   "mimetype": "text/x-python",
   "name": "python",
   "nbconvert_exporter": "python",
   "pygments_lexer": "ipython3",
   "version": "3.9.2"
  },
  "nteract": {
   "version": "0.12.3"
  }
 },
 "nbformat": 4,
 "nbformat_minor": 4
}