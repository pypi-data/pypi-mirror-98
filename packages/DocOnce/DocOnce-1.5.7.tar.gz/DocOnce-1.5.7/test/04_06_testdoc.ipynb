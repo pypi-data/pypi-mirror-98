{
 "metadata":{},
 "nbformat":4,
 "nbformat_minor":4,
 "cells":[
  {
   "cell_type":"markdown",
   "metadata":{
    "editable":true
   },
   "source":[
    "<!-- jupyter-book 04_06_testdoc.ipynb -->\n",
    "# Exercise: Determine some Distance\n",
    "\n",
    "<div id=\"exer:dist\"></div>\n",
    "\n",
    "Intro to this exercise. Questions are in subexercises below.\n",
    "\n",
    "!bsubex\n",
    "Subexercises are numbered a), b), etc.\n",
    "\n",
    "file=subexer_a.pdf\n",
    "\n",
    "!bans\n",
    "Short answer to subexercise a).\n",
    "With math in answer: $a=b$.\n",
    "!eans\n",
    "\n",
    "**Hint.**\n",
    "\n",
    "First hint to subexercise a).\n",
    "With math $a=b$ in hint:"
   ]
  },
  {
   "cell_type":"markdown",
   "metadata":{
    "editable":true
   },
   "source":[
    "$$\n",
    "a=b.\n",
    "$$"
   ]
  },
  {
   "cell_type":"markdown",
   "metadata":{
    "editable":true
   },
   "source":[
    "And with code (in plain verbatim) returning $x+1$ in hint:"
   ]
  },
  {
   "cell_type":"markdown",
   "metadata":{
    "editable":true
   },
   "source":[
    "        def func(x):\n",
    "            return x + 1  # with code in hint\n"
   ]
  },
  {
   "cell_type":"markdown",
   "metadata":{
    "editable":true
   },
   "source":[
    "**Hint.**\n",
    "\n",
    "Second hint to subexercise a).\n",
    "\n",
    "Test list in hint:\n",
    "\n",
    "1. item1\n",
    "\n",
    "2. item2\n",
    "\n",
    "\n",
    "!esubex\n",
    "\n",
    "!bsubex\n",
    "Here goes the text for subexercise b).\n",
    "\n",
    "file=subexer_b.pdf\n",
    "\n",
    "Some math $\\cos^2 x + \\sin^2 x = 1$ written one a single line:"
   ]
  },
  {
   "cell_type":"markdown",
   "metadata":{
    "editable":true
   },
   "source":[
    "$$\n",
    "\\cos^2 x + \\sin^2 x = 1 \\thinspace .\n",
    "$$"
   ]
  },
  {
   "cell_type":"markdown",
   "metadata":{
    "editable":true
   },
   "source":[
    "**Hint.**\n",
    "\n",
    "A hint for this subexercise.\n",
    "\n",
    "\n",
    "\n",
    "!bsol\n",
    "Here goes the solution of this subexercise.\n",
    "!esol\n",
    "!esubex\n",
    "\n",
    "**Remarks.**\n",
    "\n",
    "Some final closing remarks, e.g., summarizing the main findings\n",
    "and their implications in other problems can be made. These\n",
    "remarks will appear at the end of the typeset exercise.\n",
    "\n",
    "\n",
    "\n",
    "!bsol\n",
    "Here goes a full solution of the whole exercise.\n",
    "With some math $a=b$ in this solution:"
   ]
  },
  {
   "cell_type":"markdown",
   "metadata":{
    "editable":true
   },
   "source":[
    "$$\n",
    "\\hbox{math in solution: } a = b\n",
    "$$"
   ]
  },
  {
   "cell_type":"markdown",
   "metadata":{
    "editable":true
   },
   "source":[
    "And code `a=b` in this solution:"
   ]
  },
  {
   "cell_type":"markdown",
   "metadata":{
    "editable":true
   },
   "source":[
    "        a = b  # code in solution\n"
   ]
  },
  {
   "cell_type":"markdown",
   "metadata":{
    "editable":true
   },
   "source":[
    "End of solution is here.\n",
    "!esol\n",
    "\n",
    "<!-- No meaning in this weired test example: -->\n",
    "The text here belongs to the main (intro) part of the exercise. Need\n",
    "closing remarks to have text after subexercises.\n",
    "\n",
    "Test list in exercise:\n",
    "\n",
    "1. item1\n",
    "\n",
    "2. item2"
   ]
  },
  {
   "cell_type":"markdown",
   "metadata":{
    "editable":true
   },
   "source":[
    "<!-- jupyter-book 04_07_testdoc.ipynb -->\n",
    "# {Exercise}: Some exercise without the \"Exercise:\" prefix\n",
    "\n",
    "<!-- Another minimalistic exercise -->\n",
    "\n",
    "Just some text. And some math saying that $e^0=1$ on a single line,\n",
    "to test that math block insertion is correct:"
   ]
  },
  {
   "cell_type":"markdown",
   "metadata":{
    "editable":true
   },
   "source":[
    "$$\n",
    "\\exp{(0)} = 1\n",
    "$$"
   ]
  },
  {
   "cell_type":"markdown",
   "metadata":{
    "editable":true
   },
   "source":[
    "And a test that the code `lambda x: x+2` is correctly placed here:"
   ]
  },
  {
   "cell_type":"markdown",
   "metadata":{
    "editable":true
   },
   "source":[
    "        lambda x: x+2\n"
   ]
  },
  {
   "cell_type":"markdown",
   "metadata":{
    "editable":true
   },
   "source":[
    "<!-- Have some comments at the end of the exercise to see that -->\n",
    "<!-- the Filename: ... is written correctly. -->"
   ]
  },
  {
   "cell_type":"markdown",
   "metadata":{
    "editable":true
   },
   "source":[
    "<!-- jupyter-book 04_08_testdoc.ipynb -->\n",
    "# Exercise: Solution of differential equation\n",
    "\n",
    "<div id=\"sec:this:exer:de\"></div>\n",
    "\n",
    "\n",
    "\n",
    "\n",
    "**Question:** Given"
   ]
  },
  {
   "cell_type":"markdown",
   "metadata":{
    "editable":true
   },
   "source":[
    "$$\n",
    "\\frac{dy}{dx} = -y(x),\\quad y(0)=1\n",
    "$$"
   ]
  },
  {
   "cell_type":"markdown",
   "metadata":{
    "editable":true
   },
   "source":[
    "What is the solution of this equation?\n",
    "\n",
    "**Choice A:**\n",
    " $y=e^{-y}$\n",
    "\n",
    "**Choice B:**\n",
    " $y=e^{y}$\n",
    "\n",
    "**Choice C:**"
   ]
  },
  {
   "cell_type":"markdown",
   "metadata":{
    "editable":true
   },
   "source":[
    "from math import exp\n",
    "def f(x):\n",
    "    return exp(x)\n"
   ]
  },
  {
   "cell_type":"markdown",
   "metadata":{
    "editable":true
   },
   "source":[
    "**Choice D:**\n",
    " The solution cannot be found because there is a derivative in the equation.\n",
    "\n",
    "**Choice E:**\n",
    " The equation is meaningless: an equation must be an equation\n",
    "for $x$ or $y$, not a function $y(x)$."
   ]
  },
  {
   "cell_type":"markdown",
   "metadata":{
    "editable":true
   },
   "source":[
    "<!-- jupyter-book 04_09_testdoc.md -->\n",
    "# Example: Just an example\n",
    "\n",
    "<!-- This example needs the --examples_as_exercises option, otherwise -->\n",
    "<!-- it is just typeset as it is written. -->\n",
    "\n",
    "!bsubex\n",
    "What is the capital of Norway?\n",
    "\n",
    "!bans\n",
    "Oslo.\n",
    "!eans\n",
    "!esubex"
   ]
  },
  {
   "cell_type":"markdown",
   "metadata":{
    "editable":true
   },
   "source":[
    "<!-- jupyter-book 05_testdoc.md -->\n",
    "# Here goes another section\n",
    "\n",
    "With some text, before we continue with exercises."
   ]
  },
  {
   "cell_type":"markdown",
   "metadata":{
    "editable":true
   },
   "source":[
    "<!-- jupyter-book 06_testdoc.md -->\n",
    "# More Exercises"
   ]
  },
  {
   "cell_type":"markdown",
   "metadata":{
    "editable":true
   },
   "source":[
    "<!-- jupyter-book 06_01_testdoc.md -->\n",
    "# Exercise: Make references to projects and problems\n",
    "\n",
    "<div id=\"exer:some:formula\"></div>\n",
    "file=verify_formula.py\n",
    "\n",
    "<!-- Test comments not at the end only -->\n",
    "Pick a statement from [Project: Explore Distributions of Random Circles](proj:circle1.html#proj:circle1) or [Problem: Flip a Coin](demo:ex:1.html#demo:ex:1)\n",
    "and verify it.\n",
    "\n",
    "Test list at the end of an exercise without other elements (like subexercise,\n",
    "hint, etc.):\n",
    "\n",
    "1. item1\n",
    "\n",
    "2. item2"
   ]
  },
  {
   "cell_type":"markdown",
   "metadata":{
    "editable":true
   },
   "source":[
    "<!-- jupyter-book 06_02_testdoc.md -->\n",
    "# Project: References to [demo:ex:2](04_04_testdoc.html#demo:ex:2) in a heading works for pandoc\n",
    "\n",
    "<div id=\"exer:you\"></div>\n",
    "file=selc_composed.pdf\n",
    "\n",
    "Refer to the previous exercise as [Exercise: Make references to projects and problems](06_01_testdoc.html#exer:some:formula),\n",
    "the two before that as [demo:ex:2](04_04_testdoc.html#demo:ex:2) and [Project: Explore Distributions of Random Circles](proj:circle1.html#proj:circle1),\n",
    "and this one as [Project: References to Project [demo:ex:2](04_04_testdoc.html#demo:ex:2) in a heading works for pandoc](#exer:you)."
   ]
  },
  {
   "cell_type":"markdown",
   "metadata":{
    "editable":true
   },
   "source":[
    "<!-- jupyter-book 07_testdoc.md -->\n",
    "# References\n",
    "\n",
    "<!-- begin bibliography -->\n",
    "1. <a name=\"Langtangen_Pedersen_2002\"></a> **H. P. Langtangen and G. Pedersen**. \n",
    "    Propagation of Large Destructive Waves,\n",
    "    *International Journal of Applied Mechanics and Engineering*,\n",
    "    7(1),\n",
    "    pp. 187-204,\n",
    "    2002.\n",
    "\n",
    "2. <a name=\"Langtangen_et_al_2002\"></a> **H. P. Langtangen, K.-A. Mardal and R. Winther**. \n",
    "    Numerical Methods for Incompressible Viscous Flow,\n",
    "    *Advances in Water Resources*,\n",
    "    25,\n",
    "    pp. 1125-1146,\n",
    "    2002.\n",
    "\n",
    "3. <a name=\"Langtangen_1994a\"></a> **H. P. Langtangen**. \n",
    "    Numerical Solution of First Passage Problems in Random Vibrations,\n",
    "    *SIAM Journal of Scientific and Statistical Computing*,\n",
    "    15,\n",
    "    pp. 997-996,\n",
    "    1994.\n",
    "\n",
    "4. <a name=\"Mardal_et_al_2003a\"></a> **K.-A. Mardal, G. W. Zumbusch and H. P. Langtangen**. \n",
    "    Software Tools for Multigrid Methods,\n",
    "    *Advanced Topics in Computational Partial Differential Equations - Numerical Methods and Diffpack Programming*,\n",
    "    edited by **H. P. Langtangen and A. Tveito**,\n",
    "    Springer,\n",
    "    2003,\n",
    "    Edited book,\n",
    "    <http://some.where.org>.\n",
    "\n",
    "5. <a name=\"Langtangen_1988d\"></a> **H. P. Langtangen**. \n",
    "    The FEMDEQS Program System,\n",
    "    *Department of Mathematics, University of Oslo*,\n",
    "    1989,\n",
    "    <http://www.math.uio.no/old/days/hpl/femdeqs.pdf>.\n",
    "\n",
    "6. <a name=\"Langtangen_1992c\"></a> **H. P. Langtangen**. \n",
    "    Stochastic Breakthrough Time Analysis of an Enhanced Oil Recovery Process,\n",
    "    *SIAM Journal on Scientific Computing*,\n",
    "    13,\n",
    "    pp. 1394-1417,\n",
    "    1992.\n",
    "\n",
    "7. <a name=\"Mortensen_et_al_2011\"></a> **M. Mortensen, H. P. Langtangen and G. N. Wells**. \n",
    "    A FEniCS-Based Programming Framework for Modeling Turbulent Flow by the Reynolds-Averaged Navier-Stokes Equations,\n",
    "    *Advances in Water Resources*,\n",
    "    34(9),\n",
    "    [doi: 10.1016/j.advwatres.2011.02.013](https://dx.doi.org/10.1016/j.advwatres.2011.02.013),\n",
    "    2011.\n",
    "\n",
    "8. <a name=\"Glimsdal_et_al_20006\"></a> **S. Glimsdal, G. Pedersen, K. Atakan, C. B. Harbitz, H. P. Langtangen and F. L\\ovholt**. \n",
    "    Propagation of the Dec. 26, 2004 Indian Ocean Tsunami: Effects of Dispersion and Source Characteristics,\n",
    "    *International Journal of Fluid Mechanics Research*,\n",
    "    33(1),\n",
    "    pp. 15-43,\n",
    "    2006.\n",
    "\n",
    "9. <a name=\"Rahman_et_al_2006b\"></a> **S. Rahman, J. Gorman, C. H. W. Barnes, D. A. Williams and H. P. Langtangen**. \n",
    "    Numerical Investigation of a Piezoelectric Surface Acoustic Wave Interaction With a One-Dimensional Channel,\n",
    "    *Physical Review B: Condensed Matter and Materials Physics*,\n",
    "    74,\n",
    "    2006,\n",
    "    035308.\n",
    "\n",
    "10. <a name=\"Haga_et_al_2011a\"></a> **J. B. Haga, H. Osnes and H. P. Langtangen**. \n",
    "    On the Causes of Pressure Oscillations in Low-Permeable and Low-Compressible Porous Media,\n",
    "    *International Journal of Analytical and Numerical Methods in Geomechanics*,\n",
    "    [doi: 10.1002/nag.1062](https://dx.doi.org/10.1002/nag.1062),\n",
    "    2011,\n",
    "    <http://onlinelibrary.wiley.com/doi/10.1002/nag.1062/abstract>.\n",
    "\n",
    "11. <a name=\"Langtangen_2003a\"></a> **H. P. Langtangen**. \n",
    "    *Computational Partial Differential Equations - Numerical Methods and Diffpack Programming*,\n",
    "    second edition,\n",
    "    *Texts in Computational Science and Engineering*,\n",
    "    Springer,\n",
    "    2003.\n",
    "\n",
    "12. <a name=\"Langtangen_2008a\"></a> **H. P. Langtangen**. \n",
    "    *Python Scripting for Computational Science*,\n",
    "    third edition,\n",
    "    *Texts in Computational Science and Engineering*,\n",
    "    Springer,\n",
    "    2008.\n",
    "\n",
    "13. <a name=\"Langtangen:95\"></a> **H. P. Langtangen and G. Pedersen**. \n",
    "    Finite Elements for the Boussinesq Wave Equations,\n",
    "    Waves and Non-linear Processes in Hydrodynamics,\n",
    "    edited by **J. Grue, B. Gjevik and J. E. Weber**,\n",
    "    Kluwer Academic Publishers,\n",
    "    pp. pp. 117-126,\n",
    "    1995,\n",
    "    <http://www.amazon.ca/Waves-Nonlinear-Processes-Hydrodynamics-John/dp/0792340310>.\n",
    "\n",
    "14. <a name=\"Langtangen_2012\"></a> **H. P. Langtangen**. \n",
    "    *A Primer on Scientific Programming With Python*,\n",
    "    third edition,\n",
    "    *Texts in Computational Science and Engineering*,\n",
    "    Springer,\n",
    "    2012.\n",
    "\n",
    "15. <a name=\"Jeberg_et_al_2004\"></a> **P. V. Jeberg, H. P. Langtangen and C. B. Terp**. \n",
    "    Optimization With Diffpack: Practical Example From Welding,\n",
    "    *Simula Research Laboratory*,\n",
    "    2004,\n",
    "    Internal report.\n",
    "\n",
    "16. <a name=\"Langtangen_1989e\"></a> **H. P. Langtangen**. \n",
    "    Computational Methods for Two-Phase Flow in Oil Reservoirs,\n",
    "    Ph.D. Thesis,\n",
    "    Mechanics Division, Department of Mathematics, University of Oslo,\n",
    "    1989,\n",
    "    Dr. Scient. thesis..\n",
    "\n",
    "17. <a name=\"Langtangen_talk_2007a\"></a> **H. P. Langtangen**. \n",
    "    Computational Modeling of Huge Tsunamis From Asteroid Impacts,\n",
    "    2007,\n",
    "    Invited keynote lecture at the \\emphInternational conference on Computational Science 2007 (ICCS'07), Beijing, China.\n",
    "\n",
    "18. <a name=\"Langtangen:85\"></a> **H. P. Langtangen**. \n",
    "    Solution of the Navier-Stokes Equations With the Finite Element Method in Two and Three Dimensions,\n",
    "    M.Sc. Thesis,\n",
    "    Mechanics Division, Department of Mathematics, University of Oslo,\n",
    "    1985,\n",
    "    Cand.Scient. thesis.\n",
    "\n",
    "19. <a name=\"Langtangen:91\"></a> **H. P. Langtangen and A. Tveito**. \n",
    "    Numerical Methods in Continuum Mechanics,\n",
    "    *Center for Industrial Research*,\n",
    "    1991,\n",
    "    Lecture notes for a course (ME-IN 324). 286 pages..\n",
    "\n",
    "20. <a name=\"Langtangen:94b\"></a> **H. P. Langtangen**. \n",
    "    Diffpack: Software for Partial Differential Equations,\n",
    "    *Proceedings of the Second Annual Object-Oriented Numerics Conference (OON-SKI'94), Sunriver, Oregon, USA*,\n",
    "    edited by **A. Vermeulen**,\n",
    "    1994.\n",
    "\n",
    "<!-- end bibliography -->"
   ]
  },
  {
   "cell_type":"markdown",
   "metadata":{
    "editable":true
   },
   "source":[
    "<!-- jupyter-book 08_testdoc.md -->\n",
    "# Appendix: Just for testing; part I\n",
    "\n",
    "<div id=\"app1\"></div>\n",
    "\n",
    "This is the first appendix."
   ]
  },
  {
   "cell_type":"markdown",
   "metadata":{
    "editable":true
   },
   "source":[
    "<!-- jupyter-book 08_01_testdoc.md -->\n",
    "# A subsection within an appendix\n",
    "\n",
    "Some text."
   ]
  },
  {
   "cell_type":"markdown",
   "metadata":{
    "editable":true
   },
   "source":[
    "<!-- jupyter-book 09_testdoc.md -->\n",
    "# Appendix: Just for testing; part II\n",
    "\n",
    "<div id=\"app2\"></div>\n",
    "\n",
    "This is more stuff for an appendix."
   ]
  },
  {
   "cell_type":"markdown",
   "metadata":{
    "editable":true
   },
   "source":[
    "<!-- jupyter-book 09_01_testdoc.md -->\n",
    "# Appendix: Testing identical titles\n",
    "\n",
    "Without label."
   ]
  },
  {
   "cell_type":"markdown",
   "metadata":{
    "editable":true
   },
   "source":[
    "<!-- jupyter-book 09_02_testdoc.md -->\n",
    "# Appendix: Testing identical titles\n",
    "\n",
    "<div id=\"test:title:id1\"></div>\n",
    "\n",
    "With label."
   ]
  },
  {
   "cell_type":"markdown",
   "metadata":{
    "editable":true
   },
   "source":[
    "<!-- jupyter-book 09_03_testdoc.md -->\n",
    "# Appendix: Testing identical titles\n",
    "\n",
    "<div id=\"test:title:id2\"></div>\n",
    "\n",
    "What about inserting a quiz?\n",
    "\n",
    "\n",
    "\n",
    "## Test of quizzes\n",
    "\n",
    "\n",
    "**Fundamental test:** What is the capital of Norway?\n",
    "\n",
    "**Answer 1:**\n",
    " Stockholm\n",
    "\n",
    "**Answer 2:**\n",
    " London\n",
    "\n",
    "**Answer 3:**\n",
    " Oslo\n",
    "\n",
    "**Choice D:**\n",
    " Bergen"
   ]
  },
  {
   "cell_type":"markdown",
   "metadata":{
    "editable":true
   },
   "source":[
    "<!-- jupyter-book 09_04_testdoc.md -->\n",
    "# Appendix: Testing identical titles\n",
    "\n",
    "Without label.\n",
    "\n",
    "**Tip.**\n",
    "\n",
    "Here is a tip or hint box, typeset as a notice box.\n",
    "\n",
    "\n",
    "\n",
    "Need a lot of text to surround the summary box.\n",
    "Version control systems allow you to record the history of files\n",
    "and share files among several computers and collaborators in a\n",
    "professional way. File changes on one computer are updated or\n",
    "merged with changes on another computer. Especially when working\n",
    "with programs or technical reports it is essential\n",
    "to have changes documented and to\n",
    "ensure that every computer and person involved in the project\n",
    "have the latest updates of the files.\n",
    "Greg Wilson' excellent [Script for Introduction to Version Control](https://software-carpentry.org/2010/07/script-for-introduction-to-version-control/) provides a more detailed motivation why you will benefit greatly\n",
    "from using version control systems.\n",
    "\n",
    "**Summary.**\n",
    "\n",
    "**Bold remark:** Make some text with this summary.\n",
    "Much testing in this document, otherwise stupid content.\n",
    "Much testing in this document, otherwise stupid content.\n",
    "Much testing in this document, otherwise stupid content.\n",
    "Much testing in this document, otherwise stupid content.\n",
    "Much testing in this document, otherwise stupid content.\n",
    "Much testing in this document, otherwise stupid content.\n",
    "Much testing in this document, otherwise stupid content.\n",
    "Much testing in this document, otherwise stupid content.\n",
    "Much testing in this document, otherwise stupid content.\n",
    "\n",
    "\n",
    "\n",
    "Projects that you want to share among several computers or project\n",
    "workers are today most conveniently stored at some web site \"in the\n",
    "cloud\" and updated through communication with that site. I strongly\n",
    "recommend you to use such sites for all serious programming and\n",
    "scientific writing work - and all other important files.\n",
    "\n",
    "The simplest services for hosting project files are [Dropbox](https://dropbox.com) and [Google Drive](https://drive.google.com).\n",
    "It is very easy to get started with these systems, and they allow you\n",
    "to share files among laptops and mobile units with as many users as\n",
    "you want. The systems offer a kind of version control in that the\n",
    "files are stored frequently (several times per minute), and you can go\n",
    "back to previous versions for the last 30 days. However, it is\n",
    "challenging  to find the right version from the past when there are\n",
    "so many of them.\n",
    "\n",
    "More seriously, when several people may edit files simultaneously, it\n",
    "can be difficult detect who did what when, roll back to previous\n",
    "versions, and to manually merge the edits when these are\n",
    "incompatible. Then one needs more sophisticated tools than Dropbox or\n",
    "Google Drive: project hosting services with true version control\n",
    "systems.  The following text aims at providing you with the minimum\n",
    "information to started with such systems. Numerous other tutorials\n",
    "contain more comprehensive material and in-depth explanations of the\n",
    "concepts and tools.\n",
    "\n",
    "The idea with project hosting services is that you have the files\n",
    "associated with a project in the cloud. Many people may share these\n",
    "files.  Every time you want to work on the project you explicitly\n",
    "update your version of the files, edit the files as you like, and\n",
    "synchronize the files with the \"master version\" at the site where the\n",
    "project is hosted.  If you at some point need to go back to a\n",
    "version of the files at some particular point in the past,\n",
    "this is an easy operation. You can also use tools to see\n",
    "what various people have done with the files in the various versions.\n",
    "\n",
    "All these services are very similar. Below we describe how you get\n",
    "started with Bitbucket, GitHub, and Googlecode. Launchpad works very\n",
    "similarly to the latter three. All the project hosting services have\n",
    "excellent introductions available at their web sites, but the recipes\n",
    "below are much shorter and aim at getting you started as quickly as\n",
    "possible by concentrating on the most important need-to-know steps.\n",
    "The Git tutorials we refer to later in this document contain more\n",
    "detailed information and constitute of course very valuable readings\n",
    "when you use version control systems every day. The point now is\n",
    "to get started."
   ]
  },
  {
   "cell_type":"markdown",
   "metadata":{
    "editable":true
   },
   "source":[
    "<!-- jupyter-book 09_05_testdoc.md -->\n",
    "# Appendix: Testing inline comments\n",
    "\n",
    "<!-- Names can be [ A-Za-z0-9_'+-]+ -->\n",
    "\n",
    "Projects that you want to share among several computers or project\n",
    "workers are today most conveniently stored at some web site \"in the\n",
    "cloud\" and updated through communication with that\n",
    "site. [hpl's semi opinion 1: not sure if in the cloud is\n",
    "understood by\n",
    "all.] I strongly recommend you to use such sites for all serious\n",
    "programming and scientific writing work - and all other important\n",
    "files.\n",
    "\n",
    "The simplest services for hosting project files is Dropbox. [mp 2: Simply go to <https://dropbox.com> and watch the video. It explains\n",
    "how files, like `myfile.py`, perhaps containing much math, like\n",
    "$\\partial u/\\partial t$, are easily communicated between machines.] It\n",
    "is very easy to get started with Dropbox, and it allows you to share\n",
    "files among [hpl 3: laptops and mobile units -> computers, tablets,\n",
    "and phones].\n",
    "\n",
    "<!-- Test horizontal rule -->\n",
    "\n",
    "------\n",
    "\n",
    "<!-- Coments for editing -->\n",
    "\n",
    "First[add 4: ,] consider a quantity $Q$. [edit 5: To this end, -> We note that]\n",
    "$Q>0$, because [del 6: a] negative [edit 7: quantity is -> quantities\n",
    "are] [del 8: just] negative. [add 9: This comes as no surprise.]\n",
    "\n",
    "<!-- Test tailored latex figure references with page number -->\n",
    "Let us refer to [Figure 1](02_02_testdoc.html#fig:impact) again.\n",
    "\n",
    "Test references in a list:\n",
    "\n",
    " * [Section 1](02_testdoc.html#sec1)\n",
    "\n",
    " * [Subsection 1](subsec1.html#subsec1)\n",
    "\n",
    " * [fig:impact](02_02_testdoc.html#fig:impact)"
   ]
  },
  {
   "cell_type":"markdown",
   "metadata":{
    "editable":true
   },
   "source":[
    "<!-- jupyter-book 09_06_testdoc.md -->\n",
    "# Appendix: Testing headings ending with `verbatim inline`\n",
    "\n",
    "The point here is to test 1) `verbatim` code in headings, and 2)\n",
    "ending a heading with verbatim code as this triggers a special\n",
    "case in LaTeX.\n",
    "\n",
    "We also test mdash---used as alternative to hyphen without spaces around,\n",
    "or in quotes:\n",
    "\n",
    "> *Fun is fun*.---Unknown.\n",
    "\n",
    "\n",
    "\n",
    "\n",
    "\n",
    "The ndash should also be tested - as in the Hanson - Nilson equations\n",
    "on page 277 - 278.\n",
    "\n",
    "And finally, what about admons, quotes, and boxes? They are tested\n",
    "in a separate document: `admon.do.txt`.\n",
    "\n",
    "[^example-of-the-third-footnote]: Not much to add here, but the footnote\n",
    "is at the end with only one newline."
   ]
  }
 ]
}