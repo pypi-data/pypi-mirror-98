{
 "cells": [
  {
   "cell_type": "markdown",
   "metadata": {},
   "source": [
    "SPDX-License-Identifier: GPL-2.0-or-later OR AGPL-3.0-or-later OR CERN-OHL-S-2.0+\n"
   ]
  },
  {
   "cell_type": "markdown",
   "metadata": {},
   "source": [
    "# Setup"
   ]
  },
  {
   "cell_type": "code",
   "execution_count": null,
   "metadata": {},
   "outputs": [],
   "source": [
    "from IPython.display import display_markdown\n",
    "import ipywidgets as widgets\n",
    "from matplotlib import pyplot as plt, ticker\n",
    "\n",
    "from pdkmaster.technology import primitive as prm\n",
    "from c4m.pdk.freepdk45 import tech, layoutfab, cktfab, plotter, pyspicefab, flexlib"
   ]
  },
  {
   "cell_type": "markdown",
   "metadata": {},
   "source": [
    "# Technology\n",
    "## MOSFETs"
   ]
  },
  {
   "cell_type": "code",
   "execution_count": null,
   "metadata": {
    "jupyter": {
     "source_hidden": true
    }
   },
   "outputs": [],
   "source": [
    "def _block():\n",
    "    mosfets = tuple(tech.primitives.tt_iter_type(prm.MOSFET))\n",
    "    rows = len(mosfets)//3\n",
    "    plt.figure(figsize=(9.0,rows*5.0))\n",
    "\n",
    "    for i, mos in enumerate(mosfets):\n",
    "        ax = plt.subplot(3,3,i+1)\n",
    "\n",
    "        plotter.plot(layoutfab.new_primitivelayout(mos))\n",
    "\n",
    "        ax.set_title(mos.name)\n",
    "        ax.xaxis.set_major_locator(ticker.MultipleLocator(0.1))\n",
    "        ax.yaxis.set_major_locator(ticker.MultipleLocator(0.1))\n",
    "        ax.axis(\"square\")\n",
    "        ax.axis(\"equal\")\n",
    "        ax.axis([-0.2, 0.2, -0.2, 0.2])\n",
    "        ax.grid(\"on\")\n",
    "\n",
    "    plt.show()\n",
    "_block()"
   ]
  },
  {
   "cell_type": "markdown",
   "metadata": {},
   "source": [
    "***TODO***: Other layers and primitives"
   ]
  },
  {
   "cell_type": "markdown",
   "metadata": {},
   "source": [
    "# Standard cells"
   ]
  },
  {
   "cell_type": "code",
   "execution_count": null,
   "metadata": {
    "jupyter": {
     "source_hidden": true
    }
   },
   "outputs": [],
   "source": [
    "display_markdown(\", \".join(flexlib.cells.tt_keys()), raw=True)\n",
    "\n",
    "@widgets.interact\n",
    "def view_cell(\n",
    "    cellname=widgets.Dropdown(value=\"inv_x1\", options=flexlib.cells.tt_keys(), description=\"cell\")\n",
    "):\n",
    "    cell = flexlib.cells[cellname]\n",
    "    try:\n",
    "        subckt = pyspicefab.new_pyspicesubcircuit(circuit=cell.circuit)\n",
    "        print(str(subckt))\n",
    "    except Exception as e:\n",
    "        print(f\"Failed to get netlist:\\n{str(e)}\")\n",
    "        \n",
    "    try:\n",
    "        layout = cell.layout\n",
    "    except:\n",
    "        pass\n",
    "    else:\n",
    "        plt.figure(figsize=(6, 10))\n",
    "        plotter.plot(layout)\n",
    "        plt.axis(\"equal\")\n",
    "        plt.grid(\"on\")\n",
    "        plt.show()"
   ]
  },
  {
   "cell_type": "code",
   "execution_count": null,
   "metadata": {},
   "outputs": [],
   "source": []
  }
 ],
 "metadata": {
  "kernelspec": {
   "display_name": "Python 3",
   "language": "python",
   "name": "python3"
  },
  "language_info": {
   "codemirror_mode": {
    "name": "ipython",
    "version": 3
   },
   "file_extension": ".py",
   "mimetype": "text/x-python",
   "name": "python",
   "nbconvert_exporter": "python",
   "pygments_lexer": "ipython3",
   "version": "3.7.9"
  },
  "widgets": {
   "application/vnd.jupyter.widget-state+json": {
    "state": {},
    "version_major": 2,
    "version_minor": 0
   }
  }
 },
 "nbformat": 4,
 "nbformat_minor": 4
}
