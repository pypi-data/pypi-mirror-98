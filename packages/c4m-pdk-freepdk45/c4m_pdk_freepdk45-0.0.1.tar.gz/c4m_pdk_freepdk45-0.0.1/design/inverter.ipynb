{
 "cells": [
  {
   "cell_type": "markdown",
   "metadata": {},
   "source": [
    "SPDX-License-Identifier: GPL-2.0-or-later OR AGPL-3.0-or-later OR CERN-OHL-S-2.0+\n",
    "\n",
    "# Example notebook with a FreePDK45 inverter\n",
    "\n",
    "This noebook show the design, layout and verification of a minimum area balances inverter.\n",
    "\n",
    "It's an example of the different aspects of the PDKMaster based design flow the is envisioned for the Chips4Makers. Amongst them:\n",
    "\n",
    "* Design based on single file with technology description in python, e.g. `c4m.pdk.freepdk45.pdkmaster`.   \n",
    "  This module contains all information for the (non-manufacturable) FreePDK45 technology needed to be able to make design in that node using the PDKMaster framework.\n",
    "* Integrated interactive circuit design, simulation and layout. This is in contract with other EDA flows where schematic capture and simulation are separated from circuit layout.\n",
    "* Design rule driven parameterized layout generation with easy portability between technologies.\n",
    "* Parameterized circuit definition and simulation.\n",
    "* Compatible with numpy data analysis and matplotlib plotting.\n",
    "\n",
    "That said this is currently based on the PDKMaster with a highly unstable API with at the moment no backwards whatsoever. Big if not fully rework of the API is still planned. This includes:\n",
    "\n",
    "* use klayout for layout engine and not shapely\n",
    "* better integration of circuit simulation with more unified API\n",
    "* introduction of signal types like analog signals, digital signals or DC lines etc.\n",
    "\n",
    "# Setup\n",
    "\n",
    "This notebook needs a kernel with the C4M FreePDK45 PDK installed and also pyspice for simulation."
   ]
  },
  {
   "cell_type": "code",
   "execution_count": null,
   "metadata": {
    "tags": []
   },
   "outputs": [],
   "source": [
    "from matplotlib import pyplot as plt, ticker\n",
    "import numpy as np\n",
    "\n",
    "from pdkmaster.design import layout as lay, circuit as ckt, library as lbry\n",
    "from c4m.pdk.freepdk45 import tech, layoutfab, cktfab, pyspicefab, plotter\n",
    "from c4m.PySpice.Unit import *"
   ]
  },
  {
   "cell_type": "markdown",
   "metadata": {},
   "source": [
    "# Parametric inverter code\n",
    "\n",
    "First is that we can define a cell to represent the inverter. The parameters are the width of the nmos and the pmos. Minimum l will be used for both transistors and a miminal layout will be generated.\n",
    "\n",
    "## InverterLibrary\n",
    "\n",
    "Currently a Cell needs to be always be created in a library. Therefor we provide a dummy library. This requirement may be revised in the future."
   ]
  },
  {
   "cell_type": "code",
   "execution_count": null,
   "metadata": {},
   "outputs": [],
   "source": [
    "class InverterLibrary(lbry.Library):\n",
    "    def __init__(self):\n",
    "        super().__init__(\"InverterLibrary\",\n",
    "            tech=tech, cktfab=cktfab, layoutfab=layoutfab\n",
    "        )\n",
    "invlib = InverterLibrary()"
   ]
  },
  {
   "cell_type": "markdown",
   "metadata": {},
   "source": [
    "## Inverter"
   ]
  },
  {
   "cell_type": "code",
   "execution_count": null,
   "metadata": {
    "tags": []
   },
   "outputs": [],
   "source": [
    "class Inverter(lbry._Cell):\n",
    "    def __init__(self, *, nmos, w_n, pmos, w_p):\n",
    "        super().__init__(invlib, \"Inverter\")\n",
    "\n",
    "        l_n = nmos.computed.min_l\n",
    "        l_p = pmos.computed.min_l\n",
    "\n",
    "        #\n",
    "        # Create the circuit\n",
    "        #\n",
    "        inv = self.new_circuit()\n",
    "        n1 = inv.new_instance(\"n1\", nmos, l=l_n, w=w_n)\n",
    "        p1 = inv.new_instance(\"p1\", pmos, l=l_p, w=w_p)\n",
    "        # n1 = inv.new_instance(\"n1\", nmos, l=l_n, w=w_n, activeimplant_enclosure=0.020)\n",
    "        # p1 = inv.new_instance(\"p1\", pmos, l=l_p, w=w_p, activeimplant_enclosure=0.020)\n",
    "        in_ = inv.new_net(\"IN\", external=True)\n",
    "        out = inv.new_net(\"OUT\", external=True)\n",
    "        vdd = inv.new_net(\"VDD\", external=True)\n",
    "        gnd = inv.new_net(\"GND\", external=True)\n",
    "        in_.childports += (n1.ports.gate, p1.ports.gate)\n",
    "        gnd.childports += (n1.ports.sourcedrain1, n1.ports.bulk)\n",
    "        vdd.childports += (p1.ports.sourcedrain1, p1.ports.bulk)\n",
    "        out.childports += (n1.ports.sourcedrain2, p1.ports.sourcedrain2)\n",
    "\n",
    "        #\n",
    "        # Create layout\n",
    "        #\n",
    "        contact = tech.primitives.contact\n",
    "        active = tech.primitives.active\n",
    "        poly = tech.primitives.poly\n",
    "        nimplant = tech.primitives.nimplant\n",
    "        pimplant = tech.primitives.pimplant\n",
    "        nwell = tech.primitives.nwell\n",
    "        pwell = tech.primitives.pwell\n",
    "        metal1 = tech.primitives.metal1\n",
    "\n",
    "        # TODO: Use packer to derive minimal placement of p transistor\n",
    "        impl_n_enc = nmos.min_gateimplant_enclosure[0] # This is not generic yet\n",
    "        impl_p_enc = pmos.min_gateimplant_enclosure[0] # This is not generic yet\n",
    "        y_p = 0.5*w_n + impl_n_enc.spec + impl_p_enc.spec + 0.5*w_p\n",
    "\n",
    "        x_v = max(\n",
    "            0.5*l_n + nmos.computed.min_contactgate_space,\n",
    "            0.5*l_p + pmos.computed.min_contactgate_space,\n",
    "        ) + 0.5*contact.width\n",
    "\n",
    "        layouter = self.new_circuitlayouter()\n",
    "\n",
    "        # gnd tap to pwell\n",
    "        layouter.add_wire(\n",
    "            net=gnd, wire=contact, x=0, y=-0.2,\n",
    "            bottom=active, bottom_implant=pimplant, bottom_well=pwell,\n",
    "            top_width=0.4,\n",
    "        )\n",
    "        # vdd tap to nwell\n",
    "        layouter.add_wire(\n",
    "            net=vdd, wire=contact, x=0, y=0.5,\n",
    "            bottom=active, bottom_implant=nimplant, bottom_well=nwell,\n",
    "            top_width=0.4,\n",
    "        )\n",
    "\n",
    "        # gnd contact to source of nmos\n",
    "        layouter.add_wire(\n",
    "            net=gnd, well_net=gnd, wire=contact, x=-x_v, y=0.0,\n",
    "            bottom=active, bottom_implant=nimplant, bottom_well=pwell,\n",
    "            bottom_height=w_n,\n",
    "        )\n",
    "        # vdd contact to source of pmos\n",
    "        layouter.add_wire(\n",
    "            net=vdd, well_net=vdd, wire=contact, x=-x_v, y=y_p,\n",
    "            bottom=active, bottom_implant=pimplant, bottom_well=nwell,\n",
    "            bottom_height=w_p,\n",
    "        )\n",
    "\n",
    "        # The two transistors\n",
    "        layouter.place(n1, x=0.0, y=0.0)\n",
    "        layouter.place(p1, x=0.0, y=y_p)\n",
    "\n",
    "        # out contact to drain of nmos\n",
    "        layouter.add_wire(\n",
    "            net=out, well_net=gnd, wire=contact, x=x_v, y=0.0,\n",
    "            bottom=active, bottom_implant=nimplant, bottom_well=pwell,\n",
    "            bottom_height=w_n,\n",
    "        )\n",
    "        # out contact to drain of pmos\n",
    "        layouter.add_wire(\n",
    "            net=out, well_net=vdd, wire=contact, x=x_v, y=y_p,\n",
    "            bottom=active, bottom_implant=pimplant, bottom_well=nwell,\n",
    "            bottom_height=w_p,\n",
    "        )\n",
    "\n",
    "        layouter.connect(masks=(\n",
    "            nwell.mask, pwell.mask, poly.mask, metal1.mask,\n",
    "        ))"
   ]
  },
  {
   "cell_type": "markdown",
   "metadata": {},
   "source": [
    "# Design balanced inverter\n",
    "\n",
    "We use the general threshold transistors @ 1.0V vdd"
   ]
  },
  {
   "cell_type": "code",
   "execution_count": null,
   "metadata": {
    "tags": []
   },
   "outputs": [],
   "source": [
    "nmos = tech.primitives.nmos_vtg\n",
    "pmos = tech.primitives.pmos_vtg\n",
    "\n",
    "vdd = u_V(1.0)"
   ]
  },
  {
   "cell_type": "markdown",
   "metadata": {},
   "source": [
    "Support functions for simulating Ion"
   ]
  },
  {
   "cell_type": "code",
   "execution_count": null,
   "metadata": {},
   "outputs": [],
   "source": [
    "def sim_ion_nmos(*, w_n):\n",
    "    dut = cktfab.new_circuit(\"nmos\")\n",
    "    ntrans = dut.new_instance(\"n\", nmos, l=nmos.computed.min_l, w=w_n)\n",
    "    g = dut.new_net(\"g\", external=True, childports=ntrans.ports.gate)\n",
    "    s = dut.new_net(\"s\", external=True, childports=ntrans.ports.sourcedrain1)\n",
    "    d = dut.new_net(\"d\", external=True, childports=ntrans.ports.sourcedrain2)\n",
    "    b = dut.new_net(\"b\", external=True, childports=ntrans.ports.bulk)\n",
    "\n",
    "    tb = pyspicefab.new_pyspicecircuit(corner=\"NOM\", top=dut, title=\"nmos Ion\")\n",
    "    tb.V(\"gate\", \"g\", tb.gnd, vdd)\n",
    "    tb.V(\"drain\", \"d\", tb.gnd, vdd)\n",
    "    tb.V(\"source\", \"s\", tb.gnd, u_V(0))\n",
    "    tb.V(\"bulk\", \"b\", tb.gnd, u_V(0))\n",
    "\n",
    "    sim = tb.simulator(temperature=u_Degree(25))\n",
    "    op = sim.operating_point()\n",
    "    return -op.vdrain[0].value\n",
    "\n",
    "def sim_ion_pmos(*, w_p):\n",
    "    dut = cktfab.new_circuit(\"pmos\")\n",
    "    ntrans = dut.new_instance(\"p\", pmos, l=pmos.computed.min_l, w=w_p)\n",
    "    g = dut.new_net(\"g\", external=True, childports=ntrans.ports.gate)\n",
    "    s = dut.new_net(\"s\", external=True, childports=ntrans.ports.sourcedrain1)\n",
    "    d = dut.new_net(\"d\", external=True, childports=ntrans.ports.sourcedrain2)\n",
    "    b = dut.new_net(\"b\", external=True, childports=ntrans.ports.bulk)\n",
    "\n",
    "    tb = pyspicefab.new_pyspicecircuit(corner=\"NOM\", top=dut, title=\"pmos Ion\")\n",
    "    tb.V(\"gate\", \"g\", tb.gnd, u_V(0))\n",
    "    tb.V(\"drain\", \"d\", tb.gnd, vdd)\n",
    "    tb.V(\"source\", \"s\", tb.gnd, u_V(0))\n",
    "    tb.V(\"bulk\", \"b\", tb.gnd, vdd)\n",
    "\n",
    "    sim = tb.simulator(temperature=u_Degree(25))\n",
    "    op = sim.operating_point()\n",
    "    return -op.vdrain[0].value\n"
   ]
  },
  {
   "cell_type": "markdown",
   "metadata": {},
   "source": [
    "We use minimal w for the nmos and determine the w for pmos so the drive strength is the same. This is done by simulation."
   ]
  },
  {
   "cell_type": "code",
   "execution_count": null,
   "metadata": {
    "tags": []
   },
   "outputs": [],
   "source": [
    "w_n = nmos.computed.min_w\n",
    "ion_nmos = 1e6*sim_ion_nmos(w_n=w_n)\n",
    "\n",
    "w_ps = pmos.computed.min_w*np.arange(1.0, 3.01, 0.25)\n",
    "ions_pmos = tuple(1e6*sim_ion_pmos(w_p=w_p) for w_p in w_ps)\n",
    "w_p_int = np.interp(ion_nmos, ions_pmos, w_ps)\n",
    "w_p = tech.on_grid(w_p_int, mult=2) # On even mutiple of grid\n",
    "ion_pmos = 1e6*sim_ion_pmos(w_p=w_p)\n",
    "\n",
    "plt.figure(figsize=(6, 6))\n",
    "plt.plot(w_ps, ions_pmos, label=\"pmos\")\n",
    "plt.plot(w_n, ion_nmos, '*', label=\"$w_n$=0.09µm\")\n",
    "plt.plot(w_p, ion_pmos, '*', label=f\"$w_p$={w_p:.2f}µm\")\n",
    "plt.axis([0, 0.3, 0, 180])\n",
    "plt.legend()\n",
    "plt.xlabel(\"$w$ [µm]\")\n",
    "plt.ylabel(\"$I_{on}$ [µA]\")\n",
    "plt.grid(\"on\")\n",
    "plt.show()"
   ]
  },
  {
   "cell_type": "markdown",
   "metadata": {},
   "source": [
    "Now create the inverter and show it's layout"
   ]
  },
  {
   "cell_type": "code",
   "execution_count": null,
   "metadata": {
    "tags": []
   },
   "outputs": [],
   "source": [
    "inv = Inverter(nmos=nmos, w_n=w_n, pmos=pmos, w_p=w_p)\n",
    "\n",
    "plt.figure(figsize=(4.0, 7.0))\n",
    "\n",
    "plotter.plot(inv.layout)\n",
    "\n",
    "ax = plt.gca()\n",
    "ax.set_title(\"inverter\")\n",
    "ax.xaxis.set_major_locator(ticker.MultipleLocator(0.1))\n",
    "ax.yaxis.set_major_locator(ticker.MultipleLocator(0.1))\n",
    "ax.axis(\"equal\")\n",
    "ax.axis([-0.25, 0.25, -0.3, 0.6])\n",
    "ax.grid(\"on\")\n",
    "\n",
    "plt.show()"
   ]
  },
  {
   "cell_type": "markdown",
   "metadata": {},
   "source": [
    "# Verify functionality"
   ]
  },
  {
   "cell_type": "code",
   "execution_count": null,
   "metadata": {},
   "outputs": [],
   "source": [
    "def _block():\n",
    "    tb = pyspicefab.new_pyspicecircuit(corner=\"NOM\", top=inv.circuit, gnd=\"GND\", title=\"Inverter verification\")\n",
    "    tb.V(\"supply\", \"VDD\", tb.gnd, vdd)\n",
    "    tb.V(\"in\", \"IN\", tb.gnd, u_V(0))\n",
    "    tb.C(\"load\", \"OUT\", tb.gnd, u_nF(1e-3))\n",
    "    \n",
    "    sim = tb.simulator(temperature=u_Degree(25))\n",
    "    dc = sim.dc(vin=slice(0, vdd, vdd/200))\n",
    "\n",
    "    plt.figure(figsize=(12, 6))\n",
    "    \n",
    "    plt.subplot(1, 2, 1)\n",
    "    plt.plot(dc.sweep, dc.OUT)\n",
    "    plt.plot(dc.sweep, dc.IN, '--')\n",
    "    plt.axis(\"square\")\n",
    "    plt.xlabel(\"$V_{IN}$ [V]\")\n",
    "    plt.ylabel(\"$V_{OUT}$ [V]\")\n",
    "    plt.grid(\"on\")\n",
    "\n",
    "    plt.subplot(1, 2, 2)\n",
    "    plt.plot(dc.sweep, -1e6*np.array(dc.vsupply))\n",
    "    plt.xlabel(\"$V_{IN}$ [V]\")\n",
    "    plt.ylabel(\"$I_{supply}$ [µA]\")\n",
    "    plt.grid(\"on\")\n",
    "_block()"
   ]
  },
  {
   "cell_type": "code",
   "execution_count": null,
   "metadata": {},
   "outputs": [],
   "source": []
  }
 ],
 "metadata": {
  "kernelspec": {
   "display_name": "Python 3",
   "language": "python",
   "name": "python3"
  },
  "language_info": {
   "codemirror_mode": {
    "name": "ipython",
    "version": 3
   },
   "file_extension": ".py",
   "mimetype": "text/x-python",
   "name": "python",
   "nbconvert_exporter": "python",
   "pygments_lexer": "ipython3",
   "version": "3.7.10"
  },
  "widgets": {
   "application/vnd.jupyter.widget-state+json": {
    "state": {},
    "version_major": 2,
    "version_minor": 0
   }
  }
 },
 "nbformat": 4,
 "nbformat_minor": 4
}