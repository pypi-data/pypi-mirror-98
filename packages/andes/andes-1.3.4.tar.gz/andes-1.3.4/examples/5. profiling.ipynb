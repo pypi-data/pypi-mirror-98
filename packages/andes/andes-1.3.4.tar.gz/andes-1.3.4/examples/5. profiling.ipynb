{
 "cells": [
  {
   "cell_type": "markdown",
   "metadata": {},
   "source": [
    "# Profiling ANDES in Notebook"
   ]
  },
  {
   "cell_type": "markdown",
   "metadata": {},
   "source": [
    "## Profiling with Python CProfiler"
   ]
  },
  {
   "cell_type": "markdown",
   "metadata": {},
   "source": [
    "Before getting started, this example requires the config flag `PFlow.init_tds` to be `0`, which is the default value."
   ]
  },
  {
   "cell_type": "code",
   "execution_count": 1,
   "metadata": {},
   "outputs": [],
   "source": [
    "import andes\n",
    "from andes.utils.paths import get_case\n",
    "\n",
    "case_path = get_case('kundur/kundur_full.xlsx')"
   ]
  },
  {
   "cell_type": "markdown",
   "metadata": {},
   "source": [
    "Passing `profile=True, no_output = True` to `run` will enable the profiler and have the results printed."
   ]
  },
  {
   "cell_type": "code",
   "execution_count": 2,
   "metadata": {},
   "outputs": [
    {
     "name": "stderr",
     "output_type": "stream",
     "text": [
      "Working directory: \"/Users/hcui7/repos/andes/examples\"\n",
      "Loaded config from file \"/Users/hcui7/.andes/andes.rc\"\n",
      "Parsing input file \"/Users/hcui7/repos/andes/andes/cases/kundur/kundur_full.xlsx\"\n",
      "Input file parsed in 0.0868 seconds.\n",
      "\n",
      "-> Power flow calculation\n",
      "Sparse Solver: KLU\n",
      "Method: NR method\n",
      "Power flow initialized.\n",
      "0: |F(x)| = 14.9283   \n",
      "1: |F(x)| = 3.60858   \n",
      "2: |F(x)| = 0.17009   \n",
      "3: |F(x)| = 0.00203822\n",
      "4: |F(x)| = 3.76399e-07\n",
      "Converged in 5 iterations in 0.0090 seconds.\n",
      "\n",
      "-> Time Domain Simulation Summary:\n",
      "Sparse Solver: KLU\n",
      "Simulation time: 0-20.0 sec.\n",
      "Fixed step size: h=33.33 msec., shrink if not converged\n",
      "Initialization was successful in 0.0202 seconds.\n"
     ]
    },
    {
     "name": "stdout",
     "output_type": "stream",
     "text": [
      "<Toggler 1>: Line.Line_8 status changed to 0 at t=2.0 sec.            \n",
      "100%|████████████████████████████████| 100/100 [00:01<00:00, 63.79%/s]"
     ]
    },
    {
     "name": "stderr",
     "output_type": "stream",
     "text": [
      "Simulation completed in 1.5681 seconds.\n",
      "\n",
      "-> Single process finished in 1.8119 seconds.\n"
     ]
    },
    {
     "name": "stdout",
     "output_type": "stream",
     "text": [
      "\n",
      "         1129976 function calls (1124199 primitive calls) in 1.789 seconds\n",
      "\n",
      "   Ordered by: cumulative time\n",
      "   List reduced from 2169 to 40 due to restriction <40>\n",
      "\n",
      "   ncalls  tottime  percall  cumtime  percall filename:lineno(function)\n",
      "        1    0.007    0.007    1.597    1.597 /Users/hcui7/repos/andes/andes/routines/tds.py:160(run)\n",
      "      602    0.104    0.000    1.533    0.003 /Users/hcui7/repos/andes/andes/routines/tds.py:251(itm_step)\n",
      "     2318    0.010    0.000    1.141    0.000 /Users/hcui7/repos/andes/andes/routines/tds.py:590(_fg_update)\n",
      "    11649    0.092    0.000    1.085    0.000 /Users/hcui7/repos/andes/andes/system.py:1014(call_models)\n",
      "     2323    0.002    0.000    0.596    0.000 /Users/hcui7/repos/andes/andes/system.py:700(g_update)\n",
      "    23210    0.183    0.000    0.556    0.000 /Users/hcui7/repos/andes/andes/core/model.py:1194(g_update)\n",
      "     2323    0.002    0.000    0.187    0.000 /Users/hcui7/repos/andes/andes/system.py:686(f_update)\n",
      "        1    0.000    0.000    0.179    0.179 /Users/hcui7/repos/andes/andes/main.py:248(load)\n",
      "    23210    0.094    0.000    0.165    0.000 /Users/hcui7/repos/andes/andes/core/model.py:1167(f_update)\n",
      "     2323    0.003    0.000    0.118    0.000 /Users/hcui7/repos/andes/andes/system.py:671(fg_to_dae)\n",
      "     2323    0.002    0.000    0.118    0.000 /Users/hcui7/repos/andes/andes/system.py:645(l_update_eq)\n",
      "     2323    0.018    0.000    0.114    0.000 /Users/hcui7/repos/andes/andes/system.py:840(_e_to_dae)\n",
      "     2322    0.001    0.000    0.106    0.000 /Users/hcui7/repos/andes/andes/core/solver.py:34(solve)\n",
      "     2322    0.011    0.000    0.104    0.000 /Users/hcui7/repos/andes/andes/core/solver.py:156(solve)\n",
      "    23210    0.015    0.000    0.097    0.000 /Users/hcui7/repos/andes/andes/core/model.py:886(l_check_eq)\n",
      "    32502    0.095    0.000    0.095    0.000 {method 'at' of 'numpy.ufunc' objects}\n",
      "     2318    0.094    0.000    0.094    0.000 <lambdifygenerated-156>:1(_lambdifygenerated)\n",
      "       29    0.002    0.000    0.089    0.003 /Users/hcui7/repos/andes/andes/system.py:714(j_update)\n",
      "        1    0.000    0.000    0.088    0.088 /Users/hcui7/repos/andes/andes/io/__init__.py:94(parse)\n",
      "     2323    0.086    0.000    0.086    0.000 <lambdifygenerated-51>:1(_lambdifygenerated)\n",
      "        1    0.000    0.000    0.086    0.086 /Users/hcui7/repos/andes/andes/io/xlsx.py:84(read)\n",
      "16171/13406    0.018    0.000    0.086    0.000 {built-in method numpy.core._multiarray_umath.implement_array_function}\n",
      "     2323    0.002    0.000    0.082    0.000 /Users/hcui7/repos/andes/andes/system.py:637(l_update_var)\n",
      "     4636    0.044    0.000    0.080    0.000 /Users/hcui7/repos/andes/andes/core/discrete.py:345(check_eq)\n",
      "      270    0.064    0.000    0.073    0.000 /Users/hcui7/repos/andes/andes/core/model.py:1215(j_update)\n",
      "     2323    0.072    0.000    0.072    0.000 <lambdifygenerated-7>:1(_lambdifygenerated)\n",
      "        1    0.000    0.000    0.069    0.069 /Users/hcui7/miniconda3/envs/a/lib/python3.7/site-packages/pandas/io/excel/_base.py:270(read_excel)\n",
      "        1    0.000    0.000    0.064    0.064 /Users/hcui7/repos/andes/andes/system.py:72(__init__)\n",
      "     2322    0.001    0.000    0.061    0.000 /Users/hcui7/repos/andes/andes/core/solver.py:268(_numeric)\n",
      "     2322    0.060    0.000    0.060    0.000 {built-in method cvxoptklu.klu.numeric}\n",
      "    23210    0.022    0.000    0.056    0.000 /Users/hcui7/repos/andes/andes/core/model.py:872(l_update_var)\n",
      "        1    0.000    0.000    0.051    0.051 /Users/hcui7/repos/andes/andes/system.py:1112(import_models)\n",
      "        1    0.000    0.000    0.042    0.042 /Users/hcui7/miniconda3/envs/a/lib/python3.7/site-packages/pandas/io/excel/_base.py:829(parse)\n",
      "        1    0.000    0.000    0.042    0.042 /Users/hcui7/miniconda3/envs/a/lib/python3.7/site-packages/pandas/io/excel/_base.py:390(parse)\n",
      "     6971    0.011    0.000    0.041    0.000 /Users/hcui7/miniconda3/envs/a/lib/python3.7/site-packages/numpy/core/fromnumeric.py:73(_wrapreduction)\n",
      "     2338    0.039    0.000    0.039    0.000 /Users/hcui7/repos/andes/andes/system.py:799(vars_to_models)\n",
      "     4646    0.004    0.000    0.037    0.000 <__array_function__ internals>:2(all)\n",
      "     2318    0.036    0.000    0.036    0.000 <lambdifygenerated-155>:1(_lambdifygenerated)\n",
      "       10    0.000    0.000    0.035    0.004 /Users/hcui7/miniconda3/envs/a/lib/python3.7/site-packages/pandas/io/parsers.py:1131(read)\n",
      "   110/65    0.000    0.000    0.035    0.001 <frozen importlib._bootstrap>:978(_find_and_load)\n",
      "\n",
      "\n"
     ]
    }
   ],
   "source": [
    "ss = andes.run(case_path, profile=True, routine='tds', no_output=True)"
   ]
  },
  {
   "cell_type": "markdown",
   "metadata": {},
   "source": [
    "## Profiling with `line_profiler`."
   ]
  },
  {
   "cell_type": "markdown",
   "metadata": {},
   "source": [
    "`line_profiler` provides line-based profiling results for functions. \n",
    "\n",
    "Install with `pip install line_profiler` and restart the notebook."
   ]
  },
  {
   "cell_type": "code",
   "execution_count": 3,
   "metadata": {},
   "outputs": [],
   "source": [
    "import andes\n",
    "from andes.utils.paths import get_case\n",
    "\n",
    "case_path = get_case('kundur/kundur_full.xlsx')"
   ]
  },
  {
   "cell_type": "markdown",
   "metadata": {},
   "source": [
    "### Profile power flow "
   ]
  },
  {
   "cell_type": "markdown",
   "metadata": {},
   "source": [
    "Pass the function name to profile to the magic `%lprun`, followed by a call to the function itself or an upper-level function.\n",
    "\n",
    "Results will be shown in a popup window."
   ]
  },
  {
   "cell_type": "code",
   "execution_count": 4,
   "metadata": {},
   "outputs": [
    {
     "name": "stderr",
     "output_type": "stream",
     "text": [
      "Working directory: \"/Users/hcui7/repos/andes/examples\"\n",
      "Loaded config from file \"/Users/hcui7/.andes/andes.rc\"\n",
      "Parsing input file \"/Users/hcui7/repos/andes/andes/cases/kundur/kundur_full.xlsx\"\n",
      "Input file parsed in 0.1257 seconds.\n",
      "\n",
      "-> Power flow calculation\n",
      "Sparse Solver: KLU\n",
      "Method: NR method\n",
      "Power flow initialized.\n",
      "0: |F(x)| = 14.9283   \n",
      "1: |F(x)| = 3.60858   \n",
      "2: |F(x)| = 0.17009   \n",
      "3: |F(x)| = 0.00203822\n",
      "4: |F(x)| = 3.76399e-07\n",
      "Converged in 5 iterations in 0.0133 seconds.\n",
      "-> Single process finished in 0.2882 seconds.\n"
     ]
    }
   ],
   "source": [
    "%lprun -f andes.routines.pflow.PFlow.run andes.run(case_path, no_output=True)"
   ]
  },
  {
   "cell_type": "markdown",
   "metadata": {},
   "source": [
    "Alternatively, do"
   ]
  },
  {
   "cell_type": "code",
   "execution_count": 5,
   "metadata": {},
   "outputs": [
    {
     "name": "stderr",
     "output_type": "stream",
     "text": [
      "Working directory: \"/Users/hcui7/repos/andes/examples\"\n",
      "Loaded config from file \"/Users/hcui7/.andes/andes.rc\"\n",
      "Parsing input file \"/Users/hcui7/repos/andes/andes/cases/kundur/kundur_full.xlsx\"\n",
      "Input file parsed in 0.0625 seconds.\n",
      "\n",
      "-> Power flow calculation\n",
      "Sparse Solver: KLU\n",
      "Method: NR method\n",
      "Power flow initialized.\n",
      "0: |F(x)| = 14.9283   \n",
      "1: |F(x)| = 3.60858   \n",
      "2: |F(x)| = 0.17009   \n",
      "3: |F(x)| = 0.00203822\n",
      "4: |F(x)| = 3.76399e-07\n",
      "Converged in 5 iterations in 0.0084 seconds.\n",
      "-> Single process finished in 0.1422 seconds.\n"
     ]
    }
   ],
   "source": [
    "ss = andes.run(case_path, no_output=True)"
   ]
  },
  {
   "cell_type": "code",
   "execution_count": 6,
   "metadata": {},
   "outputs": [
    {
     "name": "stderr",
     "output_type": "stream",
     "text": [
      "\n",
      "-> Power flow calculation\n",
      "Sparse Solver: KLU\n",
      "Method: NR method\n",
      "Power flow initialized.\n",
      "0: |F(x)| = 14.9283   \n",
      "1: |F(x)| = 3.60858   \n",
      "2: |F(x)| = 0.17009   \n",
      "3: |F(x)| = 0.00203822\n",
      "4: |F(x)| = 3.76399e-07\n",
      "Converged in 5 iterations in 0.0107 seconds.\n"
     ]
    }
   ],
   "source": [
    "ss.reset()\n",
    "%lprun -f ss.PFlow.run ss.PFlow.run()"
   ]
  },
  {
   "cell_type": "markdown",
   "metadata": {},
   "source": [
    "To dig into the Newton Raphson iteration steps, profile each step instead with:"
   ]
  },
  {
   "cell_type": "code",
   "execution_count": 7,
   "metadata": {},
   "outputs": [
    {
     "name": "stderr",
     "output_type": "stream",
     "text": [
      "\n",
      "-> Power flow calculation\n",
      "Sparse Solver: KLU\n",
      "Method: NR method\n",
      "Power flow initialized.\n",
      "0: |F(x)| = 14.9283   \n",
      "1: |F(x)| = 3.60858   \n",
      "2: |F(x)| = 0.17009   \n",
      "3: |F(x)| = 0.00203822\n",
      "4: |F(x)| = 3.76399e-07\n",
      "Converged in 5 iterations in 0.0107 seconds.\n"
     ]
    }
   ],
   "source": [
    "ss.reset()\n",
    "%lprun -f ss.PFlow.nr_step ss.PFlow.run()"
   ]
  },
  {
   "cell_type": "markdown",
   "metadata": {},
   "source": [
    "### Profile time-domain simulation"
   ]
  },
  {
   "cell_type": "code",
   "execution_count": 8,
   "metadata": {},
   "outputs": [
    {
     "name": "stderr",
     "output_type": "stream",
     "text": [
      "\n",
      "-> Time Domain Simulation Summary:\n",
      "Sparse Solver: KLU\n",
      "Simulation time: 0-20.0 sec.\n",
      "Fixed step size: h=33.33 msec., shrink if not converged\n",
      "Initialization was successful in 0.0290 seconds.\n"
     ]
    },
    {
     "name": "stdout",
     "output_type": "stream",
     "text": [
      "<Toggler 1>: Line.Line_8 status changed to 0 at t=2.0 sec.            \n",
      "100%|████████████████████████████████| 100/100 [00:01<00:00, 51.13%/s]"
     ]
    },
    {
     "name": "stderr",
     "output_type": "stream",
     "text": [
      "Simulation completed in 1.9561 seconds.\n"
     ]
    },
    {
     "name": "stdout",
     "output_type": "stream",
     "text": [
      "\n"
     ]
    }
   ],
   "source": [
    "%lprun -f ss.TDS.itm_step ss.TDS.run()"
   ]
  },
  {
   "cell_type": "markdown",
   "metadata": {},
   "source": [
    "## Cleanup"
   ]
  },
  {
   "cell_type": "code",
   "execution_count": 9,
   "metadata": {},
   "outputs": [
    {
     "name": "stdout",
     "output_type": "stream",
     "text": [
      "\r\n",
      "    _           _         | Version 1.0.7.post68.dev0+gc2c8333f\r\n",
      "   /_\\  _ _  __| |___ ___ | Python 3.7.1 on Darwin, 07/28/2020 10:40:52 PM\r\n",
      "  / _ \\| ' \\/ _` / -_|_-< | \r\n",
      " /_/ \\_\\_||_\\__,_\\___/__/ | This program comes with ABSOLUTELY NO WARRANTY.\r\n",
      "\r\n",
      "\"/Users/hcui7/repos/andes/examples/kundur_full_out.txt\" removed.\r\n",
      "\"/Users/hcui7/repos/andes/examples/kundur_out.txt\" removed.\r\n",
      "\"/Users/hcui7/repos/andes/examples/kundur_full_out.npz\" removed.\r\n",
      "\"/Users/hcui7/repos/andes/examples/kundur_out.npz\" removed.\r\n",
      "\"/Users/hcui7/repos/andes/examples/kundur_full_out.csv\" removed.\r\n",
      "\"/Users/hcui7/repos/andes/examples/kundur_full_out.lst\" removed.\r\n",
      "\"/Users/hcui7/repos/andes/examples/kundur_out.lst\" removed.\r\n"
     ]
    }
   ],
   "source": [
    "!andes misc -C"
   ]
  }
 ],
 "metadata": {
  "kernelspec": {
   "display_name": "Python 3",
   "language": "python",
   "name": "python3"
  },
  "language_info": {
   "codemirror_mode": {
    "name": "ipython",
    "version": 3
   },
   "file_extension": ".py",
   "mimetype": "text/x-python",
   "name": "python",
   "nbconvert_exporter": "python",
   "pygments_lexer": "ipython3",
   "version": "3.7.1"
  }
 },
 "nbformat": 4,
 "nbformat_minor": 4
}
